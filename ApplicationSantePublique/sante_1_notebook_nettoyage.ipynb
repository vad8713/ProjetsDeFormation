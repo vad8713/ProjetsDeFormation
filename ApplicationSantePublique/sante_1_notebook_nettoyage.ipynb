{
 "cells": [
  {
   "cell_type": "markdown",
   "id": "a21d6c54",
   "metadata": {},
   "source": [
    "## Notebook de nettoyage - Projet 2 - David Depouez"
   ]
  },
  {
   "cell_type": "markdown",
   "id": "71c1b95d",
   "metadata": {},
   "source": [
    "### 1. Importation et selection"
   ]
  },
  {
   "cell_type": "markdown",
   "id": "6dd7663a",
   "metadata": {},
   "source": [
    "Importation des modules et lecture du fichier de données"
   ]
  },
  {
   "cell_type": "code",
   "execution_count": 1,
   "id": "b26b0681",
   "metadata": {},
   "outputs": [
    {
     "data": {
      "text/plain": [
       "(320772, 162)"
      ]
     },
     "execution_count": 1,
     "metadata": {},
     "output_type": "execute_result"
    }
   ],
   "source": [
    "import pandas as pd\n",
    "from matplotlib import pyplot as pl\n",
    "import numpy as np\n",
    "import missingno as msno\n",
    "\n",
    "dfRaw = pd.read_csv('fr.openfoodfacts.org.products.csv', sep='\\t',low_memory=False)\n",
    "dfRaw.shape"
   ]
  },
  {
   "cell_type": "markdown",
   "id": "01e13ad8",
   "metadata": {},
   "source": [
    "On verifie que le chargement du data frame s'est bien passé"
   ]
  },
  {
   "cell_type": "code",
   "execution_count": 2,
   "id": "9646d244",
   "metadata": {},
   "outputs": [
    {
     "data": {
      "text/html": [
       "<div>\n",
       "<style scoped>\n",
       "    .dataframe tbody tr th:only-of-type {\n",
       "        vertical-align: middle;\n",
       "    }\n",
       "\n",
       "    .dataframe tbody tr th {\n",
       "        vertical-align: top;\n",
       "    }\n",
       "\n",
       "    .dataframe thead th {\n",
       "        text-align: right;\n",
       "    }\n",
       "</style>\n",
       "<table border=\"1\" class=\"dataframe\">\n",
       "  <thead>\n",
       "    <tr style=\"text-align: right;\">\n",
       "      <th></th>\n",
       "      <th>code</th>\n",
       "      <th>url</th>\n",
       "      <th>creator</th>\n",
       "      <th>created_t</th>\n",
       "      <th>created_datetime</th>\n",
       "      <th>last_modified_t</th>\n",
       "      <th>last_modified_datetime</th>\n",
       "      <th>product_name</th>\n",
       "      <th>generic_name</th>\n",
       "      <th>quantity</th>\n",
       "      <th>...</th>\n",
       "      <th>ph_100g</th>\n",
       "      <th>fruits-vegetables-nuts_100g</th>\n",
       "      <th>collagen-meat-protein-ratio_100g</th>\n",
       "      <th>cocoa_100g</th>\n",
       "      <th>chlorophyl_100g</th>\n",
       "      <th>carbon-footprint_100g</th>\n",
       "      <th>nutrition-score-fr_100g</th>\n",
       "      <th>nutrition-score-uk_100g</th>\n",
       "      <th>glycemic-index_100g</th>\n",
       "      <th>water-hardness_100g</th>\n",
       "    </tr>\n",
       "  </thead>\n",
       "  <tbody>\n",
       "    <tr>\n",
       "      <th>0</th>\n",
       "      <td>0000000003087</td>\n",
       "      <td>http://world-fr.openfoodfacts.org/produit/0000...</td>\n",
       "      <td>openfoodfacts-contributors</td>\n",
       "      <td>1474103866</td>\n",
       "      <td>2016-09-17T09:17:46Z</td>\n",
       "      <td>1474103893</td>\n",
       "      <td>2016-09-17T09:18:13Z</td>\n",
       "      <td>Farine de blé noir</td>\n",
       "      <td>NaN</td>\n",
       "      <td>1kg</td>\n",
       "      <td>...</td>\n",
       "      <td>NaN</td>\n",
       "      <td>NaN</td>\n",
       "      <td>NaN</td>\n",
       "      <td>NaN</td>\n",
       "      <td>NaN</td>\n",
       "      <td>NaN</td>\n",
       "      <td>NaN</td>\n",
       "      <td>NaN</td>\n",
       "      <td>NaN</td>\n",
       "      <td>NaN</td>\n",
       "    </tr>\n",
       "    <tr>\n",
       "      <th>1</th>\n",
       "      <td>0000000004530</td>\n",
       "      <td>http://world-fr.openfoodfacts.org/produit/0000...</td>\n",
       "      <td>usda-ndb-import</td>\n",
       "      <td>1489069957</td>\n",
       "      <td>2017-03-09T14:32:37Z</td>\n",
       "      <td>1489069957</td>\n",
       "      <td>2017-03-09T14:32:37Z</td>\n",
       "      <td>Banana Chips Sweetened (Whole)</td>\n",
       "      <td>NaN</td>\n",
       "      <td>NaN</td>\n",
       "      <td>...</td>\n",
       "      <td>NaN</td>\n",
       "      <td>NaN</td>\n",
       "      <td>NaN</td>\n",
       "      <td>NaN</td>\n",
       "      <td>NaN</td>\n",
       "      <td>NaN</td>\n",
       "      <td>14.0</td>\n",
       "      <td>14.0</td>\n",
       "      <td>NaN</td>\n",
       "      <td>NaN</td>\n",
       "    </tr>\n",
       "    <tr>\n",
       "      <th>2</th>\n",
       "      <td>0000000004559</td>\n",
       "      <td>http://world-fr.openfoodfacts.org/produit/0000...</td>\n",
       "      <td>usda-ndb-import</td>\n",
       "      <td>1489069957</td>\n",
       "      <td>2017-03-09T14:32:37Z</td>\n",
       "      <td>1489069957</td>\n",
       "      <td>2017-03-09T14:32:37Z</td>\n",
       "      <td>Peanuts</td>\n",
       "      <td>NaN</td>\n",
       "      <td>NaN</td>\n",
       "      <td>...</td>\n",
       "      <td>NaN</td>\n",
       "      <td>NaN</td>\n",
       "      <td>NaN</td>\n",
       "      <td>NaN</td>\n",
       "      <td>NaN</td>\n",
       "      <td>NaN</td>\n",
       "      <td>0.0</td>\n",
       "      <td>0.0</td>\n",
       "      <td>NaN</td>\n",
       "      <td>NaN</td>\n",
       "    </tr>\n",
       "    <tr>\n",
       "      <th>3</th>\n",
       "      <td>0000000016087</td>\n",
       "      <td>http://world-fr.openfoodfacts.org/produit/0000...</td>\n",
       "      <td>usda-ndb-import</td>\n",
       "      <td>1489055731</td>\n",
       "      <td>2017-03-09T10:35:31Z</td>\n",
       "      <td>1489055731</td>\n",
       "      <td>2017-03-09T10:35:31Z</td>\n",
       "      <td>Organic Salted Nut Mix</td>\n",
       "      <td>NaN</td>\n",
       "      <td>NaN</td>\n",
       "      <td>...</td>\n",
       "      <td>NaN</td>\n",
       "      <td>NaN</td>\n",
       "      <td>NaN</td>\n",
       "      <td>NaN</td>\n",
       "      <td>NaN</td>\n",
       "      <td>NaN</td>\n",
       "      <td>12.0</td>\n",
       "      <td>12.0</td>\n",
       "      <td>NaN</td>\n",
       "      <td>NaN</td>\n",
       "    </tr>\n",
       "    <tr>\n",
       "      <th>4</th>\n",
       "      <td>0000000016094</td>\n",
       "      <td>http://world-fr.openfoodfacts.org/produit/0000...</td>\n",
       "      <td>usda-ndb-import</td>\n",
       "      <td>1489055653</td>\n",
       "      <td>2017-03-09T10:34:13Z</td>\n",
       "      <td>1489055653</td>\n",
       "      <td>2017-03-09T10:34:13Z</td>\n",
       "      <td>Organic Polenta</td>\n",
       "      <td>NaN</td>\n",
       "      <td>NaN</td>\n",
       "      <td>...</td>\n",
       "      <td>NaN</td>\n",
       "      <td>NaN</td>\n",
       "      <td>NaN</td>\n",
       "      <td>NaN</td>\n",
       "      <td>NaN</td>\n",
       "      <td>NaN</td>\n",
       "      <td>NaN</td>\n",
       "      <td>NaN</td>\n",
       "      <td>NaN</td>\n",
       "      <td>NaN</td>\n",
       "    </tr>\n",
       "  </tbody>\n",
       "</table>\n",
       "<p>5 rows × 162 columns</p>\n",
       "</div>"
      ],
      "text/plain": [
       "            code                                                url  \\\n",
       "0  0000000003087  http://world-fr.openfoodfacts.org/produit/0000...   \n",
       "1  0000000004530  http://world-fr.openfoodfacts.org/produit/0000...   \n",
       "2  0000000004559  http://world-fr.openfoodfacts.org/produit/0000...   \n",
       "3  0000000016087  http://world-fr.openfoodfacts.org/produit/0000...   \n",
       "4  0000000016094  http://world-fr.openfoodfacts.org/produit/0000...   \n",
       "\n",
       "                      creator   created_t      created_datetime  \\\n",
       "0  openfoodfacts-contributors  1474103866  2016-09-17T09:17:46Z   \n",
       "1             usda-ndb-import  1489069957  2017-03-09T14:32:37Z   \n",
       "2             usda-ndb-import  1489069957  2017-03-09T14:32:37Z   \n",
       "3             usda-ndb-import  1489055731  2017-03-09T10:35:31Z   \n",
       "4             usda-ndb-import  1489055653  2017-03-09T10:34:13Z   \n",
       "\n",
       "  last_modified_t last_modified_datetime                    product_name  \\\n",
       "0      1474103893   2016-09-17T09:18:13Z              Farine de blé noir   \n",
       "1      1489069957   2017-03-09T14:32:37Z  Banana Chips Sweetened (Whole)   \n",
       "2      1489069957   2017-03-09T14:32:37Z                         Peanuts   \n",
       "3      1489055731   2017-03-09T10:35:31Z          Organic Salted Nut Mix   \n",
       "4      1489055653   2017-03-09T10:34:13Z                 Organic Polenta   \n",
       "\n",
       "  generic_name quantity  ... ph_100g fruits-vegetables-nuts_100g  \\\n",
       "0          NaN      1kg  ...     NaN                         NaN   \n",
       "1          NaN      NaN  ...     NaN                         NaN   \n",
       "2          NaN      NaN  ...     NaN                         NaN   \n",
       "3          NaN      NaN  ...     NaN                         NaN   \n",
       "4          NaN      NaN  ...     NaN                         NaN   \n",
       "\n",
       "  collagen-meat-protein-ratio_100g cocoa_100g chlorophyl_100g  \\\n",
       "0                              NaN        NaN             NaN   \n",
       "1                              NaN        NaN             NaN   \n",
       "2                              NaN        NaN             NaN   \n",
       "3                              NaN        NaN             NaN   \n",
       "4                              NaN        NaN             NaN   \n",
       "\n",
       "  carbon-footprint_100g nutrition-score-fr_100g nutrition-score-uk_100g  \\\n",
       "0                   NaN                     NaN                     NaN   \n",
       "1                   NaN                    14.0                    14.0   \n",
       "2                   NaN                     0.0                     0.0   \n",
       "3                   NaN                    12.0                    12.0   \n",
       "4                   NaN                     NaN                     NaN   \n",
       "\n",
       "  glycemic-index_100g water-hardness_100g  \n",
       "0                 NaN                 NaN  \n",
       "1                 NaN                 NaN  \n",
       "2                 NaN                 NaN  \n",
       "3                 NaN                 NaN  \n",
       "4                 NaN                 NaN  \n",
       "\n",
       "[5 rows x 162 columns]"
      ]
     },
     "execution_count": 2,
     "metadata": {},
     "output_type": "execute_result"
    }
   ],
   "source": [
    "dfRaw.head()"
   ]
  },
  {
   "cell_type": "markdown",
   "id": "930de457",
   "metadata": {},
   "source": [
    "On fait une selection dans la base de données sur les produits (Fromages) que nous allons etudier (lignes du DataFrame)"
   ]
  },
  {
   "cell_type": "code",
   "execution_count": 3,
   "id": "7954f4b7",
   "metadata": {},
   "outputs": [
    {
     "data": {
      "text/plain": [
       "(1751, 162)"
      ]
     },
     "execution_count": 3,
     "metadata": {},
     "output_type": "execute_result"
    }
   ],
   "source": [
    "# select relevant individuals\n",
    "dfRaw = dfRaw[dfRaw['categories_fr'].str.contains('Fromages au lait cru|Fromages au lait thermisé|Fromages pasteurisés',na=False)]\n",
    "dfRaw.shape"
   ]
  },
  {
   "cell_type": "markdown",
   "id": "05036345",
   "metadata": {},
   "source": [
    "On supprime les Fromages Blancs qui ont été selectionnés malgré tout"
   ]
  },
  {
   "cell_type": "code",
   "execution_count": 4,
   "id": "3474e17e",
   "metadata": {},
   "outputs": [
    {
     "data": {
      "text/plain": [
       "(1732, 162)"
      ]
     },
     "execution_count": 4,
     "metadata": {},
     "output_type": "execute_result"
    }
   ],
   "source": [
    "# exclude irrelevant\n",
    "dfRaw = dfRaw[~dfRaw['categories_fr'].str.contains('Fromages blancs',na=False)]\n",
    "dfRaw.shape"
   ]
  },
  {
   "cell_type": "markdown",
   "id": "daad01d6",
   "metadata": {},
   "source": [
    "Pour notre étude on fait un tri sur les variables (colonnes du DataFrame) pertinentes à priori."
   ]
  },
  {
   "cell_type": "code",
   "execution_count": 5,
   "id": "3cb57d90",
   "metadata": {
    "scrolled": true
   },
   "outputs": [
    {
     "data": {
      "text/plain": [
       "(1732, 27)"
      ]
     },
     "execution_count": 5,
     "metadata": {},
     "output_type": "execute_result"
    }
   ],
   "source": [
    "# pre select relevant variables\n",
    "selectedCols = ['code','product_name','categories_fr','nutrition_grade_fr','energy_100g','energy-from-fat_100g', 'fat_100g',\n",
    "'saturated-fat_100g','monounsaturated-fat_100g', 'polyunsaturated-fat_100g',\n",
    "'cholesterol_100g','lactose_100g','proteins_100g','salt_100g','sodium_100g','vitamin-a_100g',\n",
    "'vitamin-d_100g','vitamin-b2_100g','vitamin-b9_100g','vitamin-b12_100g','potassium_100g','calcium_100g',\n",
    "'phosphorus_100g', 'magnesium_100g','water-hardness_100g','carbohydrates_100g', 'fiber_100g'\n",
    "]\n",
    "\n",
    "# data frame\n",
    "dfReduct = dfRaw[selectedCols]\n",
    "dfReduct.shape"
   ]
  },
  {
   "cell_type": "markdown",
   "id": "d663b9cb",
   "metadata": {},
   "source": [
    "Voici un diagramme representant les taux d'occupation de chaque (variables) colonnes.  \n",
    "Sur la ligne du haut, on voit le nombre de valeurs saisies sur une population de 1732 individus (les fromages)."
   ]
  },
  {
   "cell_type": "code",
   "execution_count": 6,
   "id": "c4c91f08",
   "metadata": {},
   "outputs": [
    {
     "data": {
      "text/plain": [
       "<AxesSubplot:>"
      ]
     },
     "execution_count": 6,
     "metadata": {},
     "output_type": "execute_result"
    },
    {
     "data": {
      "image/png": "[encoded data removed]",
      "text/plain": [
       "<Figure size 1800x720 with 3 Axes>"
      ]
     },
     "metadata": {
      "needs_background": "light"
     },
     "output_type": "display_data"
    }
   ],
   "source": [
    "msno.bar(dfReduct)"
   ]
  },
  {
   "cell_type": "markdown",
   "id": "aabfb31b",
   "metadata": {},
   "source": [
    "On supprime les variables qui ont plus de 50% de valeurs manquantes (NaN)"
   ]
  },
  {
   "cell_type": "code",
   "execution_count": 7,
   "id": "ab3771cb",
   "metadata": {},
   "outputs": [
    {
     "data": {
      "text/plain": [
       "(1732, 11)"
      ]
     },
     "execution_count": 7,
     "metadata": {},
     "output_type": "execute_result"
    }
   ],
   "source": [
    "dfReduct = dfReduct.dropna(thresh=len(dfReduct) / 2, axis=1)\n",
    "dfReduct.shape"
   ]
  },
  {
   "cell_type": "markdown",
   "id": "380e9955",
   "metadata": {},
   "source": [
    "On regarde le type des données qu'on va manipuler."
   ]
  },
  {
   "cell_type": "code",
   "execution_count": 8,
   "id": "6e6c1766",
   "metadata": {},
   "outputs": [
    {
     "name": "stdout",
     "output_type": "stream",
     "text": [
      "<class 'pandas.core.frame.DataFrame'>\n",
      "Int64Index: 1732 entries, 13537 to 318424\n",
      "Data columns (total 11 columns):\n",
      " #   Column              Non-Null Count  Dtype  \n",
      "---  ------              --------------  -----  \n",
      " 0   code                1732 non-null   object \n",
      " 1   product_name        1730 non-null   object \n",
      " 2   categories_fr       1732 non-null   object \n",
      " 3   nutrition_grade_fr  1275 non-null   object \n",
      " 4   energy_100g         1367 non-null   float64\n",
      " 5   fat_100g            1588 non-null   float64\n",
      " 6   saturated-fat_100g  1303 non-null   float64\n",
      " 7   proteins_100g       1362 non-null   float64\n",
      " 8   salt_100g           1302 non-null   float64\n",
      " 9   sodium_100g         1301 non-null   float64\n",
      " 10  carbohydrates_100g  1303 non-null   float64\n",
      "dtypes: float64(7), object(4)\n",
      "memory usage: 162.4+ KB\n"
     ]
    }
   ],
   "source": [
    "dfReduct.info()"
   ]
  },
  {
   "cell_type": "markdown",
   "id": "24b5d69c",
   "metadata": {},
   "source": [
    "On verifie la validitée des variables :  \n",
    "1. les flottant qui correspondent à des taux doivent etre compris dans l'intervalle [0-100]\n",
    "2. l'energie doit etre un nombre positif\n",
    "3. le nutrition grade doit etre une lettre comprise dans [A-E]\n",
    "4. code, product_name et categories sont informationelles et ne participeront pas à l'étude statistique"
   ]
  },
  {
   "cell_type": "markdown",
   "id": "a362672a",
   "metadata": {},
   "source": [
    "Pour 1 et 2 on regarde les min() et max()"
   ]
  },
  {
   "cell_type": "code",
   "execution_count": 9,
   "id": "1f93cb9c",
   "metadata": {},
   "outputs": [
    {
     "data": {
      "text/html": [
       "<div>\n",
       "<style scoped>\n",
       "    .dataframe tbody tr th:only-of-type {\n",
       "        vertical-align: middle;\n",
       "    }\n",
       "\n",
       "    .dataframe tbody tr th {\n",
       "        vertical-align: top;\n",
       "    }\n",
       "\n",
       "    .dataframe thead th {\n",
       "        text-align: right;\n",
       "    }\n",
       "</style>\n",
       "<table border=\"1\" class=\"dataframe\">\n",
       "  <thead>\n",
       "    <tr style=\"text-align: right;\">\n",
       "      <th></th>\n",
       "      <th>energy_100g</th>\n",
       "      <th>fat_100g</th>\n",
       "      <th>saturated-fat_100g</th>\n",
       "      <th>proteins_100g</th>\n",
       "      <th>salt_100g</th>\n",
       "      <th>sodium_100g</th>\n",
       "      <th>carbohydrates_100g</th>\n",
       "    </tr>\n",
       "  </thead>\n",
       "  <tbody>\n",
       "    <tr>\n",
       "      <th>count</th>\n",
       "      <td>1367.000000</td>\n",
       "      <td>1588.000000</td>\n",
       "      <td>1303.000000</td>\n",
       "      <td>1362.000000</td>\n",
       "      <td>1302.000000</td>\n",
       "      <td>1301.000000</td>\n",
       "      <td>1303.000000</td>\n",
       "    </tr>\n",
       "    <tr>\n",
       "      <th>mean</th>\n",
       "      <td>1325.812143</td>\n",
       "      <td>26.161738</td>\n",
       "      <td>17.940107</td>\n",
       "      <td>19.106968</td>\n",
       "      <td>1.503074</td>\n",
       "      <td>0.592216</td>\n",
       "      <td>1.179253</td>\n",
       "    </tr>\n",
       "    <tr>\n",
       "      <th>std</th>\n",
       "      <td>344.366482</td>\n",
       "      <td>6.244512</td>\n",
       "      <td>4.369416</td>\n",
       "      <td>6.513131</td>\n",
       "      <td>0.656081</td>\n",
       "      <td>0.257876</td>\n",
       "      <td>1.867782</td>\n",
       "    </tr>\n",
       "    <tr>\n",
       "      <th>min</th>\n",
       "      <td>1.000000</td>\n",
       "      <td>0.000000</td>\n",
       "      <td>0.000000</td>\n",
       "      <td>1.500000</td>\n",
       "      <td>0.000000</td>\n",
       "      <td>0.000000</td>\n",
       "      <td>0.000000</td>\n",
       "    </tr>\n",
       "    <tr>\n",
       "      <th>25%</th>\n",
       "      <td>1154.000000</td>\n",
       "      <td>22.000000</td>\n",
       "      <td>15.650000</td>\n",
       "      <td>16.000000</td>\n",
       "      <td>1.198880</td>\n",
       "      <td>0.472000</td>\n",
       "      <td>0.000000</td>\n",
       "    </tr>\n",
       "    <tr>\n",
       "      <th>50%</th>\n",
       "      <td>1356.000000</td>\n",
       "      <td>27.000000</td>\n",
       "      <td>18.000000</td>\n",
       "      <td>19.700000</td>\n",
       "      <td>1.500000</td>\n",
       "      <td>0.590551</td>\n",
       "      <td>0.500000</td>\n",
       "    </tr>\n",
       "    <tr>\n",
       "      <th>75%</th>\n",
       "      <td>1504.000000</td>\n",
       "      <td>30.000000</td>\n",
       "      <td>21.000000</td>\n",
       "      <td>23.375000</td>\n",
       "      <td>1.795135</td>\n",
       "      <td>0.708661</td>\n",
       "      <td>1.500000</td>\n",
       "    </tr>\n",
       "    <tr>\n",
       "      <th>max</th>\n",
       "      <td>7029.000000</td>\n",
       "      <td>60.000000</td>\n",
       "      <td>31.000000</td>\n",
       "      <td>47.000000</td>\n",
       "      <td>6.300000</td>\n",
       "      <td>2.480315</td>\n",
       "      <td>32.200000</td>\n",
       "    </tr>\n",
       "  </tbody>\n",
       "</table>\n",
       "</div>"
      ],
      "text/plain": [
       "       energy_100g     fat_100g  saturated-fat_100g  proteins_100g  \\\n",
       "count  1367.000000  1588.000000         1303.000000    1362.000000   \n",
       "mean   1325.812143    26.161738           17.940107      19.106968   \n",
       "std     344.366482     6.244512            4.369416       6.513131   \n",
       "min       1.000000     0.000000            0.000000       1.500000   \n",
       "25%    1154.000000    22.000000           15.650000      16.000000   \n",
       "50%    1356.000000    27.000000           18.000000      19.700000   \n",
       "75%    1504.000000    30.000000           21.000000      23.375000   \n",
       "max    7029.000000    60.000000           31.000000      47.000000   \n",
       "\n",
       "         salt_100g  sodium_100g  carbohydrates_100g  \n",
       "count  1302.000000  1301.000000         1303.000000  \n",
       "mean      1.503074     0.592216            1.179253  \n",
       "std       0.656081     0.257876            1.867782  \n",
       "min       0.000000     0.000000            0.000000  \n",
       "25%       1.198880     0.472000            0.000000  \n",
       "50%       1.500000     0.590551            0.500000  \n",
       "75%       1.795135     0.708661            1.500000  \n",
       "max       6.300000     2.480315           32.200000  "
      ]
     },
     "execution_count": 9,
     "metadata": {},
     "output_type": "execute_result"
    }
   ],
   "source": [
    "dfReduct.describe()"
   ]
  },
  {
   "cell_type": "markdown",
   "id": "15df7408",
   "metadata": {},
   "source": [
    "Pour le 3 on vérifie les valeurs saisies du nutriscore."
   ]
  },
  {
   "cell_type": "code",
   "execution_count": 10,
   "id": "59f99105",
   "metadata": {},
   "outputs": [
    {
     "data": {
      "text/plain": [
       "d    1102\n",
       "c      85\n",
       "e      76\n",
       "b      10\n",
       "a       2\n",
       "Name: nutrition_grade_fr, dtype: int64"
      ]
     },
     "execution_count": 10,
     "metadata": {},
     "output_type": "execute_result"
    }
   ],
   "source": [
    "dfReduct['nutrition_grade_fr'].value_counts()"
   ]
  },
  {
   "cell_type": "markdown",
   "id": "2c7b06df",
   "metadata": {},
   "source": [
    "On regarde les éventuelles correlations entre variables numériques."
   ]
  },
  {
   "cell_type": "code",
   "execution_count": 11,
   "id": "401c40e1",
   "metadata": {},
   "outputs": [
    {
     "data": {
      "text/html": [
       "<div>\n",
       "<style scoped>\n",
       "    .dataframe tbody tr th:only-of-type {\n",
       "        vertical-align: middle;\n",
       "    }\n",
       "\n",
       "    .dataframe tbody tr th {\n",
       "        vertical-align: top;\n",
       "    }\n",
       "\n",
       "    .dataframe thead th {\n",
       "        text-align: right;\n",
       "    }\n",
       "</style>\n",
       "<table border=\"1\" class=\"dataframe\">\n",
       "  <thead>\n",
       "    <tr style=\"text-align: right;\">\n",
       "      <th></th>\n",
       "      <th>energy_100g</th>\n",
       "      <th>fat_100g</th>\n",
       "      <th>saturated-fat_100g</th>\n",
       "      <th>proteins_100g</th>\n",
       "      <th>salt_100g</th>\n",
       "      <th>sodium_100g</th>\n",
       "      <th>carbohydrates_100g</th>\n",
       "    </tr>\n",
       "  </thead>\n",
       "  <tbody>\n",
       "    <tr>\n",
       "      <th>energy_100g</th>\n",
       "      <td>1.000000</td>\n",
       "      <td>0.729771</td>\n",
       "      <td>0.626538</td>\n",
       "      <td>0.384409</td>\n",
       "      <td>0.074206</td>\n",
       "      <td>0.075982</td>\n",
       "      <td>-0.134319</td>\n",
       "    </tr>\n",
       "    <tr>\n",
       "      <th>fat_100g</th>\n",
       "      <td>0.729771</td>\n",
       "      <td>1.000000</td>\n",
       "      <td>0.873396</td>\n",
       "      <td>0.118476</td>\n",
       "      <td>0.120314</td>\n",
       "      <td>0.122483</td>\n",
       "      <td>-0.096704</td>\n",
       "    </tr>\n",
       "    <tr>\n",
       "      <th>saturated-fat_100g</th>\n",
       "      <td>0.626538</td>\n",
       "      <td>0.873396</td>\n",
       "      <td>1.000000</td>\n",
       "      <td>0.076974</td>\n",
       "      <td>0.139929</td>\n",
       "      <td>0.133827</td>\n",
       "      <td>-0.096924</td>\n",
       "    </tr>\n",
       "    <tr>\n",
       "      <th>proteins_100g</th>\n",
       "      <td>0.384409</td>\n",
       "      <td>0.118476</td>\n",
       "      <td>0.076974</td>\n",
       "      <td>1.000000</td>\n",
       "      <td>0.119546</td>\n",
       "      <td>0.121400</td>\n",
       "      <td>-0.456184</td>\n",
       "    </tr>\n",
       "    <tr>\n",
       "      <th>salt_100g</th>\n",
       "      <td>0.074206</td>\n",
       "      <td>0.120314</td>\n",
       "      <td>0.139929</td>\n",
       "      <td>0.119546</td>\n",
       "      <td>1.000000</td>\n",
       "      <td>1.000000</td>\n",
       "      <td>-0.171161</td>\n",
       "    </tr>\n",
       "    <tr>\n",
       "      <th>sodium_100g</th>\n",
       "      <td>0.075982</td>\n",
       "      <td>0.122483</td>\n",
       "      <td>0.133827</td>\n",
       "      <td>0.121400</td>\n",
       "      <td>1.000000</td>\n",
       "      <td>1.000000</td>\n",
       "      <td>-0.172179</td>\n",
       "    </tr>\n",
       "    <tr>\n",
       "      <th>carbohydrates_100g</th>\n",
       "      <td>-0.134319</td>\n",
       "      <td>-0.096704</td>\n",
       "      <td>-0.096924</td>\n",
       "      <td>-0.456184</td>\n",
       "      <td>-0.171161</td>\n",
       "      <td>-0.172179</td>\n",
       "      <td>1.000000</td>\n",
       "    </tr>\n",
       "  </tbody>\n",
       "</table>\n",
       "</div>"
      ],
      "text/plain": [
       "                    energy_100g  fat_100g  saturated-fat_100g  proteins_100g  \\\n",
       "energy_100g            1.000000  0.729771            0.626538       0.384409   \n",
       "fat_100g               0.729771  1.000000            0.873396       0.118476   \n",
       "saturated-fat_100g     0.626538  0.873396            1.000000       0.076974   \n",
       "proteins_100g          0.384409  0.118476            0.076974       1.000000   \n",
       "salt_100g              0.074206  0.120314            0.139929       0.119546   \n",
       "sodium_100g            0.075982  0.122483            0.133827       0.121400   \n",
       "carbohydrates_100g    -0.134319 -0.096704           -0.096924      -0.456184   \n",
       "\n",
       "                    salt_100g  sodium_100g  carbohydrates_100g  \n",
       "energy_100g          0.074206     0.075982           -0.134319  \n",
       "fat_100g             0.120314     0.122483           -0.096704  \n",
       "saturated-fat_100g   0.139929     0.133827           -0.096924  \n",
       "proteins_100g        0.119546     0.121400           -0.456184  \n",
       "salt_100g            1.000000     1.000000           -0.171161  \n",
       "sodium_100g          1.000000     1.000000           -0.172179  \n",
       "carbohydrates_100g  -0.171161    -0.172179            1.000000  "
      ]
     },
     "execution_count": 11,
     "metadata": {},
     "output_type": "execute_result"
    }
   ],
   "source": [
    "dfReduct.corr()"
   ]
  },
  {
   "cell_type": "markdown",
   "id": "d4a6e198",
   "metadata": {},
   "source": [
    "On voit que le sel et le sodium sont fortement corrélés, on supprime donc la variable sodium de l'étude."
   ]
  },
  {
   "cell_type": "code",
   "execution_count": 12,
   "id": "e2005bab",
   "metadata": {},
   "outputs": [],
   "source": [
    "dfReduct = dfReduct.drop('sodium_100g',axis=1)"
   ]
  },
  {
   "cell_type": "markdown",
   "id": "2cd4a6bf",
   "metadata": {},
   "source": [
    "On affiche le diagramme pour vérification suite aux suppressions."
   ]
  },
  {
   "cell_type": "code",
   "execution_count": 13,
   "id": "061b6adb",
   "metadata": {},
   "outputs": [
    {
     "data": {
      "text/plain": [
       "<AxesSubplot:>"
      ]
     },
     "execution_count": 13,
     "metadata": {},
     "output_type": "execute_result"
    },
    {
     "data": {
      "image/png": "[encoded data removed]",
      "text/plain": [
       "<Figure size 1800x720 with 3 Axes>"
      ]
     },
     "metadata": {
      "needs_background": "light"
     },
     "output_type": "display_data"
    }
   ],
   "source": [
    "msno.bar(dfReduct)"
   ]
  },
  {
   "cell_type": "markdown",
   "id": "73cc1484",
   "metadata": {},
   "source": [
    "On a du se débarasser de beaucoup de variables pertinentes pour notre étude (Calcium, Vitamine B2,B12, Phosphore, lactose, cholesterol) car il n'y en avait pas assez donc on va se concentrer sur celles qui restent."
   ]
  },
  {
   "cell_type": "markdown",
   "id": "49722d4b",
   "metadata": {},
   "source": [
    "### 2. Traitement des variables abérantes et atypiques"
   ]
  },
  {
   "cell_type": "markdown",
   "id": "1d515579",
   "metadata": {},
   "source": [
    "On se crée des fonctions pour étudier les variables aberrantes et atypiques.  \n",
    "Puis on va calculer l'écart interquartile et afficher des boxplot avant et après traitement des outliers.  \n",
    "La stratégie choisie est de généraliser plutot qu'exclure les outliers.  \n",
    "On va donc plafonner les outliers aux valeurs limites des boxplots."
   ]
  },
  {
   "cell_type": "code",
   "execution_count": 14,
   "id": "60b3bcf9",
   "metadata": {},
   "outputs": [],
   "source": [
    "# Function to detect outliers\n",
    "def computeInterQuartile(colName,dFrame) :\n",
    "    a = dFrame[colName].quantile([0.25, 0.5, 0.75])\n",
    "    Q1 = a.iloc[0]\n",
    "    Q2 = a.iloc[1]\n",
    "    Q3 = a.iloc[2]\n",
    "    IQR = Q3 - Q1\n",
    "    vmin = Q1 - 1.5*IQR\n",
    "    if vmin < 0 :\n",
    "        vmin = 0.0\n",
    "    vmax = Q3 + 1.5*IQR\n",
    "    # For debug\n",
    "    #print(\"Q1 {:2.3} Q2 {:2.3} Q3 {:2.3} IQR {:2.3} vmin {:2.3} vmax {:2.3}\".format(Q1,Q2,Q3,IQR,vmin,vmax))\n",
    "    return (vmin,vmax)\n",
    "\n",
    "# Display outliers and according boxplot\n",
    "def displayOutliers(colName,dFrame,isDump) :\n",
    "    vmin, vmax = computeInterQuartile(colName,dFrame)\n",
    "    # For debug\n",
    "    #print(\"{} vmin {:2.3} vmax {:2.3}\".format(colName,vmin,vmax))\n",
    "    mask = (dFrame[colName] > vmax) | (dFrame[colName] < vmin)\n",
    "    nbOutliers = len(dFrame.loc[mask == True , :])\n",
    "    if nbOutliers != 0 and isDump == True:\n",
    "        display(dFrame.loc[mask == True ,['code',colName,'product_name']].sort_values(by=colName))\n",
    "    dfReduct.boxplot(column = colName, grid = False)\n",
    "    return (vmin,vmax,nbOutliers)\n",
    "\n",
    "# Clip to min and max values\n",
    "def clipOutliers(colName,dFrame,low=None,up=None) :\n",
    "    if(low == None or up == None) :\n",
    "        low, up = computeInterQuartile(colName,dFrame)\n",
    "#    print(\"min is {} max is {}\".format(low,up))\n",
    "    dFrame[colName].clip(lower=low,upper=up,inplace=True)"
   ]
  },
  {
   "cell_type": "markdown",
   "id": "47923fca",
   "metadata": {},
   "source": [
    "Sur chaque variable on fiat une détection et on plafonne les outliers comme mentionné plus haut.  \n",
    "On affiche pour information les outliers détectés et on va aller vérifier les cas extremes uniquement (probablement des erreurs) sur le site open food fact avec le code produit. On choisit de corriger les erreurs trouvées au lieu de les ignorer."
   ]
  },
  {
   "cell_type": "code",
   "execution_count": 15,
   "id": "f2de20bd",
   "metadata": {
    "scrolled": false
   },
   "outputs": [
    {
     "data": {
      "text/html": [
       "<div>\n",
       "<style scoped>\n",
       "    .dataframe tbody tr th:only-of-type {\n",
       "        vertical-align: middle;\n",
       "    }\n",
       "\n",
       "    .dataframe tbody tr th {\n",
       "        vertical-align: top;\n",
       "    }\n",
       "\n",
       "    .dataframe thead th {\n",
       "        text-align: right;\n",
       "    }\n",
       "</style>\n",
       "<table border=\"1\" class=\"dataframe\">\n",
       "  <thead>\n",
       "    <tr style=\"text-align: right;\">\n",
       "      <th></th>\n",
       "      <th>code</th>\n",
       "      <th>energy_100g</th>\n",
       "      <th>product_name</th>\n",
       "    </tr>\n",
       "  </thead>\n",
       "  <tbody>\n",
       "    <tr>\n",
       "      <th>211141</th>\n",
       "      <td>3256224332312</td>\n",
       "      <td>1.0</td>\n",
       "      <td>Emmental  français Râpé (28 % MG)</td>\n",
       "    </tr>\n",
       "    <tr>\n",
       "      <th>198964</th>\n",
       "      <td>3184670001387</td>\n",
       "      <td>136.0</td>\n",
       "      <td>La faiselle</td>\n",
       "    </tr>\n",
       "    <tr>\n",
       "      <th>299104</th>\n",
       "      <td>7622300563240</td>\n",
       "      <td>192.0</td>\n",
       "      <td>Philadelphia light</td>\n",
       "    </tr>\n",
       "    <tr>\n",
       "      <th>220618</th>\n",
       "      <td>3272770003629</td>\n",
       "      <td>229.0</td>\n",
       "      <td>Tartare Ail &amp; Fines herbes</td>\n",
       "    </tr>\n",
       "    <tr>\n",
       "      <th>254083</th>\n",
       "      <td>3760151012471</td>\n",
       "      <td>324.0</td>\n",
       "      <td>Fromage de Chèvre 1,2% MG</td>\n",
       "    </tr>\n",
       "    <tr>\n",
       "      <th>235022</th>\n",
       "      <td>3480347290017</td>\n",
       "      <td>330.0</td>\n",
       "      <td>Carré Frais 0% Ail &amp; Fines Herbes</td>\n",
       "    </tr>\n",
       "    <tr>\n",
       "      <th>235027</th>\n",
       "      <td>3480356262005</td>\n",
       "      <td>330.0</td>\n",
       "      <td>Carré Frais (0% MG) - 200 g - Elle &amp; Vire</td>\n",
       "    </tr>\n",
       "    <tr>\n",
       "      <th>235005</th>\n",
       "      <td>3480342917803</td>\n",
       "      <td>335.0</td>\n",
       "      <td>Carré frais 0% poivre et baies roses</td>\n",
       "    </tr>\n",
       "    <tr>\n",
       "      <th>217074</th>\n",
       "      <td>3263859711511</td>\n",
       "      <td>365.0</td>\n",
       "      <td>Faiselle</td>\n",
       "    </tr>\n",
       "    <tr>\n",
       "      <th>222761</th>\n",
       "      <td>3286151310107</td>\n",
       "      <td>398.0</td>\n",
       "      <td>Fromages frais en faisselles (7% MG)</td>\n",
       "    </tr>\n",
       "    <tr>\n",
       "      <th>216665</th>\n",
       "      <td>3263859401313</td>\n",
       "      <td>408.0</td>\n",
       "      <td>Ligne fine à tartiner nature</td>\n",
       "    </tr>\n",
       "    <tr>\n",
       "      <th>243608</th>\n",
       "      <td>3564709015248</td>\n",
       "      <td>422.0</td>\n",
       "      <td>Faisselle de la Bresse (7,4 % MG)</td>\n",
       "    </tr>\n",
       "    <tr>\n",
       "      <th>228290</th>\n",
       "      <td>3358150003820</td>\n",
       "      <td>473.0</td>\n",
       "      <td>Faisselle de Rians au lait de chèvre</td>\n",
       "    </tr>\n",
       "    <tr>\n",
       "      <th>243601</th>\n",
       "      <td>3564709010236</td>\n",
       "      <td>506.0</td>\n",
       "      <td>Brousse (7% MG)</td>\n",
       "    </tr>\n",
       "    <tr>\n",
       "      <th>230783</th>\n",
       "      <td>3396410221751</td>\n",
       "      <td>510.0</td>\n",
       "      <td>Fromage à tartiner ail &amp; fines herbes (9 % MG)</td>\n",
       "    </tr>\n",
       "    <tr>\n",
       "      <th>220678</th>\n",
       "      <td>3272770097024</td>\n",
       "      <td>531.0</td>\n",
       "      <td>St Morêt Ligne &amp; Plaisir</td>\n",
       "    </tr>\n",
       "    <tr>\n",
       "      <th>220642</th>\n",
       "      <td>3272770093637</td>\n",
       "      <td>531.0</td>\n",
       "      <td>St Morêt Ligne &amp; Plaisir</td>\n",
       "    </tr>\n",
       "    <tr>\n",
       "      <th>220661</th>\n",
       "      <td>3272770095334</td>\n",
       "      <td>546.0</td>\n",
       "      <td>Ligne &amp; Plaisir (8% MG) (format familial)</td>\n",
       "    </tr>\n",
       "    <tr>\n",
       "      <th>211065</th>\n",
       "      <td>3256224235705</td>\n",
       "      <td>562.0</td>\n",
       "      <td>Fromage frais nature</td>\n",
       "    </tr>\n",
       "    <tr>\n",
       "      <th>245647</th>\n",
       "      <td>3596710335589</td>\n",
       "      <td>590.0</td>\n",
       "      <td>Cancoillotte à napper à l'ail</td>\n",
       "    </tr>\n",
       "    <tr>\n",
       "      <th>245648</th>\n",
       "      <td>3596710335596</td>\n",
       "      <td>590.0</td>\n",
       "      <td>Cancoillotte nature</td>\n",
       "    </tr>\n",
       "    <tr>\n",
       "      <th>311226</th>\n",
       "      <td>8480000510396</td>\n",
       "      <td>593.0</td>\n",
       "      <td>Queso blanco pasteurizado light</td>\n",
       "    </tr>\n",
       "    <tr>\n",
       "      <th>307406</th>\n",
       "      <td>8410672000826</td>\n",
       "      <td>602.0</td>\n",
       "      <td>Mató del Pirineu</td>\n",
       "    </tr>\n",
       "    <tr>\n",
       "      <th>299188</th>\n",
       "      <td>7622300745912</td>\n",
       "      <td>608.0</td>\n",
       "      <td>Philadelphia Saumon fumé &amp; aneth (10% MG)</td>\n",
       "    </tr>\n",
       "    <tr>\n",
       "      <th>195542</th>\n",
       "      <td>3155250321799</td>\n",
       "      <td>610.0</td>\n",
       "      <td>Bridelight (5%MG) - 350 g</td>\n",
       "    </tr>\n",
       "    <tr>\n",
       "      <th>195540</th>\n",
       "      <td>3155250317914</td>\n",
       "      <td>610.0</td>\n",
       "      <td>Bridelight (5 % MG)</td>\n",
       "    </tr>\n",
       "    <tr>\n",
       "      <th>238638</th>\n",
       "      <td>3560070514847</td>\n",
       "      <td>613.0</td>\n",
       "      <td>Ricotta</td>\n",
       "    </tr>\n",
       "    <tr>\n",
       "      <th>299168</th>\n",
       "      <td>7622300719302</td>\n",
       "      <td>625.0</td>\n",
       "      <td>Philadelphia Light Nature (11,5% MG) - 150 g -...</td>\n",
       "    </tr>\n",
       "    <tr>\n",
       "      <th>277809</th>\n",
       "      <td>5410068237501</td>\n",
       "      <td>628.0</td>\n",
       "      <td>Light Philadelphia, spécialité de fromage frais</td>\n",
       "    </tr>\n",
       "    <tr>\n",
       "      <th>222545</th>\n",
       "      <td>3282580008790</td>\n",
       "      <td>2067.0</td>\n",
       "      <td>Bouchons du Lyonnais</td>\n",
       "    </tr>\n",
       "    <tr>\n",
       "      <th>248745</th>\n",
       "      <td>3660992006151</td>\n",
       "      <td>2259.0</td>\n",
       "      <td>Fromage râpé italien (39 % MG)</td>\n",
       "    </tr>\n",
       "    <tr>\n",
       "      <th>192255</th>\n",
       "      <td>3073780817011</td>\n",
       "      <td>2350.0</td>\n",
       "      <td>Syrtos aux herbes de Provence</td>\n",
       "    </tr>\n",
       "    <tr>\n",
       "      <th>239269</th>\n",
       "      <td>3560070719921</td>\n",
       "      <td>2368.0</td>\n",
       "      <td>Dés de Fromage Herbes de Provence &amp; Poivrons</td>\n",
       "    </tr>\n",
       "    <tr>\n",
       "      <th>237723</th>\n",
       "      <td>3560070187331</td>\n",
       "      <td>2374.0</td>\n",
       "      <td>Dés de fromage épices et aromates</td>\n",
       "    </tr>\n",
       "    <tr>\n",
       "      <th>240071</th>\n",
       "      <td>3560070927296</td>\n",
       "      <td>6803.0</td>\n",
       "      <td>Emmental français râpé au lait cru</td>\n",
       "    </tr>\n",
       "    <tr>\n",
       "      <th>250717</th>\n",
       "      <td>3700640470139</td>\n",
       "      <td>7029.0</td>\n",
       "      <td>Gruyère France au lait cru (33% MG)</td>\n",
       "    </tr>\n",
       "  </tbody>\n",
       "</table>\n",
       "</div>"
      ],
      "text/plain": [
       "                 code  energy_100g  \\\n",
       "211141  3256224332312          1.0   \n",
       "198964  3184670001387        136.0   \n",
       "299104  7622300563240        192.0   \n",
       "220618  3272770003629        229.0   \n",
       "254083  3760151012471        324.0   \n",
       "235022  3480347290017        330.0   \n",
       "235027  3480356262005        330.0   \n",
       "235005  3480342917803        335.0   \n",
       "217074  3263859711511        365.0   \n",
       "222761  3286151310107        398.0   \n",
       "216665  3263859401313        408.0   \n",
       "243608  3564709015248        422.0   \n",
       "228290  3358150003820        473.0   \n",
       "243601  3564709010236        506.0   \n",
       "230783  3396410221751        510.0   \n",
       "220678  3272770097024        531.0   \n",
       "220642  3272770093637        531.0   \n",
       "220661  3272770095334        546.0   \n",
       "211065  3256224235705        562.0   \n",
       "245647  3596710335589        590.0   \n",
       "245648  3596710335596        590.0   \n",
       "311226  8480000510396        593.0   \n",
       "307406  8410672000826        602.0   \n",
       "299188  7622300745912        608.0   \n",
       "195542  3155250321799        610.0   \n",
       "195540  3155250317914        610.0   \n",
       "238638  3560070514847        613.0   \n",
       "299168  7622300719302        625.0   \n",
       "277809  5410068237501        628.0   \n",
       "222545  3282580008790       2067.0   \n",
       "248745  3660992006151       2259.0   \n",
       "192255  3073780817011       2350.0   \n",
       "239269  3560070719921       2368.0   \n",
       "237723  3560070187331       2374.0   \n",
       "240071  3560070927296       6803.0   \n",
       "250717  3700640470139       7029.0   \n",
       "\n",
       "                                             product_name  \n",
       "211141                  Emmental  français Râpé (28 % MG)  \n",
       "198964                                        La faiselle  \n",
       "299104                                 Philadelphia light  \n",
       "220618                         Tartare Ail & Fines herbes  \n",
       "254083                          Fromage de Chèvre 1,2% MG  \n",
       "235022                  Carré Frais 0% Ail & Fines Herbes  \n",
       "235027          Carré Frais (0% MG) - 200 g - Elle & Vire  \n",
       "235005               Carré frais 0% poivre et baies roses  \n",
       "217074                                           Faiselle  \n",
       "222761               Fromages frais en faisselles (7% MG)  \n",
       "216665                       Ligne fine à tartiner nature  \n",
       "243608                  Faisselle de la Bresse (7,4 % MG)  \n",
       "228290               Faisselle de Rians au lait de chèvre  \n",
       "243601                                    Brousse (7% MG)  \n",
       "230783     Fromage à tartiner ail & fines herbes (9 % MG)  \n",
       "220678                           St Morêt Ligne & Plaisir  \n",
       "220642                          St Morêt Ligne & Plaisir   \n",
       "220661          Ligne & Plaisir (8% MG) (format familial)  \n",
       "211065                               Fromage frais nature  \n",
       "245647                      Cancoillotte à napper à l'ail  \n",
       "245648                                Cancoillotte nature  \n",
       "311226                    Queso blanco pasteurizado light  \n",
       "307406                                   Mató del Pirineu  \n",
       "299188          Philadelphia Saumon fumé & aneth (10% MG)  \n",
       "195542                          Bridelight (5%MG) - 350 g  \n",
       "195540                                Bridelight (5 % MG)  \n",
       "238638                                            Ricotta  \n",
       "299168  Philadelphia Light Nature (11,5% MG) - 150 g -...  \n",
       "277809    Light Philadelphia, spécialité de fromage frais  \n",
       "222545                               Bouchons du Lyonnais  \n",
       "248745                     Fromage râpé italien (39 % MG)  \n",
       "192255                      Syrtos aux herbes de Provence  \n",
       "239269       Dés de Fromage Herbes de Provence & Poivrons  \n",
       "237723                  Dés de fromage épices et aromates  \n",
       "240071                 Emmental français râpé au lait cru  \n",
       "250717                Gruyère France au lait cru (33% MG)  "
      ]
     },
     "metadata": {},
     "output_type": "display_data"
    },
    {
     "name": "stdout",
     "output_type": "stream",
     "text": [
      "36 Outliers détectés\n"
     ]
    },
    {
     "data": {
      "image/png": "[encoded data removed]",
      "text/plain": [
       "<Figure size 432x288 with 2 Axes>"
      ]
     },
     "metadata": {
      "needs_background": "light"
     },
     "output_type": "display_data"
    }
   ],
   "source": [
    "colName = 'energy_100g'\n",
    "pl.figure()\n",
    "pl.subplot(121)\n",
    "pl.title('Avant réduction')\n",
    "minClip, maxClip, nbOutliersBefore = displayOutliers(colName,dfReduct,True)\n",
    "print('{} Outliers détectés'.format(nbOutliersBefore))\n",
    "\n",
    "#correction manuelle pour l'énergie\n",
    "dfReduct.at[211141,colName] = 1532.0\n",
    "dfReduct.drop(axis = 0, index = 198964, inplace=True) # c'est un fromage blanc non détécté, alors on l'enlève.\n",
    "dfReduct.at[299104,colName] = 640.0\n",
    "\n",
    "dfReduct.at[240071,colName] = 1626.0\n",
    "dfReduct.at[250717,colName] = 1680.0\n",
    "\n",
    "pl.subplot(122)\n",
    "pl.title('Après réduction')\n",
    "clipOutliers(colName,dfReduct,minClip,maxClip)\n",
    "minClip, maxClip, nbOutliersAfter = displayOutliers(colName,dfReduct,False)\n",
    "pl.subplots_adjust(left=0.1,\n",
    "                    bottom=0.1, \n",
    "                    right=0.9, \n",
    "                    top=0.9, \n",
    "                    wspace=0.4, \n",
    "                    hspace=0.4)\n",
    "pl.show()"
   ]
  },
  {
   "cell_type": "code",
   "execution_count": 16,
   "id": "0aecadd2",
   "metadata": {
    "scrolled": false
   },
   "outputs": [
    {
     "data": {
      "text/html": [
       "<div>\n",
       "<style scoped>\n",
       "    .dataframe tbody tr th:only-of-type {\n",
       "        vertical-align: middle;\n",
       "    }\n",
       "\n",
       "    .dataframe tbody tr th {\n",
       "        vertical-align: top;\n",
       "    }\n",
       "\n",
       "    .dataframe thead th {\n",
       "        text-align: right;\n",
       "    }\n",
       "</style>\n",
       "<table border=\"1\" class=\"dataframe\">\n",
       "  <thead>\n",
       "    <tr style=\"text-align: right;\">\n",
       "      <th></th>\n",
       "      <th>code</th>\n",
       "      <th>fat_100g</th>\n",
       "      <th>product_name</th>\n",
       "    </tr>\n",
       "  </thead>\n",
       "  <tbody>\n",
       "    <tr>\n",
       "      <th>252578</th>\n",
       "      <td>3760075290108</td>\n",
       "      <td>0.0</td>\n",
       "      <td>Reblochon de Savoie (22% MG) Bio</td>\n",
       "    </tr>\n",
       "    <tr>\n",
       "      <th>235027</th>\n",
       "      <td>3480356262005</td>\n",
       "      <td>0.2</td>\n",
       "      <td>Carré Frais (0% MG) - 200 g - Elle &amp; Vire</td>\n",
       "    </tr>\n",
       "    <tr>\n",
       "      <th>235022</th>\n",
       "      <td>3480347290017</td>\n",
       "      <td>0.2</td>\n",
       "      <td>Carré Frais 0% Ail &amp; Fines Herbes</td>\n",
       "    </tr>\n",
       "    <tr>\n",
       "      <th>235005</th>\n",
       "      <td>3480342917803</td>\n",
       "      <td>0.2</td>\n",
       "      <td>Carré frais 0% poivre et baies roses</td>\n",
       "    </tr>\n",
       "    <tr>\n",
       "      <th>254083</th>\n",
       "      <td>3760151012471</td>\n",
       "      <td>1.2</td>\n",
       "      <td>Fromage de Chèvre 1,2% MG</td>\n",
       "    </tr>\n",
       "    <tr>\n",
       "      <th>299104</th>\n",
       "      <td>7622300563240</td>\n",
       "      <td>3.5</td>\n",
       "      <td>Philadelphia light</td>\n",
       "    </tr>\n",
       "    <tr>\n",
       "      <th>216665</th>\n",
       "      <td>3263859401313</td>\n",
       "      <td>4.0</td>\n",
       "      <td>Ligne fine à tartiner nature</td>\n",
       "    </tr>\n",
       "    <tr>\n",
       "      <th>195542</th>\n",
       "      <td>3155250321799</td>\n",
       "      <td>5.0</td>\n",
       "      <td>Bridelight (5%MG) - 350 g</td>\n",
       "    </tr>\n",
       "    <tr>\n",
       "      <th>195540</th>\n",
       "      <td>3155250317914</td>\n",
       "      <td>5.0</td>\n",
       "      <td>Bridelight (5 % MG)</td>\n",
       "    </tr>\n",
       "    <tr>\n",
       "      <th>220618</th>\n",
       "      <td>3272770003629</td>\n",
       "      <td>5.2</td>\n",
       "      <td>Tartare Ail &amp; Fines herbes</td>\n",
       "    </tr>\n",
       "    <tr>\n",
       "      <th>195547</th>\n",
       "      <td>3155250328651</td>\n",
       "      <td>6.0</td>\n",
       "      <td>Bridelight (6 % MG) Fruité &amp; Fondant</td>\n",
       "    </tr>\n",
       "    <tr>\n",
       "      <th>228290</th>\n",
       "      <td>3358150003820</td>\n",
       "      <td>6.0</td>\n",
       "      <td>Faisselle de Rians au lait de chèvre</td>\n",
       "    </tr>\n",
       "    <tr>\n",
       "      <th>217074</th>\n",
       "      <td>3263859711511</td>\n",
       "      <td>6.0</td>\n",
       "      <td>Faiselle</td>\n",
       "    </tr>\n",
       "    <tr>\n",
       "      <th>243601</th>\n",
       "      <td>3564709010236</td>\n",
       "      <td>7.0</td>\n",
       "      <td>Brousse (7% MG)</td>\n",
       "    </tr>\n",
       "    <tr>\n",
       "      <th>222761</th>\n",
       "      <td>3286151310107</td>\n",
       "      <td>7.0</td>\n",
       "      <td>Fromages frais en faisselles (7% MG)</td>\n",
       "    </tr>\n",
       "    <tr>\n",
       "      <th>243608</th>\n",
       "      <td>3564709015248</td>\n",
       "      <td>7.4</td>\n",
       "      <td>Faisselle de la Bresse (7,4 % MG)</td>\n",
       "    </tr>\n",
       "    <tr>\n",
       "      <th>220678</th>\n",
       "      <td>3272770097024</td>\n",
       "      <td>8.0</td>\n",
       "      <td>St Morêt Ligne &amp; Plaisir</td>\n",
       "    </tr>\n",
       "    <tr>\n",
       "      <th>311226</th>\n",
       "      <td>8480000510396</td>\n",
       "      <td>8.0</td>\n",
       "      <td>Queso blanco pasteurizado light</td>\n",
       "    </tr>\n",
       "    <tr>\n",
       "      <th>220642</th>\n",
       "      <td>3272770093637</td>\n",
       "      <td>8.0</td>\n",
       "      <td>St Morêt Ligne &amp; Plaisir</td>\n",
       "    </tr>\n",
       "    <tr>\n",
       "      <th>195548</th>\n",
       "      <td>3155250328668</td>\n",
       "      <td>8.0</td>\n",
       "      <td>Bridelight (8 % MG) Tendre &amp; Fruité</td>\n",
       "    </tr>\n",
       "    <tr>\n",
       "      <th>182598</th>\n",
       "      <td>22139627</td>\n",
       "      <td>8.0</td>\n",
       "      <td>Mozzarella</td>\n",
       "    </tr>\n",
       "    <tr>\n",
       "      <th>220661</th>\n",
       "      <td>3272770095334</td>\n",
       "      <td>8.0</td>\n",
       "      <td>Ligne &amp; Plaisir (8% MG) (format familial)</td>\n",
       "    </tr>\n",
       "    <tr>\n",
       "      <th>177854</th>\n",
       "      <td>20097776</td>\n",
       "      <td>8.5</td>\n",
       "      <td>Mozzarella allégée (8,5% MG)</td>\n",
       "    </tr>\n",
       "    <tr>\n",
       "      <th>188415</th>\n",
       "      <td>3023260020233</td>\n",
       "      <td>9.0</td>\n",
       "      <td>100 % Brebis Léger (9 % MG)</td>\n",
       "    </tr>\n",
       "    <tr>\n",
       "      <th>230783</th>\n",
       "      <td>3396410221751</td>\n",
       "      <td>9.0</td>\n",
       "      <td>Fromage à tartiner ail &amp; fines herbes (9 % MG)</td>\n",
       "    </tr>\n",
       "    <tr>\n",
       "      <th>240065</th>\n",
       "      <td>3560070925544</td>\n",
       "      <td>9.0</td>\n",
       "      <td>Mozzarella light* (9 % MG)</td>\n",
       "    </tr>\n",
       "    <tr>\n",
       "      <th>245647</th>\n",
       "      <td>3596710335589</td>\n",
       "      <td>9.5</td>\n",
       "      <td>Cancoillotte à napper à l'ail</td>\n",
       "    </tr>\n",
       "    <tr>\n",
       "      <th>245648</th>\n",
       "      <td>3596710335596</td>\n",
       "      <td>9.5</td>\n",
       "      <td>Cancoillotte nature</td>\n",
       "    </tr>\n",
       "    <tr>\n",
       "      <th>192350</th>\n",
       "      <td>3073781040692</td>\n",
       "      <td>43.0</td>\n",
       "      <td>Noisettes &amp; 3 Noix (43 % MG)</td>\n",
       "    </tr>\n",
       "    <tr>\n",
       "      <th>192404</th>\n",
       "      <td>3073781073539</td>\n",
       "      <td>43.0</td>\n",
       "      <td>Noisettes &amp; 3 noix</td>\n",
       "    </tr>\n",
       "    <tr>\n",
       "      <th>192344</th>\n",
       "      <td>3073781034806</td>\n",
       "      <td>43.0</td>\n",
       "      <td>Salade &amp; Apéritif, Noisettes et 3 Noix (43 % MG)</td>\n",
       "    </tr>\n",
       "    <tr>\n",
       "      <th>192353</th>\n",
       "      <td>3073781043365</td>\n",
       "      <td>43.0</td>\n",
       "      <td>Noisettes &amp; 3 Noix, x 10 portions (43 % MG)</td>\n",
       "    </tr>\n",
       "    <tr>\n",
       "      <th>192255</th>\n",
       "      <td>3073780817011</td>\n",
       "      <td>58.0</td>\n",
       "      <td>Syrtos aux herbes de Provence</td>\n",
       "    </tr>\n",
       "    <tr>\n",
       "      <th>237723</th>\n",
       "      <td>3560070187331</td>\n",
       "      <td>60.0</td>\n",
       "      <td>Dés de fromage épices et aromates</td>\n",
       "    </tr>\n",
       "    <tr>\n",
       "      <th>239269</th>\n",
       "      <td>3560070719921</td>\n",
       "      <td>60.0</td>\n",
       "      <td>Dés de Fromage Herbes de Provence &amp; Poivrons</td>\n",
       "    </tr>\n",
       "  </tbody>\n",
       "</table>\n",
       "</div>"
      ],
      "text/plain": [
       "                 code  fat_100g  \\\n",
       "252578  3760075290108       0.0   \n",
       "235027  3480356262005       0.2   \n",
       "235022  3480347290017       0.2   \n",
       "235005  3480342917803       0.2   \n",
       "254083  3760151012471       1.2   \n",
       "299104  7622300563240       3.5   \n",
       "216665  3263859401313       4.0   \n",
       "195542  3155250321799       5.0   \n",
       "195540  3155250317914       5.0   \n",
       "220618  3272770003629       5.2   \n",
       "195547  3155250328651       6.0   \n",
       "228290  3358150003820       6.0   \n",
       "217074  3263859711511       6.0   \n",
       "243601  3564709010236       7.0   \n",
       "222761  3286151310107       7.0   \n",
       "243608  3564709015248       7.4   \n",
       "220678  3272770097024       8.0   \n",
       "311226  8480000510396       8.0   \n",
       "220642  3272770093637       8.0   \n",
       "195548  3155250328668       8.0   \n",
       "182598       22139627       8.0   \n",
       "220661  3272770095334       8.0   \n",
       "177854       20097776       8.5   \n",
       "188415  3023260020233       9.0   \n",
       "230783  3396410221751       9.0   \n",
       "240065  3560070925544       9.0   \n",
       "245647  3596710335589       9.5   \n",
       "245648  3596710335596       9.5   \n",
       "192350  3073781040692      43.0   \n",
       "192404  3073781073539      43.0   \n",
       "192344  3073781034806      43.0   \n",
       "192353  3073781043365      43.0   \n",
       "192255  3073780817011      58.0   \n",
       "237723  3560070187331      60.0   \n",
       "239269  3560070719921      60.0   \n",
       "\n",
       "                                            product_name  \n",
       "252578                  Reblochon de Savoie (22% MG) Bio  \n",
       "235027         Carré Frais (0% MG) - 200 g - Elle & Vire  \n",
       "235022                 Carré Frais 0% Ail & Fines Herbes  \n",
       "235005              Carré frais 0% poivre et baies roses  \n",
       "254083                         Fromage de Chèvre 1,2% MG  \n",
       "299104                                Philadelphia light  \n",
       "216665                      Ligne fine à tartiner nature  \n",
       "195542                         Bridelight (5%MG) - 350 g  \n",
       "195540                               Bridelight (5 % MG)  \n",
       "220618                        Tartare Ail & Fines herbes  \n",
       "195547              Bridelight (6 % MG) Fruité & Fondant  \n",
       "228290              Faisselle de Rians au lait de chèvre  \n",
       "217074                                          Faiselle  \n",
       "243601                                   Brousse (7% MG)  \n",
       "222761              Fromages frais en faisselles (7% MG)  \n",
       "243608                 Faisselle de la Bresse (7,4 % MG)  \n",
       "220678                          St Morêt Ligne & Plaisir  \n",
       "311226                   Queso blanco pasteurizado light  \n",
       "220642                         St Morêt Ligne & Plaisir   \n",
       "195548              Bridelight (8 % MG) Tendre & Fruité   \n",
       "182598                                        Mozzarella  \n",
       "220661         Ligne & Plaisir (8% MG) (format familial)  \n",
       "177854                      Mozzarella allégée (8,5% MG)  \n",
       "188415                       100 % Brebis Léger (9 % MG)  \n",
       "230783    Fromage à tartiner ail & fines herbes (9 % MG)  \n",
       "240065                        Mozzarella light* (9 % MG)  \n",
       "245647                     Cancoillotte à napper à l'ail  \n",
       "245648                               Cancoillotte nature  \n",
       "192350                      Noisettes & 3 Noix (43 % MG)  \n",
       "192404                                Noisettes & 3 noix  \n",
       "192344  Salade & Apéritif, Noisettes et 3 Noix (43 % MG)  \n",
       "192353       Noisettes & 3 Noix, x 10 portions (43 % MG)  \n",
       "192255                     Syrtos aux herbes de Provence  \n",
       "237723                 Dés de fromage épices et aromates  \n",
       "239269      Dés de Fromage Herbes de Provence & Poivrons  "
      ]
     },
     "metadata": {},
     "output_type": "display_data"
    },
    {
     "name": "stdout",
     "output_type": "stream",
     "text": [
      "35 Outliers détectés\n"
     ]
    },
    {
     "data": {
      "image/png": "[encoded data removed]",
      "text/plain": [
       "<Figure size 432x288 with 2 Axes>"
      ]
     },
     "metadata": {
      "needs_background": "light"
     },
     "output_type": "display_data"
    }
   ],
   "source": [
    "colName = 'fat_100g'\n",
    "pl.figure()\n",
    "pl.subplot(121)\n",
    "pl.title('Avant réduction')\n",
    "minClip, maxClip, nbOutliersBefore = displayOutliers(colName,dfReduct, True)\n",
    "print('{} Outliers détectés'.format(nbOutliersBefore))\n",
    "\n",
    "#correction manuelle pour fat\n",
    "dfReduct.at[252578,colName] = 22.0\n",
    "\n",
    "pl.subplot(122)\n",
    "pl.title('Après réduction')\n",
    "clipOutliers(colName,dfReduct,minClip,maxClip)\n",
    "minClip, maxClip, nbOutliersAfter = displayOutliers(colName,dfReduct, False)\n",
    "pl.subplots_adjust(left=0.1,\n",
    "                    bottom=0.1, \n",
    "                    right=0.9, \n",
    "                    top=0.9, \n",
    "                    wspace=0.4, \n",
    "                    hspace=0.4)\n",
    "pl.show()"
   ]
  },
  {
   "cell_type": "code",
   "execution_count": 17,
   "id": "780a6692",
   "metadata": {},
   "outputs": [
    {
     "data": {
      "text/html": [
       "<div>\n",
       "<style scoped>\n",
       "    .dataframe tbody tr th:only-of-type {\n",
       "        vertical-align: middle;\n",
       "    }\n",
       "\n",
       "    .dataframe tbody tr th {\n",
       "        vertical-align: top;\n",
       "    }\n",
       "\n",
       "    .dataframe thead th {\n",
       "        text-align: right;\n",
       "    }\n",
       "</style>\n",
       "<table border=\"1\" class=\"dataframe\">\n",
       "  <thead>\n",
       "    <tr style=\"text-align: right;\">\n",
       "      <th></th>\n",
       "      <th>code</th>\n",
       "      <th>saturated-fat_100g</th>\n",
       "      <th>product_name</th>\n",
       "    </tr>\n",
       "  </thead>\n",
       "  <tbody>\n",
       "    <tr>\n",
       "      <th>291207</th>\n",
       "      <td>7612464364708</td>\n",
       "      <td>0.00</td>\n",
       "      <td>Fromage Le Tonneau</td>\n",
       "    </tr>\n",
       "    <tr>\n",
       "      <th>254083</th>\n",
       "      <td>3760151012471</td>\n",
       "      <td>0.00</td>\n",
       "      <td>Fromage de Chèvre 1,2% MG</td>\n",
       "    </tr>\n",
       "    <tr>\n",
       "      <th>235005</th>\n",
       "      <td>3480342917803</td>\n",
       "      <td>0.12</td>\n",
       "      <td>Carré frais 0% poivre et baies roses</td>\n",
       "    </tr>\n",
       "    <tr>\n",
       "      <th>235022</th>\n",
       "      <td>3480347290017</td>\n",
       "      <td>0.12</td>\n",
       "      <td>Carré Frais 0% Ail &amp; Fines Herbes</td>\n",
       "    </tr>\n",
       "    <tr>\n",
       "      <th>235027</th>\n",
       "      <td>3480356262005</td>\n",
       "      <td>0.12</td>\n",
       "      <td>Carré Frais (0% MG) - 200 g - Elle &amp; Vire</td>\n",
       "    </tr>\n",
       "    <tr>\n",
       "      <th>299104</th>\n",
       "      <td>7622300563240</td>\n",
       "      <td>2.20</td>\n",
       "      <td>Philadelphia light</td>\n",
       "    </tr>\n",
       "    <tr>\n",
       "      <th>216665</th>\n",
       "      <td>3263859401313</td>\n",
       "      <td>2.60</td>\n",
       "      <td>Ligne fine à tartiner nature</td>\n",
       "    </tr>\n",
       "    <tr>\n",
       "      <th>195540</th>\n",
       "      <td>3155250317914</td>\n",
       "      <td>3.50</td>\n",
       "      <td>Bridelight (5 % MG)</td>\n",
       "    </tr>\n",
       "    <tr>\n",
       "      <th>195542</th>\n",
       "      <td>3155250321799</td>\n",
       "      <td>3.50</td>\n",
       "      <td>Bridelight (5%MG) - 350 g</td>\n",
       "    </tr>\n",
       "    <tr>\n",
       "      <th>195547</th>\n",
       "      <td>3155250328651</td>\n",
       "      <td>4.00</td>\n",
       "      <td>Bridelight (6 % MG) Fruité &amp; Fondant</td>\n",
       "    </tr>\n",
       "    <tr>\n",
       "      <th>217074</th>\n",
       "      <td>3263859711511</td>\n",
       "      <td>4.10</td>\n",
       "      <td>Faiselle</td>\n",
       "    </tr>\n",
       "    <tr>\n",
       "      <th>222761</th>\n",
       "      <td>3286151310107</td>\n",
       "      <td>4.30</td>\n",
       "      <td>Fromages frais en faisselles (7% MG)</td>\n",
       "    </tr>\n",
       "    <tr>\n",
       "      <th>228290</th>\n",
       "      <td>3358150003820</td>\n",
       "      <td>4.30</td>\n",
       "      <td>Faisselle de Rians au lait de chèvre</td>\n",
       "    </tr>\n",
       "    <tr>\n",
       "      <th>311226</th>\n",
       "      <td>8480000510396</td>\n",
       "      <td>4.50</td>\n",
       "      <td>Queso blanco pasteurizado light</td>\n",
       "    </tr>\n",
       "    <tr>\n",
       "      <th>243608</th>\n",
       "      <td>3564709015248</td>\n",
       "      <td>4.60</td>\n",
       "      <td>Faisselle de la Bresse (7,4 % MG)</td>\n",
       "    </tr>\n",
       "    <tr>\n",
       "      <th>195548</th>\n",
       "      <td>3155250328668</td>\n",
       "      <td>5.00</td>\n",
       "      <td>Bridelight (8 % MG) Tendre &amp; Fruité</td>\n",
       "    </tr>\n",
       "    <tr>\n",
       "      <th>182598</th>\n",
       "      <td>22139627</td>\n",
       "      <td>5.00</td>\n",
       "      <td>Mozzarella</td>\n",
       "    </tr>\n",
       "    <tr>\n",
       "      <th>243601</th>\n",
       "      <td>3564709010236</td>\n",
       "      <td>5.00</td>\n",
       "      <td>Brousse (7% MG)</td>\n",
       "    </tr>\n",
       "    <tr>\n",
       "      <th>220642</th>\n",
       "      <td>3272770093637</td>\n",
       "      <td>5.40</td>\n",
       "      <td>St Morêt Ligne &amp; Plaisir</td>\n",
       "    </tr>\n",
       "    <tr>\n",
       "      <th>220661</th>\n",
       "      <td>3272770095334</td>\n",
       "      <td>5.40</td>\n",
       "      <td>Ligne &amp; Plaisir (8% MG) (format familial)</td>\n",
       "    </tr>\n",
       "    <tr>\n",
       "      <th>220678</th>\n",
       "      <td>3272770097024</td>\n",
       "      <td>5.40</td>\n",
       "      <td>St Morêt Ligne &amp; Plaisir</td>\n",
       "    </tr>\n",
       "    <tr>\n",
       "      <th>240065</th>\n",
       "      <td>3560070925544</td>\n",
       "      <td>5.80</td>\n",
       "      <td>Mozzarella light* (9 % MG)</td>\n",
       "    </tr>\n",
       "    <tr>\n",
       "      <th>177854</th>\n",
       "      <td>20097776</td>\n",
       "      <td>6.00</td>\n",
       "      <td>Mozzarella allégée (8,5% MG)</td>\n",
       "    </tr>\n",
       "    <tr>\n",
       "      <th>202041</th>\n",
       "      <td>3228024140206</td>\n",
       "      <td>6.00</td>\n",
       "      <td>Président au Chèvre (28% MG)</td>\n",
       "    </tr>\n",
       "    <tr>\n",
       "      <th>230783</th>\n",
       "      <td>3396410221751</td>\n",
       "      <td>6.00</td>\n",
       "      <td>Fromage à tartiner ail &amp; fines herbes (9 % MG)</td>\n",
       "    </tr>\n",
       "    <tr>\n",
       "      <th>188415</th>\n",
       "      <td>3023260020233</td>\n",
       "      <td>6.40</td>\n",
       "      <td>100 % Brebis Léger (9 % MG)</td>\n",
       "    </tr>\n",
       "    <tr>\n",
       "      <th>299188</th>\n",
       "      <td>7622300745912</td>\n",
       "      <td>6.50</td>\n",
       "      <td>Philadelphia Saumon fumé &amp; aneth (10% MG)</td>\n",
       "    </tr>\n",
       "    <tr>\n",
       "      <th>245647</th>\n",
       "      <td>3596710335589</td>\n",
       "      <td>6.50</td>\n",
       "      <td>Cancoillotte à napper à l'ail</td>\n",
       "    </tr>\n",
       "    <tr>\n",
       "      <th>245648</th>\n",
       "      <td>3596710335596</td>\n",
       "      <td>6.50</td>\n",
       "      <td>Cancoillotte nature</td>\n",
       "    </tr>\n",
       "    <tr>\n",
       "      <th>211065</th>\n",
       "      <td>3256224235705</td>\n",
       "      <td>6.80</td>\n",
       "      <td>Fromage frais nature</td>\n",
       "    </tr>\n",
       "    <tr>\n",
       "      <th>307406</th>\n",
       "      <td>8410672000826</td>\n",
       "      <td>7.00</td>\n",
       "      <td>Mató del Pirineu</td>\n",
       "    </tr>\n",
       "    <tr>\n",
       "      <th>299168</th>\n",
       "      <td>7622300719302</td>\n",
       "      <td>7.20</td>\n",
       "      <td>Philadelphia Light Nature (11,5% MG) - 150 g -...</td>\n",
       "    </tr>\n",
       "    <tr>\n",
       "      <th>277809</th>\n",
       "      <td>5410068237501</td>\n",
       "      <td>7.40</td>\n",
       "      <td>Light Philadelphia, spécialité de fromage frais</td>\n",
       "    </tr>\n",
       "    <tr>\n",
       "      <th>241412</th>\n",
       "      <td>3564700250297</td>\n",
       "      <td>7.50</td>\n",
       "      <td>Léger (11 % MG)</td>\n",
       "    </tr>\n",
       "    <tr>\n",
       "      <th>203853</th>\n",
       "      <td>3245412246296</td>\n",
       "      <td>7.70</td>\n",
       "      <td>Léger (11 % MG)</td>\n",
       "    </tr>\n",
       "    <tr>\n",
       "      <th>275451</th>\n",
       "      <td>5202178003356</td>\n",
       "      <td>7.70</td>\n",
       "      <td>Original Griechischer Schafskäse Leicht</td>\n",
       "    </tr>\n",
       "    <tr>\n",
       "      <th>312032</th>\n",
       "      <td>8480017480958</td>\n",
       "      <td>29.40</td>\n",
       "      <td>Mascarpone (42% MG) - 250 g - Dia</td>\n",
       "    </tr>\n",
       "    <tr>\n",
       "      <th>222545</th>\n",
       "      <td>3282580008790</td>\n",
       "      <td>29.50</td>\n",
       "      <td>Bouchons du Lyonnais</td>\n",
       "    </tr>\n",
       "    <tr>\n",
       "      <th>220657</th>\n",
       "      <td>3272770094757</td>\n",
       "      <td>30.00</td>\n",
       "      <td>Tartare, Les Créations Fleur de Sel (36,5 % MG)</td>\n",
       "    </tr>\n",
       "    <tr>\n",
       "      <th>197844</th>\n",
       "      <td>3177890001770</td>\n",
       "      <td>30.00</td>\n",
       "      <td>Roquefort (32% MG)</td>\n",
       "    </tr>\n",
       "    <tr>\n",
       "      <th>223732</th>\n",
       "      <td>3294580948990</td>\n",
       "      <td>31.00</td>\n",
       "      <td>Tommette de Savoie (31 % MG)</td>\n",
       "    </tr>\n",
       "  </tbody>\n",
       "</table>\n",
       "</div>"
      ],
      "text/plain": [
       "                 code  saturated-fat_100g  \\\n",
       "291207  7612464364708                0.00   \n",
       "254083  3760151012471                0.00   \n",
       "235005  3480342917803                0.12   \n",
       "235022  3480347290017                0.12   \n",
       "235027  3480356262005                0.12   \n",
       "299104  7622300563240                2.20   \n",
       "216665  3263859401313                2.60   \n",
       "195540  3155250317914                3.50   \n",
       "195542  3155250321799                3.50   \n",
       "195547  3155250328651                4.00   \n",
       "217074  3263859711511                4.10   \n",
       "222761  3286151310107                4.30   \n",
       "228290  3358150003820                4.30   \n",
       "311226  8480000510396                4.50   \n",
       "243608  3564709015248                4.60   \n",
       "195548  3155250328668                5.00   \n",
       "182598       22139627                5.00   \n",
       "243601  3564709010236                5.00   \n",
       "220642  3272770093637                5.40   \n",
       "220661  3272770095334                5.40   \n",
       "220678  3272770097024                5.40   \n",
       "240065  3560070925544                5.80   \n",
       "177854       20097776                6.00   \n",
       "202041  3228024140206                6.00   \n",
       "230783  3396410221751                6.00   \n",
       "188415  3023260020233                6.40   \n",
       "299188  7622300745912                6.50   \n",
       "245647  3596710335589                6.50   \n",
       "245648  3596710335596                6.50   \n",
       "211065  3256224235705                6.80   \n",
       "307406  8410672000826                7.00   \n",
       "299168  7622300719302                7.20   \n",
       "277809  5410068237501                7.40   \n",
       "241412  3564700250297                7.50   \n",
       "203853  3245412246296                7.70   \n",
       "275451  5202178003356                7.70   \n",
       "312032  8480017480958               29.40   \n",
       "222545  3282580008790               29.50   \n",
       "220657  3272770094757               30.00   \n",
       "197844  3177890001770               30.00   \n",
       "223732  3294580948990               31.00   \n",
       "\n",
       "                                             product_name  \n",
       "291207                                 Fromage Le Tonneau  \n",
       "254083                          Fromage de Chèvre 1,2% MG  \n",
       "235005               Carré frais 0% poivre et baies roses  \n",
       "235022                  Carré Frais 0% Ail & Fines Herbes  \n",
       "235027          Carré Frais (0% MG) - 200 g - Elle & Vire  \n",
       "299104                                 Philadelphia light  \n",
       "216665                       Ligne fine à tartiner nature  \n",
       "195540                                Bridelight (5 % MG)  \n",
       "195542                          Bridelight (5%MG) - 350 g  \n",
       "195547               Bridelight (6 % MG) Fruité & Fondant  \n",
       "217074                                           Faiselle  \n",
       "222761               Fromages frais en faisselles (7% MG)  \n",
       "228290               Faisselle de Rians au lait de chèvre  \n",
       "311226                    Queso blanco pasteurizado light  \n",
       "243608                  Faisselle de la Bresse (7,4 % MG)  \n",
       "195548               Bridelight (8 % MG) Tendre & Fruité   \n",
       "182598                                         Mozzarella  \n",
       "243601                                    Brousse (7% MG)  \n",
       "220642                          St Morêt Ligne & Plaisir   \n",
       "220661          Ligne & Plaisir (8% MG) (format familial)  \n",
       "220678                           St Morêt Ligne & Plaisir  \n",
       "240065                         Mozzarella light* (9 % MG)  \n",
       "177854                       Mozzarella allégée (8,5% MG)  \n",
       "202041                       Président au Chèvre (28% MG)  \n",
       "230783     Fromage à tartiner ail & fines herbes (9 % MG)  \n",
       "188415                        100 % Brebis Léger (9 % MG)  \n",
       "299188          Philadelphia Saumon fumé & aneth (10% MG)  \n",
       "245647                      Cancoillotte à napper à l'ail  \n",
       "245648                                Cancoillotte nature  \n",
       "211065                               Fromage frais nature  \n",
       "307406                                   Mató del Pirineu  \n",
       "299168  Philadelphia Light Nature (11,5% MG) - 150 g -...  \n",
       "277809    Light Philadelphia, spécialité de fromage frais  \n",
       "241412                                   Léger (11 % MG)   \n",
       "203853                                   Léger (11 % MG)   \n",
       "275451            Original Griechischer Schafskäse Leicht  \n",
       "312032                  Mascarpone (42% MG) - 250 g - Dia  \n",
       "222545                               Bouchons du Lyonnais  \n",
       "220657    Tartare, Les Créations Fleur de Sel (36,5 % MG)  \n",
       "197844                                 Roquefort (32% MG)  \n",
       "223732                       Tommette de Savoie (31 % MG)  "
      ]
     },
     "metadata": {},
     "output_type": "display_data"
    },
    {
     "name": "stdout",
     "output_type": "stream",
     "text": [
      "41 Outliers détectés\n"
     ]
    },
    {
     "data": {
      "image/png": "[encoded data removed]",
      "text/plain": [
       "<Figure size 432x288 with 2 Axes>"
      ]
     },
     "metadata": {
      "needs_background": "light"
     },
     "output_type": "display_data"
    }
   ],
   "source": [
    "colName = 'saturated-fat_100g'\n",
    "pl.figure()\n",
    "pl.subplot(121)\n",
    "pl.title('Avant réduction')\n",
    "minClip, maxClip, nbOutliersBefore = displayOutliers(colName,dfReduct, True)\n",
    "print('{} Outliers détectés'.format(nbOutliersBefore))\n",
    "\n",
    "#correction manuelle pour saturated\n",
    "dfReduct.at[291207,colName] = 20.0\n",
    "\n",
    "pl.subplot(122)\n",
    "pl.title('Après réduction')\n",
    "clipOutliers(colName,dfReduct,minClip,maxClip)\n",
    "minClip, maxClip, nbOutliersAfter = displayOutliers(colName,dfReduct, False)\n",
    "pl.subplots_adjust(left=0.1,\n",
    "                    bottom=0.1, \n",
    "                    right=0.9, \n",
    "                    top=0.9, \n",
    "                    wspace=0.4, \n",
    "                    hspace=0.4)\n",
    "pl.show()"
   ]
  },
  {
   "cell_type": "code",
   "execution_count": 18,
   "id": "84d7c7d1",
   "metadata": {},
   "outputs": [
    {
     "data": {
      "text/html": [
       "<div>\n",
       "<style scoped>\n",
       "    .dataframe tbody tr th:only-of-type {\n",
       "        vertical-align: middle;\n",
       "    }\n",
       "\n",
       "    .dataframe tbody tr th {\n",
       "        vertical-align: top;\n",
       "    }\n",
       "\n",
       "    .dataframe thead th {\n",
       "        text-align: right;\n",
       "    }\n",
       "</style>\n",
       "<table border=\"1\" class=\"dataframe\">\n",
       "  <thead>\n",
       "    <tr style=\"text-align: right;\">\n",
       "      <th></th>\n",
       "      <th>code</th>\n",
       "      <th>proteins_100g</th>\n",
       "      <th>product_name</th>\n",
       "    </tr>\n",
       "  </thead>\n",
       "  <tbody>\n",
       "    <tr>\n",
       "      <th>220618</th>\n",
       "      <td>3272770003629</td>\n",
       "      <td>1.5</td>\n",
       "      <td>Tartare Ail &amp; Fines herbes</td>\n",
       "    </tr>\n",
       "    <tr>\n",
       "      <th>277024</th>\n",
       "      <td>5400247026507</td>\n",
       "      <td>1.7</td>\n",
       "      <td>Brie</td>\n",
       "    </tr>\n",
       "    <tr>\n",
       "      <th>299104</th>\n",
       "      <td>7622300563240</td>\n",
       "      <td>2.5</td>\n",
       "      <td>Philadelphia light</td>\n",
       "    </tr>\n",
       "    <tr>\n",
       "      <th>217074</th>\n",
       "      <td>3263859711511</td>\n",
       "      <td>3.2</td>\n",
       "      <td>Faiselle</td>\n",
       "    </tr>\n",
       "    <tr>\n",
       "      <th>312032</th>\n",
       "      <td>8480017480958</td>\n",
       "      <td>3.4</td>\n",
       "      <td>Mascarpone (42% MG) - 250 g - Dia</td>\n",
       "    </tr>\n",
       "    <tr>\n",
       "      <th>243608</th>\n",
       "      <td>3564709015248</td>\n",
       "      <td>3.6</td>\n",
       "      <td>Faisselle de la Bresse (7,4 % MG)</td>\n",
       "    </tr>\n",
       "    <tr>\n",
       "      <th>252215</th>\n",
       "      <td>3760056260496</td>\n",
       "      <td>3.8</td>\n",
       "      <td>Mascarpone</td>\n",
       "    </tr>\n",
       "    <tr>\n",
       "      <th>220630</th>\n",
       "      <td>3272770088770</td>\n",
       "      <td>4.0</td>\n",
       "      <td>Le coffret du Fromager</td>\n",
       "    </tr>\n",
       "    <tr>\n",
       "      <th>222761</th>\n",
       "      <td>3286151310107</td>\n",
       "      <td>4.4</td>\n",
       "      <td>Fromages frais en faisselles (7% MG)</td>\n",
       "    </tr>\n",
       "    <tr>\n",
       "      <th>216671</th>\n",
       "      <td>3263859404024</td>\n",
       "      <td>4.5</td>\n",
       "      <td>Mascarpone (40% MG) - 250 g - Leader Price</td>\n",
       "    </tr>\n",
       "    <tr>\n",
       "      <th>252216</th>\n",
       "      <td>3760056260502</td>\n",
       "      <td>4.5</td>\n",
       "      <td>Mascarpone (40 % MG)</td>\n",
       "    </tr>\n",
       "    <tr>\n",
       "      <th>301064</th>\n",
       "      <td>8000430172010</td>\n",
       "      <td>4.5</td>\n",
       "      <td>Mascarpone</td>\n",
       "    </tr>\n",
       "    <tr>\n",
       "      <th>248745</th>\n",
       "      <td>3660992006151</td>\n",
       "      <td>47.0</td>\n",
       "      <td>Fromage râpé italien (39 % MG)</td>\n",
       "    </tr>\n",
       "  </tbody>\n",
       "</table>\n",
       "</div>"
      ],
      "text/plain": [
       "                 code  proteins_100g  \\\n",
       "220618  3272770003629            1.5   \n",
       "277024  5400247026507            1.7   \n",
       "299104  7622300563240            2.5   \n",
       "217074  3263859711511            3.2   \n",
       "312032  8480017480958            3.4   \n",
       "243608  3564709015248            3.6   \n",
       "252215  3760056260496            3.8   \n",
       "220630  3272770088770            4.0   \n",
       "222761  3286151310107            4.4   \n",
       "216671  3263859404024            4.5   \n",
       "252216  3760056260502            4.5   \n",
       "301064  8000430172010            4.5   \n",
       "248745  3660992006151           47.0   \n",
       "\n",
       "                                      product_name  \n",
       "220618                  Tartare Ail & Fines herbes  \n",
       "277024                                        Brie  \n",
       "299104                          Philadelphia light  \n",
       "217074                                    Faiselle  \n",
       "312032           Mascarpone (42% MG) - 250 g - Dia  \n",
       "243608           Faisselle de la Bresse (7,4 % MG)  \n",
       "252215                                  Mascarpone  \n",
       "220630                      Le coffret du Fromager  \n",
       "222761        Fromages frais en faisselles (7% MG)  \n",
       "216671  Mascarpone (40% MG) - 250 g - Leader Price  \n",
       "252216                        Mascarpone (40 % MG)  \n",
       "301064                                  Mascarpone  \n",
       "248745              Fromage râpé italien (39 % MG)  "
      ]
     },
     "metadata": {},
     "output_type": "display_data"
    },
    {
     "name": "stdout",
     "output_type": "stream",
     "text": [
      "13 Outliers détectés\n"
     ]
    },
    {
     "data": {
      "image/png": "[encoded data removed]",
      "text/plain": [
       "<Figure size 432x288 with 2 Axes>"
      ]
     },
     "metadata": {
      "needs_background": "light"
     },
     "output_type": "display_data"
    }
   ],
   "source": [
    "colName = 'proteins_100g'\n",
    "pl.figure()\n",
    "pl.subplot(121)\n",
    "pl.title('Avant réduction')\n",
    "minClip, maxClip, nbOutliersBefore = displayOutliers(colName,dfReduct, True)\n",
    "print('{} Outliers détectés'.format(nbOutliersBefore))\n",
    "\n",
    "#correction manuelle pour proteins\n",
    "#dfReduct.at[277024,colName] = 17\n",
    "#dfReduct.at[299104,colName] = 8.3\n",
    "\n",
    "pl.subplot(122)\n",
    "pl.title('Après réduction')\n",
    "clipOutliers(colName,dfReduct,minClip,maxClip)\n",
    "minClip, maxClip, nbOutliersAfter = displayOutliers(colName,dfReduct, False)\n",
    "pl.subplots_adjust(left=0.1,\n",
    "                    bottom=0.1, \n",
    "                    right=0.9, \n",
    "                    top=0.9, \n",
    "                    wspace=0.4, \n",
    "                    hspace=0.4)\n",
    "pl.show()"
   ]
  },
  {
   "cell_type": "code",
   "execution_count": 19,
   "id": "6b5d145e",
   "metadata": {},
   "outputs": [
    {
     "data": {
      "text/html": [
       "<div>\n",
       "<style scoped>\n",
       "    .dataframe tbody tr th:only-of-type {\n",
       "        vertical-align: middle;\n",
       "    }\n",
       "\n",
       "    .dataframe tbody tr th {\n",
       "        vertical-align: top;\n",
       "    }\n",
       "\n",
       "    .dataframe thead th {\n",
       "        text-align: right;\n",
       "    }\n",
       "</style>\n",
       "<table border=\"1\" class=\"dataframe\">\n",
       "  <thead>\n",
       "    <tr style=\"text-align: right;\">\n",
       "      <th></th>\n",
       "      <th>code</th>\n",
       "      <th>salt_100g</th>\n",
       "      <th>product_name</th>\n",
       "    </tr>\n",
       "  </thead>\n",
       "  <tbody>\n",
       "    <tr>\n",
       "      <th>237163</th>\n",
       "      <td>3542864052018</td>\n",
       "      <td>0.0000</td>\n",
       "      <td>Comté bio</td>\n",
       "    </tr>\n",
       "    <tr>\n",
       "      <th>291207</th>\n",
       "      <td>7612464364708</td>\n",
       "      <td>0.0000</td>\n",
       "      <td>Fromage Le Tonneau</td>\n",
       "    </tr>\n",
       "    <tr>\n",
       "      <th>255261</th>\n",
       "      <td>3770001532271</td>\n",
       "      <td>0.0000</td>\n",
       "      <td>Briquette de l'écaillon dorée</td>\n",
       "    </tr>\n",
       "    <tr>\n",
       "      <th>200766</th>\n",
       "      <td>3222473443598</td>\n",
       "      <td>0.0000</td>\n",
       "      <td>Mozzarella</td>\n",
       "    </tr>\n",
       "    <tr>\n",
       "      <th>220642</th>\n",
       "      <td>3272770093637</td>\n",
       "      <td>0.0010</td>\n",
       "      <td>St Morêt Ligne &amp; Plaisir</td>\n",
       "    </tr>\n",
       "    <tr>\n",
       "      <th>...</th>\n",
       "      <td>...</td>\n",
       "      <td>...</td>\n",
       "      <td>...</td>\n",
       "    </tr>\n",
       "    <tr>\n",
       "      <th>201272</th>\n",
       "      <td>3222475318726</td>\n",
       "      <td>3.8100</td>\n",
       "      <td>Roquefort AOP Bio au lait cru de brebis (32 % MG)</td>\n",
       "    </tr>\n",
       "    <tr>\n",
       "      <th>199764</th>\n",
       "      <td>3222471018446</td>\n",
       "      <td>3.8100</td>\n",
       "      <td>Roquefort AOP (31 % MG)</td>\n",
       "    </tr>\n",
       "    <tr>\n",
       "      <th>205376</th>\n",
       "      <td>3250390175940</td>\n",
       "      <td>4.0000</td>\n",
       "      <td>Bleu des Causses AOP (30 % MG)</td>\n",
       "    </tr>\n",
       "    <tr>\n",
       "      <th>226547</th>\n",
       "      <td>3340040000019</td>\n",
       "      <td>4.2926</td>\n",
       "      <td>Quart de Vieux Lille</td>\n",
       "    </tr>\n",
       "    <tr>\n",
       "      <th>188457</th>\n",
       "      <td>3023260029632</td>\n",
       "      <td>6.3000</td>\n",
       "      <td>À saupoudrer (38% MG)</td>\n",
       "    </tr>\n",
       "  </tbody>\n",
       "</table>\n",
       "<p>100 rows × 3 columns</p>\n",
       "</div>"
      ],
      "text/plain": [
       "                 code  salt_100g  \\\n",
       "237163  3542864052018     0.0000   \n",
       "291207  7612464364708     0.0000   \n",
       "255261  3770001532271     0.0000   \n",
       "200766  3222473443598     0.0000   \n",
       "220642  3272770093637     0.0010   \n",
       "...               ...        ...   \n",
       "201272  3222475318726     3.8100   \n",
       "199764  3222471018446     3.8100   \n",
       "205376  3250390175940     4.0000   \n",
       "226547  3340040000019     4.2926   \n",
       "188457  3023260029632     6.3000   \n",
       "\n",
       "                                             product_name  \n",
       "237163                                          Comté bio  \n",
       "291207                                 Fromage Le Tonneau  \n",
       "255261                      Briquette de l'écaillon dorée  \n",
       "200766                                         Mozzarella  \n",
       "220642                          St Morêt Ligne & Plaisir   \n",
       "...                                                   ...  \n",
       "201272  Roquefort AOP Bio au lait cru de brebis (32 % MG)  \n",
       "199764                           Roquefort AOP (31 % MG)   \n",
       "205376                     Bleu des Causses AOP (30 % MG)  \n",
       "226547                               Quart de Vieux Lille  \n",
       "188457                              À saupoudrer (38% MG)  \n",
       "\n",
       "[100 rows x 3 columns]"
      ]
     },
     "metadata": {},
     "output_type": "display_data"
    },
    {
     "name": "stdout",
     "output_type": "stream",
     "text": [
      "100 Outliers détectés\n"
     ]
    },
    {
     "data": {
      "image/png": "[encoded data removed]",
      "text/plain": [
       "<Figure size 432x288 with 2 Axes>"
      ]
     },
     "metadata": {
      "needs_background": "light"
     },
     "output_type": "display_data"
    }
   ],
   "source": [
    "colName = 'salt_100g'\n",
    "pl.figure()\n",
    "pl.subplot(121)\n",
    "pl.title('Avant réduction')\n",
    "minClip, maxClip, nbOutliersBefore = displayOutliers(colName,dfReduct,True)\n",
    "print('{} Outliers détectés'.format(nbOutliersBefore))\n",
    "\n",
    "#correction manuelle pour salt\n",
    "#dfReduct.at[237163,colName] = 0.9\n",
    "#dfReduct.at[291207,colName] = 1.5\n",
    "#dfReduct.at[200766,colName] = 0.35\n",
    "\n",
    "pl.subplot(122)\n",
    "pl.title('Après réduction')\n",
    "clipOutliers(colName,dfReduct,minClip,maxClip)\n",
    "minClip, maxClip, nbOutliersAfter = displayOutliers(colName,dfReduct,False)\n",
    "pl.subplots_adjust(left=0.1,\n",
    "                    bottom=0.1, \n",
    "                    right=0.9, \n",
    "                    top=0.9, \n",
    "                    wspace=0.4, \n",
    "                    hspace=0.4)\n",
    "pl.show()"
   ]
  },
  {
   "cell_type": "code",
   "execution_count": 20,
   "id": "d7d2021a",
   "metadata": {},
   "outputs": [
    {
     "data": {
      "text/html": [
       "<div>\n",
       "<style scoped>\n",
       "    .dataframe tbody tr th:only-of-type {\n",
       "        vertical-align: middle;\n",
       "    }\n",
       "\n",
       "    .dataframe tbody tr th {\n",
       "        vertical-align: top;\n",
       "    }\n",
       "\n",
       "    .dataframe thead th {\n",
       "        text-align: right;\n",
       "    }\n",
       "</style>\n",
       "<table border=\"1\" class=\"dataframe\">\n",
       "  <thead>\n",
       "    <tr style=\"text-align: right;\">\n",
       "      <th></th>\n",
       "      <th>code</th>\n",
       "      <th>carbohydrates_100g</th>\n",
       "      <th>product_name</th>\n",
       "    </tr>\n",
       "  </thead>\n",
       "  <tbody>\n",
       "    <tr>\n",
       "      <th>230100</th>\n",
       "      <td>3387270120704</td>\n",
       "      <td>3.8</td>\n",
       "      <td>Brique du Velay (25 % MG)</td>\n",
       "    </tr>\n",
       "    <tr>\n",
       "      <th>220686</th>\n",
       "      <td>3272770097376</td>\n",
       "      <td>3.8</td>\n",
       "      <td>St Môret Apéritif 24 billes au coeur de pesto</td>\n",
       "    </tr>\n",
       "    <tr>\n",
       "      <th>233698</th>\n",
       "      <td>3450970024686</td>\n",
       "      <td>4.0</td>\n",
       "      <td>Emmental râpé (28% MG)</td>\n",
       "    </tr>\n",
       "    <tr>\n",
       "      <th>218408</th>\n",
       "      <td>3267031070885</td>\n",
       "      <td>4.0</td>\n",
       "      <td>Camembert à cuire au four</td>\n",
       "    </tr>\n",
       "    <tr>\n",
       "      <th>212392</th>\n",
       "      <td>3257980649188</td>\n",
       "      <td>4.0</td>\n",
       "      <td>Ail &amp; fines herbes (6,8 % MG)</td>\n",
       "    </tr>\n",
       "    <tr>\n",
       "      <th>...</th>\n",
       "      <td>...</td>\n",
       "      <td>...</td>\n",
       "      <td>...</td>\n",
       "    </tr>\n",
       "    <tr>\n",
       "      <th>199682</th>\n",
       "      <td>3222120008439</td>\n",
       "      <td>13.0</td>\n",
       "      <td>Chèvre chaud (21% MG)</td>\n",
       "    </tr>\n",
       "    <tr>\n",
       "      <th>200415</th>\n",
       "      <td>3222472764830</td>\n",
       "      <td>13.0</td>\n",
       "      <td>Fromages de chèvre à dorer</td>\n",
       "    </tr>\n",
       "    <tr>\n",
       "      <th>251691</th>\n",
       "      <td>3760025680188</td>\n",
       "      <td>15.0</td>\n",
       "      <td>U PECURINU</td>\n",
       "    </tr>\n",
       "    <tr>\n",
       "      <th>223726</th>\n",
       "      <td>3294580102019</td>\n",
       "      <td>21.0</td>\n",
       "      <td>Reblochon de Savoie AOP Fruitier</td>\n",
       "    </tr>\n",
       "    <tr>\n",
       "      <th>234580</th>\n",
       "      <td>3469370009575</td>\n",
       "      <td>32.2</td>\n",
       "      <td>Chèvre raisin blond (22% MG)</td>\n",
       "    </tr>\n",
       "  </tbody>\n",
       "</table>\n",
       "<p>64 rows × 3 columns</p>\n",
       "</div>"
      ],
      "text/plain": [
       "                 code  carbohydrates_100g  \\\n",
       "230100  3387270120704                 3.8   \n",
       "220686  3272770097376                 3.8   \n",
       "233698  3450970024686                 4.0   \n",
       "218408  3267031070885                 4.0   \n",
       "212392  3257980649188                 4.0   \n",
       "...               ...                 ...   \n",
       "199682  3222120008439                13.0   \n",
       "200415  3222472764830                13.0   \n",
       "251691  3760025680188                15.0   \n",
       "223726  3294580102019                21.0   \n",
       "234580  3469370009575                32.2   \n",
       "\n",
       "                                         product_name  \n",
       "230100                      Brique du Velay (25 % MG)  \n",
       "220686  St Môret Apéritif 24 billes au coeur de pesto  \n",
       "233698                         Emmental râpé (28% MG)  \n",
       "218408                      Camembert à cuire au four  \n",
       "212392                  Ail & fines herbes (6,8 % MG)  \n",
       "...                                               ...  \n",
       "199682                          Chèvre chaud (21% MG)  \n",
       "200415                     Fromages de chèvre à dorer  \n",
       "251691                                     U PECURINU  \n",
       "223726               Reblochon de Savoie AOP Fruitier  \n",
       "234580                   Chèvre raisin blond (22% MG)  \n",
       "\n",
       "[64 rows x 3 columns]"
      ]
     },
     "metadata": {},
     "output_type": "display_data"
    },
    {
     "name": "stdout",
     "output_type": "stream",
     "text": [
      "64 Outliers détectés\n"
     ]
    },
    {
     "data": {
      "image/png": "[encoded data removed]",
      "text/plain": [
       "<Figure size 432x288 with 2 Axes>"
      ]
     },
     "metadata": {
      "needs_background": "light"
     },
     "output_type": "display_data"
    }
   ],
   "source": [
    "colName = 'carbohydrates_100g'\n",
    "pl.figure()\n",
    "pl.subplot(121)\n",
    "pl.title('Avant réduction')\n",
    "minClip, maxClip, nbOutliersBefore = displayOutliers(colName,dfReduct,True)\n",
    "print('{} Outliers détectés'.format(nbOutliersBefore))\n",
    "\n",
    "#correction manuelle pour salt\n",
    "#dfReduct.at[223726,colName] = 0.5\n",
    "#dfReduct.at[251691,colName] = 1.5\n",
    "\n",
    "pl.subplot(122)\n",
    "pl.title('Après réduction')\n",
    "clipOutliers(colName,dfReduct,minClip,maxClip)\n",
    "minClip, maxClip, nbOutliersAfter = displayOutliers(colName,dfReduct,False)\n",
    "pl.subplots_adjust(left=0.1,\n",
    "                    bottom=0.1, \n",
    "                    right=0.9, \n",
    "                    top=0.9, \n",
    "                    wspace=0.4, \n",
    "                    hspace=0.4)\n",
    "pl.show()"
   ]
  },
  {
   "cell_type": "markdown",
   "id": "07d6e84e",
   "metadata": {},
   "source": [
    "### 3. Traitements des valeurs manquantes"
   ]
  },
  {
   "cell_type": "markdown",
   "id": "e7e6cf62",
   "metadata": {},
   "source": [
    "Ci dessous on peut voir les niveau d'occupation des variables.  \n",
    "Les lignes noires et blanches correspondent respectivement aux valeurs saisies et manquantes (NaN)."
   ]
  },
  {
   "cell_type": "code",
   "execution_count": 21,
   "id": "03ae00a7",
   "metadata": {},
   "outputs": [
    {
     "data": {
      "text/plain": [
       "<AxesSubplot:>"
      ]
     },
     "execution_count": 21,
     "metadata": {},
     "output_type": "execute_result"
    },
    {
     "data": {
      "image/png": "[encoded data removed]",
      "text/plain": [
       "<Figure size 1800x720 with 2 Axes>"
      ]
     },
     "metadata": {
      "needs_background": "light"
     },
     "output_type": "display_data"
    }
   ],
   "source": [
    "msno.matrix(dfReduct)"
   ]
  },
  {
   "cell_type": "markdown",
   "id": "b2f31cab",
   "metadata": {},
   "source": [
    "On va utiliser 3 méthodes pour imputer les valeurs manquantes :  \n",
    "1. On impute par la valeur mediane ou moyenne\n",
    "2. Si deux variables sont linéairement corrélées on peut déterminer l'une en fonction de l'autre\n",
    "3. On peut utiliser l'algorithme kNN des plus proches voisins"
   ]
  },
  {
   "cell_type": "markdown",
   "id": "fcaf20d7",
   "metadata": {},
   "source": [
    "Tout d'abord, on genere un DataFrame réduit en excluant les valeurs manquantes."
   ]
  },
  {
   "cell_type": "code",
   "execution_count": 22,
   "id": "828c9dac",
   "metadata": {},
   "outputs": [],
   "source": [
    "dfFull = dfReduct.dropna(inplace=False)"
   ]
  },
  {
   "cell_type": "markdown",
   "id": "6fa2dc41",
   "metadata": {},
   "source": [
    "#### a. Imputation des valeurs manquantes avec la valeurs moyenne ou médiane pour le taux de sel"
   ]
  },
  {
   "cell_type": "markdown",
   "id": "4a4572c8",
   "metadata": {},
   "source": [
    "On affiche l'histogramme du taux de sel. On voit que la dispersion est faible et que les valeurs moyennes et médianes sont proches (principalement car les outliers ont été enlevés ce qui réduit la forte dépendance de la moyenne)"
   ]
  },
  {
   "cell_type": "code",
   "execution_count": 23,
   "id": "08e51892",
   "metadata": {},
   "outputs": [
    {
     "name": "stdout",
     "output_type": "stream",
     "text": [
      "salt_100g : mean 1.47 median 1.5 std 0.543 std/mean 0.37\n"
     ]
    },
    {
     "data": {
      "image/png": "[encoded data removed]",
      "text/plain": [
       "<Figure size 432x288 with 1 Axes>"
      ]
     },
     "metadata": {
      "needs_background": "light"
     },
     "output_type": "display_data"
    }
   ],
   "source": [
    "# function to display histogram then dump statistical relevant values\n",
    "def getHistogramme(dataFrame, name, title) :\n",
    "    pl.xlabel(name)\n",
    "    pl.ylabel('Taux normalisé')\n",
    "    pl.title(title)\n",
    "    dataFrame[name].hist(density=True,grid=False,stacked=True)\n",
    "    mean = dataFrame[name].mean()\n",
    "    median = dataFrame[name].median()\n",
    "    std = dataFrame[name].std()\n",
    "    pl.axvline(x=mean,color='red',linestyle='-',label='moyenne')\n",
    "    pl.axvline(x=median,color='green',linestyle='-',label='mediane')\n",
    "    pl.legend()\n",
    "    print(\"{} : mean {:2.3} median {:2.3} std {:2.3} std/mean {:2.3}\".format(name,mean, median, std, std/mean))\n",
    "    return (mean, median, std)\n",
    "\n",
    "name = 'salt_100g'\n",
    "mean, median, std = getHistogramme(dfFull,name,'Taux de sel pour 100g')"
   ]
  },
  {
   "cell_type": "markdown",
   "id": "c94f982f",
   "metadata": {},
   "source": [
    "On affecte la valeur mediane aux valeurs manquantes pour le Sel"
   ]
  },
  {
   "cell_type": "code",
   "execution_count": 24,
   "id": "36eae99f",
   "metadata": {},
   "outputs": [],
   "source": [
    "dfReduct['salt_100g'].fillna(median,inplace=True)"
   ]
  },
  {
   "cell_type": "markdown",
   "id": "5db0f0e4",
   "metadata": {},
   "source": [
    "On vérifie sur le diagramme que la colonne taux de sel ne contient plus de valeurs manquantes."
   ]
  },
  {
   "cell_type": "code",
   "execution_count": 25,
   "id": "077357ab",
   "metadata": {},
   "outputs": [
    {
     "data": {
      "text/plain": [
       "<AxesSubplot:>"
      ]
     },
     "execution_count": 25,
     "metadata": {},
     "output_type": "execute_result"
    },
    {
     "data": {
      "image/png": "[encoded data removed]",
      "text/plain": [
       "<Figure size 1800x720 with 2 Axes>"
      ]
     },
     "metadata": {
      "needs_background": "light"
     },
     "output_type": "display_data"
    }
   ],
   "source": [
    "msno.matrix(dfReduct)"
   ]
  },
  {
   "cell_type": "markdown",
   "id": "637551b1",
   "metadata": {},
   "source": [
    "#### b. Imputations de valeurs manquantes par régression linéaire sur une variable."
   ]
  },
  {
   "cell_type": "markdown",
   "id": "403065eb",
   "metadata": {},
   "source": [
    "On affiche les correlations entre variables et on va appliquer la méthode au couple entre fat_100g et saturated-fat_100g "
   ]
  },
  {
   "cell_type": "code",
   "execution_count": 26,
   "id": "bb2c1891",
   "metadata": {},
   "outputs": [
    {
     "data": {
      "text/html": [
       "<div>\n",
       "<style scoped>\n",
       "    .dataframe tbody tr th:only-of-type {\n",
       "        vertical-align: middle;\n",
       "    }\n",
       "\n",
       "    .dataframe tbody tr th {\n",
       "        vertical-align: top;\n",
       "    }\n",
       "\n",
       "    .dataframe thead th {\n",
       "        text-align: right;\n",
       "    }\n",
       "</style>\n",
       "<table border=\"1\" class=\"dataframe\">\n",
       "  <thead>\n",
       "    <tr style=\"text-align: right;\">\n",
       "      <th></th>\n",
       "      <th>energy_100g</th>\n",
       "      <th>fat_100g</th>\n",
       "      <th>saturated-fat_100g</th>\n",
       "      <th>proteins_100g</th>\n",
       "      <th>salt_100g</th>\n",
       "      <th>carbohydrates_100g</th>\n",
       "    </tr>\n",
       "  </thead>\n",
       "  <tbody>\n",
       "    <tr>\n",
       "      <th>energy_100g</th>\n",
       "      <td>1.000000</td>\n",
       "      <td>0.919366</td>\n",
       "      <td>0.818642</td>\n",
       "      <td>0.459042</td>\n",
       "      <td>0.096039</td>\n",
       "      <td>-0.276848</td>\n",
       "    </tr>\n",
       "    <tr>\n",
       "      <th>fat_100g</th>\n",
       "      <td>0.919366</td>\n",
       "      <td>1.000000</td>\n",
       "      <td>0.920489</td>\n",
       "      <td>0.107725</td>\n",
       "      <td>0.079219</td>\n",
       "      <td>-0.097707</td>\n",
       "    </tr>\n",
       "    <tr>\n",
       "      <th>saturated-fat_100g</th>\n",
       "      <td>0.818642</td>\n",
       "      <td>0.920489</td>\n",
       "      <td>1.000000</td>\n",
       "      <td>0.065636</td>\n",
       "      <td>0.084864</td>\n",
       "      <td>-0.080819</td>\n",
       "    </tr>\n",
       "    <tr>\n",
       "      <th>proteins_100g</th>\n",
       "      <td>0.459042</td>\n",
       "      <td>0.107725</td>\n",
       "      <td>0.065636</td>\n",
       "      <td>1.000000</td>\n",
       "      <td>0.119042</td>\n",
       "      <td>-0.656875</td>\n",
       "    </tr>\n",
       "    <tr>\n",
       "      <th>salt_100g</th>\n",
       "      <td>0.096039</td>\n",
       "      <td>0.079219</td>\n",
       "      <td>0.084864</td>\n",
       "      <td>0.119042</td>\n",
       "      <td>1.000000</td>\n",
       "      <td>-0.256555</td>\n",
       "    </tr>\n",
       "    <tr>\n",
       "      <th>carbohydrates_100g</th>\n",
       "      <td>-0.276848</td>\n",
       "      <td>-0.097707</td>\n",
       "      <td>-0.080819</td>\n",
       "      <td>-0.656875</td>\n",
       "      <td>-0.256555</td>\n",
       "      <td>1.000000</td>\n",
       "    </tr>\n",
       "  </tbody>\n",
       "</table>\n",
       "</div>"
      ],
      "text/plain": [
       "                    energy_100g  fat_100g  saturated-fat_100g  proteins_100g  \\\n",
       "energy_100g            1.000000  0.919366            0.818642       0.459042   \n",
       "fat_100g               0.919366  1.000000            0.920489       0.107725   \n",
       "saturated-fat_100g     0.818642  0.920489            1.000000       0.065636   \n",
       "proteins_100g          0.459042  0.107725            0.065636       1.000000   \n",
       "salt_100g              0.096039  0.079219            0.084864       0.119042   \n",
       "carbohydrates_100g    -0.276848 -0.097707           -0.080819      -0.656875   \n",
       "\n",
       "                    salt_100g  carbohydrates_100g  \n",
       "energy_100g          0.096039           -0.276848  \n",
       "fat_100g             0.079219           -0.097707  \n",
       "saturated-fat_100g   0.084864           -0.080819  \n",
       "proteins_100g        0.119042           -0.656875  \n",
       "salt_100g            1.000000           -0.256555  \n",
       "carbohydrates_100g  -0.256555            1.000000  "
      ]
     },
     "execution_count": 26,
     "metadata": {},
     "output_type": "execute_result"
    }
   ],
   "source": [
    "dfFull.corr()"
   ]
  },
  {
   "cell_type": "markdown",
   "id": "0fd80af6",
   "metadata": {},
   "source": [
    "On remarque que saturated_fat possède plus de valeurs manquantes que fat."
   ]
  },
  {
   "cell_type": "code",
   "execution_count": 27,
   "id": "2e66123b",
   "metadata": {},
   "outputs": [
    {
     "data": {
      "text/plain": [
       "code                    0\n",
       "product_name            2\n",
       "categories_fr           0\n",
       "nutrition_grade_fr    457\n",
       "energy_100g           365\n",
       "fat_100g              144\n",
       "saturated-fat_100g    429\n",
       "proteins_100g         370\n",
       "salt_100g               0\n",
       "carbohydrates_100g    429\n",
       "dtype: int64"
      ]
     },
     "execution_count": 27,
     "metadata": {},
     "output_type": "execute_result"
    }
   ],
   "source": [
    "dfReduct.isna().sum()"
   ]
  },
  {
   "cell_type": "markdown",
   "id": "d20f71cc",
   "metadata": {},
   "source": [
    "On va utiliser la meme méthode pour imputer les valeurs manquantes de fat_100g.\n",
    "Puis, vu la forte corrélation entre fat_100g et saturated-fat on va determiner les valeurs manquantes de cette dernière en faisant une régression linéaire sur les valeurs de fat_100g"
   ]
  },
  {
   "cell_type": "markdown",
   "id": "38f356f4",
   "metadata": {},
   "source": [
    "On affiche un diagramme en point et on fit sur un modèle linéaire."
   ]
  },
  {
   "cell_type": "code",
   "execution_count": 28,
   "id": "8803c3a0",
   "metadata": {},
   "outputs": [
    {
     "data": {
      "image/png": "[encoded data removed]",
      "text/plain": [
       "<Figure size 432x288 with 1 Axes>"
      ]
     },
     "metadata": {
      "needs_background": "light"
     },
     "output_type": "display_data"
    }
   ],
   "source": [
    "from sklearn import linear_model\n",
    "regr = linear_model.LinearRegression()\n",
    "x = dfFull['fat_100g'].values.reshape(-1,1)\n",
    "y = dfFull['saturated-fat_100g'].values.reshape(-1,1)\n",
    "regr.fit(x, y)\n",
    "y_predict = regr.predict(x)\n",
    "pl.title('Taux de graisses saturées en fonction du taux de graisse')\n",
    "pl.xlabel('fat_100g')\n",
    "pl.ylabel('saturated-fat_100g')\n",
    "pl.scatter(x, y)\n",
    "pl.plot(x, y_predict, color='g',label='model')\n",
    "pl.legend()\n",
    "pl.show()"
   ]
  },
  {
   "cell_type": "markdown",
   "id": "f9027076",
   "metadata": {},
   "source": [
    "Sur le data frame complet on sélectionne les individus avec une valeur de fat connue et une valeur de saturated fat inconnue.  \n",
    "On fait la regression sur un nouveau data frame temporaire"
   ]
  },
  {
   "cell_type": "code",
   "execution_count": 29,
   "id": "33b1fa3f",
   "metadata": {},
   "outputs": [],
   "source": [
    "# selection des valeurs manquantes de saturated_fat en fonction de fat\n",
    "mask = ((~dfReduct['fat_100g'].isna() == True) & (dfReduct['saturated-fat_100g'].isna() == True))\n",
    "dfFull2 = dfReduct.loc[mask == True, ['fat_100g','saturated-fat_100g']]\n",
    "\n",
    "predictedSatFat = regr.predict(dfFull2['fat_100g'].values.reshape(-1,1))\n",
    "a = predictedSatFat.reshape(-1)\n",
    "\n",
    "# fill df2 fat-saturated according with predicted values\n",
    "for i, val in enumerate(a):\n",
    "    dfFull2.iloc[i,1] = val"
   ]
  },
  {
   "cell_type": "markdown",
   "id": "4715a2f3",
   "metadata": {},
   "source": [
    "On reporte les valeurs du data frame temporaire sur le data frame réduit"
   ]
  },
  {
   "cell_type": "code",
   "execution_count": 30,
   "id": "c7186a3f",
   "metadata": {},
   "outputs": [],
   "source": [
    "# report values in dfReduc dataset\n",
    "for i in range(len(dfFull2)):\n",
    "    dfReduct.loc[dfFull2.index[i],'saturated-fat_100g'] = dfFull2.iloc[i,1]"
   ]
  },
  {
   "cell_type": "markdown",
   "id": "69acdb06",
   "metadata": {},
   "source": [
    "On affiche maintemant l'histogramme de la variable fat et on va remplacer les dernieres valeurs manquantes de fat par la médiane comme dans le 1.  \n",
    "Puis on va affecter la valeur prédite de la médiane pour saturated fat"
   ]
  },
  {
   "cell_type": "code",
   "execution_count": 31,
   "id": "c8edf60a",
   "metadata": {},
   "outputs": [
    {
     "name": "stdout",
     "output_type": "stream",
     "text": [
      "fat_100g : mean 26.4 median 27.0 std 6.02 std/mean 0.228\n"
     ]
    },
    {
     "data": {
      "image/png": "[encoded data removed]",
      "text/plain": [
       "<Figure size 432x288 with 1 Axes>"
      ]
     },
     "metadata": {
      "needs_background": "light"
     },
     "output_type": "display_data"
    }
   ],
   "source": [
    "name = 'fat_100g'\n",
    "fatMean, fatMedian, fatStd = getHistogramme(dfFull,name,'Taux de gras pour 100g')"
   ]
  },
  {
   "cell_type": "code",
   "execution_count": 32,
   "id": "a72c6912",
   "metadata": {},
   "outputs": [],
   "source": [
    "# get median value for fat and predicted median one for saturated-fat and fill NaN values of dataset with them\n",
    "predSaturatedFatMedian = float(regr.predict([[fatMedian]]))\n",
    "dfReduct['fat_100g'].fillna(fatMedian,inplace=True)\n",
    "dfReduct['saturated-fat_100g'].fillna(predSaturatedFatMedian,inplace=True)"
   ]
  },
  {
   "cell_type": "markdown",
   "id": "f9b1573e",
   "metadata": {},
   "source": [
    "On affiche le diagramme et on voit que sel, fat et saturated fat n'ont plus de valeurs manquantes."
   ]
  },
  {
   "cell_type": "code",
   "execution_count": 33,
   "id": "f1d9f568",
   "metadata": {},
   "outputs": [
    {
     "data": {
      "text/plain": [
       "<AxesSubplot:>"
      ]
     },
     "execution_count": 33,
     "metadata": {},
     "output_type": "execute_result"
    },
    {
     "data": {
      "image/png": "[encoded data removed]",
      "text/plain": [
       "<Figure size 1800x720 with 2 Axes>"
      ]
     },
     "metadata": {
      "needs_background": "light"
     },
     "output_type": "display_data"
    }
   ],
   "source": [
    "msno.matrix(dfReduct)"
   ]
  },
  {
   "cell_type": "markdown",
   "id": "25cad87b",
   "metadata": {},
   "source": [
    "#### c. Remplissage des dernieres valeurs manquantes avec kNN"
   ]
  },
  {
   "cell_type": "markdown",
   "id": "95662066",
   "metadata": {},
   "source": [
    "On sauvegarde temporairement les variables informatives qu'on reportera a la fin"
   ]
  },
  {
   "cell_type": "code",
   "execution_count": 34,
   "id": "0696521c",
   "metadata": {},
   "outputs": [],
   "source": [
    "colToStore = ['code','product_name','categories_fr']\n",
    "dfBackup = dfReduct.loc[:,colToStore]\n",
    "dfReduct = dfReduct.drop(colToStore,axis=1)"
   ]
  },
  {
   "cell_type": "markdown",
   "id": "c7ed5ca6",
   "metadata": {},
   "source": [
    "On remplace les valeurs textuelles du nutrition score par des valeurs numériques"
   ]
  },
  {
   "cell_type": "code",
   "execution_count": 35,
   "id": "2b5de317",
   "metadata": {},
   "outputs": [],
   "source": [
    "dfReduct['nutrition_grade_fr'].replace(['a','b','c','d','e'],[0,1,2,3,4],inplace=True)"
   ]
  },
  {
   "cell_type": "markdown",
   "id": "27d48c17",
   "metadata": {},
   "source": [
    "On importe le module et on crée une instance."
   ]
  },
  {
   "cell_type": "code",
   "execution_count": 36,
   "id": "d5eee1b2",
   "metadata": {},
   "outputs": [],
   "source": [
    "from sklearn.impute import KNNImputer\n",
    "imputer = KNNImputer(n_neighbors=5, weights='uniform', metric='nan_euclidean')"
   ]
  },
  {
   "cell_type": "markdown",
   "id": "a2d1e9ec",
   "metadata": {},
   "source": [
    "On met au format NumPy puis on applique."
   ]
  },
  {
   "cell_type": "code",
   "execution_count": 37,
   "id": "b00c2e8f",
   "metadata": {},
   "outputs": [
    {
     "data": {
      "text/plain": [
       "(1731, 7)"
      ]
     },
     "execution_count": 37,
     "metadata": {},
     "output_type": "execute_result"
    }
   ],
   "source": [
    "X = dfReduct.to_numpy()\n",
    "imputer.fit(X)\n",
    "XTransf = imputer.transform(X)\n",
    "XTransf.shape"
   ]
  },
  {
   "cell_type": "markdown",
   "id": "8e2a26c8",
   "metadata": {},
   "source": [
    "On repasse au format Data Frame"
   ]
  },
  {
   "cell_type": "code",
   "execution_count": 38,
   "id": "27f1e588",
   "metadata": {},
   "outputs": [],
   "source": [
    "col = dfReduct.columns.tolist()\n",
    "lines = dfReduct.index.tolist()\n",
    "dfReduct = pd.DataFrame(XTransf,\n",
    "                 index=lines,\n",
    "                 columns=col)"
   ]
  },
  {
   "cell_type": "markdown",
   "id": "ea080308",
   "metadata": {},
   "source": [
    "On affiche le diagramme pour vérifier qu'il n'y à plus de valeurs manquantes."
   ]
  },
  {
   "cell_type": "code",
   "execution_count": 39,
   "id": "514d3ae1",
   "metadata": {},
   "outputs": [
    {
     "data": {
      "text/plain": [
       "<AxesSubplot:>"
      ]
     },
     "execution_count": 39,
     "metadata": {},
     "output_type": "execute_result"
    },
    {
     "data": {
      "image/png": "[encoded data removed]",
      "text/plain": [
       "<Figure size 1800x720 with 2 Axes>"
      ]
     },
     "metadata": {
      "needs_background": "light"
     },
     "output_type": "display_data"
    }
   ],
   "source": [
    "msno.matrix(dfReduct)"
   ]
  },
  {
   "cell_type": "markdown",
   "id": "85681c13",
   "metadata": {},
   "source": [
    "On arrondit les valeurs flottantes interpolées de nutrition score a l'entier"
   ]
  },
  {
   "cell_type": "code",
   "execution_count": 40,
   "id": "05fe37b5",
   "metadata": {},
   "outputs": [],
   "source": [
    "dfReduct = dfReduct.round({'nutrition_grade_fr': 0})"
   ]
  },
  {
   "cell_type": "markdown",
   "id": "3f115fcb",
   "metadata": {},
   "source": [
    "On reporte les colonnes précédement sauvegardées et on vérifie."
   ]
  },
  {
   "cell_type": "code",
   "execution_count": 41,
   "id": "c9993331",
   "metadata": {},
   "outputs": [
    {
     "data": {
      "text/html": [
       "<div>\n",
       "<style scoped>\n",
       "    .dataframe tbody tr th:only-of-type {\n",
       "        vertical-align: middle;\n",
       "    }\n",
       "\n",
       "    .dataframe tbody tr th {\n",
       "        vertical-align: top;\n",
       "    }\n",
       "\n",
       "    .dataframe thead th {\n",
       "        text-align: right;\n",
       "    }\n",
       "</style>\n",
       "<table border=\"1\" class=\"dataframe\">\n",
       "  <thead>\n",
       "    <tr style=\"text-align: right;\">\n",
       "      <th></th>\n",
       "      <th>code</th>\n",
       "      <th>product_name</th>\n",
       "      <th>categories_fr</th>\n",
       "      <th>nutrition_grade_fr</th>\n",
       "      <th>energy_100g</th>\n",
       "      <th>fat_100g</th>\n",
       "      <th>saturated-fat_100g</th>\n",
       "      <th>proteins_100g</th>\n",
       "      <th>salt_100g</th>\n",
       "      <th>carbohydrates_100g</th>\n",
       "    </tr>\n",
       "  </thead>\n",
       "  <tbody>\n",
       "    <tr>\n",
       "      <th>13537</th>\n",
       "      <td>00170529</td>\n",
       "      <td>Welsh Slate Cavern Aged Cheddar</td>\n",
       "      <td>Produits laitiers,Fromages,Fromages du Royaume...</td>\n",
       "      <td>3.0</td>\n",
       "      <td>1681.0</td>\n",
       "      <td>33.0</td>\n",
       "      <td>20.1</td>\n",
       "      <td>23.8</td>\n",
       "      <td>1.780</td>\n",
       "      <td>3.00</td>\n",
       "    </tr>\n",
       "    <tr>\n",
       "      <th>27419</th>\n",
       "      <td>0031506794322</td>\n",
       "      <td>Buffalo Wing</td>\n",
       "      <td>Produits laitiers,Fromages,Fromages du Royaume...</td>\n",
       "      <td>4.0</td>\n",
       "      <td>1640.0</td>\n",
       "      <td>32.1</td>\n",
       "      <td>17.9</td>\n",
       "      <td>21.4</td>\n",
       "      <td>2.450</td>\n",
       "      <td>3.57</td>\n",
       "    </tr>\n",
       "    <tr>\n",
       "      <th>99796</th>\n",
       "      <td>0079813000118</td>\n",
       "      <td>Boursin Ail &amp; Fines Herbes / Garlic &amp; Fine Herbs</td>\n",
       "      <td>Produits laitiers,Fromages,Fromages pasteurisés</td>\n",
       "      <td>3.0</td>\n",
       "      <td>1670.0</td>\n",
       "      <td>40.0</td>\n",
       "      <td>26.7</td>\n",
       "      <td>10.0</td>\n",
       "      <td>1.520</td>\n",
       "      <td>3.33</td>\n",
       "    </tr>\n",
       "    <tr>\n",
       "      <th>111081</th>\n",
       "      <td>0105400141270233103000350</td>\n",
       "      <td>Gouda vieux</td>\n",
       "      <td>Produits laitiers,Fromages,Fromages de vache,F...</td>\n",
       "      <td>3.0</td>\n",
       "      <td>1684.0</td>\n",
       "      <td>33.8</td>\n",
       "      <td>22.3</td>\n",
       "      <td>25.5</td>\n",
       "      <td>2.286</td>\n",
       "      <td>0.00</td>\n",
       "    </tr>\n",
       "    <tr>\n",
       "      <th>111663</th>\n",
       "      <td>01483246</td>\n",
       "      <td>Mozzarella cheese ball</td>\n",
       "      <td>Produits laitiers,Fromages,Fromages italiens,F...</td>\n",
       "      <td>2.0</td>\n",
       "      <td>1016.0</td>\n",
       "      <td>19.0</td>\n",
       "      <td>13.0</td>\n",
       "      <td>18.0</td>\n",
       "      <td>0.500</td>\n",
       "      <td>1.50</td>\n",
       "    </tr>\n",
       "  </tbody>\n",
       "</table>\n",
       "</div>"
      ],
      "text/plain": [
       "                             code  \\\n",
       "13537                    00170529   \n",
       "27419               0031506794322   \n",
       "99796               0079813000118   \n",
       "111081  0105400141270233103000350   \n",
       "111663                   01483246   \n",
       "\n",
       "                                            product_name  \\\n",
       "13537                    Welsh Slate Cavern Aged Cheddar   \n",
       "27419                                       Buffalo Wing   \n",
       "99796   Boursin Ail & Fines Herbes / Garlic & Fine Herbs   \n",
       "111081                                       Gouda vieux   \n",
       "111663                            Mozzarella cheese ball   \n",
       "\n",
       "                                            categories_fr  nutrition_grade_fr  \\\n",
       "13537   Produits laitiers,Fromages,Fromages du Royaume...                 3.0   \n",
       "27419   Produits laitiers,Fromages,Fromages du Royaume...                 4.0   \n",
       "99796     Produits laitiers,Fromages,Fromages pasteurisés                 3.0   \n",
       "111081  Produits laitiers,Fromages,Fromages de vache,F...                 3.0   \n",
       "111663  Produits laitiers,Fromages,Fromages italiens,F...                 2.0   \n",
       "\n",
       "        energy_100g  fat_100g  saturated-fat_100g  proteins_100g  salt_100g  \\\n",
       "13537        1681.0      33.0                20.1           23.8      1.780   \n",
       "27419        1640.0      32.1                17.9           21.4      2.450   \n",
       "99796        1670.0      40.0                26.7           10.0      1.520   \n",
       "111081       1684.0      33.8                22.3           25.5      2.286   \n",
       "111663       1016.0      19.0                13.0           18.0      0.500   \n",
       "\n",
       "        carbohydrates_100g  \n",
       "13537                 3.00  \n",
       "27419                 3.57  \n",
       "99796                 3.33  \n",
       "111081                0.00  \n",
       "111663                1.50  "
      ]
     },
     "execution_count": 41,
     "metadata": {},
     "output_type": "execute_result"
    }
   ],
   "source": [
    "dfFinal = pd.concat([dfBackup,dfReduct],axis=1)\n",
    "dfFinal.head()"
   ]
  },
  {
   "cell_type": "markdown",
   "id": "e71500fa",
   "metadata": {},
   "source": [
    "On sauvegarde le DataFrame final sous forme de fichier csv."
   ]
  },
  {
   "cell_type": "code",
   "execution_count": 42,
   "id": "75347dd6",
   "metadata": {},
   "outputs": [],
   "source": [
    "dfFinal.to_csv('P2_DataClean.csv',index=True,header=True,index_label=False)"
   ]
  },
  {
   "cell_type": "code",
   "execution_count": null,
   "id": "a654b6e0",
   "metadata": {},
   "outputs": [],
   "source": []
  }
 ],
 "metadata": {
  "kernelspec": {
   "display_name": "Python 3",
   "language": "python",
   "name": "python3"
  },
  "language_info": {
   "codemirror_mode": {
    "name": "ipython",
    "version": 3
   },
   "file_extension": ".py",
   "mimetype": "text/x-python",
   "name": "python",
   "nbconvert_exporter": "python",
   "pygments_lexer": "ipython3",
   "version": "3.7.10"
  }
 },
 "nbformat": 4,
 "nbformat_minor": 5
}
