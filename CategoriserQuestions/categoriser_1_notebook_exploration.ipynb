{
 "cells": [
  {
   "cell_type": "markdown",
   "id": "c4b84c34",
   "metadata": {},
   "source": [
    "## Notebook d'exploration - Projet 5 - David Depouez"
   ]
  },
  {
   "cell_type": "markdown",
   "id": "cb17aa2e",
   "metadata": {},
   "source": [
    "### 1. Importation et selection"
   ]
  },
  {
   "cell_type": "markdown",
   "id": "ec4a4ad4",
   "metadata": {},
   "source": [
    "Importation des modules et lecture du fichier de données"
   ]
  },
  {
   "cell_type": "code",
   "execution_count": 1,
   "id": "3810f4bd",
   "metadata": {},
   "outputs": [],
   "source": [
    "import pandas as pd\n",
    "import numpy as np\n",
    "import matplotlib.pyplot as plt"
   ]
  },
  {
   "cell_type": "markdown",
   "id": "cf4c06d0",
   "metadata": {},
   "source": [
    "Requette SQL pour obtenir les datas depuis stack overflow (https://data.stackexchange.com/stackoverflow/query/new).\n",
    "Le résultats est stocké dans un fichier QueryResults.csv"
   ]
  },
  {
   "cell_type": "markdown",
   "id": "d1ed5a7f",
   "metadata": {},
   "source": [
    "SELECT TOP 500000 Title, Body, Tags, Id, Score, ViewCount, FavoriteCount, AnswerCount FROM Posts WHERE AnswerCount > 0 AND LEN(Tags) - LEN(REPLACE(Tags, '<','')) >= 5"
   ]
  },
  {
   "cell_type": "code",
   "execution_count": 2,
   "id": "4bffe0ed",
   "metadata": {},
   "outputs": [
    {
     "name": "stdout",
     "output_type": "stream",
     "text": [
      "Output DataFrame filename will be : Cleaned-V3.csv\n"
     ]
    }
   ],
   "source": [
    "Version = 3\n",
    "\n",
    "filename = \"QueryResults.csv\"\n",
    "outputFilename = 'Cleaned-V' + str(Version) + \".csv\"\n",
    "\n",
    "print(\"Output DataFrame filename will be :\",outputFilename)"
   ]
  },
  {
   "cell_type": "code",
   "execution_count": 3,
   "id": "7abe250b",
   "metadata": {},
   "outputs": [],
   "source": [
    "path = \"./data/source/\"\n",
    "\n",
    "df = pd.read_csv(path+filename)"
   ]
  },
  {
   "cell_type": "code",
   "execution_count": 4,
   "id": "61796ab4",
   "metadata": {},
   "outputs": [
    {
     "data": {
      "text/html": [
       "<div>\n",
       "<style scoped>\n",
       "    .dataframe tbody tr th:only-of-type {\n",
       "        vertical-align: middle;\n",
       "    }\n",
       "\n",
       "    .dataframe tbody tr th {\n",
       "        vertical-align: top;\n",
       "    }\n",
       "\n",
       "    .dataframe thead th {\n",
       "        text-align: right;\n",
       "    }\n",
       "</style>\n",
       "<table border=\"1\" class=\"dataframe\">\n",
       "  <thead>\n",
       "    <tr style=\"text-align: right;\">\n",
       "      <th></th>\n",
       "      <th>Title</th>\n",
       "      <th>Body</th>\n",
       "      <th>Tags</th>\n",
       "      <th>Id</th>\n",
       "      <th>Score</th>\n",
       "      <th>ViewCount</th>\n",
       "      <th>FavoriteCount</th>\n",
       "      <th>AnswerCount</th>\n",
       "    </tr>\n",
       "  </thead>\n",
       "  <tbody>\n",
       "    <tr>\n",
       "      <th>0</th>\n",
       "      <td>After setting up IIS Express to recognize JSON...</td>\n",
       "      <td>&lt;p&gt;I've setup IIS Express to handle a .json fi...</td>\n",
       "      <td>&lt;javascript&gt;&lt;json&gt;&lt;iis&gt;&lt;express&gt;&lt;visual-studio...</td>\n",
       "      <td>19817529</td>\n",
       "      <td>0</td>\n",
       "      <td>232</td>\n",
       "      <td>NaN</td>\n",
       "      <td>2</td>\n",
       "    </tr>\n",
       "    <tr>\n",
       "      <th>1</th>\n",
       "      <td>Laravel 4 and Angular JS and Twitter Bootstrap...</td>\n",
       "      <td>&lt;p&gt;&lt;strong&gt;&lt;em&gt;Edit:&lt;/em&gt;&lt;/strong&gt;&lt;/p&gt;\\n\\n&lt;p&gt;I...</td>\n",
       "      <td>&lt;javascript&gt;&lt;angularjs&gt;&lt;laravel&gt;&lt;laravel-4&gt;&lt;tw...</td>\n",
       "      <td>19817540</td>\n",
       "      <td>2</td>\n",
       "      <td>7506</td>\n",
       "      <td>0.0</td>\n",
       "      <td>2</td>\n",
       "    </tr>\n",
       "    <tr>\n",
       "      <th>2</th>\n",
       "      <td>Adding an image to SQL database using Visual C#</td>\n",
       "      <td>&lt;p&gt;I am working on a visual C# program for ima...</td>\n",
       "      <td>&lt;c#&gt;&lt;asp.net&gt;&lt;sql&gt;&lt;sql-server&gt;&lt;winforms&gt;</td>\n",
       "      <td>19817552</td>\n",
       "      <td>5</td>\n",
       "      <td>31344</td>\n",
       "      <td>0.0</td>\n",
       "      <td>4</td>\n",
       "    </tr>\n",
       "    <tr>\n",
       "      <th>3</th>\n",
       "      <td>Accessing OpenCL GPU from windows 7 through ssh</td>\n",
       "      <td>&lt;p&gt;I have computers where I want to run OpenCL...</td>\n",
       "      <td>&lt;windows&gt;&lt;ssh&gt;&lt;opencl&gt;&lt;remote-access&gt;&lt;openssh&gt;</td>\n",
       "      <td>19817559</td>\n",
       "      <td>0</td>\n",
       "      <td>355</td>\n",
       "      <td>NaN</td>\n",
       "      <td>1</td>\n",
       "    </tr>\n",
       "    <tr>\n",
       "      <th>4</th>\n",
       "      <td>Slim Eloquent Relation does not work properly</td>\n",
       "      <td>&lt;p&gt;I am making some crud operations with Slim3...</td>\n",
       "      <td>&lt;php&gt;&lt;eloquent&gt;&lt;orm&gt;&lt;slim&gt;&lt;relation&gt;</td>\n",
       "      <td>57479977</td>\n",
       "      <td>0</td>\n",
       "      <td>150</td>\n",
       "      <td>0.0</td>\n",
       "      <td>1</td>\n",
       "    </tr>\n",
       "  </tbody>\n",
       "</table>\n",
       "</div>"
      ],
      "text/plain": [
       "                                               Title  \\\n",
       "0  After setting up IIS Express to recognize JSON...   \n",
       "1  Laravel 4 and Angular JS and Twitter Bootstrap...   \n",
       "2    Adding an image to SQL database using Visual C#   \n",
       "3    Accessing OpenCL GPU from windows 7 through ssh   \n",
       "4      Slim Eloquent Relation does not work properly   \n",
       "\n",
       "                                                Body  \\\n",
       "0  <p>I've setup IIS Express to handle a .json fi...   \n",
       "1  <p><strong><em>Edit:</em></strong></p>\\n\\n<p>I...   \n",
       "2  <p>I am working on a visual C# program for ima...   \n",
       "3  <p>I have computers where I want to run OpenCL...   \n",
       "4  <p>I am making some crud operations with Slim3...   \n",
       "\n",
       "                                                Tags        Id  Score  \\\n",
       "0  <javascript><json><iis><express><visual-studio...  19817529      0   \n",
       "1  <javascript><angularjs><laravel><laravel-4><tw...  19817540      2   \n",
       "2           <c#><asp.net><sql><sql-server><winforms>  19817552      5   \n",
       "3     <windows><ssh><opencl><remote-access><openssh>  19817559      0   \n",
       "4               <php><eloquent><orm><slim><relation>  57479977      0   \n",
       "\n",
       "   ViewCount  FavoriteCount  AnswerCount  \n",
       "0        232            NaN            2  \n",
       "1       7506            0.0            2  \n",
       "2      31344            0.0            4  \n",
       "3        355            NaN            1  \n",
       "4        150            0.0            1  "
      ]
     },
     "execution_count": 4,
     "metadata": {},
     "output_type": "execute_result"
    }
   ],
   "source": [
    "df.head()"
   ]
  },
  {
   "cell_type": "code",
   "execution_count": 5,
   "id": "b29d427e",
   "metadata": {},
   "outputs": [
    {
     "data": {
      "text/html": [
       "<div>\n",
       "<style scoped>\n",
       "    .dataframe tbody tr th:only-of-type {\n",
       "        vertical-align: middle;\n",
       "    }\n",
       "\n",
       "    .dataframe tbody tr th {\n",
       "        vertical-align: top;\n",
       "    }\n",
       "\n",
       "    .dataframe thead th {\n",
       "        text-align: right;\n",
       "    }\n",
       "</style>\n",
       "<table border=\"1\" class=\"dataframe\">\n",
       "  <thead>\n",
       "    <tr style=\"text-align: right;\">\n",
       "      <th></th>\n",
       "      <th>Title</th>\n",
       "      <th>Body</th>\n",
       "      <th>Tags</th>\n",
       "      <th>Id</th>\n",
       "      <th>Score</th>\n",
       "      <th>ViewCount</th>\n",
       "      <th>FavoriteCount</th>\n",
       "      <th>AnswerCount</th>\n",
       "    </tr>\n",
       "  </thead>\n",
       "  <tbody>\n",
       "    <tr>\n",
       "      <th>49995</th>\n",
       "      <td>Update State in React (Firebase) Undefined Value</td>\n",
       "      <td>&lt;p&gt;I'm creating a login page using Firebase. A...</td>\n",
       "      <td>&lt;authentication&gt;&lt;reactjs&gt;&lt;firebase&gt;&lt;redux&gt;&lt;set...</td>\n",
       "      <td>41293165</td>\n",
       "      <td>1</td>\n",
       "      <td>664</td>\n",
       "      <td>0.0</td>\n",
       "      <td>1</td>\n",
       "    </tr>\n",
       "    <tr>\n",
       "      <th>49996</th>\n",
       "      <td>How to integrate maven the right way into Ecli...</td>\n",
       "      <td>&lt;p&gt;I am new to maven. The main feature I benef...</td>\n",
       "      <td>&lt;eclipse&gt;&lt;version-control&gt;&lt;maven-2&gt;&lt;m2eclipse&gt;...</td>\n",
       "      <td>3603977</td>\n",
       "      <td>1</td>\n",
       "      <td>1386</td>\n",
       "      <td>0.0</td>\n",
       "      <td>2</td>\n",
       "    </tr>\n",
       "    <tr>\n",
       "      <th>49997</th>\n",
       "      <td>The old IN vs. Exists vs. Left Join (Where ___...</td>\n",
       "      <td>&lt;p&gt;I have found my self in quite a pickle. I h...</td>\n",
       "      <td>&lt;sql&gt;&lt;sql-server&gt;&lt;tsql&gt;&lt;join&gt;&lt;exists&gt;</td>\n",
       "      <td>3604042</td>\n",
       "      <td>2</td>\n",
       "      <td>3209</td>\n",
       "      <td>0.0</td>\n",
       "      <td>2</td>\n",
       "    </tr>\n",
       "    <tr>\n",
       "      <th>49998</th>\n",
       "      <td>Programmatically calling drag event from funct...</td>\n",
       "      <td>&lt;p&gt;I have following code in Javascript file.\\n...</td>\n",
       "      <td>&lt;javascript&gt;&lt;jquery&gt;&lt;jquery-ui&gt;&lt;jquery-events&gt;...</td>\n",
       "      <td>22294955</td>\n",
       "      <td>0</td>\n",
       "      <td>1606</td>\n",
       "      <td>NaN</td>\n",
       "      <td>2</td>\n",
       "    </tr>\n",
       "    <tr>\n",
       "      <th>49999</th>\n",
       "      <td>why cookies are always disabled in IE 10</td>\n",
       "      <td>&lt;p&gt;i am using&lt;/p&gt;\\n\\n&lt;pre&gt;&lt;code&gt; navigator.coo...</td>\n",
       "      <td>&lt;javascript&gt;&lt;jquery&gt;&lt;internet-explorer&gt;&lt;cookie...</td>\n",
       "      <td>22294960</td>\n",
       "      <td>0</td>\n",
       "      <td>202</td>\n",
       "      <td>NaN</td>\n",
       "      <td>1</td>\n",
       "    </tr>\n",
       "  </tbody>\n",
       "</table>\n",
       "</div>"
      ],
      "text/plain": [
       "                                                   Title  \\\n",
       "49995   Update State in React (Firebase) Undefined Value   \n",
       "49996  How to integrate maven the right way into Ecli...   \n",
       "49997  The old IN vs. Exists vs. Left Join (Where ___...   \n",
       "49998  Programmatically calling drag event from funct...   \n",
       "49999           why cookies are always disabled in IE 10   \n",
       "\n",
       "                                                    Body  \\\n",
       "49995  <p>I'm creating a login page using Firebase. A...   \n",
       "49996  <p>I am new to maven. The main feature I benef...   \n",
       "49997  <p>I have found my self in quite a pickle. I h...   \n",
       "49998  <p>I have following code in Javascript file.\\n...   \n",
       "49999  <p>i am using</p>\\n\\n<pre><code> navigator.coo...   \n",
       "\n",
       "                                                    Tags        Id  Score  \\\n",
       "49995  <authentication><reactjs><firebase><redux><set...  41293165      1   \n",
       "49996  <eclipse><version-control><maven-2><m2eclipse>...   3603977      1   \n",
       "49997              <sql><sql-server><tsql><join><exists>   3604042      2   \n",
       "49998  <javascript><jquery><jquery-ui><jquery-events>...  22294955      0   \n",
       "49999  <javascript><jquery><internet-explorer><cookie...  22294960      0   \n",
       "\n",
       "       ViewCount  FavoriteCount  AnswerCount  \n",
       "49995        664            0.0            1  \n",
       "49996       1386            0.0            2  \n",
       "49997       3209            0.0            2  \n",
       "49998       1606            NaN            2  \n",
       "49999        202            NaN            1  "
      ]
     },
     "execution_count": 5,
     "metadata": {},
     "output_type": "execute_result"
    }
   ],
   "source": [
    "df.tail()"
   ]
  },
  {
   "cell_type": "code",
   "execution_count": 6,
   "id": "392fd598",
   "metadata": {},
   "outputs": [
    {
     "data": {
      "text/html": [
       "<div>\n",
       "<style scoped>\n",
       "    .dataframe tbody tr th:only-of-type {\n",
       "        vertical-align: middle;\n",
       "    }\n",
       "\n",
       "    .dataframe tbody tr th {\n",
       "        vertical-align: top;\n",
       "    }\n",
       "\n",
       "    .dataframe thead th {\n",
       "        text-align: right;\n",
       "    }\n",
       "</style>\n",
       "<table border=\"1\" class=\"dataframe\">\n",
       "  <thead>\n",
       "    <tr style=\"text-align: right;\">\n",
       "      <th></th>\n",
       "      <th>Title</th>\n",
       "      <th>Body</th>\n",
       "      <th>Tags</th>\n",
       "      <th>Id</th>\n",
       "      <th>Score</th>\n",
       "      <th>ViewCount</th>\n",
       "      <th>FavoriteCount</th>\n",
       "      <th>AnswerCount</th>\n",
       "    </tr>\n",
       "  </thead>\n",
       "  <tbody>\n",
       "    <tr>\n",
       "      <th>20463</th>\n",
       "      <td>Updating a clockpicker input field using XML</td>\n",
       "      <td>&lt;p&gt;&lt;div class=\"snippet\" data-lang=\"js\" data-hi...</td>\n",
       "      <td>&lt;javascript&gt;&lt;jquery&gt;&lt;html&gt;&lt;xml&gt;&lt;error-handling&gt;</td>\n",
       "      <td>43458277</td>\n",
       "      <td>1</td>\n",
       "      <td>63</td>\n",
       "      <td>NaN</td>\n",
       "      <td>2</td>\n",
       "    </tr>\n",
       "    <tr>\n",
       "      <th>39931</th>\n",
       "      <td>LibGDX - Cannot get texture from FrameBuffer</td>\n",
       "      <td>&lt;p&gt;I try to implement some post-processing, so...</td>\n",
       "      <td>&lt;java&gt;&lt;android&gt;&lt;opengl-es-2.0&gt;&lt;libgdx&gt;&lt;framebu...</td>\n",
       "      <td>21978314</td>\n",
       "      <td>2</td>\n",
       "      <td>2053</td>\n",
       "      <td>NaN</td>\n",
       "      <td>1</td>\n",
       "    </tr>\n",
       "    <tr>\n",
       "      <th>32367</th>\n",
       "      <td>Choose build configuration for referenced subp...</td>\n",
       "      <td>&lt;p&gt;I have an iPhone project which references a...</td>\n",
       "      <td>&lt;iphone&gt;&lt;objective-c&gt;&lt;cocoa&gt;&lt;cocoa-touch&gt;&lt;xcode&gt;</td>\n",
       "      <td>3044675</td>\n",
       "      <td>1</td>\n",
       "      <td>212</td>\n",
       "      <td>0.0</td>\n",
       "      <td>1</td>\n",
       "    </tr>\n",
       "    <tr>\n",
       "      <th>48657</th>\n",
       "      <td>Attribute based vs. activity based access control</td>\n",
       "      <td>&lt;p&gt;What's the difference between &lt;strong&gt;attri...</td>\n",
       "      <td>&lt;authorization&gt;&lt;cloud&gt;&lt;soa&gt;&lt;xacml&gt;&lt;abac&gt;</td>\n",
       "      <td>22284869</td>\n",
       "      <td>4</td>\n",
       "      <td>1159</td>\n",
       "      <td>NaN</td>\n",
       "      <td>1</td>\n",
       "    </tr>\n",
       "    <tr>\n",
       "      <th>24810</th>\n",
       "      <td>feature selection for regression vs classifica...</td>\n",
       "      <td>&lt;p&gt;New to Machine learning so please bear with...</td>\n",
       "      <td>&lt;python-3.x&gt;&lt;machine-learning&gt;&lt;classification&gt;...</td>\n",
       "      <td>49031431</td>\n",
       "      <td>1</td>\n",
       "      <td>821</td>\n",
       "      <td>0.0</td>\n",
       "      <td>1</td>\n",
       "    </tr>\n",
       "    <tr>\n",
       "      <th>38562</th>\n",
       "      <td>Django Model not saving to MySQL (Maria DB) wh...</td>\n",
       "      <td>&lt;p&gt;My app (Django v 2.2.5) is using MySQL (Mar...</td>\n",
       "      <td>&lt;python&gt;&lt;mysql&gt;&lt;django&gt;&lt;mariadb&gt;&lt;mariadb-10.4&gt;</td>\n",
       "      <td>59305900</td>\n",
       "      <td>0</td>\n",
       "      <td>304</td>\n",
       "      <td>NaN</td>\n",
       "      <td>2</td>\n",
       "    </tr>\n",
       "    <tr>\n",
       "      <th>22202</th>\n",
       "      <td>Floating point accuracy and order of operations</td>\n",
       "      <td>&lt;p&gt;I'm writing a unit test for a class for 3D ...</td>\n",
       "      <td>&lt;floating-point&gt;&lt;language-agnostic&gt;&lt;precision&gt;...</td>\n",
       "      <td>63631639</td>\n",
       "      <td>0</td>\n",
       "      <td>620</td>\n",
       "      <td>NaN</td>\n",
       "      <td>2</td>\n",
       "    </tr>\n",
       "    <tr>\n",
       "      <th>23065</th>\n",
       "      <td>I want to create bootstrap image container and...</td>\n",
       "      <td>&lt;p&gt;I want to create bootstrap modal and image ...</td>\n",
       "      <td>&lt;asp.net&gt;&lt;.net&gt;&lt;twitter-bootstrap&gt;&lt;c#-4.0&gt;&lt;boo...</td>\n",
       "      <td>46644890</td>\n",
       "      <td>3</td>\n",
       "      <td>1376</td>\n",
       "      <td>0.0</td>\n",
       "      <td>2</td>\n",
       "    </tr>\n",
       "    <tr>\n",
       "      <th>38037</th>\n",
       "      <td>Ruby on Rails: Polymorphic Association, associ...</td>\n",
       "      <td>&lt;p&gt;I'm working on polymorphic association, but...</td>\n",
       "      <td>&lt;ruby-on-rails&gt;&lt;ruby&gt;&lt;ruby-on-rails-3&gt;&lt;associa...</td>\n",
       "      <td>21964782</td>\n",
       "      <td>0</td>\n",
       "      <td>155</td>\n",
       "      <td>NaN</td>\n",
       "      <td>1</td>\n",
       "    </tr>\n",
       "    <tr>\n",
       "      <th>16232</th>\n",
       "      <td>Gzip compression and decompression without any...</td>\n",
       "      <td>&lt;p&gt;I want to decompress a string in java which...</td>\n",
       "      <td>&lt;java&gt;&lt;python&gt;&lt;base64&gt;&lt;gzip&gt;&lt;compression&gt;</td>\n",
       "      <td>39037445</td>\n",
       "      <td>2</td>\n",
       "      <td>1733</td>\n",
       "      <td>NaN</td>\n",
       "      <td>1</td>\n",
       "    </tr>\n",
       "  </tbody>\n",
       "</table>\n",
       "</div>"
      ],
      "text/plain": [
       "                                                   Title  \\\n",
       "20463       Updating a clockpicker input field using XML   \n",
       "39931       LibGDX - Cannot get texture from FrameBuffer   \n",
       "32367  Choose build configuration for referenced subp...   \n",
       "48657  Attribute based vs. activity based access control   \n",
       "24810  feature selection for regression vs classifica...   \n",
       "38562  Django Model not saving to MySQL (Maria DB) wh...   \n",
       "22202    Floating point accuracy and order of operations   \n",
       "23065  I want to create bootstrap image container and...   \n",
       "38037  Ruby on Rails: Polymorphic Association, associ...   \n",
       "16232  Gzip compression and decompression without any...   \n",
       "\n",
       "                                                    Body  \\\n",
       "20463  <p><div class=\"snippet\" data-lang=\"js\" data-hi...   \n",
       "39931  <p>I try to implement some post-processing, so...   \n",
       "32367  <p>I have an iPhone project which references a...   \n",
       "48657  <p>What's the difference between <strong>attri...   \n",
       "24810  <p>New to Machine learning so please bear with...   \n",
       "38562  <p>My app (Django v 2.2.5) is using MySQL (Mar...   \n",
       "22202  <p>I'm writing a unit test for a class for 3D ...   \n",
       "23065  <p>I want to create bootstrap modal and image ...   \n",
       "38037  <p>I'm working on polymorphic association, but...   \n",
       "16232  <p>I want to decompress a string in java which...   \n",
       "\n",
       "                                                    Tags        Id  Score  \\\n",
       "20463    <javascript><jquery><html><xml><error-handling>  43458277      1   \n",
       "39931  <java><android><opengl-es-2.0><libgdx><framebu...  21978314      2   \n",
       "32367   <iphone><objective-c><cocoa><cocoa-touch><xcode>   3044675      1   \n",
       "48657           <authorization><cloud><soa><xacml><abac>  22284869      4   \n",
       "24810  <python-3.x><machine-learning><classification>...  49031431      1   \n",
       "38562     <python><mysql><django><mariadb><mariadb-10.4>  59305900      0   \n",
       "22202  <floating-point><language-agnostic><precision>...  63631639      0   \n",
       "23065  <asp.net><.net><twitter-bootstrap><c#-4.0><boo...  46644890      3   \n",
       "38037  <ruby-on-rails><ruby><ruby-on-rails-3><associa...  21964782      0   \n",
       "16232          <java><python><base64><gzip><compression>  39037445      2   \n",
       "\n",
       "       ViewCount  FavoriteCount  AnswerCount  \n",
       "20463         63            NaN            2  \n",
       "39931       2053            NaN            1  \n",
       "32367        212            0.0            1  \n",
       "48657       1159            NaN            1  \n",
       "24810        821            0.0            1  \n",
       "38562        304            NaN            2  \n",
       "22202        620            NaN            2  \n",
       "23065       1376            0.0            2  \n",
       "38037        155            NaN            1  \n",
       "16232       1733            NaN            1  "
      ]
     },
     "execution_count": 6,
     "metadata": {},
     "output_type": "execute_result"
    }
   ],
   "source": [
    "df.sample(10)"
   ]
  },
  {
   "cell_type": "code",
   "execution_count": 7,
   "id": "f8416b28",
   "metadata": {},
   "outputs": [
    {
     "name": "stdout",
     "output_type": "stream",
     "text": [
      "<class 'pandas.core.frame.DataFrame'>\n",
      "RangeIndex: 50000 entries, 0 to 49999\n",
      "Data columns (total 8 columns):\n",
      " #   Column         Non-Null Count  Dtype  \n",
      "---  ------         --------------  -----  \n",
      " 0   Title          50000 non-null  object \n",
      " 1   Body           50000 non-null  object \n",
      " 2   Tags           50000 non-null  object \n",
      " 3   Id             50000 non-null  int64  \n",
      " 4   Score          50000 non-null  int64  \n",
      " 5   ViewCount      50000 non-null  int64  \n",
      " 6   FavoriteCount  15890 non-null  float64\n",
      " 7   AnswerCount    50000 non-null  int64  \n",
      "dtypes: float64(1), int64(4), object(3)\n",
      "memory usage: 3.1+ MB\n"
     ]
    }
   ],
   "source": [
    "df.info()"
   ]
  },
  {
   "cell_type": "markdown",
   "id": "fc017dd2",
   "metadata": {},
   "source": [
    "On enlève les colonnes non pertinentes"
   ]
  },
  {
   "cell_type": "code",
   "execution_count": 8,
   "id": "bbe5152a",
   "metadata": {},
   "outputs": [],
   "source": [
    "def getCompCols(df,cols):\n",
    "    ### Get complements colons of cols for a dataframe df ###\n",
    "    ComplementCols =  [name for i,name in enumerate(df.columns) if name not in cols]\n",
    "    return ComplementCols"
   ]
  },
  {
   "cell_type": "code",
   "execution_count": 9,
   "id": "efb91764",
   "metadata": {},
   "outputs": [],
   "source": [
    "colsToKeep = ['Title','Body','Tags']\n",
    "colsToThrow = getCompCols(df,colsToKeep)\n",
    "df.drop(colsToThrow,axis=1,inplace=True)"
   ]
  },
  {
   "cell_type": "code",
   "execution_count": 10,
   "id": "5a987846",
   "metadata": {},
   "outputs": [
    {
     "name": "stdout",
     "output_type": "stream",
     "text": [
      "(50000, 3)\n"
     ]
    },
    {
     "data": {
      "text/html": [
       "<div>\n",
       "<style scoped>\n",
       "    .dataframe tbody tr th:only-of-type {\n",
       "        vertical-align: middle;\n",
       "    }\n",
       "\n",
       "    .dataframe tbody tr th {\n",
       "        vertical-align: top;\n",
       "    }\n",
       "\n",
       "    .dataframe thead th {\n",
       "        text-align: right;\n",
       "    }\n",
       "</style>\n",
       "<table border=\"1\" class=\"dataframe\">\n",
       "  <thead>\n",
       "    <tr style=\"text-align: right;\">\n",
       "      <th></th>\n",
       "      <th>Title</th>\n",
       "      <th>Body</th>\n",
       "      <th>Tags</th>\n",
       "    </tr>\n",
       "  </thead>\n",
       "  <tbody>\n",
       "    <tr>\n",
       "      <th>0</th>\n",
       "      <td>After setting up IIS Express to recognize JSON...</td>\n",
       "      <td>&lt;p&gt;I've setup IIS Express to handle a .json fi...</td>\n",
       "      <td>&lt;javascript&gt;&lt;json&gt;&lt;iis&gt;&lt;express&gt;&lt;visual-studio...</td>\n",
       "    </tr>\n",
       "    <tr>\n",
       "      <th>1</th>\n",
       "      <td>Laravel 4 and Angular JS and Twitter Bootstrap...</td>\n",
       "      <td>&lt;p&gt;&lt;strong&gt;&lt;em&gt;Edit:&lt;/em&gt;&lt;/strong&gt;&lt;/p&gt;\\n\\n&lt;p&gt;I...</td>\n",
       "      <td>&lt;javascript&gt;&lt;angularjs&gt;&lt;laravel&gt;&lt;laravel-4&gt;&lt;tw...</td>\n",
       "    </tr>\n",
       "    <tr>\n",
       "      <th>2</th>\n",
       "      <td>Adding an image to SQL database using Visual C#</td>\n",
       "      <td>&lt;p&gt;I am working on a visual C# program for ima...</td>\n",
       "      <td>&lt;c#&gt;&lt;asp.net&gt;&lt;sql&gt;&lt;sql-server&gt;&lt;winforms&gt;</td>\n",
       "    </tr>\n",
       "    <tr>\n",
       "      <th>3</th>\n",
       "      <td>Accessing OpenCL GPU from windows 7 through ssh</td>\n",
       "      <td>&lt;p&gt;I have computers where I want to run OpenCL...</td>\n",
       "      <td>&lt;windows&gt;&lt;ssh&gt;&lt;opencl&gt;&lt;remote-access&gt;&lt;openssh&gt;</td>\n",
       "    </tr>\n",
       "    <tr>\n",
       "      <th>4</th>\n",
       "      <td>Slim Eloquent Relation does not work properly</td>\n",
       "      <td>&lt;p&gt;I am making some crud operations with Slim3...</td>\n",
       "      <td>&lt;php&gt;&lt;eloquent&gt;&lt;orm&gt;&lt;slim&gt;&lt;relation&gt;</td>\n",
       "    </tr>\n",
       "  </tbody>\n",
       "</table>\n",
       "</div>"
      ],
      "text/plain": [
       "                                               Title  \\\n",
       "0  After setting up IIS Express to recognize JSON...   \n",
       "1  Laravel 4 and Angular JS and Twitter Bootstrap...   \n",
       "2    Adding an image to SQL database using Visual C#   \n",
       "3    Accessing OpenCL GPU from windows 7 through ssh   \n",
       "4      Slim Eloquent Relation does not work properly   \n",
       "\n",
       "                                                Body  \\\n",
       "0  <p>I've setup IIS Express to handle a .json fi...   \n",
       "1  <p><strong><em>Edit:</em></strong></p>\\n\\n<p>I...   \n",
       "2  <p>I am working on a visual C# program for ima...   \n",
       "3  <p>I have computers where I want to run OpenCL...   \n",
       "4  <p>I am making some crud operations with Slim3...   \n",
       "\n",
       "                                                Tags  \n",
       "0  <javascript><json><iis><express><visual-studio...  \n",
       "1  <javascript><angularjs><laravel><laravel-4><tw...  \n",
       "2           <c#><asp.net><sql><sql-server><winforms>  \n",
       "3     <windows><ssh><opencl><remote-access><openssh>  \n",
       "4               <php><eloquent><orm><slim><relation>  "
      ]
     },
     "execution_count": 10,
     "metadata": {},
     "output_type": "execute_result"
    }
   ],
   "source": [
    "print(df.shape)\n",
    "df.head()"
   ]
  },
  {
   "cell_type": "code",
   "execution_count": 11,
   "id": "5694e48a",
   "metadata": {},
   "outputs": [
    {
     "name": "stdout",
     "output_type": "stream",
     "text": [
      "<class 'pandas.core.frame.DataFrame'>\n",
      "RangeIndex: 50000 entries, 0 to 49999\n",
      "Data columns (total 3 columns):\n",
      " #   Column  Non-Null Count  Dtype \n",
      "---  ------  --------------  ----- \n",
      " 0   Title   50000 non-null  object\n",
      " 1   Body    50000 non-null  object\n",
      " 2   Tags    50000 non-null  object\n",
      "dtypes: object(3)\n",
      "memory usage: 1.1+ MB\n"
     ]
    }
   ],
   "source": [
    "df.info()"
   ]
  },
  {
   "cell_type": "code",
   "execution_count": 12,
   "id": "ea1f8fdf",
   "metadata": {},
   "outputs": [
    {
     "data": {
      "text/plain": [
       "Title    49998\n",
       "Body     49999\n",
       "Tags     48541\n",
       "dtype: int64"
      ]
     },
     "execution_count": 12,
     "metadata": {},
     "output_type": "execute_result"
    }
   ],
   "source": [
    "df.nunique()"
   ]
  },
  {
   "cell_type": "code",
   "execution_count": 13,
   "id": "2dfe6250",
   "metadata": {},
   "outputs": [
    {
     "data": {
      "text/plain": [
       "Title    0\n",
       "Body     0\n",
       "Tags     0\n",
       "dtype: int64"
      ]
     },
     "execution_count": 13,
     "metadata": {},
     "output_type": "execute_result"
    }
   ],
   "source": [
    "df.isna().sum()"
   ]
  },
  {
   "cell_type": "code",
   "execution_count": 14,
   "id": "4a12c4ae",
   "metadata": {},
   "outputs": [
    {
     "data": {
      "text/plain": [
       "False    50000\n",
       "dtype: int64"
      ]
     },
     "execution_count": 14,
     "metadata": {},
     "output_type": "execute_result"
    }
   ],
   "source": [
    "df.duplicated().value_counts()"
   ]
  },
  {
   "cell_type": "markdown",
   "id": "fdbedb6d",
   "metadata": {},
   "source": [
    "### 2. Nettoyage du DataFrame"
   ]
  },
  {
   "cell_type": "markdown",
   "id": "4982ccfc",
   "metadata": {},
   "source": [
    "Import de la librairie NLTK"
   ]
  },
  {
   "cell_type": "code",
   "execution_count": 15,
   "id": "25932f71",
   "metadata": {},
   "outputs": [
    {
     "name": "stderr",
     "output_type": "stream",
     "text": [
      "[nltk_data] Downloading package stopwords to\n",
      "[nltk_data]     C:\\Users\\vad\\AppData\\Roaming\\nltk_data...\n",
      "[nltk_data]   Package stopwords is already up-to-date!\n",
      "[nltk_data] Downloading package wordnet to\n",
      "[nltk_data]     C:\\Users\\vad\\AppData\\Roaming\\nltk_data...\n",
      "[nltk_data]   Package wordnet is already up-to-date!\n"
     ]
    }
   ],
   "source": [
    "import nltk\n",
    "#nltk.download('punkt')\n",
    "nltk.download('stopwords')\n",
    "nltk.download('wordnet')\n",
    "from nltk.tokenize import word_tokenize\n",
    "import re"
   ]
  },
  {
   "cell_type": "markdown",
   "id": "7c92e50b",
   "metadata": {},
   "source": [
    "Diverses fonctions de nettoyage du texte"
   ]
  },
  {
   "cell_type": "code",
   "execution_count": 16,
   "id": "b502513a",
   "metadata": {},
   "outputs": [],
   "source": [
    "# Tokenizer\n",
    "def tokenizer_fct(sentence) :\n",
    "    # print(sentence)\n",
    "    #sentence_clean = sentence.replace('-', ' ').replace('+', ' ').replace('/', ' ').replace('#', ' ')\n",
    "    sentence_clean = sentence.replace('-', ' ').replace('&', ' ').replace('/', ' ')\n",
    "    word_tokens = word_tokenize(sentence_clean)\n",
    "   \n",
    "    return word_tokens\n",
    "\n",
    "def retokenizer_fct(tokens) :\n",
    "    mwtokenizer = nltk.MWETokenizer(separator='')\n",
    "    mwtokenizer.add_mwe(('c', '#'))\n",
    "    word_tokens = mwtokenizer.tokenize(tokens)\n",
    "    \n",
    "    return word_tokens\n",
    "\n",
    "# Stop words\n",
    "from nltk.corpus import stopwords\n",
    "stop_w = list(set(stopwords.words('english'))) + ['[', ']', ',', '.', ':', '?', '(', ')',';','!','<','>']\n",
    "\n",
    "def stop_word_filter_fct(list_words) :\n",
    "    filtered_w = [w for w in list_words if not w in stop_w]\n",
    "    return filtered_w\n",
    "\n",
    "# lower case et alpha\n",
    "def lower_start_fct(list_words) :\n",
    "    lw = [w.lower() for w in list_words if (not w.startswith(\"@\")) \n",
    "    #                                   and (not w.startswith(\"#\"))\n",
    "                                       and (not w.startswith(\"http\"))]\n",
    "    return lw\n",
    "\n",
    "# Lemmatizer (base d'un mot)\n",
    "from nltk.stem import WordNetLemmatizer\n",
    "\n",
    "def lemma_fct(list_words) :\n",
    "    lemmatizer = WordNetLemmatizer()\n",
    "    lem_w = [lemmatizer.lemmatize(w) for w in list_words]\n",
    "    return lem_w\n",
    "\n",
    "# remove code and tags in pattern : <code> code </code>)\n",
    "def removeCodeMarkup(sentence):\n",
    "    codeMarkupRegEx = r'<code>(.*?)</code>'\n",
    "    #re.compile(codeMarkupRegEx,flag=re.DOTALL)\n",
    "    cleanText = re.sub(codeMarkupRegEx,'',sentence,flags=re.DOTALL)\n",
    "    return cleanText\n",
    "\n",
    "# remove html tags\n",
    "def removeHTML(sentence):\n",
    "    htmlMarkupRegEx = '<.*?>'\n",
    "    cleanText = re.sub(htmlMarkupRegEx,'',sentence)\n",
    "    return cleanText\n",
    "\n",
    "# Fonction de préparation du texte pour le bag of words avec lemmatization\n",
    "def transform_bow_lem_fct(desc_text) :\n",
    "    sentence = removeCodeMarkup(desc_text)\n",
    "    sentence = removeHTML(sentence)\n",
    "    word_tokens = tokenizer_fct(sentence)\n",
    "    lw = lower_start_fct(word_tokens)\n",
    "    sw = stop_word_filter_fct(lw)\n",
    "    re_sw = retokenizer_fct(sw)\n",
    "    lem_w = lemma_fct(re_sw)    \n",
    "    transf_desc_text = ' '.join(lem_w)\n",
    "    return transf_desc_text\n",
    "\n",
    "# Fonction de préparation du texte pour le Deep learning (USE et BERT)\n",
    "def transform_dl_fct(desc_text) :\n",
    "    sentence = removeCodeMarkup(desc_text)\n",
    "    sentence = removeHTML(sentence)\n",
    "    word_tokens = tokenizer_fct(sentence)\n",
    "#    sw = stop_word_filter_fct(word_tokens)\n",
    "    lw = lower_start_fct(word_tokens)\n",
    "    # lem_w = lemma_fct(lw)    \n",
    "    transf_desc_text = ' '.join(lw)\n",
    "    return transf_desc_text\n"
   ]
  },
  {
   "cell_type": "markdown",
   "id": "be4fa716",
   "metadata": {},
   "source": [
    "#### Nettoyage avec lemmatisation (pour Sac de mots et Word2Vect)"
   ]
  },
  {
   "cell_type": "code",
   "execution_count": 17,
   "id": "5dcd559a",
   "metadata": {},
   "outputs": [],
   "source": [
    "df['Title_clean_lem'] = df['Title'].apply(lambda x : transform_bow_lem_fct(x))\n",
    "df['Body_clean_lem'] = df['Body'].apply(lambda x : transform_bow_lem_fct(x))"
   ]
  },
  {
   "cell_type": "markdown",
   "id": "07fea919",
   "metadata": {},
   "source": [
    "#### Nettoyage sans lemmatisation (pour BERT et USE)"
   ]
  },
  {
   "cell_type": "code",
   "execution_count": 18,
   "id": "f552f784",
   "metadata": {},
   "outputs": [],
   "source": [
    "df['Title_clean'] = df['Title'].apply(lambda x : transform_dl_fct(x))\n",
    "df['Body_clean'] = df['Body'].apply(lambda x : transform_dl_fct(x))"
   ]
  },
  {
   "cell_type": "markdown",
   "id": "8633bd41",
   "metadata": {},
   "source": [
    "#### Récuperation du premier tag fourni"
   ]
  },
  {
   "cell_type": "code",
   "execution_count": 19,
   "id": "b9a3d428",
   "metadata": {},
   "outputs": [],
   "source": [
    "def extractFirstTag(rawTags):\n",
    "    tags = rawTags.replace('>',' ').replace('<',' ')\n",
    "    tagsList = tags.split()\n",
    "    tag = tagsList[0]\n",
    "    return tag"
   ]
  },
  {
   "cell_type": "markdown",
   "id": "19477955",
   "metadata": {},
   "source": [
    "Nouvelle colonne avec le tag principal (cela sera notre label pour les modèles avec apprentissage supervisé)"
   ]
  },
  {
   "cell_type": "code",
   "execution_count": 20,
   "id": "0e56ade5",
   "metadata": {},
   "outputs": [],
   "source": [
    "df['First_tag'] = df['Tags'].apply(lambda x : extractFirstTag(x))"
   ]
  },
  {
   "cell_type": "markdown",
   "id": "239b86e8",
   "metadata": {},
   "source": [
    "#### Valeurs manquantes"
   ]
  },
  {
   "cell_type": "code",
   "execution_count": 21,
   "id": "578c3547",
   "metadata": {},
   "outputs": [
    {
     "data": {
      "text/plain": [
       "Title              0\n",
       "Body               0\n",
       "Tags               0\n",
       "Title_clean_lem    0\n",
       "Body_clean_lem     0\n",
       "Title_clean        0\n",
       "Body_clean         0\n",
       "First_tag          0\n",
       "dtype: int64"
      ]
     },
     "execution_count": 21,
     "metadata": {},
     "output_type": "execute_result"
    }
   ],
   "source": [
    "df.isna().sum()"
   ]
  },
  {
   "cell_type": "code",
   "execution_count": 22,
   "id": "8da4ffa7",
   "metadata": {},
   "outputs": [
    {
     "data": {
      "text/plain": [
       "False    50000\n",
       "dtype: int64"
      ]
     },
     "execution_count": 22,
     "metadata": {},
     "output_type": "execute_result"
    }
   ],
   "source": [
    "mask = df['Body_clean'].isna() | df['Body_clean_lem'].isna() | df['First_tag'].isna()\n",
    "mask.value_counts()\n",
    "#df.loc[mask == True,:]"
   ]
  },
  {
   "cell_type": "code",
   "execution_count": 23,
   "id": "db8f59bf",
   "metadata": {},
   "outputs": [
    {
     "name": "stdout",
     "output_type": "stream",
     "text": [
      "<class 'pandas.core.frame.DataFrame'>\n",
      "RangeIndex: 50000 entries, 0 to 49999\n",
      "Data columns (total 8 columns):\n",
      " #   Column           Non-Null Count  Dtype \n",
      "---  ------           --------------  ----- \n",
      " 0   Title            50000 non-null  object\n",
      " 1   Body             50000 non-null  object\n",
      " 2   Tags             50000 non-null  object\n",
      " 3   Title_clean_lem  50000 non-null  object\n",
      " 4   Body_clean_lem   50000 non-null  object\n",
      " 5   Title_clean      50000 non-null  object\n",
      " 6   Body_clean       50000 non-null  object\n",
      " 7   First_tag        50000 non-null  object\n",
      "dtypes: object(8)\n",
      "memory usage: 3.1+ MB\n"
     ]
    }
   ],
   "source": [
    "df.info()"
   ]
  },
  {
   "cell_type": "markdown",
   "id": "8aafe704",
   "metadata": {},
   "source": [
    "On affiche les vingt tags les plus fréquents"
   ]
  },
  {
   "cell_type": "code",
   "execution_count": 24,
   "id": "496a4d95",
   "metadata": {},
   "outputs": [
    {
     "data": {
      "text/plain": [
       "javascript       6726\n",
       "java             5941\n",
       "c#               5503\n",
       "python           4340\n",
       "php              3035\n",
       "c++              2336\n",
       "ios              2106\n",
       "android          1790\n",
       "sql               928\n",
       "c                 868\n",
       "html              768\n",
       "ruby-on-rails     694\n",
       "jquery            623\n",
       ".net              600\n",
       "node.js           566\n",
       "iphone            562\n",
       "mysql             513\n",
       "asp.net           482\n",
       "linux             469\n",
       "r                 442\n",
       "Name: First_tag, dtype: int64"
      ]
     },
     "execution_count": 24,
     "metadata": {},
     "output_type": "execute_result"
    }
   ],
   "source": [
    "df['First_tag'].value_counts().iloc[:20]"
   ]
  },
  {
   "cell_type": "code",
   "execution_count": 25,
   "id": "f0f280f7",
   "metadata": {},
   "outputs": [],
   "source": [
    "dfFull = df.copy()"
   ]
  },
  {
   "cell_type": "markdown",
   "id": "870c44db",
   "metadata": {},
   "source": [
    "On supprime les colonnes non traitées"
   ]
  },
  {
   "cell_type": "code",
   "execution_count": 26,
   "id": "6b1c0d16",
   "metadata": {},
   "outputs": [],
   "source": [
    "colsToThrow = ['Title','Body','Tags']\n",
    "df.drop(colsToThrow,axis=1,inplace=True)"
   ]
  },
  {
   "cell_type": "code",
   "execution_count": 27,
   "id": "5561f7bb",
   "metadata": {},
   "outputs": [
    {
     "data": {
      "text/plain": [
       "(50000, 5)"
      ]
     },
     "execution_count": 27,
     "metadata": {},
     "output_type": "execute_result"
    }
   ],
   "source": [
    "df.shape"
   ]
  },
  {
   "cell_type": "markdown",
   "id": "2186279e",
   "metadata": {},
   "source": [
    "On concatène les titres et corps de texte"
   ]
  },
  {
   "cell_type": "code",
   "execution_count": 28,
   "id": "d03d7550",
   "metadata": {},
   "outputs": [],
   "source": [
    "df['Text'] = df['Title_clean'] + ' ' + df['Body_clean']\n",
    "df['Text_lem'] = df['Title_clean_lem'] + ' ' + df['Body_clean_lem']"
   ]
  },
  {
   "cell_type": "code",
   "execution_count": 29,
   "id": "57171b83",
   "metadata": {},
   "outputs": [
    {
     "data": {
      "text/plain": [
       "(50000, 7)"
      ]
     },
     "execution_count": 29,
     "metadata": {},
     "output_type": "execute_result"
    }
   ],
   "source": [
    "df.shape"
   ]
  },
  {
   "cell_type": "markdown",
   "id": "b0891480",
   "metadata": {},
   "source": [
    "On supprime les colonnes intermediaires"
   ]
  },
  {
   "cell_type": "code",
   "execution_count": 30,
   "id": "a999ff80",
   "metadata": {},
   "outputs": [],
   "source": [
    "colsToThrow = ['Title_clean','Body_clean','Title_clean_lem','Body_clean_lem']\n",
    "df.drop(colsToThrow,axis=1,inplace=True)"
   ]
  },
  {
   "cell_type": "code",
   "execution_count": 31,
   "id": "7855ab3f",
   "metadata": {},
   "outputs": [
    {
     "data": {
      "text/html": [
       "<div>\n",
       "<style scoped>\n",
       "    .dataframe tbody tr th:only-of-type {\n",
       "        vertical-align: middle;\n",
       "    }\n",
       "\n",
       "    .dataframe tbody tr th {\n",
       "        vertical-align: top;\n",
       "    }\n",
       "\n",
       "    .dataframe thead th {\n",
       "        text-align: right;\n",
       "    }\n",
       "</style>\n",
       "<table border=\"1\" class=\"dataframe\">\n",
       "  <thead>\n",
       "    <tr style=\"text-align: right;\">\n",
       "      <th></th>\n",
       "      <th>First_tag</th>\n",
       "      <th>Text</th>\n",
       "      <th>Text_lem</th>\n",
       "    </tr>\n",
       "  </thead>\n",
       "  <tbody>\n",
       "    <tr>\n",
       "      <th>0</th>\n",
       "      <td>javascript</td>\n",
       "      <td>after setting up iis express to recognize json...</td>\n",
       "      <td>setting ii express recognize json file type v ...</td>\n",
       "    </tr>\n",
       "    <tr>\n",
       "      <th>1</th>\n",
       "      <td>javascript</td>\n",
       "      <td>laravel 4 and angular js and twitter bootstrap...</td>\n",
       "      <td>laravel 4 angular j twitter bootstrap 3 pagina...</td>\n",
       "    </tr>\n",
       "    <tr>\n",
       "      <th>2</th>\n",
       "      <td>c#</td>\n",
       "      <td>adding an image to sql database using visual c...</td>\n",
       "      <td>adding image sql database using visual c# work...</td>\n",
       "    </tr>\n",
       "    <tr>\n",
       "      <th>3</th>\n",
       "      <td>windows</td>\n",
       "      <td>accessing opencl gpu from windows 7 through ss...</td>\n",
       "      <td>accessing opencl gpu window 7 ssh computer wan...</td>\n",
       "    </tr>\n",
       "    <tr>\n",
       "      <th>4</th>\n",
       "      <td>php</td>\n",
       "      <td>slim eloquent relation does not work properly ...</td>\n",
       "      <td>slim eloquent relation work properly making cr...</td>\n",
       "    </tr>\n",
       "  </tbody>\n",
       "</table>\n",
       "</div>"
      ],
      "text/plain": [
       "    First_tag                                               Text  \\\n",
       "0  javascript  after setting up iis express to recognize json...   \n",
       "1  javascript  laravel 4 and angular js and twitter bootstrap...   \n",
       "2          c#  adding an image to sql database using visual c...   \n",
       "3     windows  accessing opencl gpu from windows 7 through ss...   \n",
       "4         php  slim eloquent relation does not work properly ...   \n",
       "\n",
       "                                            Text_lem  \n",
       "0  setting ii express recognize json file type v ...  \n",
       "1  laravel 4 angular j twitter bootstrap 3 pagina...  \n",
       "2  adding image sql database using visual c# work...  \n",
       "3  accessing opencl gpu window 7 ssh computer wan...  \n",
       "4  slim eloquent relation work properly making cr...  "
      ]
     },
     "execution_count": 31,
     "metadata": {},
     "output_type": "execute_result"
    }
   ],
   "source": [
    "df.head()"
   ]
  },
  {
   "cell_type": "markdown",
   "id": "f0fa11fd",
   "metadata": {},
   "source": [
    "#### On selectionne les entrées dès dix tags les plus fréquents"
   ]
  },
  {
   "cell_type": "code",
   "execution_count": 32,
   "id": "d46270e8",
   "metadata": {},
   "outputs": [
    {
     "data": {
      "text/plain": [
       "['javascript',\n",
       " 'java',\n",
       " 'c#',\n",
       " 'python',\n",
       " 'php',\n",
       " 'c++',\n",
       " 'ios',\n",
       " 'android',\n",
       " 'sql',\n",
       " 'c']"
      ]
     },
     "execution_count": 32,
     "metadata": {},
     "output_type": "execute_result"
    }
   ],
   "source": [
    "restrictTagList = df['First_tag'].value_counts().iloc[:10].index.tolist()\n",
    "restrictTagList"
   ]
  },
  {
   "cell_type": "code",
   "execution_count": 33,
   "id": "d22db1b9",
   "metadata": {},
   "outputs": [
    {
     "name": "stdout",
     "output_type": "stream",
     "text": [
      "(33573, 3)\n"
     ]
    }
   ],
   "source": [
    "mask = []\n",
    "for i in range(len(df)):\n",
    "    str = df.loc[i,'First_tag']\n",
    "    if str in restrictTagList :\n",
    "        mask.append(True)\n",
    "    else:\n",
    "        mask.append(False)\n",
    "        \n",
    "mask = pd.Series(mask)\n",
    "dfReduct = df.loc[mask == True,:]\n",
    "print(dfReduct.shape)"
   ]
  },
  {
   "cell_type": "markdown",
   "id": "12d56537",
   "metadata": {},
   "source": [
    "on réinitialise les index"
   ]
  },
  {
   "cell_type": "code",
   "execution_count": 34,
   "id": "df478675",
   "metadata": {},
   "outputs": [],
   "source": [
    "dfReduct.reset_index(drop=True,inplace=True)"
   ]
  },
  {
   "cell_type": "code",
   "execution_count": 35,
   "id": "dae78624",
   "metadata": {},
   "outputs": [
    {
     "name": "stdout",
     "output_type": "stream",
     "text": [
      "<class 'pandas.core.frame.DataFrame'>\n",
      "RangeIndex: 33573 entries, 0 to 33572\n",
      "Data columns (total 3 columns):\n",
      " #   Column     Non-Null Count  Dtype \n",
      "---  ------     --------------  ----- \n",
      " 0   First_tag  33573 non-null  object\n",
      " 1   Text       33573 non-null  object\n",
      " 2   Text_lem   33573 non-null  object\n",
      "dtypes: object(3)\n",
      "memory usage: 787.0+ KB\n"
     ]
    }
   ],
   "source": [
    "dfReduct.info()"
   ]
  },
  {
   "cell_type": "code",
   "execution_count": 36,
   "id": "e1e9455c",
   "metadata": {},
   "outputs": [
    {
     "data": {
      "text/html": [
       "<div>\n",
       "<style scoped>\n",
       "    .dataframe tbody tr th:only-of-type {\n",
       "        vertical-align: middle;\n",
       "    }\n",
       "\n",
       "    .dataframe tbody tr th {\n",
       "        vertical-align: top;\n",
       "    }\n",
       "\n",
       "    .dataframe thead th {\n",
       "        text-align: right;\n",
       "    }\n",
       "</style>\n",
       "<table border=\"1\" class=\"dataframe\">\n",
       "  <thead>\n",
       "    <tr style=\"text-align: right;\">\n",
       "      <th></th>\n",
       "      <th>First_tag</th>\n",
       "      <th>Text</th>\n",
       "      <th>Text_lem</th>\n",
       "    </tr>\n",
       "  </thead>\n",
       "  <tbody>\n",
       "    <tr>\n",
       "      <th>0</th>\n",
       "      <td>javascript</td>\n",
       "      <td>after setting up iis express to recognize json...</td>\n",
       "      <td>setting ii express recognize json file type v ...</td>\n",
       "    </tr>\n",
       "    <tr>\n",
       "      <th>1</th>\n",
       "      <td>javascript</td>\n",
       "      <td>laravel 4 and angular js and twitter bootstrap...</td>\n",
       "      <td>laravel 4 angular j twitter bootstrap 3 pagina...</td>\n",
       "    </tr>\n",
       "    <tr>\n",
       "      <th>2</th>\n",
       "      <td>c#</td>\n",
       "      <td>adding an image to sql database using visual c...</td>\n",
       "      <td>adding image sql database using visual c# work...</td>\n",
       "    </tr>\n",
       "    <tr>\n",
       "      <th>3</th>\n",
       "      <td>php</td>\n",
       "      <td>slim eloquent relation does not work properly ...</td>\n",
       "      <td>slim eloquent relation work properly making cr...</td>\n",
       "    </tr>\n",
       "    <tr>\n",
       "      <th>4</th>\n",
       "      <td>python</td>\n",
       "      <td>how to convert json data into specified pandas...</td>\n",
       "      <td>convert json data specified panda dataframe js...</td>\n",
       "    </tr>\n",
       "  </tbody>\n",
       "</table>\n",
       "</div>"
      ],
      "text/plain": [
       "    First_tag                                               Text  \\\n",
       "0  javascript  after setting up iis express to recognize json...   \n",
       "1  javascript  laravel 4 and angular js and twitter bootstrap...   \n",
       "2          c#  adding an image to sql database using visual c...   \n",
       "3         php  slim eloquent relation does not work properly ...   \n",
       "4      python  how to convert json data into specified pandas...   \n",
       "\n",
       "                                            Text_lem  \n",
       "0  setting ii express recognize json file type v ...  \n",
       "1  laravel 4 angular j twitter bootstrap 3 pagina...  \n",
       "2  adding image sql database using visual c# work...  \n",
       "3  slim eloquent relation work properly making cr...  \n",
       "4  convert json data specified panda dataframe js...  "
      ]
     },
     "execution_count": 36,
     "metadata": {},
     "output_type": "execute_result"
    }
   ],
   "source": [
    "dfReduct.head()"
   ]
  },
  {
   "cell_type": "markdown",
   "id": "db05da87",
   "metadata": {},
   "source": [
    "On crée des colonnes avec le nombre de mots"
   ]
  },
  {
   "cell_type": "code",
   "execution_count": 37,
   "id": "97dedcdb",
   "metadata": {},
   "outputs": [
    {
     "name": "stderr",
     "output_type": "stream",
     "text": [
      "C:\\Users\\vad\\AppData\\Local\\Temp\\ipykernel_3100\\4089890398.py:1: SettingWithCopyWarning: \n",
      "A value is trying to be set on a copy of a slice from a DataFrame.\n",
      "Try using .loc[row_indexer,col_indexer] = value instead\n",
      "\n",
      "See the caveats in the documentation: https://pandas.pydata.org/pandas-docs/stable/user_guide/indexing.html#returning-a-view-versus-a-copy\n",
      "  dfReduct['Text_lem_length'] = dfReduct['Text_lem'].apply(lambda x : len(word_tokenize(x)))\n",
      "C:\\Users\\vad\\AppData\\Local\\Temp\\ipykernel_3100\\4089890398.py:2: SettingWithCopyWarning: \n",
      "A value is trying to be set on a copy of a slice from a DataFrame.\n",
      "Try using .loc[row_indexer,col_indexer] = value instead\n",
      "\n",
      "See the caveats in the documentation: https://pandas.pydata.org/pandas-docs/stable/user_guide/indexing.html#returning-a-view-versus-a-copy\n",
      "  dfReduct['Text_length'] = dfReduct['Text'].apply(lambda x : len(word_tokenize(x)))\n"
     ]
    }
   ],
   "source": [
    "dfReduct['Text_lem_length'] = dfReduct['Text_lem'].apply(lambda x : len(word_tokenize(x)))\n",
    "dfReduct['Text_length'] = dfReduct['Text'].apply(lambda x : len(word_tokenize(x)))"
   ]
  },
  {
   "cell_type": "code",
   "execution_count": 38,
   "id": "c4d863b7",
   "metadata": {},
   "outputs": [
    {
     "data": {
      "text/html": [
       "<div>\n",
       "<style scoped>\n",
       "    .dataframe tbody tr th:only-of-type {\n",
       "        vertical-align: middle;\n",
       "    }\n",
       "\n",
       "    .dataframe tbody tr th {\n",
       "        vertical-align: top;\n",
       "    }\n",
       "\n",
       "    .dataframe thead th {\n",
       "        text-align: right;\n",
       "    }\n",
       "</style>\n",
       "<table border=\"1\" class=\"dataframe\">\n",
       "  <thead>\n",
       "    <tr style=\"text-align: right;\">\n",
       "      <th></th>\n",
       "      <th>First_tag</th>\n",
       "      <th>Text</th>\n",
       "      <th>Text_lem</th>\n",
       "      <th>Text_lem_length</th>\n",
       "      <th>Text_length</th>\n",
       "    </tr>\n",
       "  </thead>\n",
       "  <tbody>\n",
       "    <tr>\n",
       "      <th>0</th>\n",
       "      <td>javascript</td>\n",
       "      <td>after setting up iis express to recognize json...</td>\n",
       "      <td>setting ii express recognize json file type v ...</td>\n",
       "      <td>64</td>\n",
       "      <td>117</td>\n",
       "    </tr>\n",
       "    <tr>\n",
       "      <th>1</th>\n",
       "      <td>javascript</td>\n",
       "      <td>laravel 4 and angular js and twitter bootstrap...</td>\n",
       "      <td>laravel 4 angular j twitter bootstrap 3 pagina...</td>\n",
       "      <td>92</td>\n",
       "      <td>207</td>\n",
       "    </tr>\n",
       "    <tr>\n",
       "      <th>2</th>\n",
       "      <td>c#</td>\n",
       "      <td>adding an image to sql database using visual c...</td>\n",
       "      <td>adding image sql database using visual c# work...</td>\n",
       "      <td>76</td>\n",
       "      <td>138</td>\n",
       "    </tr>\n",
       "    <tr>\n",
       "      <th>3</th>\n",
       "      <td>php</td>\n",
       "      <td>slim eloquent relation does not work properly ...</td>\n",
       "      <td>slim eloquent relation work properly making cr...</td>\n",
       "      <td>58</td>\n",
       "      <td>113</td>\n",
       "    </tr>\n",
       "    <tr>\n",
       "      <th>4</th>\n",
       "      <td>python</td>\n",
       "      <td>how to convert json data into specified pandas...</td>\n",
       "      <td>convert json data specified panda dataframe js...</td>\n",
       "      <td>41</td>\n",
       "      <td>84</td>\n",
       "    </tr>\n",
       "  </tbody>\n",
       "</table>\n",
       "</div>"
      ],
      "text/plain": [
       "    First_tag                                               Text  \\\n",
       "0  javascript  after setting up iis express to recognize json...   \n",
       "1  javascript  laravel 4 and angular js and twitter bootstrap...   \n",
       "2          c#  adding an image to sql database using visual c...   \n",
       "3         php  slim eloquent relation does not work properly ...   \n",
       "4      python  how to convert json data into specified pandas...   \n",
       "\n",
       "                                            Text_lem  Text_lem_length  \\\n",
       "0  setting ii express recognize json file type v ...               64   \n",
       "1  laravel 4 angular j twitter bootstrap 3 pagina...               92   \n",
       "2  adding image sql database using visual c# work...               76   \n",
       "3  slim eloquent relation work properly making cr...               58   \n",
       "4  convert json data specified panda dataframe js...               41   \n",
       "\n",
       "   Text_length  \n",
       "0          117  \n",
       "1          207  \n",
       "2          138  \n",
       "3          113  \n",
       "4           84  "
      ]
     },
     "execution_count": 38,
     "metadata": {},
     "output_type": "execute_result"
    }
   ],
   "source": [
    "dfReduct.head()"
   ]
  },
  {
   "cell_type": "markdown",
   "id": "5b702f00",
   "metadata": {},
   "source": [
    "Affichage d'un nuage de mots"
   ]
  },
  {
   "cell_type": "code",
   "execution_count": 39,
   "id": "71fa4df5",
   "metadata": {},
   "outputs": [
    {
     "data": {
      "image/png": "[encoded data removed]",
      "text/plain": [
       "<Figure size 800x800 with 1 Axes>"
      ]
     },
     "metadata": {},
     "output_type": "display_data"
    }
   ],
   "source": [
    "# Import the wordcloud library\n",
    "from wordcloud import WordCloud# Join the different processed titles together.\n",
    "long_string = ','.join(list(dfReduct['Text_lem'].values))# Create a WordCloud object\n",
    "wordcloud = WordCloud(background_color=\"white\", max_words=5000, contour_width=3, contour_color='steelblue')# Generate a word cloud\n",
    "wordcloud.generate(long_string)# Visualize the word cloud\n",
    "#wordcloud.to_image()\n",
    "plt.figure( figsize=(8,8) )\n",
    "plt.imshow(wordcloud)\n",
    "plt.axis(\"off\")\n",
    "plt.show()"
   ]
  },
  {
   "cell_type": "markdown",
   "id": "7591e650",
   "metadata": {},
   "source": [
    "### 3. Ecriture du dataframe final mis en forme"
   ]
  },
  {
   "cell_type": "code",
   "execution_count": 40,
   "id": "eac49882",
   "metadata": {},
   "outputs": [],
   "source": [
    "path = \"./data/cleaned/\"\n",
    "\n",
    "dfReduct.to_csv(path+outputFilename,index=False)"
   ]
  }
 ],
 "metadata": {
  "kernelspec": {
   "display_name": "Python [conda env:tflow]",
   "language": "python",
   "name": "conda-env-tflow-py"
  },
  "language_info": {
   "codemirror_mode": {
    "name": "ipython",
    "version": 3
   },
   "file_extension": ".py",
   "mimetype": "text/x-python",
   "name": "python",
   "nbconvert_exporter": "python",
   "pygments_lexer": "ipython3",
   "version": "3.10.9"
  }
 },
 "nbformat": 4,
 "nbformat_minor": 5
}
