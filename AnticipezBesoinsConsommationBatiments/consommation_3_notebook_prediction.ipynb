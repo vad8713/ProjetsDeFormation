{
 "cells": [
  {
   "cell_type": "markdown",
   "id": "8375e877",
   "metadata": {},
   "source": [
    "## Notebook de modélisation des données - Projet 3 - David Depouez"
   ]
  },
  {
   "cell_type": "markdown",
   "id": "610e6cac",
   "metadata": {},
   "source": [
    "### 1. Généralités"
   ]
  },
  {
   "cell_type": "markdown",
   "id": "9e9fa33e",
   "metadata": {},
   "source": [
    "Selection de la cible pour ce Notebook => **TotalGHGEmissions**"
   ]
  },
  {
   "cell_type": "code",
   "execution_count": 1,
   "id": "289b0189",
   "metadata": {},
   "outputs": [],
   "source": [
    "isEnergyTarget = False\n",
    "\n",
    "if isEnergyTarget == False:\n",
    "    targetName = 'SiteEnergyUse(kBtu)'\n",
    "else:\n",
    "    targetName = 'TotalGHGEmissions'"
   ]
  },
  {
   "cell_type": "markdown",
   "id": "76845af4",
   "metadata": {},
   "source": [
    "Importation des modules et lecture du fichier de données"
   ]
  },
  {
   "cell_type": "code",
   "execution_count": 2,
   "id": "0c750869",
   "metadata": {},
   "outputs": [],
   "source": [
    "import pandas as pd\n",
    "from matplotlib import pyplot as plt\n",
    "import numpy as np\n",
    "import shap"
   ]
  },
  {
   "cell_type": "code",
   "execution_count": 3,
   "id": "e0447d8f",
   "metadata": {},
   "outputs": [
    {
     "data": {
      "text/plain": [
       "(1650, 46)"
      ]
     },
     "execution_count": 3,
     "metadata": {},
     "output_type": "execute_result"
    }
   ],
   "source": [
    "path = \"./data/cleaned/\"\n",
    "\n",
    "filename = \"Cleaned-2016_Building_Energy_Benchmarking.csv\"\n",
    "\n",
    "df = pd.read_csv(path+filename)\n",
    "df.shape"
   ]
  },
  {
   "cell_type": "code",
   "execution_count": 4,
   "id": "7ee12a32",
   "metadata": {},
   "outputs": [
    {
     "name": "stdout",
     "output_type": "stream",
     "text": [
      "<class 'pandas.core.frame.DataFrame'>\n",
      "RangeIndex: 1650 entries, 0 to 1649\n",
      "Data columns (total 46 columns):\n",
      " #   Column                       Non-Null Count  Dtype  \n",
      "---  ------                       --------------  -----  \n",
      " 0   YearBuilt                    1650 non-null   float64\n",
      " 1   NumberofBuildings            1650 non-null   float64\n",
      " 2   NumberofFloors               1650 non-null   float64\n",
      " 3   PropertyGFATotal             1650 non-null   float64\n",
      " 4   ENERGYSTARScore              1650 non-null   float64\n",
      " 5   SourceEUI(kBtu/sf)           1650 non-null   float64\n",
      " 6   SiteEnergyUse(kBtu)          1650 non-null   float64\n",
      " 7   SteamUse(kBtu)               1650 non-null   float64\n",
      " 8   Electricity(kBtu)            1650 non-null   float64\n",
      " 9   NaturalGas(kBtu)             1650 non-null   float64\n",
      " 10  TotalGHGEmissions            1650 non-null   float64\n",
      " 11  BALLARD                      1650 non-null   float64\n",
      " 12  CENTRAL                      1650 non-null   float64\n",
      " 13  DELRIDGE                     1650 non-null   float64\n",
      " 14  DOWNTOWN                     1650 non-null   float64\n",
      " 15  EAST                         1650 non-null   float64\n",
      " 16  GREATER DUWAMISH             1650 non-null   float64\n",
      " 17  LAKE UNION                   1650 non-null   float64\n",
      " 18  MAGNOLIA / QUEEN ANNE        1650 non-null   float64\n",
      " 19  NORTH                        1650 non-null   float64\n",
      " 20  NORTHEAST                    1650 non-null   float64\n",
      " 21  NORTHWEST                    1650 non-null   float64\n",
      " 22  SOUTHEAST                    1650 non-null   float64\n",
      " 23  SOUTHWEST                    1650 non-null   float64\n",
      " 24  Distribution Center          1650 non-null   float64\n",
      " 25  Hospital                     1650 non-null   float64\n",
      " 26  Hotel                        1650 non-null   float64\n",
      " 27  K-12 School                  1650 non-null   float64\n",
      " 28  Laboratory                   1650 non-null   float64\n",
      " 29  Large Office                 1650 non-null   float64\n",
      " 30  Low-Rise Multifamily         1650 non-null   float64\n",
      " 31  Medical Office               1650 non-null   float64\n",
      " 32  Mixed Use Property           1650 non-null   float64\n",
      " 33  Office                       1650 non-null   float64\n",
      " 34  Other                        1650 non-null   float64\n",
      " 35  Refrigerated Warehouse       1650 non-null   float64\n",
      " 36  Residence Hall               1650 non-null   float64\n",
      " 37  Restaurant                   1650 non-null   float64\n",
      " 38  Retail Store                 1650 non-null   float64\n",
      " 39  Self-Storage Facility        1650 non-null   float64\n",
      " 40  Senior Care Community        1650 non-null   float64\n",
      " 41  Small- and Mid-Sized Office  1650 non-null   float64\n",
      " 42  Supermarket / Grocery Store  1650 non-null   float64\n",
      " 43  University                   1650 non-null   float64\n",
      " 44  Warehouse                    1650 non-null   float64\n",
      " 45  Worship Facility             1650 non-null   float64\n",
      "dtypes: float64(46)\n",
      "memory usage: 593.1 KB\n"
     ]
    }
   ],
   "source": [
    "df.info()"
   ]
  },
  {
   "cell_type": "markdown",
   "id": "a3bcadf6",
   "metadata": {},
   "source": [
    "Séparation du jeu de donnés pour l'apprentissage"
   ]
  },
  {
   "cell_type": "code",
   "execution_count": 5,
   "id": "f2e517cb",
   "metadata": {},
   "outputs": [
    {
     "data": {
      "text/plain": [
       "((1320, 46), (330, 46))"
      ]
     },
     "execution_count": 5,
     "metadata": {},
     "output_type": "execute_result"
    }
   ],
   "source": [
    "from sklearn.model_selection import train_test_split\n",
    "\n",
    "dfTrain, dfTest = train_test_split(df, train_size=0.8,random_state=87)\n",
    "dfTrain.shape , dfTest.shape"
   ]
  },
  {
   "cell_type": "markdown",
   "id": "45d7f634",
   "metadata": {},
   "source": [
    "### 2. Modélisations avec l'Energy Star Score"
   ]
  },
  {
   "cell_type": "code",
   "execution_count": 6,
   "id": "d5140e28",
   "metadata": {},
   "outputs": [],
   "source": [
    "XTrain = dfTrain.drop(['SiteEnergyUse(kBtu)','TotalGHGEmissions'],axis=1 )\n",
    "yTrain = dfTrain[targetName].copy()\n",
    "XTest = dfTest.drop(['SiteEnergyUse(kBtu)','TotalGHGEmissions'],axis=1 )\n",
    "yTest = dfTest[targetName].copy()"
   ]
  },
  {
   "cell_type": "markdown",
   "id": "4b74af84",
   "metadata": {},
   "source": [
    "On centre et on met à l'echelle les données"
   ]
  },
  {
   "cell_type": "code",
   "execution_count": 7,
   "id": "8342e4b9",
   "metadata": {},
   "outputs": [],
   "source": [
    "from sklearn.preprocessing import StandardScaler\n",
    "\n",
    "scaler = StandardScaler()\n",
    "\n",
    "xTrainScaled = scaler.fit_transform(XTrain)\n",
    "xTestScaled = scaler.transform(XTest)"
   ]
  },
  {
   "cell_type": "markdown",
   "id": "1b6cd43e",
   "metadata": {},
   "source": [
    "On définit une fonction pour retourner différentes metriques"
   ]
  },
  {
   "cell_type": "code",
   "execution_count": 8,
   "id": "fe556b62",
   "metadata": {},
   "outputs": [],
   "source": [
    "from sklearn.metrics import mean_squared_error, r2_score\n",
    "\n",
    "def getRegressionMetrics(ypredict, yreel,isDump = True) :\n",
    "    ### Compute MSE, RMSE and R2  ###\n",
    "    MSE = mean_squared_error(yreel, ypredict)\n",
    "    RMSE = mean_squared_error(yreel, ypredict, squared=False)\n",
    "    R2 = r2_score(yreel, ypredict)\n",
    "    if isDump == True :\n",
    "        print(\"MSE {:.2f} RMSE {:.2f} R2 {:.3f}\".format(MSE,RMSE,R2))\n",
    "    return (MSE, RMSE, R2)"
   ]
  },
  {
   "cell_type": "markdown",
   "id": "524f97f3",
   "metadata": {},
   "source": [
    "#### Linear Regression"
   ]
  },
  {
   "cell_type": "code",
   "execution_count": 9,
   "id": "3f7a7a44",
   "metadata": {},
   "outputs": [],
   "source": [
    "from sklearn.linear_model import LinearRegression\n",
    "linear_regr = LinearRegression()\n",
    "linear_regr.fit(xTrainScaled, yTrain)\n",
    "\n",
    "yPredTrain = linear_regr.predict(xTrainScaled)\n",
    "yPredTest = linear_regr.predict(xTestScaled)"
   ]
  },
  {
   "cell_type": "code",
   "execution_count": 10,
   "id": "7f95546a",
   "metadata": {},
   "outputs": [
    {
     "name": "stdout",
     "output_type": "stream",
     "text": [
      "MSE 5666946842432.28 RMSE 2380534.99 R2 0.772\n",
      "MSE 5418813143075.91 RMSE 2327834.43 R2 0.784\n"
     ]
    }
   ],
   "source": [
    "msTrain,rmTrain,r2Train  = getRegressionMetrics(yPredTrain, yTrain)\n",
    "msTest,rmTest,r2Test  = getRegressionMetrics(yPredTest, yTest)"
   ]
  },
  {
   "cell_type": "code",
   "execution_count": 11,
   "id": "f8ece2e8",
   "metadata": {},
   "outputs": [],
   "source": [
    "# Store errors\n",
    "Results = []\n",
    "Results.append(['Linear Regression',msTrain,rmTrain,r2Train,msTest,rmTest,r2Test])"
   ]
  },
  {
   "cell_type": "markdown",
   "id": "fdf2dd01",
   "metadata": {},
   "source": [
    "#### RidgeCV"
   ]
  },
  {
   "cell_type": "code",
   "execution_count": 12,
   "id": "b8240f67",
   "metadata": {},
   "outputs": [
    {
     "name": "stdout",
     "output_type": "stream",
     "text": [
      "alpha = 475.0810162102793  best score = -7619581214401.1875\n",
      "Train best score = 0.746712809794104\n",
      "Test best score = 0.7526026435106102\n",
      "MSE 6297665696777.88 RMSE 2509515.03 R2 0.747\n",
      "MSE 6219610116112.96 RMSE 2493914.62 R2 0.753\n"
     ]
    }
   ],
   "source": [
    "from sklearn.linear_model import RidgeCV\n",
    "\n",
    "nAlphas = 100\n",
    "fold_number = 5\n",
    "alphas= np.logspace(-5,5,nAlphas)\n",
    "\n",
    "ridgeCV_regr = RidgeCV(alphas=alphas,\n",
    "scoring='neg_mean_squared_error',\n",
    "                 cv=fold_number)\n",
    "ridgeCV_regr.fit(xTrainScaled, yTrain)\n",
    "print('alpha = {}  best score = {}'.format(ridgeCV_regr.alpha_ , ridgeCV_regr.best_score_))\n",
    "yPredtrain = ridgeCV_regr.predict(xTrainScaled)\n",
    "print('Train best score = {}'.format(ridgeCV_regr.score(xTrainScaled,yTrain)))\n",
    "yPredTest = ridgeCV_regr.predict(xTestScaled)\n",
    "print('Test best score = {}'.format(ridgeCV_regr.score(xTestScaled,yTest)))\n",
    "msTrain,rmTrain,r2Train = getRegressionMetrics(yPredtrain, yTrain, isDump=True)\n",
    "msTest,rmTest,r2Test = getRegressionMetrics(yPredTest, yTest, isDump=True)"
   ]
  },
  {
   "cell_type": "code",
   "execution_count": 13,
   "id": "061640cd",
   "metadata": {},
   "outputs": [],
   "source": [
    "# Store errors\n",
    "Results.append(['RidgeCV',msTrain,rmTrain,r2Train,msTest,rmTest,r2Test])"
   ]
  },
  {
   "cell_type": "markdown",
   "id": "d685fdca",
   "metadata": {},
   "source": [
    "#### Ridge  with Manual CV"
   ]
  },
  {
   "cell_type": "code",
   "execution_count": 14,
   "id": "a070bbf0",
   "metadata": {},
   "outputs": [],
   "source": [
    "from sklearn.linear_model import Ridge\n",
    "from sklearn.model_selection import cross_validate\n",
    "from numpy import mean , std\n",
    "\n",
    "nAlphas = 100\n",
    "fold_number = 5\n",
    "alphas= np.logspace(-5,5,nAlphas)"
   ]
  },
  {
   "cell_type": "code",
   "execution_count": 15,
   "id": "3bf85add",
   "metadata": {},
   "outputs": [],
   "source": [
    "TabErrors = []\n",
    "ridge_regr = Ridge()\n",
    "\n",
    "for i,a in enumerate(alphas) :\n",
    "    ridge_regr.set_params(alpha=a)\n",
    "    scores = cross_validate(ridge_regr, xTrainScaled, yTrain, cv=fold_number,\n",
    "                            scoring=('neg_mean_squared_error','neg_root_mean_squared_error','r2'))\n",
    "    temp = a, -mean(scores['test_neg_mean_squared_error']), -mean(scores['test_neg_root_mean_squared_error']), mean(scores['test_r2'])\n",
    "    TabErrors.append(temp)\n",
    "\n",
    "#mini = [val[0] for i,val in enumerate(TabErrors) if val[1] == np.min(TabErrors,axis=0)[1]]\n",
    "#mini"
   ]
  },
  {
   "cell_type": "code",
   "execution_count": 16,
   "id": "b0933a91",
   "metadata": {},
   "outputs": [
    {
     "data": {
      "image/png": "[encoded data removed]",
      "text/plain": [
       "<Figure size 1152x216 with 3 Axes>"
      ]
     },
     "metadata": {
      "needs_background": "light"
     },
     "output_type": "display_data"
    }
   ],
   "source": [
    "fig, axes = plt.subplots(1, 3,figsize=(16,3))\n",
    "tab = ['MSE','RMSE','R2']\n",
    "color = ['b','g','r']\n",
    "\n",
    "for i,error_name in enumerate(tab) :\n",
    "    error_liste = [name[i+1] for j,name in enumerate(TabErrors)]\n",
    "    axes[i].plot(alphas,  error_liste,c=color[i])\n",
    "    axes[i].set_xscale('log')\n",
    "    axes[i].set_xlabel('alpha')\n",
    "    axes[i].set_ylabel(error_name)\n",
    "    axes[i].set_title(tab[i] + ' en fonction des alphas')\n",
    "    \n",
    "    plt.subplots_adjust(left=0.1, bottom=0.1, right=0.9, top=0.9, \n",
    "                    wspace=0.3, hspace=0.2)\n",
    "\n",
    "plt.show()"
   ]
  },
  {
   "cell_type": "markdown",
   "id": "1f12272c",
   "metadata": {},
   "source": [
    "Get best params"
   ]
  },
  {
   "cell_type": "code",
   "execution_count": 17,
   "id": "5527f82f",
   "metadata": {},
   "outputs": [
    {
     "name": "stdout",
     "output_type": "stream",
     "text": [
      "Index values for MSE 99, RMSE 99,  R2 76\n",
      "Best fit is for alpha = 475.0810162102793\n"
     ]
    }
   ],
   "source": [
    "dfErrors = pd.DataFrame(TabErrors,columns=['alpha','MSE','RMSE','R2'])\n",
    "imin = dfErrors['R2'].idxmax()\n",
    "print('Index values for MSE {}, RMSE {},  R2 {}'\n",
    "      .format(dfErrors['MSE'].idxmax(),dfErrors['MSE'].idxmax(),imin  )   )\n",
    "alphaBest = dfErrors.loc[imin,'alpha']\n",
    "print('Best fit is for alpha = {}'.format(alphaBest))"
   ]
  },
  {
   "cell_type": "markdown",
   "id": "741a0150",
   "metadata": {},
   "source": [
    "Apply model with best params"
   ]
  },
  {
   "cell_type": "code",
   "execution_count": 18,
   "id": "c3d25e1f",
   "metadata": {},
   "outputs": [
    {
     "name": "stdout",
     "output_type": "stream",
     "text": [
      "MSE 6297665696777.88 RMSE 2509515.03 R2 0.747\n",
      "MSE 6219610116112.96 RMSE 2493914.62 R2 0.753\n"
     ]
    }
   ],
   "source": [
    "ridge_regr.set_params(alpha=alphaBest)\n",
    "ridge_regr.fit(xTrainScaled, yTrain)\n",
    "yPredTrain = ridge_regr.predict(xTrainScaled)\n",
    "yPredTest = ridge_regr.predict(xTestScaled)\n",
    "msTrain,rmTrain,r2Train = getRegressionMetrics(yPredTrain, yTrain, isDump=True)\n",
    "msTest,rmTest,r2Test = getRegressionMetrics(yPredTest, yTest, isDump=True)"
   ]
  },
  {
   "cell_type": "code",
   "execution_count": 19,
   "id": "23ee9fc4",
   "metadata": {},
   "outputs": [],
   "source": [
    "# Store errors\n",
    "Results.append(['Ridge with Manual CV',msTrain,rmTrain,r2Train,msTest,rmTest,r2Test])"
   ]
  },
  {
   "cell_type": "markdown",
   "id": "5b8e9fa4",
   "metadata": {},
   "source": [
    "#### LassoCV"
   ]
  },
  {
   "cell_type": "code",
   "execution_count": 20,
   "id": "36058704",
   "metadata": {},
   "outputs": [
    {
     "name": "stdout",
     "output_type": "stream",
     "text": [
      "Best fit is for alpha = 100000.0\n",
      "Train best score = 0.762\n",
      "Test best score = 0.783\n",
      "MSE 5928746312166.60 RMSE 2434901.70 R2 0.762\n",
      "MSE 5448547869048.99 RMSE 2334212.47 R2 0.783\n"
     ]
    }
   ],
   "source": [
    "from sklearn.linear_model import LassoCV\n",
    "\n",
    "nAlphas = 100\n",
    "fold_number = 5\n",
    "alphas= np.logspace(-5,5,nAlphas)\n",
    "\n",
    "lassoCV_regr = LassoCV(alphas=alphas, cv=fold_number)\n",
    "\n",
    "lassoCV_regr.fit(xTrainScaled, yTrain)\n",
    "print('Best fit is for alpha = {}'.format(lassoCV_regr.alpha_))\n",
    "yPredtrain = lassoCV_regr.predict(xTrainScaled)\n",
    "print('Train best score = {:.3f}'.format(lassoCV_regr.score(xTrainScaled,yTrain)))\n",
    "yPredTest = lassoCV_regr.predict(xTestScaled)\n",
    "print('Test best score = {:.3f}'.format(lassoCV_regr.score(xTestScaled,yTest)))\n",
    "msTrain,rmTrain,r2Train = getRegressionMetrics(yPredtrain, yTrain, isDump=True)\n",
    "msTest,rmTest,r2Test = getRegressionMetrics(yPredTest, yTest, isDump=True)"
   ]
  },
  {
   "cell_type": "code",
   "execution_count": 21,
   "id": "3252b594",
   "metadata": {},
   "outputs": [],
   "source": [
    "# Store errors\n",
    "Results.append(['LassoCV',msTrain,rmTrain,r2Train,msTest,rmTest,r2Test])"
   ]
  },
  {
   "cell_type": "markdown",
   "id": "33355336",
   "metadata": {},
   "source": [
    "#### Lasso with Manual CV"
   ]
  },
  {
   "cell_type": "code",
   "execution_count": 22,
   "id": "c8fbd1ee",
   "metadata": {},
   "outputs": [],
   "source": [
    "from sklearn.linear_model import Lasso\n",
    "\n",
    "n_alphas = 100\n",
    "alphas = np.logspace(-3, 4, n_alphas)"
   ]
  },
  {
   "cell_type": "code",
   "execution_count": 23,
   "id": "692034b3",
   "metadata": {},
   "outputs": [
    {
     "name": "stderr",
     "output_type": "stream",
     "text": [
      "Objective did not converge. You might want to increase the number of iterations. Duality gap: 225350728671249.0, tolerance: 2555587343784.163\n",
      "Objective did not converge. You might want to increase the number of iterations. Duality gap: 311343916199173.5, tolerance: 2594247679393.997\n",
      "Objective did not converge. You might want to increase the number of iterations. Duality gap: 395821763877191.0, tolerance: 2651305075165.9556\n",
      "Objective did not converge. You might want to increase the number of iterations. Duality gap: 314410210924169.0, tolerance: 2719329453221.5215\n",
      "Objective did not converge. You might want to increase the number of iterations. Duality gap: 562059440358081.0, tolerance: 2604951807635.925\n",
      "Objective did not converge. You might want to increase the number of iterations. Duality gap: 225350744669775.5, tolerance: 2555587343784.163\n",
      "Objective did not converge. You might want to increase the number of iterations. Duality gap: 311344026904229.0, tolerance: 2594247679393.997\n",
      "Objective did not converge. You might want to increase the number of iterations. Duality gap: 395821764398847.5, tolerance: 2651305075165.9556\n",
      "Objective did not converge. You might want to increase the number of iterations. Duality gap: 314410225568841.5, tolerance: 2719329453221.5215\n",
      "Objective did not converge. You might want to increase the number of iterations. Duality gap: 562059351532289.0, tolerance: 2604951807635.925\n",
      "Objective did not converge. You might want to increase the number of iterations. Duality gap: 225350734087930.0, tolerance: 2555587343784.163\n",
      "Objective did not converge. You might want to increase the number of iterations. Duality gap: 311344039215807.0, tolerance: 2594247679393.997\n",
      "Objective did not converge. You might want to increase the number of iterations. Duality gap: 395821757978603.0, tolerance: 2651305075165.9556\n",
      "Objective did not converge. You might want to increase the number of iterations. Duality gap: 314410181348206.0, tolerance: 2719329453221.5215\n",
      "Objective did not converge. You might want to increase the number of iterations. Duality gap: 562059425396416.0, tolerance: 2604951807635.925\n",
      "Objective did not converge. You might want to increase the number of iterations. Duality gap: 225350704790256.5, tolerance: 2555587343784.163\n",
      "Objective did not converge. You might want to increase the number of iterations. Duality gap: 311343992894487.5, tolerance: 2594247679393.997\n",
      "Objective did not converge. You might want to increase the number of iterations. Duality gap: 395821782978329.0, tolerance: 2651305075165.9556\n",
      "Objective did not converge. You might want to increase the number of iterations. Duality gap: 314410212285563.5, tolerance: 2719329453221.5215\n",
      "Objective did not converge. You might want to increase the number of iterations. Duality gap: 562059519144826.0, tolerance: 2604951807635.925\n",
      "Objective did not converge. You might want to increase the number of iterations. Duality gap: 225350740822788.5, tolerance: 2555587343784.163\n",
      "Objective did not converge. You might want to increase the number of iterations. Duality gap: 311344000950388.5, tolerance: 2594247679393.997\n",
      "Objective did not converge. You might want to increase the number of iterations. Duality gap: 395821861461535.0, tolerance: 2651305075165.9556\n",
      "Objective did not converge. You might want to increase the number of iterations. Duality gap: 314410236917424.5, tolerance: 2719329453221.5215\n",
      "Objective did not converge. You might want to increase the number of iterations. Duality gap: 562059419789189.5, tolerance: 2604951807635.925\n",
      "Objective did not converge. You might want to increase the number of iterations. Duality gap: 225350707075102.0, tolerance: 2555587343784.163\n",
      "Objective did not converge. You might want to increase the number of iterations. Duality gap: 311344010568225.5, tolerance: 2594247679393.997\n",
      "Objective did not converge. You might want to increase the number of iterations. Duality gap: 395821785967148.0, tolerance: 2651305075165.9556\n",
      "Objective did not converge. You might want to increase the number of iterations. Duality gap: 314410179862899.5, tolerance: 2719329453221.5215\n",
      "Objective did not converge. You might want to increase the number of iterations. Duality gap: 562059452843952.0, tolerance: 2604951807635.925\n",
      "Objective did not converge. You might want to increase the number of iterations. Duality gap: 225350712321111.0, tolerance: 2555587343784.163\n",
      "Objective did not converge. You might want to increase the number of iterations. Duality gap: 311344023048438.5, tolerance: 2594247679393.997\n",
      "Objective did not converge. You might want to increase the number of iterations. Duality gap: 395821833208854.0, tolerance: 2651305075165.9556\n",
      "Objective did not converge. You might want to increase the number of iterations. Duality gap: 314410185740381.5, tolerance: 2719329453221.5215\n",
      "Objective did not converge. You might want to increase the number of iterations. Duality gap: 562059491137114.0, tolerance: 2604951807635.925\n",
      "Objective did not converge. You might want to increase the number of iterations. Duality gap: 225350716139309.0, tolerance: 2555587343784.163\n",
      "Objective did not converge. You might want to increase the number of iterations. Duality gap: 311344014973218.0, tolerance: 2594247679393.997\n",
      "Objective did not converge. You might want to increase the number of iterations. Duality gap: 395821837874184.0, tolerance: 2651305075165.9556\n",
      "Objective did not converge. You might want to increase the number of iterations. Duality gap: 314410210730373.5, tolerance: 2719329453221.5215\n",
      "Objective did not converge. You might want to increase the number of iterations. Duality gap: 562059430991305.0, tolerance: 2604951807635.925\n",
      "Objective did not converge. You might want to increase the number of iterations. Duality gap: 225350726142512.0, tolerance: 2555587343784.163\n",
      "Objective did not converge. You might want to increase the number of iterations. Duality gap: 311344010601785.0, tolerance: 2594247679393.997\n",
      "Objective did not converge. You might want to increase the number of iterations. Duality gap: 395821816546945.5, tolerance: 2651305075165.9556\n",
      "Objective did not converge. You might want to increase the number of iterations. Duality gap: 314410199093956.5, tolerance: 2719329453221.5215\n",
      "Objective did not converge. You might want to increase the number of iterations. Duality gap: 562059443313828.0, tolerance: 2604951807635.925\n",
      "Objective did not converge. You might want to increase the number of iterations. Duality gap: 225350718853779.5, tolerance: 2555587343784.163\n",
      "Objective did not converge. You might want to increase the number of iterations. Duality gap: 311344009926833.5, tolerance: 2594247679393.997\n",
      "Objective did not converge. You might want to increase the number of iterations. Duality gap: 395821817094536.0, tolerance: 2651305075165.9556\n",
      "Objective did not converge. You might want to increase the number of iterations. Duality gap: 314410209326381.0, tolerance: 2719329453221.5215\n",
      "Objective did not converge. You might want to increase the number of iterations. Duality gap: 562059455422719.5, tolerance: 2604951807635.925\n",
      "Objective did not converge. You might want to increase the number of iterations. Duality gap: 225350726019135.0, tolerance: 2555587343784.163\n",
      "Objective did not converge. You might want to increase the number of iterations. Duality gap: 311344014324467.0, tolerance: 2594247679393.997\n",
      "Objective did not converge. You might want to increase the number of iterations. Duality gap: 395821841040402.0, tolerance: 2651305075165.9556\n",
      "Objective did not converge. You might want to increase the number of iterations. Duality gap: 314410220308695.0, tolerance: 2719329453221.5215\n",
      "Objective did not converge. You might want to increase the number of iterations. Duality gap: 562059464524236.0, tolerance: 2604951807635.925\n",
      "Objective did not converge. You might want to increase the number of iterations. Duality gap: 225350727852162.0, tolerance: 2555587343784.163\n",
      "Objective did not converge. You might want to increase the number of iterations. Duality gap: 311344031455934.0, tolerance: 2594247679393.997\n",
      "Objective did not converge. You might want to increase the number of iterations. Duality gap: 395821831518999.5, tolerance: 2651305075165.9556\n",
      "Objective did not converge. You might want to increase the number of iterations. Duality gap: 314410211273808.0, tolerance: 2719329453221.5215\n"
     ]
    },
    {
     "name": "stderr",
     "output_type": "stream",
     "text": [
      "Objective did not converge. You might want to increase the number of iterations. Duality gap: 562059484533627.0, tolerance: 2604951807635.925\n",
      "Objective did not converge. You might want to increase the number of iterations. Duality gap: 225350735895972.5, tolerance: 2555587343784.163\n",
      "Objective did not converge. You might want to increase the number of iterations. Duality gap: 311344038010758.5, tolerance: 2594247679393.997\n",
      "Objective did not converge. You might want to increase the number of iterations. Duality gap: 395821832107855.5, tolerance: 2651305075165.9556\n",
      "Objective did not converge. You might want to increase the number of iterations. Duality gap: 314410223428210.0, tolerance: 2719329453221.5215\n",
      "Objective did not converge. You might want to increase the number of iterations. Duality gap: 562059474324519.5, tolerance: 2604951807635.925\n",
      "Objective did not converge. You might want to increase the number of iterations. Duality gap: 225350738711389.5, tolerance: 2555587343784.163\n",
      "Objective did not converge. You might want to increase the number of iterations. Duality gap: 311344034317630.5, tolerance: 2594247679393.997\n",
      "Objective did not converge. You might want to increase the number of iterations. Duality gap: 395821839289845.0, tolerance: 2651305075165.9556\n",
      "Objective did not converge. You might want to increase the number of iterations. Duality gap: 314410236417339.0, tolerance: 2719329453221.5215\n",
      "Objective did not converge. You might want to increase the number of iterations. Duality gap: 562059479235534.5, tolerance: 2604951807635.925\n",
      "Objective did not converge. You might want to increase the number of iterations. Duality gap: 225350747875411.5, tolerance: 2555587343784.163\n",
      "Objective did not converge. You might want to increase the number of iterations. Duality gap: 311344047629585.5, tolerance: 2594247679393.997\n",
      "Objective did not converge. You might want to increase the number of iterations. Duality gap: 395821844175449.5, tolerance: 2651305075165.9556\n",
      "Objective did not converge. You might want to increase the number of iterations. Duality gap: 314410242179020.5, tolerance: 2719329453221.5215\n",
      "Objective did not converge. You might want to increase the number of iterations. Duality gap: 562059502087156.5, tolerance: 2604951807635.925\n",
      "Objective did not converge. You might want to increase the number of iterations. Duality gap: 225350752698628.5, tolerance: 2555587343784.163\n",
      "Objective did not converge. You might want to increase the number of iterations. Duality gap: 311344060376331.5, tolerance: 2594247679393.997\n",
      "Objective did not converge. You might want to increase the number of iterations. Duality gap: 395821855330209.5, tolerance: 2651305075165.9556\n",
      "Objective did not converge. You might want to increase the number of iterations. Duality gap: 314410243927061.5, tolerance: 2719329453221.5215\n",
      "Objective did not converge. You might want to increase the number of iterations. Duality gap: 562059507463236.0, tolerance: 2604951807635.925\n",
      "Objective did not converge. You might want to increase the number of iterations. Duality gap: 225350764849640.0, tolerance: 2555587343784.163\n",
      "Objective did not converge. You might want to increase the number of iterations. Duality gap: 311344064874439.0, tolerance: 2594247679393.997\n",
      "Objective did not converge. You might want to increase the number of iterations. Duality gap: 395821870353497.0, tolerance: 2651305075165.9556\n",
      "Objective did not converge. You might want to increase the number of iterations. Duality gap: 314410254000597.0, tolerance: 2719329453221.5215\n",
      "Objective did not converge. You might want to increase the number of iterations. Duality gap: 562059526108708.0, tolerance: 2604951807635.925\n",
      "Objective did not converge. You might want to increase the number of iterations. Duality gap: 225350779423373.5, tolerance: 2555587343784.163\n",
      "Objective did not converge. You might want to increase the number of iterations. Duality gap: 311344071963126.5, tolerance: 2594247679393.997\n",
      "Objective did not converge. You might want to increase the number of iterations. Duality gap: 395821884156515.5, tolerance: 2651305075165.9556\n",
      "Objective did not converge. You might want to increase the number of iterations. Duality gap: 314410271476052.5, tolerance: 2719329453221.5215\n",
      "Objective did not converge. You might want to increase the number of iterations. Duality gap: 562059537566630.5, tolerance: 2604951807635.925\n",
      "Objective did not converge. You might want to increase the number of iterations. Duality gap: 225350789372058.0, tolerance: 2555587343784.163\n",
      "Objective did not converge. You might want to increase the number of iterations. Duality gap: 311344083260187.5, tolerance: 2594247679393.997\n",
      "Objective did not converge. You might want to increase the number of iterations. Duality gap: 395821900181134.0, tolerance: 2651305075165.9556\n",
      "Objective did not converge. You might want to increase the number of iterations. Duality gap: 314410285433582.5, tolerance: 2719329453221.5215\n",
      "Objective did not converge. You might want to increase the number of iterations. Duality gap: 562059555502328.0, tolerance: 2604951807635.925\n",
      "Objective did not converge. You might want to increase the number of iterations. Duality gap: 225350802849675.5, tolerance: 2555587343784.163\n",
      "Objective did not converge. You might want to increase the number of iterations. Duality gap: 311344097750983.0, tolerance: 2594247679393.997\n",
      "Objective did not converge. You might want to increase the number of iterations. Duality gap: 395821916025543.5, tolerance: 2651305075165.9556\n",
      "Objective did not converge. You might want to increase the number of iterations. Duality gap: 314410301950174.0, tolerance: 2719329453221.5215\n",
      "Objective did not converge. You might want to increase the number of iterations. Duality gap: 562059570669908.0, tolerance: 2604951807635.925\n",
      "Objective did not converge. You might want to increase the number of iterations. Duality gap: 225350821655113.5, tolerance: 2555587343784.163\n",
      "Objective did not converge. You might want to increase the number of iterations. Duality gap: 311344116990170.0, tolerance: 2594247679393.997\n",
      "Objective did not converge. You might want to increase the number of iterations. Duality gap: 395821940528577.0, tolerance: 2651305075165.9556\n",
      "Objective did not converge. You might want to increase the number of iterations. Duality gap: 314410326656772.0, tolerance: 2719329453221.5215\n",
      "Objective did not converge. You might want to increase the number of iterations. Duality gap: 562059596788681.0, tolerance: 2604951807635.925\n",
      "Objective did not converge. You might want to increase the number of iterations. Duality gap: 225350841927068.0, tolerance: 2555587343784.163\n",
      "Objective did not converge. You might want to increase the number of iterations. Duality gap: 311344138739515.0, tolerance: 2594247679393.997\n",
      "Objective did not converge. You might want to increase the number of iterations. Duality gap: 395821968177566.5, tolerance: 2651305075165.9556\n",
      "Objective did not converge. You might want to increase the number of iterations. Duality gap: 314410348777510.5, tolerance: 2719329453221.5215\n",
      "Objective did not converge. You might want to increase the number of iterations. Duality gap: 562059625486221.0, tolerance: 2604951807635.925\n",
      "Objective did not converge. You might want to increase the number of iterations. Duality gap: 225350866784525.5, tolerance: 2555587343784.163\n",
      "Objective did not converge. You might want to increase the number of iterations. Duality gap: 311344159999506.0, tolerance: 2594247679393.997\n",
      "Objective did not converge. You might want to increase the number of iterations. Duality gap: 395821996777628.5, tolerance: 2651305075165.9556\n",
      "Objective did not converge. You might want to increase the number of iterations. Duality gap: 314410377680128.5, tolerance: 2719329453221.5215\n",
      "Objective did not converge. You might want to increase the number of iterations. Duality gap: 562059660094775.5, tolerance: 2604951807635.925\n",
      "Objective did not converge. You might want to increase the number of iterations. Duality gap: 225350896122879.0, tolerance: 2555587343784.163\n",
      "Objective did not converge. You might want to increase the number of iterations. Duality gap: 311344189287895.5, tolerance: 2594247679393.997\n",
      "Objective did not converge. You might want to increase the number of iterations. Duality gap: 395822029239117.5, tolerance: 2651305075165.9556\n",
      "Objective did not converge. You might want to increase the number of iterations. Duality gap: 314410408435079.0, tolerance: 2719329453221.5215\n",
      "Objective did not converge. You might want to increase the number of iterations. Duality gap: 562059699158293.0, tolerance: 2604951807635.925\n",
      "Objective did not converge. You might want to increase the number of iterations. Duality gap: 225350929812914.5, tolerance: 2555587343784.163\n",
      "Objective did not converge. You might want to increase the number of iterations. Duality gap: 311344224365904.5, tolerance: 2594247679393.997\n"
     ]
    },
    {
     "name": "stderr",
     "output_type": "stream",
     "text": [
      "Objective did not converge. You might want to increase the number of iterations. Duality gap: 395822075942576.0, tolerance: 2651305075165.9556\n",
      "Objective did not converge. You might want to increase the number of iterations. Duality gap: 314410451298868.0, tolerance: 2719329453221.5215\n",
      "Objective did not converge. You might want to increase the number of iterations. Duality gap: 562059745995847.0, tolerance: 2604951807635.925\n",
      "Objective did not converge. You might want to increase the number of iterations. Duality gap: 225350969809791.0, tolerance: 2555587343784.163\n",
      "Objective did not converge. You might want to increase the number of iterations. Duality gap: 311344261787655.5, tolerance: 2594247679393.997\n",
      "Objective did not converge. You might want to increase the number of iterations. Duality gap: 395822125370863.5, tolerance: 2651305075165.9556\n",
      "Objective did not converge. You might want to increase the number of iterations. Duality gap: 314410497686332.5, tolerance: 2719329453221.5215\n",
      "Objective did not converge. You might want to increase the number of iterations. Duality gap: 562059799529994.5, tolerance: 2604951807635.925\n",
      "Objective did not converge. You might want to increase the number of iterations. Duality gap: 225351016732530.5, tolerance: 2555587343784.163\n",
      "Objective did not converge. You might want to increase the number of iterations. Duality gap: 311344308055088.5, tolerance: 2594247679393.997\n",
      "Objective did not converge. You might want to increase the number of iterations. Duality gap: 395822184200743.5, tolerance: 2651305075165.9556\n",
      "Objective did not converge. You might want to increase the number of iterations. Duality gap: 314410554012667.0, tolerance: 2719329453221.5215\n",
      "Objective did not converge. You might want to increase the number of iterations. Duality gap: 562059861738522.5, tolerance: 2604951807635.925\n",
      "Objective did not converge. You might want to increase the number of iterations. Duality gap: 225351071407537.5, tolerance: 2555587343784.163\n",
      "Objective did not converge. You might want to increase the number of iterations. Duality gap: 311344363994836.0, tolerance: 2594247679393.997\n",
      "Objective did not converge. You might want to increase the number of iterations. Duality gap: 395822254233706.0, tolerance: 2651305075165.9556\n",
      "Objective did not converge. You might want to increase the number of iterations. Duality gap: 314410617892719.0, tolerance: 2719329453221.5215\n",
      "Objective did not converge. You might want to increase the number of iterations. Duality gap: 562059938780370.5, tolerance: 2604951807635.925\n",
      "Objective did not converge. You might want to increase the number of iterations. Duality gap: 225351136900209.5, tolerance: 2555587343784.163\n",
      "Objective did not converge. You might want to increase the number of iterations. Duality gap: 311344426482398.5, tolerance: 2594247679393.997\n",
      "Objective did not converge. You might want to increase the number of iterations. Duality gap: 395822336584226.0, tolerance: 2651305075165.9556\n",
      "Objective did not converge. You might want to increase the number of iterations. Duality gap: 314410695646917.5, tolerance: 2719329453221.5215\n",
      "Objective did not converge. You might want to increase the number of iterations. Duality gap: 562060026470049.0, tolerance: 2604951807635.925\n",
      "Objective did not converge. You might want to increase the number of iterations. Duality gap: 225351212708208.0, tolerance: 2555587343784.163\n",
      "Objective did not converge. You might want to increase the number of iterations. Duality gap: 311344501967370.0, tolerance: 2594247679393.997\n",
      "Objective did not converge. You might want to increase the number of iterations. Duality gap: 395822432486462.5, tolerance: 2651305075165.9556\n",
      "Objective did not converge. You might want to increase the number of iterations. Duality gap: 314410786059508.0, tolerance: 2719329453221.5215\n",
      "Objective did not converge. You might want to increase the number of iterations. Duality gap: 562060131517341.0, tolerance: 2604951807635.925\n",
      "Objective did not converge. You might want to increase the number of iterations. Duality gap: 225351303080903.5, tolerance: 2555587343784.163\n",
      "Objective did not converge. You might want to increase the number of iterations. Duality gap: 311344590454066.0, tolerance: 2594247679393.997\n",
      "Objective did not converge. You might want to increase the number of iterations. Duality gap: 395822544540590.5, tolerance: 2651305075165.9556\n",
      "Objective did not converge. You might want to increase the number of iterations. Duality gap: 314410892240980.0, tolerance: 2719329453221.5215\n",
      "Objective did not converge. You might want to increase the number of iterations. Duality gap: 562060254580833.0, tolerance: 2604951807635.925\n",
      "Objective did not converge. You might want to increase the number of iterations. Duality gap: 225351408825677.5, tolerance: 2555587343784.163\n",
      "Objective did not converge. You might want to increase the number of iterations. Duality gap: 311344694495734.0, tolerance: 2594247679393.997\n",
      "Objective did not converge. You might want to increase the number of iterations. Duality gap: 395822678194888.5, tolerance: 2651305075165.9556\n",
      "Objective did not converge. You might want to increase the number of iterations. Duality gap: 314411016774070.5, tolerance: 2719329453221.5215\n",
      "Objective did not converge. You might want to increase the number of iterations. Duality gap: 562060399632390.5, tolerance: 2604951807635.925\n",
      "Objective did not converge. You might want to increase the number of iterations. Duality gap: 225351533514462.5, tolerance: 2555587343784.163\n",
      "Objective did not converge. You might want to increase the number of iterations. Duality gap: 311344816704543.0, tolerance: 2594247679393.997\n",
      "Objective did not converge. You might want to increase the number of iterations. Duality gap: 395822835924260.0, tolerance: 2651305075165.9556\n",
      "Objective did not converge. You might want to increase the number of iterations. Duality gap: 314411164284367.5, tolerance: 2719329453221.5215\n",
      "Objective did not converge. You might want to increase the number of iterations. Duality gap: 562060570082008.0, tolerance: 2604951807635.925\n",
      "Objective did not converge. You might want to increase the number of iterations. Duality gap: 225351680420012.5, tolerance: 2555587343784.163\n",
      "Objective did not converge. You might want to increase the number of iterations. Duality gap: 311344960311353.0, tolerance: 2594247679393.997\n",
      "Objective did not converge. You might want to increase the number of iterations. Duality gap: 395823020507286.5, tolerance: 2651305075165.9556\n",
      "Objective did not converge. You might want to increase the number of iterations. Duality gap: 314411336661266.0, tolerance: 2719329453221.5215\n",
      "Objective did not converge. You might want to increase the number of iterations. Duality gap: 562060770309244.0, tolerance: 2604951807635.925\n",
      "Objective did not converge. You might want to increase the number of iterations. Duality gap: 225351852763705.0, tolerance: 2555587343784.163\n",
      "Objective did not converge. You might want to increase the number of iterations. Duality gap: 311345129426419.0, tolerance: 2594247679393.997\n",
      "Objective did not converge. You might want to increase the number of iterations. Duality gap: 395823237800492.0, tolerance: 2651305075165.9556\n",
      "Objective did not converge. You might want to increase the number of iterations. Duality gap: 314411540541318.5, tolerance: 2719329453221.5215\n",
      "Objective did not converge. You might want to increase the number of iterations. Duality gap: 562061006399806.0, tolerance: 2604951807635.925\n",
      "Objective did not converge. You might want to increase the number of iterations. Duality gap: 225352055753187.0, tolerance: 2555587343784.163\n",
      "Objective did not converge. You might want to increase the number of iterations. Duality gap: 311345328715492.0, tolerance: 2594247679393.997\n",
      "Objective did not converge. You might want to increase the number of iterations. Duality gap: 395823493588327.0, tolerance: 2651305075165.9556\n",
      "Objective did not converge. You might want to increase the number of iterations. Duality gap: 314411779766397.5, tolerance: 2719329453221.5215\n",
      "Objective did not converge. You might want to increase the number of iterations. Duality gap: 562061284077614.5, tolerance: 2604951807635.925\n",
      "Objective did not converge. You might want to increase the number of iterations. Duality gap: 225352294795054.0, tolerance: 2555587343784.163\n",
      "Objective did not converge. You might want to increase the number of iterations. Duality gap: 311345563182036.5, tolerance: 2594247679393.997\n",
      "Objective did not converge. You might want to increase the number of iterations. Duality gap: 395823793958068.5, tolerance: 2651305075165.9556\n",
      "Objective did not converge. You might want to increase the number of iterations. Duality gap: 314412062005011.0, tolerance: 2719329453221.5215\n",
      "Objective did not converge. You might want to increase the number of iterations. Duality gap: 562061610379024.5, tolerance: 2604951807635.925\n"
     ]
    },
    {
     "name": "stderr",
     "output_type": "stream",
     "text": [
      "Objective did not converge. You might want to increase the number of iterations. Duality gap: 225352575869427.0, tolerance: 2555587343784.163\n",
      "Objective did not converge. You might want to increase the number of iterations. Duality gap: 311345839021991.5, tolerance: 2594247679393.997\n",
      "Objective did not converge. You might want to increase the number of iterations. Duality gap: 395824147871710.0, tolerance: 2651305075165.9556\n",
      "Objective did not converge. You might want to increase the number of iterations. Duality gap: 314412393128669.5, tolerance: 2719329453221.5215\n",
      "Objective did not converge. You might want to increase the number of iterations. Duality gap: 562061994973664.5, tolerance: 2604951807635.925\n",
      "Objective did not converge. You might want to increase the number of iterations. Duality gap: 225352906415490.5, tolerance: 2555587343784.163\n",
      "Objective did not converge. You might want to increase the number of iterations. Duality gap: 311346163586908.0, tolerance: 2594247679393.997\n",
      "Objective did not converge. You might want to increase the number of iterations. Duality gap: 395824564299967.0, tolerance: 2651305075165.9556\n",
      "Objective did not converge. You might want to increase the number of iterations. Duality gap: 314412783134639.0, tolerance: 2719329453221.5215\n",
      "Objective did not converge. You might want to increase the number of iterations. Duality gap: 562062446920193.0, tolerance: 2604951807635.925\n",
      "Objective did not converge. You might want to increase the number of iterations. Duality gap: 225353295347453.0, tolerance: 2555587343784.163\n",
      "Objective did not converge. You might want to increase the number of iterations. Duality gap: 311346545390972.0, tolerance: 2594247679393.997\n",
      "Objective did not converge. You might want to increase the number of iterations. Duality gap: 395825054171081.5, tolerance: 2651305075165.9556\n",
      "Objective did not converge. You might want to increase the number of iterations. Duality gap: 314413242031047.5, tolerance: 2719329453221.5215\n",
      "Objective did not converge. You might want to increase the number of iterations. Duality gap: 562062978745697.5, tolerance: 2604951807635.925\n",
      "Objective did not converge. You might want to increase the number of iterations. Duality gap: 225353752848343.5, tolerance: 2555587343784.163\n",
      "Objective did not converge. You might want to increase the number of iterations. Duality gap: 311346994767880.5, tolerance: 2594247679393.997\n",
      "Objective did not converge. You might want to increase the number of iterations. Duality gap: 395825630153134.5, tolerance: 2651305075165.9556\n",
      "Objective did not converge. You might want to increase the number of iterations. Duality gap: 314413781504342.5, tolerance: 2719329453221.5215\n",
      "Objective did not converge. You might want to increase the number of iterations. Duality gap: 562063604595635.0, tolerance: 2604951807635.925\n",
      "Objective did not converge. You might want to increase the number of iterations. Duality gap: 225354291042159.0, tolerance: 2555587343784.163\n",
      "Objective did not converge. You might want to increase the number of iterations. Duality gap: 311347523334490.5, tolerance: 2594247679393.997\n",
      "Objective did not converge. You might want to increase the number of iterations. Duality gap: 395826307298903.0, tolerance: 2651305075165.9556\n",
      "Objective did not converge. You might want to increase the number of iterations. Duality gap: 314414416013739.5, tolerance: 2719329453221.5215\n",
      "Objective did not converge. You might want to increase the number of iterations. Duality gap: 562064341058181.5, tolerance: 2604951807635.925\n",
      "Objective did not converge. You might want to increase the number of iterations. Duality gap: 225354923982194.5, tolerance: 2555587343784.163\n",
      "Objective did not converge. You might want to increase the number of iterations. Duality gap: 311348145454287.5, tolerance: 2594247679393.997\n",
      "Objective did not converge. You might want to increase the number of iterations. Duality gap: 395827104016433.0, tolerance: 2651305075165.9556\n",
      "Objective did not converge. You might want to increase the number of iterations. Duality gap: 314415162279437.0, tolerance: 2719329453221.5215\n",
      "Objective did not converge. You might want to increase the number of iterations. Duality gap: 562065207295697.5, tolerance: 2604951807635.925\n",
      "Objective did not converge. You might want to increase the number of iterations. Duality gap: 225355668330145.5, tolerance: 2555587343784.163\n",
      "Objective did not converge. You might want to increase the number of iterations. Duality gap: 311348877291892.0, tolerance: 2594247679393.997\n",
      "Objective did not converge. You might want to increase the number of iterations. Duality gap: 395828040482159.5, tolerance: 2651305075165.9556\n",
      "Objective did not converge. You might want to increase the number of iterations. Duality gap: 314416039680459.0, tolerance: 2719329453221.5215\n",
      "Objective did not converge. You might want to increase the number of iterations. Duality gap: 562066226092606.5, tolerance: 2604951807635.925\n",
      "Objective did not converge. You might want to increase the number of iterations. Duality gap: 225356543678880.0, tolerance: 2555587343784.163\n",
      "Objective did not converge. You might want to increase the number of iterations. Duality gap: 311349738041440.0, tolerance: 2594247679393.997\n",
      "Objective did not converge. You might want to increase the number of iterations. Duality gap: 395829141583311.0, tolerance: 2651305075165.9556\n",
      "Objective did not converge. You might want to increase the number of iterations. Duality gap: 314417071265514.5, tolerance: 2719329453221.5215\n",
      "Objective did not converge. You might want to increase the number of iterations. Duality gap: 562067424598996.5, tolerance: 2604951807635.925\n",
      "Objective did not converge. You might want to increase the number of iterations. Duality gap: 225357572750218.0, tolerance: 2555587343784.163\n",
      "Objective did not converge. You might want to increase the number of iterations. Duality gap: 311350750787547.5, tolerance: 2594247679393.997\n",
      "Objective did not converge. You might want to increase the number of iterations. Duality gap: 395830435854219.5, tolerance: 2651305075165.9556\n",
      "Objective did not converge. You might want to increase the number of iterations. Duality gap: 314418283946429.0, tolerance: 2719329453221.5215\n",
      "Objective did not converge. You might want to increase the number of iterations. Duality gap: 562068834111736.5, tolerance: 2604951807635.925\n",
      "Objective did not converge. You might want to increase the number of iterations. Duality gap: 225358782508509.0, tolerance: 2555587343784.163\n",
      "Objective did not converge. You might want to increase the number of iterations. Duality gap: 311351942104232.0, tolerance: 2594247679393.997\n",
      "Objective did not converge. You might want to increase the number of iterations. Duality gap: 395831876725686.5, tolerance: 2651305075165.9556\n",
      "Objective did not converge. You might want to increase the number of iterations. Duality gap: 314419484412859.5, tolerance: 2719329453221.5215\n",
      "Objective did not converge. You might want to increase the number of iterations. Duality gap: 562070491759721.5, tolerance: 2604951807635.925\n",
      "Objective did not converge. You might want to increase the number of iterations. Duality gap: 225360204303383.0, tolerance: 2555587343784.163\n",
      "Objective did not converge. You might want to increase the number of iterations. Duality gap: 311353343322218.5, tolerance: 2594247679393.997\n",
      "Objective did not converge. You might want to increase the number of iterations. Duality gap: 395833650263005.0, tolerance: 2651305075165.9556\n",
      "Objective did not converge. You might want to increase the number of iterations. Duality gap: 314421116308157.0, tolerance: 2719329453221.5215\n",
      "Objective did not converge. You might want to increase the number of iterations. Duality gap: 562072440945583.0, tolerance: 2604951807635.925\n",
      "Objective did not converge. You might want to increase the number of iterations. Duality gap: 225361874933732.5, tolerance: 2555587343784.163\n",
      "Objective did not converge. You might want to increase the number of iterations. Duality gap: 311354991238241.5, tolerance: 2594247679393.997\n",
      "Objective did not converge. You might want to increase the number of iterations. Duality gap: 395835733622077.5, tolerance: 2651305075165.9556\n",
      "Objective did not converge. You might want to increase the number of iterations. Duality gap: 314423038598858.0, tolerance: 2719329453221.5215\n",
      "Objective did not converge. You might want to increase the number of iterations. Duality gap: 562074732444324.5, tolerance: 2604951807635.925\n",
      "Objective did not converge. You might want to increase the number of iterations. Duality gap: 225363837430217.0, tolerance: 2555587343784.163\n",
      "Objective did not converge. You might want to increase the number of iterations. Duality gap: 311356929216216.5, tolerance: 2594247679393.997\n",
      "Objective did not converge. You might want to increase the number of iterations. Duality gap: 395838180174006.5, tolerance: 2651305075165.9556\n"
     ]
    },
    {
     "name": "stderr",
     "output_type": "stream",
     "text": [
      "Objective did not converge. You might want to increase the number of iterations. Duality gap: 314425296794724.0, tolerance: 2719329453221.5215\n",
      "Objective did not converge. You might want to increase the number of iterations. Duality gap: 562077426191588.0, tolerance: 2604951807635.925\n",
      "Objective did not converge. You might want to increase the number of iterations. Duality gap: 225366142045871.0, tolerance: 2555587343784.163\n",
      "Objective did not converge. You might want to increase the number of iterations. Duality gap: 311359207878883.0, tolerance: 2594247679393.997\n",
      "Objective did not converge. You might want to increase the number of iterations. Duality gap: 395841052038500.0, tolerance: 2651305075165.9556\n",
      "Objective did not converge. You might want to increase the number of iterations. Duality gap: 314427948714369.0, tolerance: 2719329453221.5215\n",
      "Objective did not converge. You might want to increase the number of iterations. Duality gap: 562080591958581.0, tolerance: 2604951807635.925\n",
      "Objective did not converge. You might want to increase the number of iterations. Duality gap: 225368847395930.5, tolerance: 2555587343784.163\n",
      "Objective did not converge. You might want to increase the number of iterations. Duality gap: 311361886795929.5, tolerance: 2594247679393.997\n",
      "Objective did not converge. You might want to increase the number of iterations. Duality gap: 395843876935532.5, tolerance: 2651305075165.9556\n",
      "Objective did not converge. You might want to increase the number of iterations. Duality gap: 314431061750862.5, tolerance: 2719329453221.5215\n",
      "Objective did not converge. You might want to increase the number of iterations. Duality gap: 562084311622612.0, tolerance: 2604951807635.925\n",
      "Objective did not converge. You might want to increase the number of iterations. Duality gap: 225372021695125.0, tolerance: 2555587343784.163\n",
      "Objective did not converge. You might want to increase the number of iterations. Duality gap: 311365073863235.0, tolerance: 2594247679393.997\n",
      "Objective did not converge. You might want to increase the number of iterations. Duality gap: 395847742757857.0, tolerance: 2651305075165.9556\n",
      "Objective did not converge. You might want to increase the number of iterations. Duality gap: 314434714498737.5, tolerance: 2719329453221.5215\n",
      "Objective did not converge. You might want to increase the number of iterations. Duality gap: 562088680913746.5, tolerance: 2604951807635.925\n",
      "Objective did not converge. You might want to increase the number of iterations. Duality gap: 225375744303555.5, tolerance: 2555587343784.163\n",
      "Objective did not converge. You might want to increase the number of iterations. Duality gap: 311368783761081.5, tolerance: 2594247679393.997\n",
      "Objective did not converge. You might want to increase the number of iterations. Duality gap: 395852277022883.5, tolerance: 2651305075165.9556\n",
      "Objective did not converge. You might want to increase the number of iterations. Duality gap: 314438998278838.5, tolerance: 2719329453221.5215\n",
      "Objective did not converge. You might want to increase the number of iterations. Duality gap: 562093811560248.5, tolerance: 2604951807635.925\n",
      "Objective did not converge. You might want to increase the number of iterations. Duality gap: 225380107157185.5, tolerance: 2555587343784.163\n",
      "Objective did not converge. You might want to increase the number of iterations. Duality gap: 311373143557222.0, tolerance: 2594247679393.997\n",
      "Objective did not converge. You might want to increase the number of iterations. Duality gap: 395857592046311.5, tolerance: 2651305075165.9556\n",
      "Objective did not converge. You might want to increase the number of iterations. Duality gap: 314558943110602.5, tolerance: 2719329453221.5215\n",
      "Objective did not converge. You might want to increase the number of iterations. Duality gap: 562099833838923.0, tolerance: 2604951807635.925\n",
      "Objective did not converge. You might want to increase the number of iterations. Duality gap: 225385216545729.5, tolerance: 2555587343784.163\n",
      "Objective did not converge. You might want to increase the number of iterations. Duality gap: 311378265835751.0, tolerance: 2594247679393.997\n",
      "Objective did not converge. You might want to increase the number of iterations. Duality gap: 395863817805508.5, tolerance: 2651305075165.9556\n",
      "Objective did not converge. You might want to increase the number of iterations. Duality gap: 314447874430938.0, tolerance: 2719329453221.5215\n",
      "Objective did not converge. You might want to increase the number of iterations. Duality gap: 562106899506394.5, tolerance: 2604951807635.925\n",
      "Objective did not converge. You might want to increase the number of iterations. Duality gap: 225391194898070.0, tolerance: 2555587343784.163\n",
      "Objective did not converge. You might want to increase the number of iterations. Duality gap: 311384282202980.5, tolerance: 2594247679393.997\n",
      "Objective did not converge. You might want to increase the number of iterations. Duality gap: 395871104221289.0, tolerance: 2651305075165.9556\n",
      "Objective did not converge. You might want to increase the number of iterations. Duality gap: 151488674897861.0, tolerance: 2719329453221.5215\n",
      "Objective did not converge. You might want to increase the number of iterations. Duality gap: 562115184728693.5, tolerance: 2604951807635.925\n",
      "Objective did not converge. You might want to increase the number of iterations. Duality gap: 225398182604101.5, tolerance: 2555587343784.163\n",
      "Objective did not converge. You might want to increase the number of iterations. Duality gap: 311391346247632.5, tolerance: 2594247679393.997\n",
      "Objective did not converge. You might want to increase the number of iterations. Duality gap: 395879623368492.5, tolerance: 2651305075165.9556\n",
      "Objective did not converge. You might want to increase the number of iterations. Duality gap: 151494482332527.0, tolerance: 2719329453221.5215\n",
      "Objective did not converge. You might want to increase the number of iterations. Duality gap: 562124893742232.0, tolerance: 2604951807635.925\n",
      "Objective did not converge. You might want to increase the number of iterations. Duality gap: 225406339779594.5, tolerance: 2555587343784.163\n",
      "Objective did not converge. You might want to increase the number of iterations. Duality gap: 311399637029200.5, tolerance: 2594247679393.997\n",
      "Objective did not converge. You might want to increase the number of iterations. Duality gap: 395889571772539.0, tolerance: 2651305075165.9556\n",
      "Objective did not converge. You might want to increase the number of iterations. Duality gap: 151501281509960.0, tolerance: 2719329453221.5215\n",
      "Objective did not converge. You might want to increase the number of iterations. Duality gap: 562136262409596.0, tolerance: 2604951807635.925\n",
      "Objective did not converge. You might want to increase the number of iterations. Duality gap: 225415847769528.5, tolerance: 2555587343784.163\n",
      "Objective did not converge. You might want to increase the number of iterations. Duality gap: 220278740548517.0, tolerance: 2594247679393.997\n",
      "Objective did not converge. You might want to increase the number of iterations. Duality gap: 395901172502893.5, tolerance: 2651305075165.9556\n",
      "Objective did not converge. You might want to increase the number of iterations. Duality gap: 151509234387126.0, tolerance: 2719329453221.5215\n",
      "Objective did not converge. You might want to increase the number of iterations. Duality gap: 185284701629355.5, tolerance: 2604951807635.925\n",
      "Objective did not converge. You might want to increase the number of iterations. Duality gap: 225426910220853.0, tolerance: 2555587343784.163\n",
      "Objective did not converge. You might want to increase the number of iterations. Duality gap: 220295346920329.0, tolerance: 2594247679393.997\n",
      "Objective did not converge. You might want to increase the number of iterations. Duality gap: 395914676671905.0, tolerance: 2651305075165.9556\n",
      "Objective did not converge. You might want to increase the number of iterations. Duality gap: 151518526139893.0, tolerance: 2719329453221.5215\n",
      "Objective did not converge. You might want to increase the number of iterations. Duality gap: 185294774601314.5, tolerance: 2604951807635.925\n",
      "Objective did not converge. You might want to increase the number of iterations. Duality gap: 209671369706219.5, tolerance: 2555587343784.163\n",
      "Objective did not converge. You might want to increase the number of iterations. Duality gap: 220306259702634.0, tolerance: 2594247679393.997\n"
     ]
    },
    {
     "name": "stderr",
     "output_type": "stream",
     "text": [
      "Objective did not converge. You might want to increase the number of iterations. Duality gap: 395930363963428.5, tolerance: 2651305075165.9556\n",
      "Objective did not converge. You might want to increase the number of iterations. Duality gap: 151529367734408.0, tolerance: 2719329453221.5215\n",
      "Objective did not converge. You might want to increase the number of iterations. Duality gap: 230927119913418.5, tolerance: 2604951807635.925\n",
      "Objective did not converge. You might want to increase the number of iterations. Duality gap: 249584897963292.5, tolerance: 2555587343784.163\n",
      "Objective did not converge. You might want to increase the number of iterations. Duality gap: 220319078571445.0, tolerance: 2594247679393.997\n",
      "Objective did not converge. You might want to increase the number of iterations. Duality gap: 395948541662532.5, tolerance: 2651305075165.9556\n",
      "Objective did not converge. You might want to increase the number of iterations. Duality gap: 151543878363991.0, tolerance: 2719329453221.5215\n",
      "Objective did not converge. You might want to increase the number of iterations. Duality gap: 230941490235088.0, tolerance: 2604951807635.925\n",
      "Objective did not converge. You might want to increase the number of iterations. Duality gap: 249606831174581.5, tolerance: 2555587343784.163\n",
      "Objective did not converge. You might want to increase the number of iterations. Duality gap: 220334131527577.0, tolerance: 2594247679393.997\n",
      "Objective did not converge. You might want to increase the number of iterations. Duality gap: 395969541058125.0, tolerance: 2651305075165.9556\n",
      "Objective did not converge. You might want to increase the number of iterations. Duality gap: 151557108420800.0, tolerance: 2719329453221.5215\n",
      "Objective did not converge. You might want to increase the number of iterations. Duality gap: 230958297784123.0, tolerance: 2604951807635.925\n",
      "Objective did not converge. You might want to increase the number of iterations. Duality gap: 209711583366033.5, tolerance: 2555587343784.163\n",
      "Objective did not converge. You might want to increase the number of iterations. Duality gap: 220351801121455.0, tolerance: 2594247679393.997\n",
      "Objective did not converge. You might want to increase the number of iterations. Duality gap: 395986056025975.5, tolerance: 2651305075165.9556\n",
      "Objective did not converge. You might want to increase the number of iterations. Duality gap: 151574235277717.0, tolerance: 2719329453221.5215\n",
      "Objective did not converge. You might want to increase the number of iterations. Duality gap: 230977933456830.5, tolerance: 2604951807635.925\n",
      "Objective did not converge. You might want to increase the number of iterations. Duality gap: 81778296034672.5, tolerance: 2555587343784.163\n",
      "Objective did not converge. You might want to increase the number of iterations. Duality gap: 220372532657075.0, tolerance: 2594247679393.997\n",
      "Objective did not converge. You might want to increase the number of iterations. Duality gap: 396013639774723.0, tolerance: 2651305075165.9556\n",
      "Objective did not converge. You might want to increase the number of iterations. Duality gap: 151594054487979.0, tolerance: 2719329453221.5215\n",
      "Objective did not converge. You might want to increase the number of iterations. Duality gap: 231000842332715.0, tolerance: 2604951807635.925\n",
      "Objective did not converge. You might want to increase the number of iterations. Duality gap: 22206981911537.0, tolerance: 2555587343784.163\n",
      "Objective did not converge. You might want to increase the number of iterations. Duality gap: 220396843643836.0, tolerance: 2594247679393.997\n",
      "Objective did not converge. You might want to increase the number of iterations. Duality gap: 396044133428045.0, tolerance: 2651305075165.9556\n",
      "Objective did not converge. You might want to increase the number of iterations. Duality gap: 151616912344641.0, tolerance: 2719329453221.5215\n",
      "Objective did not converge. You might want to increase the number of iterations. Duality gap: 231027526183964.5, tolerance: 2604951807635.925\n",
      "Objective did not converge. You might want to increase the number of iterations. Duality gap: 22217315910872.5, tolerance: 2555587343784.163\n",
      "Objective did not converge. You might want to increase the number of iterations. Duality gap: 220425333793703.0, tolerance: 2594247679393.997\n",
      "Objective did not converge. You might want to increase the number of iterations. Duality gap: 396068470459632.5, tolerance: 2651305075165.9556\n",
      "Objective did not converge. You might want to increase the number of iterations. Duality gap: 188441778835979.5, tolerance: 2719329453221.5215\n",
      "Objective did not converge. You might want to increase the number of iterations. Duality gap: 231058546919317.0, tolerance: 2604951807635.925\n",
      "Objective did not converge. You might want to increase the number of iterations. Duality gap: 22229446069395.0, tolerance: 2555587343784.163\n",
      "Objective did not converge. You might want to increase the number of iterations. Duality gap: 220458696134125.0, tolerance: 2594247679393.997\n",
      "Objective did not converge. You might want to increase the number of iterations. Duality gap: 396110582335277.5, tolerance: 2651305075165.9556\n",
      "Objective did not converge. You might want to increase the number of iterations. Duality gap: 188475083788046.5, tolerance: 2719329453221.5215\n",
      "Objective did not converge. You might want to increase the number of iterations. Duality gap: 231094524427524.5, tolerance: 2604951807635.925\n",
      "Objective did not converge. You might want to increase the number of iterations. Duality gap: 22243678213685.5, tolerance: 2555587343784.163\n",
      "Objective did not converge. You might want to increase the number of iterations. Duality gap: 220497728327320.0, tolerance: 2594247679393.997\n",
      "Objective did not converge. You might want to increase the number of iterations. Duality gap: 51656952956731.0, tolerance: 2651305075165.9556\n",
      "Objective did not converge. You might want to increase the number of iterations. Duality gap: 125155673234917.0, tolerance: 2719329453221.5215\n",
      "Objective did not converge. You might want to increase the number of iterations. Duality gap: 231136131311348.0, tolerance: 2604951807635.925\n",
      "Objective did not converge. You might want to increase the number of iterations. Duality gap: 22260367416985.5, tolerance: 2555587343784.163\n",
      "Objective did not converge. You might want to increase the number of iterations. Duality gap: 220543344974328.0, tolerance: 2594247679393.997\n",
      "Objective did not converge. You might want to increase the number of iterations. Duality gap: 19741362895886.0, tolerance: 2651305075165.9556\n",
      "Objective did not converge. You might want to increase the number of iterations. Duality gap: 125190681286252.0, tolerance: 2719329453221.5215\n",
      "Objective did not converge. You might want to increase the number of iterations. Duality gap: 231184082698248.0, tolerance: 2604951807635.925\n",
      "Objective did not converge. You might want to increase the number of iterations. Duality gap: 22279925389486.5, tolerance: 2555587343784.163\n",
      "Objective did not converge. You might want to increase the number of iterations. Duality gap: 220596588628275.0, tolerance: 2594247679393.997\n",
      "Objective did not converge. You might want to increase the number of iterations. Duality gap: 19757667449154.0, tolerance: 2651305075165.9556\n",
      "Objective did not converge. You might want to increase the number of iterations. Duality gap: 30794352768215.0, tolerance: 2719329453221.5215\n",
      "Objective did not converge. You might want to increase the number of iterations. Duality gap: 164997084599695.0, tolerance: 2604951807635.925\n",
      "Objective did not converge. You might want to increase the number of iterations. Duality gap: 22302827719176.5, tolerance: 2555587343784.163\n",
      "Objective did not converge. You might want to increase the number of iterations. Duality gap: 220658638280209.0, tolerance: 2594247679393.997\n",
      "Objective did not converge. You might want to increase the number of iterations. Duality gap: 19776804318325.0, tolerance: 2651305075165.9556\n",
      "Objective did not converge. You might want to increase the number of iterations. Duality gap: 30818273069157.0, tolerance: 2719329453221.5215\n",
      "Objective did not converge. You might want to increase the number of iterations. Duality gap: 50013960083406.0, tolerance: 2604951807635.925\n",
      "Objective did not converge. You might want to increase the number of iterations. Duality gap: 83279155671455.0, tolerance: 2594247679393.997\n",
      "Objective did not converge. You might want to increase the number of iterations. Duality gap: 19799254790127.0, tolerance: 2651305075165.9556\n"
     ]
    },
    {
     "name": "stderr",
     "output_type": "stream",
     "text": [
      "Objective did not converge. You might want to increase the number of iterations. Duality gap: 30847819010979.0, tolerance: 2719329453221.5215\n",
      "Objective did not converge. You might want to increase the number of iterations. Duality gap: 12935569308043.0, tolerance: 2604951807635.925\n",
      "Objective did not converge. You might want to increase the number of iterations. Duality gap: 83332058508537.0, tolerance: 2594247679393.997\n",
      "Objective did not converge. You might want to increase the number of iterations. Duality gap: 19825577815051.0, tolerance: 2651305075165.9556\n",
      "Objective did not converge. You might want to increase the number of iterations. Duality gap: 12957526139569.0, tolerance: 2604951807635.925\n",
      "Objective did not converge. You might want to increase the number of iterations. Duality gap: 83393838454881.0, tolerance: 2594247679393.997\n",
      "Objective did not converge. You might want to increase the number of iterations. Duality gap: 19856420857543.0, tolerance: 2651305075165.9556\n",
      "Objective did not converge. You might want to increase the number of iterations. Duality gap: 12983243393378.0, tolerance: 2604951807635.925\n",
      "Objective did not converge. You might want to increase the number of iterations. Duality gap: 83465881673843.0, tolerance: 2594247679393.997\n",
      "Objective did not converge. You might want to increase the number of iterations. Duality gap: 13013339752827.0, tolerance: 2604951807635.925\n",
      "Objective did not converge. You might want to increase the number of iterations. Duality gap: 83549748499233.0, tolerance: 2594247679393.997\n",
      "Objective did not converge. You might want to increase the number of iterations. Duality gap: 83647178471189.0, tolerance: 2594247679393.997\n"
     ]
    }
   ],
   "source": [
    "TabErrors = []\n",
    "lasso_regr = Lasso()\n",
    "\n",
    "for i,a in enumerate(alphas) :\n",
    "    lasso_regr.set_params(alpha=a)\n",
    "    scores = cross_validate(lasso_regr, xTrainScaled, yTrain, cv=fold_number,\n",
    "                            scoring=('neg_mean_squared_error','neg_root_mean_squared_error','r2'))\n",
    "    temp = a, -mean(scores['test_neg_mean_squared_error']), -mean(scores['test_neg_root_mean_squared_error']), mean(scores['test_r2'])\n",
    "    TabErrors.append(temp)\n"
   ]
  },
  {
   "cell_type": "code",
   "execution_count": 24,
   "id": "ed3bd08f",
   "metadata": {},
   "outputs": [
    {
     "data": {
      "image/png": "[encoded data removed]",
      "text/plain": [
       "<Figure size 1152x216 with 3 Axes>"
      ]
     },
     "metadata": {
      "needs_background": "light"
     },
     "output_type": "display_data"
    }
   ],
   "source": [
    "fig, axes = plt.subplots(1, 3,figsize=(16,3))\n",
    "tab = ['MSE','RMSE','R2']\n",
    "color = ['b','g','r']\n",
    "\n",
    "for i,error_name in enumerate(tab) :\n",
    "    error_liste = [name[i+1] for j,name in enumerate(TabErrors)]\n",
    "    axes[i].plot(alphas,  error_liste,c=color[i])\n",
    "    axes[i].set_xscale('log')\n",
    "    axes[i].set_xlabel('alpha')\n",
    "    axes[i].set_ylabel(error_name)\n",
    "    axes[i].set_title(tab[i] + ' en fonction des alphas')\n",
    "    \n",
    "    plt.subplots_adjust(left=0.1, bottom=0.1, right=0.9, top=0.9, \n",
    "                    wspace=0.3, hspace=0.2)\n",
    "\n",
    "plt.show()"
   ]
  },
  {
   "cell_type": "code",
   "execution_count": 25,
   "id": "2ba12710",
   "metadata": {},
   "outputs": [
    {
     "name": "stdout",
     "output_type": "stream",
     "text": [
      "Index values for MSE 0, RMSE 0,  R2 99\n",
      "Best fit is for alpha = 10000.0\n"
     ]
    }
   ],
   "source": [
    "dfErrors = pd.DataFrame(TabErrors,columns=['alpha','MSE','RMSE','R2'])\n",
    "imin = dfErrors['R2'].idxmax()\n",
    "print('Index values for MSE {}, RMSE {},  R2 {}'\n",
    "      .format(dfErrors['MSE'].idxmax(),dfErrors['MSE'].idxmax(),imin  )   )\n",
    "alphaBest = dfErrors.loc[imin,'alpha']\n",
    "print('Best fit is for alpha = {}'.format(alphaBest))"
   ]
  },
  {
   "cell_type": "code",
   "execution_count": 26,
   "id": "7d40bb57",
   "metadata": {},
   "outputs": [
    {
     "name": "stdout",
     "output_type": "stream",
     "text": [
      "MSE 5671281562383.09 RMSE 2381445.27 R2 0.772\n",
      "MSE 5387703807156.84 RMSE 2321142.78 R2 0.786\n"
     ]
    }
   ],
   "source": [
    "lasso_regr.set_params(alpha=alphaBest)\n",
    "lasso_regr.fit(xTrainScaled, yTrain)\n",
    "yPredTrain = lasso_regr.predict(xTrainScaled)\n",
    "yPredTest = lasso_regr.predict(xTestScaled)\n",
    "msTrain,rmTrain,r2Train = getRegressionMetrics(yPredTrain, yTrain, isDump=True)\n",
    "msTest,rmTest,r2Test = getRegressionMetrics(yPredTest, yTest, isDump=True)"
   ]
  },
  {
   "cell_type": "code",
   "execution_count": 27,
   "id": "4709fb23",
   "metadata": {},
   "outputs": [],
   "source": [
    "# Store errors\n",
    "Results.append(['Lasso with Manual CV',msTrain,rmTrain,r2Train,msTest,rmTest,r2Test])"
   ]
  },
  {
   "cell_type": "markdown",
   "id": "240a4647",
   "metadata": {},
   "source": [
    "#### Decision Tree Regressor"
   ]
  },
  {
   "cell_type": "code",
   "execution_count": 28,
   "id": "404b0b7c",
   "metadata": {},
   "outputs": [
    {
     "data": {
      "text/plain": [
       "0.9723019063892329"
      ]
     },
     "execution_count": 28,
     "metadata": {},
     "output_type": "execute_result"
    }
   ],
   "source": [
    "from sklearn.tree import DecisionTreeRegressor\n",
    "from sklearn.model_selection import GridSearchCV\n",
    "\n",
    "fold_number = 5\n",
    "param_grid={\"max_depth\" : [3,4,5,6],\n",
    "                \"min_samples_leaf\":[2,3,4,5,10],\n",
    "                \"min_samples_split\":[10,15,20,25,30,40]\n",
    "               # \"max_features\":[2,3,4]\n",
    "               }\n",
    "                    \n",
    "dtr = DecisionTreeRegressor()\n",
    "grid_search = GridSearchCV(dtr, param_grid,\n",
    "              scoring='r2', cv=fold_number)\n",
    "\n",
    "grid_search.fit(xTrainScaled, yTrain)\n",
    "grid_search.best_score_"
   ]
  },
  {
   "cell_type": "code",
   "execution_count": 29,
   "id": "2925f4a1",
   "metadata": {},
   "outputs": [
    {
     "data": {
      "text/plain": [
       "0.984"
      ]
     },
     "execution_count": 29,
     "metadata": {},
     "output_type": "execute_result"
    }
   ],
   "source": [
    "grid_search.score(xTrainScaled, yTrain).round(3)"
   ]
  },
  {
   "cell_type": "code",
   "execution_count": 30,
   "id": "bf4f5509",
   "metadata": {},
   "outputs": [
    {
     "data": {
      "text/plain": [
       "{'max_depth': 6, 'min_samples_leaf': 3, 'min_samples_split': 15}"
      ]
     },
     "execution_count": 30,
     "metadata": {},
     "output_type": "execute_result"
    }
   ],
   "source": [
    "grid_search.best_params_"
   ]
  },
  {
   "cell_type": "code",
   "execution_count": 31,
   "id": "1c0412a2",
   "metadata": {},
   "outputs": [],
   "source": [
    "best_depth = grid_search.best_params_['max_depth']\n",
    "best_min_samples_leaf = grid_search.best_params_['min_samples_leaf']\n",
    "best_min_samples_split = grid_search.best_params_['min_samples_split']"
   ]
  },
  {
   "cell_type": "code",
   "execution_count": 32,
   "id": "bcb5081b",
   "metadata": {},
   "outputs": [
    {
     "name": "stdout",
     "output_type": "stream",
     "text": [
      "MSE 397800897271.81 RMSE 630714.59 R2 0.984\n",
      "MSE 618991525859.06 RMSE 786760.15 R2 0.975\n"
     ]
    }
   ],
   "source": [
    "dtr = DecisionTreeRegressor(max_depth=best_depth,min_samples_leaf=best_min_samples_leaf,\n",
    "                                         min_samples_split= best_min_samples_split)\n",
    "dtr.fit(xTrainScaled, yTrain)\n",
    "yPredTrain = dtr.predict(xTrainScaled)\n",
    "msTrain,rmTrain,r2Train = getRegressionMetrics(yPredTrain, yTrain, isDump=True)\n",
    "yPredTest = dtr.predict(xTestScaled)\n",
    "msTest,rmTest,r2Test = getRegressionMetrics(yPredTest, yTest, isDump=True)"
   ]
  },
  {
   "cell_type": "code",
   "execution_count": 33,
   "id": "77f70e54",
   "metadata": {},
   "outputs": [],
   "source": [
    "# Store errors\n",
    "Results.append(['Decision Tree Regressor',msTrain,rmTrain,r2Train,msTest,rmTest,r2Test])"
   ]
  },
  {
   "cell_type": "markdown",
   "id": "e01e41ca",
   "metadata": {},
   "source": [
    "#### Random Forest"
   ]
  },
  {
   "cell_type": "code",
   "execution_count": 34,
   "id": "e6fcccbe",
   "metadata": {},
   "outputs": [
    {
     "data": {
      "text/plain": [
       "0.9759464278797626"
      ]
     },
     "execution_count": 34,
     "metadata": {},
     "output_type": "execute_result"
    }
   ],
   "source": [
    "from sklearn.ensemble import RandomForestRegressor\n",
    "\n",
    "fold_number = 5\n",
    "param_grid={\"max_depth\" : [2,4,5],\n",
    "                \"min_samples_leaf\":[2,5],\n",
    "                \"min_samples_split\":[10,20],\n",
    "                \"n_estimators\":[100,300,500],\n",
    "                #\"max_leaf_nodes\":[16]\n",
    "               # \"max_features\":[2,3,4]\n",
    "               }\n",
    "                    \n",
    "rfg = RandomForestRegressor()\n",
    "grid_search = GridSearchCV(rfg, param_grid,\n",
    "              scoring='r2', cv=fold_number,n_jobs=-1)\n",
    "\n",
    "grid_search.fit(xTrainScaled, yTrain)\n",
    "grid_search.best_score_"
   ]
  },
  {
   "cell_type": "code",
   "execution_count": 35,
   "id": "adefa4e5",
   "metadata": {},
   "outputs": [
    {
     "data": {
      "text/plain": [
       "0.986"
      ]
     },
     "execution_count": 35,
     "metadata": {},
     "output_type": "execute_result"
    }
   ],
   "source": [
    "grid_search.score(xTrainScaled, yTrain).round(3)"
   ]
  },
  {
   "cell_type": "code",
   "execution_count": 36,
   "id": "4851064e",
   "metadata": {},
   "outputs": [
    {
     "data": {
      "text/plain": [
       "{'max_depth': 5,\n",
       " 'min_samples_leaf': 2,\n",
       " 'min_samples_split': 10,\n",
       " 'n_estimators': 500}"
      ]
     },
     "execution_count": 36,
     "metadata": {},
     "output_type": "execute_result"
    }
   ],
   "source": [
    "grid_search.best_params_"
   ]
  },
  {
   "cell_type": "code",
   "execution_count": 37,
   "id": "673eecd2",
   "metadata": {},
   "outputs": [],
   "source": [
    "best_depth = grid_search.best_params_['max_depth']\n",
    "best_min_samples_leaf = grid_search.best_params_['min_samples_leaf']\n",
    "best_min_samples_split = grid_search.best_params_['min_samples_split']\n",
    "#best_max_leaf_nodes = grid_search.best_params_['max_leaf_nodes']\n",
    "best_n_estimators = grid_search.best_params_['n_estimators']"
   ]
  },
  {
   "cell_type": "code",
   "execution_count": 38,
   "id": "06327793",
   "metadata": {},
   "outputs": [
    {
     "name": "stdout",
     "output_type": "stream",
     "text": [
      "MSE 345496266717.30 RMSE 587789.30 R2 0.986\n",
      "MSE 457960486297.34 RMSE 676727.78 R2 0.982\n"
     ]
    }
   ],
   "source": [
    "#rfg = RandomForestRegressor(max_depth=best_depth,min_samples_leaf=best_min_samples_leaf,\n",
    " #                                         max_leaf_nodes = best_max_leaf_nodes, min_samples_split= best_min_samples_split,\n",
    "  #                                        n_estimators = best_n_estimators)\n",
    "rfg = RandomForestRegressor(max_depth=best_depth,min_samples_leaf=best_min_samples_leaf,\n",
    "                                           min_samples_split= best_min_samples_split,\n",
    "                                          n_estimators = best_n_estimators)\n",
    "\n",
    "rfg.fit(xTrainScaled, yTrain)\n",
    "yPredTrain = rfg.predict(xTrainScaled)\n",
    "msTrain,rmTrain,r2Train = getRegressionMetrics(yPredTrain, yTrain, isDump=True)\n",
    "yPredTest = rfg.predict(xTestScaled)\n",
    "msTest,rmTest,r2Test = getRegressionMetrics(yPredTest, yTest, isDump=True)"
   ]
  },
  {
   "cell_type": "code",
   "execution_count": 39,
   "id": "500b0e8b",
   "metadata": {},
   "outputs": [],
   "source": [
    "# Store errors\n",
    "Results.append(['Random Forest',msTrain,rmTrain,r2Train,msTest,rmTest,r2Test])"
   ]
  },
  {
   "cell_type": "markdown",
   "id": "29644d8b",
   "metadata": {},
   "source": [
    "#### Gradient Boosting"
   ]
  },
  {
   "cell_type": "code",
   "execution_count": 40,
   "id": "d2da2835",
   "metadata": {},
   "outputs": [
    {
     "data": {
      "text/plain": [
       "0.9810812821141806"
      ]
     },
     "execution_count": 40,
     "metadata": {},
     "output_type": "execute_result"
    }
   ],
   "source": [
    "from sklearn.ensemble import GradientBoostingRegressor\n",
    "\n",
    "fold_number = 5\n",
    "param_grid={\"max_depth\" : [4,6],\n",
    "            #\"min_samples_leaf\":[5,10],\n",
    "            \"min_samples_split\":[10,20],\n",
    "            \"n_estimators\":[300,600],\n",
    "            #\"max_leaf_nodes\":[16],\n",
    "            \"learning_rate\":[0.05,0.1],\n",
    "            \"n_iter_no_change\":[10]\n",
    "            \n",
    "            # \"max_features\":[2,3,4]\n",
    "               }\n",
    "                    \n",
    "gbr = GradientBoostingRegressor()\n",
    "grid_search = GridSearchCV(gbr, param_grid,\n",
    "              scoring='r2', cv=fold_number,n_jobs=-1)\n",
    "\n",
    "grid_search.fit(xTrainScaled, yTrain)\n",
    "grid_search.best_score_"
   ]
  },
  {
   "cell_type": "code",
   "execution_count": 41,
   "id": "9efbcf04",
   "metadata": {},
   "outputs": [
    {
     "data": {
      "text/plain": [
       "{'learning_rate': 0.05,\n",
       " 'max_depth': 4,\n",
       " 'min_samples_split': 10,\n",
       " 'n_estimators': 600,\n",
       " 'n_iter_no_change': 10}"
      ]
     },
     "execution_count": 41,
     "metadata": {},
     "output_type": "execute_result"
    }
   ],
   "source": [
    "grid_search.best_params_"
   ]
  },
  {
   "cell_type": "code",
   "execution_count": 42,
   "id": "f0ce3620",
   "metadata": {},
   "outputs": [],
   "source": [
    "best_depth = grid_search.best_params_['max_depth']\n",
    "#best_min_samples_leaf = grid_search.best_params_['min_samples_leaf']\n",
    "best_min_samples_split = grid_search.best_params_['min_samples_split']\n",
    "#best_max_leaf_nodes = grid_search.best_params_['max_leaf_nodes']\n",
    "best_n_estimators = grid_search.best_params_['n_estimators']\n",
    "best_learning_rate = grid_search.best_params_['learning_rate']\n",
    "best_n_iter_no_change = grid_search.best_params_['n_iter_no_change']"
   ]
  },
  {
   "cell_type": "code",
   "execution_count": 43,
   "id": "a434400c",
   "metadata": {},
   "outputs": [
    {
     "name": "stdout",
     "output_type": "stream",
     "text": [
      "MSE 136660810079.08 RMSE 369676.63 R2 0.995\n",
      "MSE 284426522147.26 RMSE 533316.53 R2 0.989\n"
     ]
    }
   ],
   "source": [
    "#gbr = GradientBoostingRegressor(max_depth=best_depth,min_samples_leaf=best_min_samples_leaf,\n",
    "                             #   max_leaf_nodes = best_max_leaf_nodes, min_samples_split= best_min_samples_split,\n",
    "                             #   n_estimators = best_n_estimators, learning_rate = best_learning_rate,\n",
    "                             #   n_iter_no_change = best_n_iter_no_change)\n",
    "gbr = GradientBoostingRegressor(max_depth=best_depth,\n",
    "                                 min_samples_split= best_min_samples_split,\n",
    "                                n_estimators = best_n_estimators, learning_rate = best_learning_rate,\n",
    "                                 n_iter_no_change = best_n_iter_no_change)\n",
    "\n",
    "gbr.fit(xTrainScaled, yTrain)\n",
    "yPredTrain = gbr.predict(xTrainScaled)\n",
    "yPredTest = gbr.predict(xTestScaled)\n",
    "\n",
    "msTrain,rmTrain,r2Train = getRegressionMetrics(yPredTrain, yTrain, isDump=True)\n",
    "msTest,rmTest,r2Test = getRegressionMetrics(yPredTest, yTest, isDump=True)"
   ]
  },
  {
   "cell_type": "code",
   "execution_count": 44,
   "id": "9002d2d6",
   "metadata": {},
   "outputs": [],
   "source": [
    "# Store errors\n",
    "Results.append(['Gradient Boosting',msTrain,rmTrain,r2Train,msTest,rmTest,r2Test])"
   ]
  },
  {
   "cell_type": "markdown",
   "id": "294e85ae",
   "metadata": {},
   "source": [
    "#### Comparaison des différents algorithmes"
   ]
  },
  {
   "cell_type": "code",
   "execution_count": 46,
   "id": "cc234825",
   "metadata": {},
   "outputs": [
    {
     "data": {
      "text/html": [
       "<div>\n",
       "<style scoped>\n",
       "    .dataframe tbody tr th:only-of-type {\n",
       "        vertical-align: middle;\n",
       "    }\n",
       "\n",
       "    .dataframe tbody tr th {\n",
       "        vertical-align: top;\n",
       "    }\n",
       "\n",
       "    .dataframe thead th {\n",
       "        text-align: right;\n",
       "    }\n",
       "</style>\n",
       "<table border=\"1\" class=\"dataframe\">\n",
       "  <thead>\n",
       "    <tr style=\"text-align: right;\">\n",
       "      <th></th>\n",
       "      <th>Name</th>\n",
       "      <th>MSE Train</th>\n",
       "      <th>RMSE Train</th>\n",
       "      <th>R2 Train</th>\n",
       "      <th>MSE Test</th>\n",
       "      <th>RMSE Test</th>\n",
       "      <th>R2 Test</th>\n",
       "    </tr>\n",
       "  </thead>\n",
       "  <tbody>\n",
       "    <tr>\n",
       "      <th>0</th>\n",
       "      <td>Linear Regression</td>\n",
       "      <td>5.666947e+12</td>\n",
       "      <td>2380534.991</td>\n",
       "      <td>0.772</td>\n",
       "      <td>5.418813e+12</td>\n",
       "      <td>2327834.432</td>\n",
       "      <td>0.784</td>\n",
       "    </tr>\n",
       "    <tr>\n",
       "      <th>1</th>\n",
       "      <td>RidgeCV</td>\n",
       "      <td>6.297666e+12</td>\n",
       "      <td>2509515.032</td>\n",
       "      <td>0.747</td>\n",
       "      <td>6.219610e+12</td>\n",
       "      <td>2493914.617</td>\n",
       "      <td>0.753</td>\n",
       "    </tr>\n",
       "    <tr>\n",
       "      <th>2</th>\n",
       "      <td>Ridge with Manual CV</td>\n",
       "      <td>6.297666e+12</td>\n",
       "      <td>2509515.032</td>\n",
       "      <td>0.747</td>\n",
       "      <td>6.219610e+12</td>\n",
       "      <td>2493914.617</td>\n",
       "      <td>0.753</td>\n",
       "    </tr>\n",
       "    <tr>\n",
       "      <th>3</th>\n",
       "      <td>LassoCV</td>\n",
       "      <td>5.928746e+12</td>\n",
       "      <td>2434901.705</td>\n",
       "      <td>0.762</td>\n",
       "      <td>5.448548e+12</td>\n",
       "      <td>2334212.473</td>\n",
       "      <td>0.783</td>\n",
       "    </tr>\n",
       "    <tr>\n",
       "      <th>4</th>\n",
       "      <td>Lasso with Manual CV</td>\n",
       "      <td>5.671282e+12</td>\n",
       "      <td>2381445.268</td>\n",
       "      <td>0.772</td>\n",
       "      <td>5.387704e+12</td>\n",
       "      <td>2321142.780</td>\n",
       "      <td>0.786</td>\n",
       "    </tr>\n",
       "    <tr>\n",
       "      <th>5</th>\n",
       "      <td>Decision Tree Regressor</td>\n",
       "      <td>3.978009e+11</td>\n",
       "      <td>630714.593</td>\n",
       "      <td>0.984</td>\n",
       "      <td>6.189915e+11</td>\n",
       "      <td>786760.145</td>\n",
       "      <td>0.975</td>\n",
       "    </tr>\n",
       "    <tr>\n",
       "      <th>6</th>\n",
       "      <td>Random Forest</td>\n",
       "      <td>3.454963e+11</td>\n",
       "      <td>587789.305</td>\n",
       "      <td>0.986</td>\n",
       "      <td>4.579605e+11</td>\n",
       "      <td>676727.779</td>\n",
       "      <td>0.982</td>\n",
       "    </tr>\n",
       "    <tr>\n",
       "      <th>7</th>\n",
       "      <td>Gradient Boosting</td>\n",
       "      <td>1.366608e+11</td>\n",
       "      <td>369676.629</td>\n",
       "      <td>0.995</td>\n",
       "      <td>2.844265e+11</td>\n",
       "      <td>533316.531</td>\n",
       "      <td>0.989</td>\n",
       "    </tr>\n",
       "  </tbody>\n",
       "</table>\n",
       "</div>"
      ],
      "text/plain": [
       "                      Name     MSE Train   RMSE Train  R2 Train      MSE Test  \\\n",
       "0        Linear Regression  5.666947e+12  2380534.991     0.772  5.418813e+12   \n",
       "1                  RidgeCV  6.297666e+12  2509515.032     0.747  6.219610e+12   \n",
       "2     Ridge with Manual CV  6.297666e+12  2509515.032     0.747  6.219610e+12   \n",
       "3                  LassoCV  5.928746e+12  2434901.705     0.762  5.448548e+12   \n",
       "4     Lasso with Manual CV  5.671282e+12  2381445.268     0.772  5.387704e+12   \n",
       "5  Decision Tree Regressor  3.978009e+11   630714.593     0.984  6.189915e+11   \n",
       "6            Random Forest  3.454963e+11   587789.305     0.986  4.579605e+11   \n",
       "7        Gradient Boosting  1.366608e+11   369676.629     0.995  2.844265e+11   \n",
       "\n",
       "     RMSE Test  R2 Test  \n",
       "0  2327834.432    0.784  \n",
       "1  2493914.617    0.753  \n",
       "2  2493914.617    0.753  \n",
       "3  2334212.473    0.783  \n",
       "4  2321142.780    0.786  \n",
       "5   786760.145    0.975  \n",
       "6   676727.779    0.982  \n",
       "7   533316.531    0.989  "
      ]
     },
     "execution_count": 46,
     "metadata": {},
     "output_type": "execute_result"
    }
   ],
   "source": [
    "dfResults = pd.DataFrame(Results,columns=['Name','MSE Train','RMSE Train','R2 Train','MSE Test','RMSE Test','R2 Test'])\n",
    "dfResults.round(3)"
   ]
  },
  {
   "cell_type": "code",
   "execution_count": 47,
   "id": "c5666ded",
   "metadata": {},
   "outputs": [
    {
     "data": {
      "image/png": "[encoded data removed]",
      "text/plain": [
       "<Figure size 576x684 with 2 Axes>"
      ]
     },
     "metadata": {
      "needs_background": "light"
     },
     "output_type": "display_data"
    }
   ],
   "source": [
    "shap_values = shap.TreeExplainer(gbr).shap_values(xTestScaled)\n",
    "shap.summary_plot(shap_values, xTestScaled,use_log_scale=False,feature_names=XTest.columns)"
   ]
  },
  {
   "cell_type": "markdown",
   "id": "a49814e2",
   "metadata": {},
   "source": [
    "### 3. Modélisations sans l'Energy Star Score"
   ]
  },
  {
   "cell_type": "code",
   "execution_count": 48,
   "id": "f7860745",
   "metadata": {},
   "outputs": [],
   "source": [
    "XTrain = dfTrain.drop(['SiteEnergyUse(kBtu)','TotalGHGEmissions','ENERGYSTARScore'],axis=1 )\n",
    "yTrain = dfTrain[targetName].copy()\n",
    "XTest = dfTest.drop(['SiteEnergyUse(kBtu)','TotalGHGEmissions','ENERGYSTARScore'],axis=1 )\n",
    "yTest = dfTest[targetName].copy()"
   ]
  },
  {
   "cell_type": "code",
   "execution_count": 49,
   "id": "4241b6a2",
   "metadata": {},
   "outputs": [],
   "source": [
    "from sklearn.preprocessing import StandardScaler\n",
    "\n",
    "scaler = StandardScaler()\n",
    "\n",
    "xTrainScaled = scaler.fit_transform(XTrain)\n",
    "xTestScaled = scaler.transform(XTest)"
   ]
  },
  {
   "cell_type": "markdown",
   "id": "2fd07043",
   "metadata": {},
   "source": [
    "#### Linear Regression"
   ]
  },
  {
   "cell_type": "code",
   "execution_count": 50,
   "id": "82053a77",
   "metadata": {},
   "outputs": [],
   "source": [
    "from sklearn.linear_model import LinearRegression\n",
    "linear_regr = LinearRegression()\n",
    "linear_regr.fit(xTrainScaled, yTrain)\n",
    "\n",
    "yPredTrain = linear_regr.predict(xTrainScaled)\n",
    "yPredTest = linear_regr.predict(xTestScaled)"
   ]
  },
  {
   "cell_type": "code",
   "execution_count": 51,
   "id": "c327b61a",
   "metadata": {},
   "outputs": [
    {
     "name": "stdout",
     "output_type": "stream",
     "text": [
      "MSE 5673494758015.46 RMSE 2381909.90 R2 0.772\n",
      "MSE 5436063099259.60 RMSE 2331536.64 R2 0.784\n"
     ]
    }
   ],
   "source": [
    "msTrain,rmTrain,r2Train  = getRegressionMetrics(yPredTrain, yTrain)\n",
    "msTest,rmTest,r2Test  = getRegressionMetrics(yPredTest, yTest)"
   ]
  },
  {
   "cell_type": "code",
   "execution_count": 52,
   "id": "cbec101e",
   "metadata": {},
   "outputs": [],
   "source": [
    "# Store errors\n",
    "Results = []\n",
    "Results.append(['Linear Regression',msTrain,rmTrain,r2Train,msTest,rmTest,r2Test])"
   ]
  },
  {
   "cell_type": "markdown",
   "id": "4f78f791",
   "metadata": {},
   "source": [
    "#### RidgeCV"
   ]
  },
  {
   "cell_type": "code",
   "execution_count": 53,
   "id": "3271f779",
   "metadata": {},
   "outputs": [
    {
     "name": "stdout",
     "output_type": "stream",
     "text": [
      "alpha = 475.0810162102793  best score = -7590361365281.028\n",
      "Train best score = 0.7471950344254567\n",
      "Test best score = 0.7534682211953336\n",
      "MSE 6285675791103.84 RMSE 2507125.01 R2 0.747\n",
      "MSE 6197849351161.46 RMSE 2489548.02 R2 0.753\n"
     ]
    }
   ],
   "source": [
    "from sklearn.linear_model import RidgeCV\n",
    "\n",
    "nAlphas = 100\n",
    "fold_number = 5\n",
    "alphas= np.logspace(-5,5,nAlphas)\n",
    "\n",
    "ridgeCV_regr = RidgeCV(alphas=alphas,\n",
    "scoring='neg_mean_squared_error',\n",
    "                 cv=fold_number)\n",
    "ridgeCV_regr.fit(xTrainScaled, yTrain)\n",
    "print('alpha = {}  best score = {}'.format(ridgeCV_regr.alpha_ , ridgeCV_regr.best_score_))\n",
    "yPredtrain = ridgeCV_regr.predict(xTrainScaled)\n",
    "print('Train best score = {}'.format(ridgeCV_regr.score(xTrainScaled,yTrain)))\n",
    "yPredTest = ridgeCV_regr.predict(xTestScaled)\n",
    "print('Test best score = {}'.format(ridgeCV_regr.score(xTestScaled,yTest)))\n",
    "msTrain,rmTrain,r2Train = getRegressionMetrics(yPredtrain, yTrain, isDump=True)\n",
    "msTest,rmTest,r2Test = getRegressionMetrics(yPredTest, yTest, isDump=True)"
   ]
  },
  {
   "cell_type": "code",
   "execution_count": 54,
   "id": "bd5c03c1",
   "metadata": {},
   "outputs": [],
   "source": [
    "# Store errors\n",
    "Results.append(['RidgeCV',msTrain,rmTrain,r2Train,msTest,rmTest,r2Test])"
   ]
  },
  {
   "cell_type": "markdown",
   "id": "a31c7042",
   "metadata": {},
   "source": [
    "#### Ridge  with Manual CV"
   ]
  },
  {
   "cell_type": "code",
   "execution_count": 55,
   "id": "d0b1c8ac",
   "metadata": {},
   "outputs": [],
   "source": [
    "from sklearn.linear_model import Ridge\n",
    "from sklearn.model_selection import cross_validate\n",
    "from numpy import mean , std\n",
    "\n",
    "nAlphas = 100\n",
    "fold_number = 5\n",
    "alphas= np.logspace(-5,5,nAlphas)"
   ]
  },
  {
   "cell_type": "code",
   "execution_count": 56,
   "id": "6d71035b",
   "metadata": {},
   "outputs": [],
   "source": [
    "TabErrors = []\n",
    "ridge_regr = Ridge()\n",
    "\n",
    "for i,a in enumerate(alphas) :\n",
    "    ridge_regr.set_params(alpha=a)\n",
    "    scores = cross_validate(ridge_regr, xTrainScaled, yTrain, cv=fold_number,\n",
    "                            scoring=('neg_mean_squared_error','neg_root_mean_squared_error','r2'))\n",
    "    temp = a, -mean(scores['test_neg_mean_squared_error']), -mean(scores['test_neg_root_mean_squared_error']), mean(scores['test_r2'])\n",
    "    TabErrors.append(temp)\n",
    "\n",
    "#mini = [val[0] for i,val in enumerate(TabErrors) if val[1] == np.min(TabErrors,axis=0)[1]]\n",
    "#mini"
   ]
  },
  {
   "cell_type": "code",
   "execution_count": 57,
   "id": "2414b04a",
   "metadata": {},
   "outputs": [
    {
     "data": {
      "image/png": "[encoded data removed]",
      "text/plain": [
       "<Figure size 1152x216 with 3 Axes>"
      ]
     },
     "metadata": {
      "needs_background": "light"
     },
     "output_type": "display_data"
    }
   ],
   "source": [
    "fig, axes = plt.subplots(1, 3,figsize=(16,3))\n",
    "tab = ['MSE','RMSE','R2']\n",
    "color = ['b','g','r']\n",
    "\n",
    "for i,error_name in enumerate(tab) :\n",
    "    error_liste = [name[i+1] for j,name in enumerate(TabErrors)]\n",
    "    axes[i].plot(alphas,  error_liste,c=color[i])\n",
    "    axes[i].set_xscale('log')\n",
    "    axes[i].set_xlabel('alpha')\n",
    "    axes[i].set_ylabel(error_name)\n",
    "    axes[i].set_title(tab[i] + ' en fonction des alphas')\n",
    "    \n",
    "    plt.subplots_adjust(left=0.1, bottom=0.1, right=0.9, top=0.9, \n",
    "                    wspace=0.3, hspace=0.2)\n",
    "\n",
    "plt.show()"
   ]
  },
  {
   "cell_type": "markdown",
   "id": "ad3c66d0",
   "metadata": {},
   "source": [
    "Get best params"
   ]
  },
  {
   "cell_type": "code",
   "execution_count": 58,
   "id": "f294be53",
   "metadata": {},
   "outputs": [
    {
     "name": "stdout",
     "output_type": "stream",
     "text": [
      "Index values for MSE 99, RMSE 99,  R2 76\n",
      "Best fit is for alpha = 475.0810162102793\n"
     ]
    }
   ],
   "source": [
    "dfErrors = pd.DataFrame(TabErrors,columns=['alpha','MSE','RMSE','R2'])\n",
    "imin = dfErrors['R2'].idxmax()\n",
    "print('Index values for MSE {}, RMSE {},  R2 {}'\n",
    "      .format(dfErrors['MSE'].idxmax(),dfErrors['MSE'].idxmax(),imin  )   )\n",
    "alphaBest = dfErrors.loc[imin,'alpha']\n",
    "print('Best fit is for alpha = {}'.format(alphaBest))"
   ]
  },
  {
   "cell_type": "markdown",
   "id": "9a2063e5",
   "metadata": {},
   "source": [
    "Apply model with best params"
   ]
  },
  {
   "cell_type": "code",
   "execution_count": 59,
   "id": "092cb0be",
   "metadata": {},
   "outputs": [
    {
     "name": "stdout",
     "output_type": "stream",
     "text": [
      "MSE 6285675791103.84 RMSE 2507125.01 R2 0.747\n",
      "MSE 6197849351161.46 RMSE 2489548.02 R2 0.753\n"
     ]
    }
   ],
   "source": [
    "ridge_regr.set_params(alpha=alphaBest)\n",
    "ridge_regr.fit(xTrainScaled, yTrain)\n",
    "yPredTrain = ridge_regr.predict(xTrainScaled)\n",
    "yPredTest = ridge_regr.predict(xTestScaled)\n",
    "msTrain,rmTrain,r2Train = getRegressionMetrics(yPredTrain, yTrain, isDump=True)\n",
    "msTest,rmTest,r2Test = getRegressionMetrics(yPredTest, yTest, isDump=True)"
   ]
  },
  {
   "cell_type": "code",
   "execution_count": 60,
   "id": "9ea20af9",
   "metadata": {},
   "outputs": [],
   "source": [
    "# Store errors\n",
    "Results.append(['Ridge with Manual CV',msTrain,rmTrain,r2Train,msTest,rmTest,r2Test])"
   ]
  },
  {
   "cell_type": "markdown",
   "id": "f20f070a",
   "metadata": {},
   "source": [
    "#### LassoCV"
   ]
  },
  {
   "cell_type": "code",
   "execution_count": 61,
   "id": "85cd347c",
   "metadata": {},
   "outputs": [
    {
     "name": "stdout",
     "output_type": "stream",
     "text": [
      "Best fit is for alpha = 100000.0\n",
      "Train best score = 0.762\n",
      "Test best score = 0.783\n",
      "MSE 5928758785759.61 RMSE 2434904.27 R2 0.762\n",
      "MSE 5448570959774.76 RMSE 2334217.42 R2 0.783\n"
     ]
    }
   ],
   "source": [
    "from sklearn.linear_model import LassoCV\n",
    "\n",
    "nAlphas = 100\n",
    "fold_number = 5\n",
    "alphas= np.logspace(-5,5,nAlphas)\n",
    "\n",
    "lassoCV_regr = LassoCV(alphas=alphas, cv=fold_number)\n",
    "\n",
    "lassoCV_regr.fit(xTrainScaled, yTrain)\n",
    "print('Best fit is for alpha = {}'.format(lassoCV_regr.alpha_))\n",
    "yPredtrain = lassoCV_regr.predict(xTrainScaled)\n",
    "print('Train best score = {:.3f}'.format(lassoCV_regr.score(xTrainScaled,yTrain)))\n",
    "yPredTest = lassoCV_regr.predict(xTestScaled)\n",
    "print('Test best score = {:.3f}'.format(lassoCV_regr.score(xTestScaled,yTest)))\n",
    "msTrain,rmTrain,r2Train = getRegressionMetrics(yPredtrain, yTrain, isDump=True)\n",
    "msTest,rmTest,r2Test = getRegressionMetrics(yPredTest, yTest, isDump=True)"
   ]
  },
  {
   "cell_type": "code",
   "execution_count": 62,
   "id": "d488f7cb",
   "metadata": {},
   "outputs": [],
   "source": [
    "# Store errors\n",
    "Results.append(['LassoCV',msTrain,rmTrain,r2Train,msTest,rmTest,r2Test])"
   ]
  },
  {
   "cell_type": "markdown",
   "id": "6a94debc",
   "metadata": {},
   "source": [
    "#### Lasso with Manual CV"
   ]
  },
  {
   "cell_type": "code",
   "execution_count": 63,
   "id": "1e8a287d",
   "metadata": {},
   "outputs": [],
   "source": [
    "from sklearn.linear_model import Lasso\n",
    "\n",
    "n_alphas = 100\n",
    "alphas = np.logspace(-3, 4, n_alphas)"
   ]
  },
  {
   "cell_type": "code",
   "execution_count": 64,
   "id": "74ab68c3",
   "metadata": {},
   "outputs": [
    {
     "name": "stderr",
     "output_type": "stream",
     "text": [
      "Objective did not converge. You might want to increase the number of iterations. Duality gap: 225628558905342.0, tolerance: 2555587343784.163\n",
      "Objective did not converge. You might want to increase the number of iterations. Duality gap: 311436280590041.5, tolerance: 2594247679393.997\n",
      "Objective did not converge. You might want to increase the number of iterations. Duality gap: 396206321439228.0, tolerance: 2651305075165.9556\n",
      "Objective did not converge. You might want to increase the number of iterations. Duality gap: 854717822852357.0, tolerance: 2719329453221.5215\n",
      "Objective did not converge. You might want to increase the number of iterations. Duality gap: 562360994480434.0, tolerance: 2604951807635.925\n",
      "Objective did not converge. You might want to increase the number of iterations. Duality gap: 225628548692786.5, tolerance: 2555587343784.163\n",
      "Objective did not converge. You might want to increase the number of iterations. Duality gap: 311436394022951.0, tolerance: 2594247679393.997\n",
      "Objective did not converge. You might want to increase the number of iterations. Duality gap: 396206258780564.5, tolerance: 2651305075165.9556\n",
      "Objective did not converge. You might want to increase the number of iterations. Duality gap: 854717728354984.0, tolerance: 2719329453221.5215\n",
      "Objective did not converge. You might want to increase the number of iterations. Duality gap: 562360961726073.5, tolerance: 2604951807635.925\n",
      "Objective did not converge. You might want to increase the number of iterations. Duality gap: 225628519747511.0, tolerance: 2555587343784.163\n",
      "Objective did not converge. You might want to increase the number of iterations. Duality gap: 311436393313065.5, tolerance: 2594247679393.997\n",
      "Objective did not converge. You might want to increase the number of iterations. Duality gap: 396206389304730.0, tolerance: 2651305075165.9556\n",
      "Objective did not converge. You might want to increase the number of iterations. Duality gap: 854717804300480.0, tolerance: 2719329453221.5215\n",
      "Objective did not converge. You might want to increase the number of iterations. Duality gap: 562360962480002.0, tolerance: 2604951807635.925\n",
      "Objective did not converge. You might want to increase the number of iterations. Duality gap: 225628528669265.5, tolerance: 2555587343784.163\n",
      "Objective did not converge. You might want to increase the number of iterations. Duality gap: 311436382256942.0, tolerance: 2594247679393.997\n",
      "Objective did not converge. You might want to increase the number of iterations. Duality gap: 396206291531462.0, tolerance: 2651305075165.9556\n",
      "Objective did not converge. You might want to increase the number of iterations. Duality gap: 854717834063395.5, tolerance: 2719329453221.5215\n",
      "Objective did not converge. You might want to increase the number of iterations. Duality gap: 562360979052571.5, tolerance: 2604951807635.925\n",
      "Objective did not converge. You might want to increase the number of iterations. Duality gap: 225628530821122.0, tolerance: 2555587343784.163\n",
      "Objective did not converge. You might want to increase the number of iterations. Duality gap: 311436367993871.5, tolerance: 2594247679393.997\n",
      "Objective did not converge. You might want to increase the number of iterations. Duality gap: 396206325795542.5, tolerance: 2651305075165.9556\n",
      "Objective did not converge. You might want to increase the number of iterations. Duality gap: 854717754080587.0, tolerance: 2719329453221.5215\n",
      "Objective did not converge. You might want to increase the number of iterations. Duality gap: 562360990684653.5, tolerance: 2604951807635.925\n",
      "Objective did not converge. You might want to increase the number of iterations. Duality gap: 225628541815061.5, tolerance: 2555587343784.163\n",
      "Objective did not converge. You might want to increase the number of iterations. Duality gap: 311436365455610.0, tolerance: 2594247679393.997\n",
      "Objective did not converge. You might want to increase the number of iterations. Duality gap: 396206317044484.0, tolerance: 2651305075165.9556\n",
      "Objective did not converge. You might want to increase the number of iterations. Duality gap: 854717772926983.5, tolerance: 2719329453221.5215\n",
      "Objective did not converge. You might want to increase the number of iterations. Duality gap: 562361006599467.5, tolerance: 2604951807635.925\n",
      "Objective did not converge. You might want to increase the number of iterations. Duality gap: 225628538627619.5, tolerance: 2555587343784.163\n",
      "Objective did not converge. You might want to increase the number of iterations. Duality gap: 311436388205863.5, tolerance: 2594247679393.997\n",
      "Objective did not converge. You might want to increase the number of iterations. Duality gap: 396206311990714.0, tolerance: 2651305075165.9556\n",
      "Objective did not converge. You might want to increase the number of iterations. Duality gap: 854717790012042.0, tolerance: 2719329453221.5215\n",
      "Objective did not converge. You might want to increase the number of iterations. Duality gap: 562361005096156.0, tolerance: 2604951807635.925\n",
      "Objective did not converge. You might want to increase the number of iterations. Duality gap: 225628549605764.5, tolerance: 2555587343784.163\n",
      "Objective did not converge. You might want to increase the number of iterations. Duality gap: 311436410372217.5, tolerance: 2594247679393.997\n",
      "Objective did not converge. You might want to increase the number of iterations. Duality gap: 396206337966798.0, tolerance: 2651305075165.9556\n",
      "Objective did not converge. You might want to increase the number of iterations. Duality gap: 854717795964753.5, tolerance: 2719329453221.5215\n",
      "Objective did not converge. You might want to increase the number of iterations. Duality gap: 562360989251014.5, tolerance: 2604951807635.925\n",
      "Objective did not converge. You might want to increase the number of iterations. Duality gap: 225628547927743.5, tolerance: 2555587343784.163\n",
      "Objective did not converge. You might want to increase the number of iterations. Duality gap: 311436395607627.5, tolerance: 2594247679393.997\n",
      "Objective did not converge. You might want to increase the number of iterations. Duality gap: 396206363538501.0, tolerance: 2651305075165.9556\n",
      "Objective did not converge. You might want to increase the number of iterations. Duality gap: 854717799328505.0, tolerance: 2719329453221.5215\n",
      "Objective did not converge. You might want to increase the number of iterations. Duality gap: 562361007995571.0, tolerance: 2604951807635.925\n",
      "Objective did not converge. You might want to increase the number of iterations. Duality gap: 225628546630719.5, tolerance: 2555587343784.163\n",
      "Objective did not converge. You might want to increase the number of iterations. Duality gap: 311436381713364.5, tolerance: 2594247679393.997\n",
      "Objective did not converge. You might want to increase the number of iterations. Duality gap: 396206359780284.0, tolerance: 2651305075165.9556\n",
      "Objective did not converge. You might want to increase the number of iterations. Duality gap: 854717813824865.0, tolerance: 2719329453221.5215\n",
      "Objective did not converge. You might want to increase the number of iterations. Duality gap: 562361009877636.5, tolerance: 2604951807635.925\n",
      "Objective did not converge. You might want to increase the number of iterations. Duality gap: 225628547077679.0, tolerance: 2555587343784.163\n",
      "Objective did not converge. You might want to increase the number of iterations. Duality gap: 311436419718529.5, tolerance: 2594247679393.997\n",
      "Objective did not converge. You might want to increase the number of iterations. Duality gap: 396206345725576.5, tolerance: 2651305075165.9556\n",
      "Objective did not converge. You might want to increase the number of iterations. Duality gap: 854717809905644.0, tolerance: 2719329453221.5215\n",
      "Objective did not converge. You might want to increase the number of iterations. Duality gap: 562360997080834.0, tolerance: 2604951807635.925\n",
      "Objective did not converge. You might want to increase the number of iterations. Duality gap: 225628564847364.5, tolerance: 2555587343784.163\n",
      "Objective did not converge. You might want to increase the number of iterations. Duality gap: 311436403175391.0, tolerance: 2594247679393.997\n",
      "Objective did not converge. You might want to increase the number of iterations. Duality gap: 396206360043342.0, tolerance: 2651305075165.9556\n",
      "Objective did not converge. You might want to increase the number of iterations. Duality gap: 854717818106700.0, tolerance: 2719329453221.5215\n",
      "Objective did not converge. You might want to increase the number of iterations. Duality gap: 562361008411515.5, tolerance: 2604951807635.925\n",
      "Objective did not converge. You might want to increase the number of iterations. Duality gap: 225628571118795.0, tolerance: 2555587343784.163\n",
      "Objective did not converge. You might want to increase the number of iterations. Duality gap: 311436418025236.0, tolerance: 2594247679393.997\n",
      "Objective did not converge. You might want to increase the number of iterations. Duality gap: 396206376237348.5, tolerance: 2651305075165.9556\n"
     ]
    },
    {
     "name": "stderr",
     "output_type": "stream",
     "text": [
      "Objective did not converge. You might want to increase the number of iterations. Duality gap: 854717825673379.5, tolerance: 2719329453221.5215\n",
      "Objective did not converge. You might want to increase the number of iterations. Duality gap: 562361026346233.0, tolerance: 2604951807635.925\n",
      "Objective did not converge. You might want to increase the number of iterations. Duality gap: 225628570666766.5, tolerance: 2555587343784.163\n",
      "Objective did not converge. You might want to increase the number of iterations. Duality gap: 311436416437548.0, tolerance: 2594247679393.997\n",
      "Objective did not converge. You might want to increase the number of iterations. Duality gap: 396206369698972.0, tolerance: 2651305075165.9556\n",
      "Objective did not converge. You might want to increase the number of iterations. Duality gap: 854717837334275.5, tolerance: 2719329453221.5215\n",
      "Objective did not converge. You might want to increase the number of iterations. Duality gap: 562361022030397.0, tolerance: 2604951807635.925\n",
      "Objective did not converge. You might want to increase the number of iterations. Duality gap: 225628575847052.0, tolerance: 2555587343784.163\n",
      "Objective did not converge. You might want to increase the number of iterations. Duality gap: 311436432777509.0, tolerance: 2594247679393.997\n",
      "Objective did not converge. You might want to increase the number of iterations. Duality gap: 396206380022902.0, tolerance: 2651305075165.9556\n",
      "Objective did not converge. You might want to increase the number of iterations. Duality gap: 854717842728422.5, tolerance: 2719329453221.5215\n",
      "Objective did not converge. You might want to increase the number of iterations. Duality gap: 562361033206827.5, tolerance: 2604951807635.925\n",
      "Objective did not converge. You might want to increase the number of iterations. Duality gap: 225628586326038.0, tolerance: 2555587343784.163\n",
      "Objective did not converge. You might want to increase the number of iterations. Duality gap: 311436432743283.5, tolerance: 2594247679393.997\n",
      "Objective did not converge. You might want to increase the number of iterations. Duality gap: 396206398238070.5, tolerance: 2651305075165.9556\n",
      "Objective did not converge. You might want to increase the number of iterations. Duality gap: 854717853338907.5, tolerance: 2719329453221.5215\n",
      "Objective did not converge. You might want to increase the number of iterations. Duality gap: 562361051644130.5, tolerance: 2604951807635.925\n",
      "Objective did not converge. You might want to increase the number of iterations. Duality gap: 225628593350323.0, tolerance: 2555587343784.163\n",
      "Objective did not converge. You might want to increase the number of iterations. Duality gap: 311436446195388.0, tolerance: 2594247679393.997\n",
      "Objective did not converge. You might want to increase the number of iterations. Duality gap: 396206402758219.5, tolerance: 2651305075165.9556\n",
      "Objective did not converge. You might want to increase the number of iterations. Duality gap: 854717873147136.0, tolerance: 2719329453221.5215\n",
      "Objective did not converge. You might want to increase the number of iterations. Duality gap: 562361059910614.5, tolerance: 2604951807635.925\n",
      "Objective did not converge. You might want to increase the number of iterations. Duality gap: 225628604567684.5, tolerance: 2555587343784.163\n",
      "Objective did not converge. You might want to increase the number of iterations. Duality gap: 311436454847326.0, tolerance: 2594247679393.997\n",
      "Objective did not converge. You might want to increase the number of iterations. Duality gap: 396206413548977.5, tolerance: 2651305075165.9556\n",
      "Objective did not converge. You might want to increase the number of iterations. Duality gap: 854717891280790.0, tolerance: 2719329453221.5215\n",
      "Objective did not converge. You might want to increase the number of iterations. Duality gap: 562361070818595.5, tolerance: 2604951807635.925\n",
      "Objective did not converge. You might want to increase the number of iterations. Duality gap: 225628620140357.5, tolerance: 2555587343784.163\n",
      "Objective did not converge. You might want to increase the number of iterations. Duality gap: 311436466904569.5, tolerance: 2594247679393.997\n",
      "Objective did not converge. You might want to increase the number of iterations. Duality gap: 396206439283567.5, tolerance: 2651305075165.9556\n",
      "Objective did not converge. You might want to increase the number of iterations. Duality gap: 854717910766315.5, tolerance: 2719329453221.5215\n",
      "Objective did not converge. You might want to increase the number of iterations. Duality gap: 562361086817920.0, tolerance: 2604951807635.925\n",
      "Objective did not converge. You might want to increase the number of iterations. Duality gap: 225628633209510.0, tolerance: 2555587343784.163\n",
      "Objective did not converge. You might want to increase the number of iterations. Duality gap: 311436482348824.0, tolerance: 2594247679393.997\n",
      "Objective did not converge. You might want to increase the number of iterations. Duality gap: 396206454058665.0, tolerance: 2651305075165.9556\n",
      "Objective did not converge. You might want to increase the number of iterations. Duality gap: 854717941077878.5, tolerance: 2719329453221.5215\n",
      "Objective did not converge. You might want to increase the number of iterations. Duality gap: 562361110420462.5, tolerance: 2604951807635.925\n",
      "Objective did not converge. You might want to increase the number of iterations. Duality gap: 225628651095109.5, tolerance: 2555587343784.163\n",
      "Objective did not converge. You might want to increase the number of iterations. Duality gap: 311436499133547.5, tolerance: 2594247679393.997\n",
      "Objective did not converge. You might want to increase the number of iterations. Duality gap: 396206479393582.0, tolerance: 2651305075165.9556\n",
      "Objective did not converge. You might want to increase the number of iterations. Duality gap: 854717964204705.0, tolerance: 2719329453221.5215\n",
      "Objective did not converge. You might want to increase the number of iterations. Duality gap: 562361131539766.0, tolerance: 2604951807635.925\n",
      "Objective did not converge. You might want to increase the number of iterations. Duality gap: 225628671357396.5, tolerance: 2555587343784.163\n",
      "Objective did not converge. You might want to increase the number of iterations. Duality gap: 311436518085783.0, tolerance: 2594247679393.997\n",
      "Objective did not converge. You might want to increase the number of iterations. Duality gap: 396206502854555.0, tolerance: 2651305075165.9556\n",
      "Objective did not converge. You might want to increase the number of iterations. Duality gap: 854718002465668.5, tolerance: 2719329453221.5215\n",
      "Objective did not converge. You might want to increase the number of iterations. Duality gap: 562361162774226.5, tolerance: 2604951807635.925\n",
      "Objective did not converge. You might want to increase the number of iterations. Duality gap: 225628695755820.5, tolerance: 2555587343784.163\n",
      "Objective did not converge. You might want to increase the number of iterations. Duality gap: 311436543549597.0, tolerance: 2594247679393.997\n",
      "Objective did not converge. You might want to increase the number of iterations. Duality gap: 396206532696194.5, tolerance: 2651305075165.9556\n",
      "Objective did not converge. You might want to increase the number of iterations. Duality gap: 854718039607667.0, tolerance: 2719329453221.5215\n",
      "Objective did not converge. You might want to increase the number of iterations. Duality gap: 562361193882168.0, tolerance: 2604951807635.925\n",
      "Objective did not converge. You might want to increase the number of iterations. Duality gap: 225628725107411.0, tolerance: 2555587343784.163\n",
      "Objective did not converge. You might want to increase the number of iterations. Duality gap: 311436572702464.5, tolerance: 2594247679393.997\n",
      "Objective did not converge. You might want to increase the number of iterations. Duality gap: 396206568739552.5, tolerance: 2651305075165.9556\n",
      "Objective did not converge. You might want to increase the number of iterations. Duality gap: 854718088041839.5, tolerance: 2719329453221.5215\n",
      "Objective did not converge. You might want to increase the number of iterations. Duality gap: 562361233759365.0, tolerance: 2604951807635.925\n",
      "Objective did not converge. You might want to increase the number of iterations. Duality gap: 225628758570106.0, tolerance: 2555587343784.163\n",
      "Objective did not converge. You might want to increase the number of iterations. Duality gap: 311436605340500.5, tolerance: 2594247679393.997\n",
      "Objective did not converge. You might want to increase the number of iterations. Duality gap: 396206611361174.5, tolerance: 2651305075165.9556\n",
      "Objective did not converge. You might want to increase the number of iterations. Duality gap: 854718143234459.0, tolerance: 2719329453221.5215\n"
     ]
    },
    {
     "name": "stderr",
     "output_type": "stream",
     "text": [
      "Objective did not converge. You might want to increase the number of iterations. Duality gap: 562361278761127.5, tolerance: 2604951807635.925\n",
      "Objective did not converge. You might want to increase the number of iterations. Duality gap: 225628798632140.0, tolerance: 2555587343784.163\n",
      "Objective did not converge. You might want to increase the number of iterations. Duality gap: 311436644372868.5, tolerance: 2594247679393.997\n",
      "Objective did not converge. You might want to increase the number of iterations. Duality gap: 396206664461618.5, tolerance: 2651305075165.9556\n",
      "Objective did not converge. You might want to increase the number of iterations. Duality gap: 854718208612682.5, tolerance: 2719329453221.5215\n",
      "Objective did not converge. You might want to increase the number of iterations. Duality gap: 562361334026068.0, tolerance: 2604951807635.925\n",
      "Objective did not converge. You might want to increase the number of iterations. Duality gap: 225628845777788.0, tolerance: 2555587343784.163\n",
      "Objective did not converge. You might want to increase the number of iterations. Duality gap: 311436690558127.0, tolerance: 2594247679393.997\n",
      "Objective did not converge. You might want to increase the number of iterations. Duality gap: 396206721753887.5, tolerance: 2651305075165.9556\n",
      "Objective did not converge. You might want to increase the number of iterations. Duality gap: 854718286904494.0, tolerance: 2719329453221.5215\n",
      "Objective did not converge. You might want to increase the number of iterations. Duality gap: 562361397025113.0, tolerance: 2604951807635.925\n",
      "Objective did not converge. You might want to increase the number of iterations. Duality gap: 225628900609465.0, tolerance: 2555587343784.163\n",
      "Objective did not converge. You might want to increase the number of iterations. Duality gap: 311436745089079.5, tolerance: 2594247679393.997\n",
      "Objective did not converge. You might want to increase the number of iterations. Duality gap: 396206790191706.5, tolerance: 2651305075165.9556\n",
      "Objective did not converge. You might want to increase the number of iterations. Duality gap: 854718379692095.5, tolerance: 2719329453221.5215\n",
      "Objective did not converge. You might want to increase the number of iterations. Duality gap: 562361471905147.5, tolerance: 2604951807635.925\n",
      "Objective did not converge. You might want to increase the number of iterations. Duality gap: 225628965428734.0, tolerance: 2555587343784.163\n",
      "Objective did not converge. You might want to increase the number of iterations. Duality gap: 311436808694424.5, tolerance: 2594247679393.997\n",
      "Objective did not converge. You might want to increase the number of iterations. Duality gap: 396206872616646.5, tolerance: 2651305075165.9556\n",
      "Objective did not converge. You might want to increase the number of iterations. Duality gap: 854718487615398.0, tolerance: 2719329453221.5215\n",
      "Objective did not converge. You might want to increase the number of iterations. Duality gap: 562361560923398.5, tolerance: 2604951807635.925\n",
      "Objective did not converge. You might want to increase the number of iterations. Duality gap: 225629041573662.5, tolerance: 2555587343784.163\n",
      "Objective did not converge. You might want to increase the number of iterations. Duality gap: 311436883744800.5, tolerance: 2594247679393.997\n",
      "Objective did not converge. You might want to increase the number of iterations. Duality gap: 396206969250727.0, tolerance: 2651305075165.9556\n",
      "Objective did not converge. You might want to increase the number of iterations. Duality gap: 854718614256047.5, tolerance: 2719329453221.5215\n",
      "Objective did not converge. You might want to increase the number of iterations. Duality gap: 562361665065943.0, tolerance: 2604951807635.925\n",
      "Objective did not converge. You might want to increase the number of iterations. Duality gap: 225629131329405.5, tolerance: 2555587343784.163\n",
      "Objective did not converge. You might want to increase the number of iterations. Duality gap: 311436971656759.0, tolerance: 2594247679393.997\n",
      "Objective did not converge. You might want to increase the number of iterations. Duality gap: 396207081688264.5, tolerance: 2651305075165.9556\n",
      "Objective did not converge. You might want to increase the number of iterations. Duality gap: 854718763046631.0, tolerance: 2719329453221.5215\n",
      "Objective did not converge. You might want to increase the number of iterations. Duality gap: 562361787412171.0, tolerance: 2604951807635.925\n",
      "Objective did not converge. You might want to increase the number of iterations. Duality gap: 225629237022266.5, tolerance: 2555587343784.163\n",
      "Objective did not converge. You might want to increase the number of iterations. Duality gap: 311437075496109.0, tolerance: 2594247679393.997\n",
      "Objective did not converge. You might want to increase the number of iterations. Duality gap: 396207215563937.5, tolerance: 2651305075165.9556\n",
      "Objective did not converge. You might want to increase the number of iterations. Duality gap: 854718939237067.0, tolerance: 2719329453221.5215\n",
      "Objective did not converge. You might want to increase the number of iterations. Duality gap: 562361932036190.0, tolerance: 2604951807635.925\n",
      "Objective did not converge. You might want to increase the number of iterations. Duality gap: 225629361227220.5, tolerance: 2555587343784.163\n",
      "Objective did not converge. You might want to increase the number of iterations. Duality gap: 311437197580656.5, tolerance: 2594247679393.997\n",
      "Objective did not converge. You might want to increase the number of iterations. Duality gap: 396207372219411.5, tolerance: 2651305075165.9556\n",
      "Objective did not converge. You might want to increase the number of iterations. Duality gap: 854719145747012.5, tolerance: 2719329453221.5215\n",
      "Objective did not converge. You might want to increase the number of iterations. Duality gap: 562362101797317.0, tolerance: 2604951807635.925\n",
      "Objective did not converge. You might want to increase the number of iterations. Duality gap: 225629507400667.0, tolerance: 2555587343784.163\n",
      "Objective did not converge. You might want to increase the number of iterations. Duality gap: 311437341268680.0, tolerance: 2594247679393.997\n",
      "Objective did not converge. You might want to increase the number of iterations. Duality gap: 396207556902774.0, tolerance: 2651305075165.9556\n",
      "Objective did not converge. You might want to increase the number of iterations. Duality gap: 854719389030534.5, tolerance: 2719329453221.5215\n",
      "Objective did not converge. You might want to increase the number of iterations. Duality gap: 562362301665754.5, tolerance: 2604951807635.925\n",
      "Objective did not converge. You might want to increase the number of iterations. Duality gap: 225629679340662.5, tolerance: 2555587343784.163\n",
      "Objective did not converge. You might want to increase the number of iterations. Duality gap: 311437510318488.5, tolerance: 2594247679393.997\n",
      "Objective did not converge. You might want to increase the number of iterations. Duality gap: 396207773512156.0, tolerance: 2651305075165.9556\n",
      "Objective did not converge. You might want to increase the number of iterations. Duality gap: 854719675232655.0, tolerance: 2719329453221.5215\n",
      "Objective did not converge. You might want to increase the number of iterations. Duality gap: 562362536377954.0, tolerance: 2604951807635.925\n",
      "Objective did not converge. You might want to increase the number of iterations. Duality gap: 225629881587020.5, tolerance: 2555587343784.163\n",
      "Objective did not converge. You might want to increase the number of iterations. Duality gap: 311437709317191.0, tolerance: 2594247679393.997\n",
      "Objective did not converge. You might want to increase the number of iterations. Duality gap: 396208028454737.0, tolerance: 2651305075165.9556\n",
      "Objective did not converge. You might want to increase the number of iterations. Duality gap: 854720012026444.5, tolerance: 2719329453221.5215\n",
      "Objective did not converge. You might want to increase the number of iterations. Duality gap: 562362813067415.0, tolerance: 2604951807635.925\n",
      "Objective did not converge. You might want to increase the number of iterations. Duality gap: 225630119727692.0, tolerance: 2555587343784.163\n",
      "Objective did not converge. You might want to increase the number of iterations. Duality gap: 311437943215105.0, tolerance: 2594247679393.997\n",
      "Objective did not converge. You might want to increase the number of iterations. Duality gap: 396208328801899.5, tolerance: 2651305075165.9556\n",
      "Objective did not converge. You might want to increase the number of iterations. Duality gap: 854720408387182.5, tolerance: 2719329453221.5215\n",
      "Objective did not converge. You might want to increase the number of iterations. Duality gap: 562363138344550.0, tolerance: 2604951807635.925\n",
      "Objective did not converge. You might want to increase the number of iterations. Duality gap: 225630399781120.0, tolerance: 2555587343784.163\n"
     ]
    },
    {
     "name": "stderr",
     "output_type": "stream",
     "text": [
      "Objective did not converge. You might want to increase the number of iterations. Duality gap: 311438218866883.0, tolerance: 2594247679393.997\n",
      "Objective did not converge. You might want to increase the number of iterations. Duality gap: 396208682082755.0, tolerance: 2651305075165.9556\n",
      "Objective did not converge. You might want to increase the number of iterations. Duality gap: 854720874542112.5, tolerance: 2719329453221.5215\n",
      "Objective did not converge. You might want to increase the number of iterations. Duality gap: 562363521148561.0, tolerance: 2604951807635.925\n",
      "Objective did not converge. You might want to increase the number of iterations. Duality gap: 225630729329614.5, tolerance: 2555587343784.163\n",
      "Objective did not converge. You might want to increase the number of iterations. Duality gap: 311438542844063.0, tolerance: 2594247679393.997\n",
      "Objective did not converge. You might want to increase the number of iterations. Duality gap: 396209098184916.5, tolerance: 2651305075165.9556\n",
      "Objective did not converge. You might want to increase the number of iterations. Duality gap: 854721423140269.5, tolerance: 2719329453221.5215\n",
      "Objective did not converge. You might want to increase the number of iterations. Duality gap: 562363971590934.5, tolerance: 2604951807635.925\n",
      "Objective did not converge. You might want to increase the number of iterations. Duality gap: 225631117018553.0, tolerance: 2555587343784.163\n",
      "Objective did not converge. You might want to increase the number of iterations. Duality gap: 311438924226007.5, tolerance: 2594247679393.997\n",
      "Objective did not converge. You might want to increase the number of iterations. Duality gap: 396209586593029.5, tolerance: 2651305075165.9556\n",
      "Objective did not converge. You might want to increase the number of iterations. Duality gap: 854722068743842.5, tolerance: 2719329453221.5215\n",
      "Objective did not converge. You might want to increase the number of iterations. Duality gap: 562364501515942.0, tolerance: 2604951807635.925\n",
      "Objective did not converge. You might want to increase the number of iterations. Duality gap: 225631573029687.0, tolerance: 2555587343784.163\n",
      "Objective did not converge. You might want to increase the number of iterations. Duality gap: 311439372790354.5, tolerance: 2594247679393.997\n",
      "Objective did not converge. You might want to increase the number of iterations. Duality gap: 396210161284664.0, tolerance: 2651305075165.9556\n",
      "Objective did not converge. You might want to increase the number of iterations. Duality gap: 854722827947963.5, tolerance: 2719329453221.5215\n",
      "Objective did not converge. You might want to increase the number of iterations. Duality gap: 562365125158041.5, tolerance: 2604951807635.925\n",
      "Objective did not converge. You might want to increase the number of iterations. Duality gap: 225632109407386.5, tolerance: 2555587343784.163\n",
      "Objective did not converge. You might want to increase the number of iterations. Duality gap: 311439900906086.0, tolerance: 2594247679393.997\n",
      "Objective did not converge. You might want to increase the number of iterations. Duality gap: 396210837637939.5, tolerance: 2651305075165.9556\n",
      "Objective did not converge. You might want to increase the number of iterations. Duality gap: 854723721213864.0, tolerance: 2719329453221.5215\n",
      "Objective did not converge. You might want to increase the number of iterations. Duality gap: 562365858662677.5, tolerance: 2604951807635.925\n",
      "Objective did not converge. You might want to increase the number of iterations. Duality gap: 225632740259606.5, tolerance: 2555587343784.163\n",
      "Objective did not converge. You might want to increase the number of iterations. Duality gap: 311440521853657.0, tolerance: 2594247679393.997\n",
      "Objective did not converge. You might want to increase the number of iterations. Duality gap: 396211632587704.0, tolerance: 2651305075165.9556\n",
      "Objective did not converge. You might want to increase the number of iterations. Duality gap: 854724771880005.0, tolerance: 2719329453221.5215\n",
      "Objective did not converge. You might want to increase the number of iterations. Duality gap: 562366721430743.5, tolerance: 2604951807635.925\n",
      "Objective did not converge. You might want to increase the number of iterations. Duality gap: 225633482198568.5, tolerance: 2555587343784.163\n",
      "Objective did not converge. You might want to increase the number of iterations. Duality gap: 311441252670468.0, tolerance: 2594247679393.997\n",
      "Objective did not converge. You might want to increase the number of iterations. Duality gap: 396212567593293.0, tolerance: 2651305075165.9556\n",
      "Objective did not converge. You might want to increase the number of iterations. Duality gap: 854726007722099.5, tolerance: 2719329453221.5215\n",
      "Objective did not converge. You might want to increase the number of iterations. Duality gap: 562367736497010.0, tolerance: 2604951807635.925\n",
      "Objective did not converge. You might want to increase the number of iterations. Duality gap: 225634354589397.0, tolerance: 2555587343784.163\n",
      "Objective did not converge. You might want to increase the number of iterations. Duality gap: 311442112267893.0, tolerance: 2594247679393.997\n",
      "Objective did not converge. You might want to increase the number of iterations. Duality gap: 396213666599439.0, tolerance: 2651305075165.9556\n",
      "Objective did not converge. You might want to increase the number of iterations. Duality gap: 626482118478361.0, tolerance: 2719329453221.5215\n",
      "Objective did not converge. You might want to increase the number of iterations. Duality gap: 562368930435595.5, tolerance: 2604951807635.925\n",
      "Objective did not converge. You might want to increase the number of iterations. Duality gap: 225635380258653.0, tolerance: 2555587343784.163\n",
      "Objective did not converge. You might want to increase the number of iterations. Duality gap: 311443123641091.0, tolerance: 2594247679393.997\n",
      "Objective did not converge. You might want to increase the number of iterations. Duality gap: 396214958601178.5, tolerance: 2651305075165.9556\n",
      "Objective did not converge. You might want to increase the number of iterations. Duality gap: 626483979286405.0, tolerance: 2719329453221.5215\n",
      "Objective did not converge. You might want to increase the number of iterations. Duality gap: 562370334620748.0, tolerance: 2604951807635.925\n",
      "Objective did not converge. You might want to increase the number of iterations. Duality gap: 225636585957072.0, tolerance: 2555587343784.163\n",
      "Objective did not converge. You might want to increase the number of iterations. Duality gap: 311444313216241.5, tolerance: 2594247679393.997\n",
      "Objective did not converge. You might want to increase the number of iterations. Duality gap: 396216476774454.5, tolerance: 2651305075165.9556\n",
      "Objective did not converge. You might want to increase the number of iterations. Duality gap: 626485747407651.5, tolerance: 2719329453221.5215\n",
      "Objective did not converge. You might want to increase the number of iterations. Duality gap: 562371985947789.5, tolerance: 2604951807635.925\n",
      "Objective did not converge. You might want to increase the number of iterations. Duality gap: 225638003035466.5, tolerance: 2555587343784.163\n",
      "Objective did not converge. You might want to increase the number of iterations. Duality gap: 311445712373736.5, tolerance: 2594247679393.997\n",
      "Objective did not converge. You might want to increase the number of iterations. Duality gap: 396218260505815.0, tolerance: 2651305075165.9556\n",
      "Objective did not converge. You might want to increase the number of iterations. Duality gap: 626487826240952.0, tolerance: 2719329453221.5215\n",
      "Objective did not converge. You might want to increase the number of iterations. Duality gap: 562373927652538.0, tolerance: 2604951807635.925\n",
      "Objective did not converge. You might want to increase the number of iterations. Duality gap: 225639668102490.0, tolerance: 2555587343784.163\n",
      "Objective did not converge. You might want to increase the number of iterations. Duality gap: 311447358016967.5, tolerance: 2594247679393.997\n",
      "Objective did not converge. You might want to increase the number of iterations. Duality gap: 396220355655411.0, tolerance: 2651305075165.9556\n",
      "Objective did not converge. You might want to increase the number of iterations. Duality gap: 626490270131598.0, tolerance: 2719329453221.5215\n",
      "Objective did not converge. You might want to increase the number of iterations. Duality gap: 562376210443884.0, tolerance: 2604951807635.925\n",
      "Objective did not converge. You might want to increase the number of iterations. Duality gap: 225641624062224.5, tolerance: 2555587343784.163\n",
      "Objective did not converge. You might want to increase the number of iterations. Duality gap: 311449293168478.5, tolerance: 2594247679393.997\n"
     ]
    },
    {
     "name": "stderr",
     "output_type": "stream",
     "text": [
      "Objective did not converge. You might want to increase the number of iterations. Duality gap: 396222815543681.5, tolerance: 2651305075165.9556\n",
      "Objective did not converge. You might want to increase the number of iterations. Duality gap: 626493142583162.0, tolerance: 2719329453221.5215\n",
      "Objective did not converge. You might want to increase the number of iterations. Duality gap: 562378893855590.0, tolerance: 2604951807635.925\n",
      "Objective did not converge. You might want to increase the number of iterations. Duality gap: 225643920946697.5, tolerance: 2555587343784.163\n",
      "Objective did not converge. You might want to increase the number of iterations. Duality gap: 311451568590488.5, tolerance: 2594247679393.997\n",
      "Objective did not converge. You might want to increase the number of iterations. Duality gap: 396225702665237.0, tolerance: 2651305075165.9556\n",
      "Objective did not converge. You might want to increase the number of iterations. Duality gap: 626496517968975.0, tolerance: 2719329453221.5215\n",
      "Objective did not converge. You might want to increase the number of iterations. Duality gap: 562382047564807.5, tolerance: 2604951807635.925\n",
      "Objective did not converge. You might want to increase the number of iterations. Duality gap: 225646617187577.5, tolerance: 2555587343784.163\n",
      "Objective did not converge. You might want to increase the number of iterations. Duality gap: 311454243688963.0, tolerance: 2594247679393.997\n",
      "Objective did not converge. You might want to increase the number of iterations. Duality gap: 396229089541289.5, tolerance: 2651305075165.9556\n",
      "Objective did not converge. You might want to increase the number of iterations. Duality gap: 626500483347055.0, tolerance: 2719329453221.5215\n",
      "Objective did not converge. You might want to increase the number of iterations. Duality gap: 562385752997374.0, tolerance: 2604951807635.925\n",
      "Objective did not converge. You might want to increase the number of iterations. Duality gap: 225649780797471.0, tolerance: 2555587343784.163\n",
      "Objective did not converge. You might want to increase the number of iterations. Duality gap: 311457388096389.5, tolerance: 2594247679393.997\n",
      "Objective did not converge. You might want to increase the number of iterations. Duality gap: 396233060347037.0, tolerance: 2651305075165.9556\n",
      "Objective did not converge. You might want to increase the number of iterations. Duality gap: 626505140493565.5, tolerance: 2719329453221.5215\n",
      "Objective did not converge. You might want to increase the number of iterations. Duality gap: 562390105494575.5, tolerance: 2604951807635.925\n",
      "Objective did not converge. You might want to increase the number of iterations. Duality gap: 225653490798891.0, tolerance: 2555587343784.163\n",
      "Objective did not converge. You might want to increase the number of iterations. Duality gap: 311461083417979.0, tolerance: 2594247679393.997\n",
      "Objective did not converge. You might want to increase the number of iterations. Duality gap: 396237712633698.5, tolerance: 2651305075165.9556\n",
      "Objective did not converge. You might want to increase the number of iterations. Duality gap: 626510608023131.0, tolerance: 2719329453221.5215\n",
      "Objective did not converge. You might want to increase the number of iterations. Duality gap: 562395216435602.0, tolerance: 2604951807635.925\n",
      "Objective did not converge. You might want to increase the number of iterations. Duality gap: 225657838806201.0, tolerance: 2555587343784.163\n",
      "Objective did not converge. You might want to increase the number of iterations. Duality gap: 311465425039031.0, tolerance: 2594247679393.997\n",
      "Objective did not converge. You might want to increase the number of iterations. Duality gap: 396243158921796.5, tolerance: 2651305075165.9556\n",
      "Objective did not converge. You might want to increase the number of iterations. Duality gap: 626517024198277.0, tolerance: 2719329453221.5215\n",
      "Objective did not converge. You might want to increase the number of iterations. Duality gap: 562401215526111.5, tolerance: 2604951807635.925\n",
      "Objective did not converge. You might want to increase the number of iterations. Duality gap: 225662930723524.0, tolerance: 2555587343784.163\n",
      "Objective did not converge. You might want to increase the number of iterations. Duality gap: 311470524602182.5, tolerance: 2594247679393.997\n",
      "Objective did not converge. You might want to increase the number of iterations. Duality gap: 396249528668241.0, tolerance: 2651305075165.9556\n",
      "Objective did not converge. You might want to increase the number of iterations. Duality gap: 626524549813380.0, tolerance: 2719329453221.5215\n",
      "Objective did not converge. You might want to increase the number of iterations. Duality gap: 562408253891774.5, tolerance: 2604951807635.925\n",
      "Objective did not converge. You might want to increase the number of iterations. Duality gap: 225668888480118.0, tolerance: 2555587343784.163\n",
      "Objective did not converge. You might want to increase the number of iterations. Duality gap: 311476512337654.5, tolerance: 2594247679393.997\n",
      "Objective did not converge. You might want to increase the number of iterations. Duality gap: 396256581151440.5, tolerance: 2651305075165.9556\n",
      "Objective did not converge. You might want to increase the number of iterations. Duality gap: 626533371428044.0, tolerance: 2719329453221.5215\n",
      "Objective did not converge. You might want to increase the number of iterations. Duality gap: 562416507012769.5, tolerance: 2604951807635.925\n",
      "Objective did not converge. You might want to increase the number of iterations. Duality gap: 225675851929751.5, tolerance: 2555587343784.163\n",
      "Objective did not converge. You might want to increase the number of iterations. Duality gap: 311483637561530.5, tolerance: 2594247679393.997\n",
      "Objective did not converge. You might want to increase the number of iterations. Duality gap: 396265212513957.0, tolerance: 2651305075165.9556\n",
      "Objective did not converge. You might want to increase the number of iterations. Duality gap: 199808466007612.5, tolerance: 2719329453221.5215\n",
      "Objective did not converge. You might want to increase the number of iterations. Duality gap: 562426178259415.0, tolerance: 2604951807635.925\n",
      "Objective did not converge. You might want to increase the number of iterations. Duality gap: 225683980510118.5, tolerance: 2555587343784.163\n",
      "Objective did not converge. You might want to increase the number of iterations. Duality gap: 311491910198584.5, tolerance: 2594247679393.997\n",
      "Objective did not converge. You might want to increase the number of iterations. Duality gap: 396275272296668.0, tolerance: 2651305075165.9556\n",
      "Objective did not converge. You might want to increase the number of iterations. Duality gap: 199816224177255.5, tolerance: 2719329453221.5215\n",
      "Objective did not converge. You might want to increase the number of iterations. Duality gap: 562437502501631.5, tolerance: 2604951807635.925\n",
      "Objective did not converge. You might want to increase the number of iterations. Duality gap: 209904974768577.5, tolerance: 2555587343784.163\n",
      "Objective did not converge. You might want to increase the number of iterations. Duality gap: 311501616856010.5, tolerance: 2594247679393.997\n",
      "Objective did not converge. You might want to increase the number of iterations. Duality gap: 396286975462067.5, tolerance: 2651305075165.9556\n",
      "Objective did not converge. You might want to increase the number of iterations. Duality gap: 199825284773913.5, tolerance: 2719329453221.5215\n",
      "Objective did not converge. You might want to increase the number of iterations. Duality gap: 562450750113500.5, tolerance: 2604951807635.925\n",
      "Objective did not converge. You might want to increase the number of iterations. Duality gap: 209915336662294.5, tolerance: 2555587343784.163\n",
      "Objective did not converge. You might want to increase the number of iterations. Duality gap: 311512997101933.5, tolerance: 2594247679393.997\n",
      "Objective did not converge. You might want to increase the number of iterations. Duality gap: 396298452907153.0, tolerance: 2651305075165.9556\n",
      "Objective did not converge. You might want to increase the number of iterations. Duality gap: 199835851417103.0, tolerance: 2719329453221.5215\n",
      "Objective did not converge. You might want to increase the number of iterations. Duality gap: 562466230785604.0, tolerance: 2604951807635.925\n"
     ]
    },
    {
     "name": "stderr",
     "output_type": "stream",
     "text": [
      "Objective did not converge. You might want to increase the number of iterations. Duality gap: 209927443013536.0, tolerance: 2555587343784.163\n",
      "Objective did not converge. You might want to increase the number of iterations. Duality gap: 220371291649241.0, tolerance: 2594247679393.997\n",
      "Objective did not converge. You might want to increase the number of iterations. Duality gap: 396308642951037.0, tolerance: 2651305075165.9556\n",
      "Objective did not converge. You might want to increase the number of iterations. Duality gap: 199848449954144.0, tolerance: 2719329453221.5215\n",
      "Objective did not converge. You might want to increase the number of iterations. Duality gap: 185405737210143.5, tolerance: 2604951807635.925\n",
      "Objective did not converge. You might want to increase the number of iterations. Duality gap: 209941568628516.5, tolerance: 2555587343784.163\n",
      "Objective did not converge. You might want to increase the number of iterations. Duality gap: 220384054853199.0, tolerance: 2594247679393.997\n",
      "Objective did not converge. You might want to increase the number of iterations. Duality gap: 396326185785688.0, tolerance: 2651305075165.9556\n",
      "Objective did not converge. You might want to increase the number of iterations. Duality gap: 199862805295941.5, tolerance: 2719329453221.5215\n",
      "Objective did not converge. You might want to increase the number of iterations. Duality gap: 231064746929829.0, tolerance: 2604951807635.925\n",
      "Objective did not converge. You might want to increase the number of iterations. Duality gap: 210055263640255.0, tolerance: 2555587343784.163\n",
      "Objective did not converge. You might want to increase the number of iterations. Duality gap: 220399042266376.0, tolerance: 2594247679393.997\n",
      "Objective did not converge. You might want to increase the number of iterations. Duality gap: 396346620885342.5, tolerance: 2651305075165.9556\n",
      "Objective did not converge. You might want to increase the number of iterations. Duality gap: 199879447692333.0, tolerance: 2719329453221.5215\n",
      "Objective did not converge. You might want to increase the number of iterations. Duality gap: 231081450688599.0, tolerance: 2604951807635.925\n",
      "Objective did not converge. You might want to increase the number of iterations. Duality gap: 209974172656321.0, tolerance: 2555587343784.163\n",
      "Objective did not converge. You might want to increase the number of iterations. Duality gap: 220416634768729.0, tolerance: 2594247679393.997\n",
      "Objective did not converge. You might want to increase the number of iterations. Duality gap: 396370377478707.5, tolerance: 2651305075165.9556\n",
      "Objective did not converge. You might want to increase the number of iterations. Duality gap: 152091701756816.0, tolerance: 2719329453221.5215\n",
      "Objective did not converge. You might want to increase the number of iterations. Duality gap: 231100964446678.0, tolerance: 2604951807635.925\n",
      "Objective did not converge. You might want to increase the number of iterations. Duality gap: 209990637884620.0, tolerance: 2555587343784.163\n",
      "Objective did not converge. You might want to increase the number of iterations. Duality gap: 220437275708034.0, tolerance: 2594247679393.997\n",
      "Objective did not converge. You might want to increase the number of iterations. Duality gap: 396397931328085.5, tolerance: 2651305075165.9556\n",
      "Objective did not converge. You might want to increase the number of iterations. Duality gap: 152111353959267.0, tolerance: 2719329453221.5215\n",
      "Objective did not converge. You might want to increase the number of iterations. Duality gap: 231123729646671.5, tolerance: 2604951807635.925\n",
      "Objective did not converge. You might want to increase the number of iterations. Duality gap: 78587376528990.5, tolerance: 2555587343784.163\n",
      "Objective did not converge. You might want to increase the number of iterations. Duality gap: 220461480208252.0, tolerance: 2594247679393.997\n",
      "Objective did not converge. You might want to increase the number of iterations. Duality gap: 396428308533924.0, tolerance: 2651305075165.9556\n",
      "Objective did not converge. You might want to increase the number of iterations. Duality gap: 152134015657385.0, tolerance: 2719329453221.5215\n",
      "Objective did not converge. You might want to increase the number of iterations. Duality gap: 231150244812244.5, tolerance: 2604951807635.925\n",
      "Objective did not converge. You might want to increase the number of iterations. Duality gap: 22244166530721.5, tolerance: 2555587343784.163\n",
      "Objective did not converge. You might want to increase the number of iterations. Duality gap: 220489845105094.0, tolerance: 2594247679393.997\n",
      "Objective did not converge. You might want to increase the number of iterations. Duality gap: 396465059484214.0, tolerance: 2651305075165.9556\n",
      "Objective did not converge. You might want to increase the number of iterations. Duality gap: 116380850816164.0, tolerance: 2719329453221.5215\n",
      "Objective did not converge. You might want to increase the number of iterations. Duality gap: 231181067219566.0, tolerance: 2604951807635.925\n",
      "Objective did not converge. You might want to increase the number of iterations. Duality gap: 22256215969991.0, tolerance: 2555587343784.163\n",
      "Objective did not converge. You might want to increase the number of iterations. Duality gap: 220523060319041.0, tolerance: 2594247679393.997\n",
      "Objective did not converge. You might want to increase the number of iterations. Duality gap: 396507346816221.0, tolerance: 2651305075165.9556\n",
      "Objective did not converge. You might want to increase the number of iterations. Duality gap: 125547302076291.0, tolerance: 2719329453221.5215\n",
      "Objective did not converge. You might want to increase the number of iterations. Duality gap: 231216811151209.0, tolerance: 2604951807635.925\n",
      "Objective did not converge. You might want to increase the number of iterations. Duality gap: 22270353012154.5, tolerance: 2555587343784.163\n",
      "Objective did not converge. You might want to increase the number of iterations. Duality gap: 220561919866361.0, tolerance: 2594247679393.997\n",
      "Objective did not converge. You might want to increase the number of iterations. Duality gap: 33223479593332.0, tolerance: 2651305075165.9556\n",
      "Objective did not converge. You might want to increase the number of iterations. Duality gap: 125578813384961.0, tolerance: 2719329453221.5215\n",
      "Objective did not converge. You might want to increase the number of iterations. Duality gap: 231258144750090.5, tolerance: 2604951807635.925\n",
      "Objective did not converge. You might want to increase the number of iterations. Duality gap: 22286930182404.0, tolerance: 2555587343784.163\n",
      "Objective did not converge. You might want to increase the number of iterations. Duality gap: 220607333716854.0, tolerance: 2594247679393.997\n",
      "Objective did not converge. You might want to increase the number of iterations. Duality gap: 33241503415605.0, tolerance: 2651305075165.9556\n",
      "Objective did not converge. You might want to increase the number of iterations. Duality gap: 125615440857185.0, tolerance: 2719329453221.5215\n",
      "Objective did not converge. You might want to increase the number of iterations. Duality gap: 231305773593666.0, tolerance: 2604951807635.925\n",
      "Objective did not converge. You might want to increase the number of iterations. Duality gap: 22306356176607.5, tolerance: 2555587343784.163\n",
      "Objective did not converge. You might want to increase the number of iterations. Duality gap: 220660338972622.0, tolerance: 2594247679393.997\n",
      "Objective did not converge. You might want to increase the number of iterations. Duality gap: 33261700194535.0, tolerance: 2651305075165.9556\n",
      "Objective did not converge. You might want to increase the number of iterations. Duality gap: 125657913283535.0, tolerance: 2719329453221.5215\n",
      "Objective did not converge. You might want to increase the number of iterations. Duality gap: 165084286774592.0, tolerance: 2604951807635.925\n",
      "Objective did not converge. You might want to increase the number of iterations. Duality gap: 22329102978791.5, tolerance: 2555587343784.163\n",
      "Objective did not converge. You might want to increase the number of iterations. Duality gap: 220722108985594.0, tolerance: 2594247679393.997\n",
      "Objective did not converge. You might want to increase the number of iterations. Duality gap: 19794642593492.0, tolerance: 2651305075165.9556\n",
      "Objective did not converge. You might want to increase the number of iterations. Duality gap: 125707021478969.0, tolerance: 2719329453221.5215\n",
      "Objective did not converge. You might want to increase the number of iterations. Duality gap: 165138800590383.0, tolerance: 2604951807635.925\n",
      "Objective did not converge. You might want to increase the number of iterations. Duality gap: 22355713874995.0, tolerance: 2555587343784.163\n",
      "Objective did not converge. You might want to increase the number of iterations. Duality gap: 220793960759675.0, tolerance: 2594247679393.997\n"
     ]
    },
    {
     "name": "stderr",
     "output_type": "stream",
     "text": [
      "Objective did not converge. You might want to increase the number of iterations. Duality gap: 19816874823958.0, tolerance: 2651305075165.9556\n",
      "Objective did not converge. You might want to increase the number of iterations. Duality gap: 30948457814512.0, tolerance: 2719329453221.5215\n",
      "Objective did not converge. You might want to increase the number of iterations. Duality gap: 83354021888221.0, tolerance: 2594247679393.997\n",
      "Objective did not converge. You might want to increase the number of iterations. Duality gap: 19842942091358.0, tolerance: 2651305075165.9556\n",
      "Objective did not converge. You might want to increase the number of iterations. Duality gap: 30982347630771.0, tolerance: 2719329453221.5215\n",
      "Objective did not converge. You might want to increase the number of iterations. Duality gap: 83415337054336.0, tolerance: 2594247679393.997\n",
      "Objective did not converge. You might want to increase the number of iterations. Duality gap: 83486834512388.0, tolerance: 2594247679393.997\n",
      "Objective did not converge. You might want to increase the number of iterations. Duality gap: 83570062125888.0, tolerance: 2594247679393.997\n",
      "Objective did not converge. You might want to increase the number of iterations. Duality gap: 83666741916312.0, tolerance: 2594247679393.997\n"
     ]
    }
   ],
   "source": [
    "TabErrors = []\n",
    "lasso_regr = Lasso()\n",
    "\n",
    "for i,a in enumerate(alphas) :\n",
    "    lasso_regr.set_params(alpha=a)\n",
    "    scores = cross_validate(lasso_regr, xTrainScaled, yTrain, cv=fold_number,\n",
    "                            scoring=('neg_mean_squared_error','neg_root_mean_squared_error','r2'))\n",
    "    temp = a, -mean(scores['test_neg_mean_squared_error']), -mean(scores['test_neg_root_mean_squared_error']), mean(scores['test_r2'])\n",
    "    TabErrors.append(temp)\n"
   ]
  },
  {
   "cell_type": "code",
   "execution_count": 65,
   "id": "32756ee1",
   "metadata": {},
   "outputs": [
    {
     "data": {
      "image/png": "[encoded data removed]",
      "text/plain": [
       "<Figure size 1152x216 with 3 Axes>"
      ]
     },
     "metadata": {
      "needs_background": "light"
     },
     "output_type": "display_data"
    }
   ],
   "source": [
    "fig, axes = plt.subplots(1, 3,figsize=(16,3))\n",
    "tab = ['MSE','RMSE','R2']\n",
    "color = ['b','g','r']\n",
    "\n",
    "for i,error_name in enumerate(tab) :\n",
    "    error_liste = [name[i+1] for j,name in enumerate(TabErrors)]\n",
    "    axes[i].plot(alphas,  error_liste,c=color[i])\n",
    "    axes[i].set_xscale('log')\n",
    "    axes[i].set_xlabel('alpha')\n",
    "    axes[i].set_ylabel(error_name)\n",
    "    axes[i].set_title(tab[i] + ' en fonction des alphas')\n",
    "    \n",
    "    plt.subplots_adjust(left=0.1, bottom=0.1, right=0.9, top=0.9, \n",
    "                    wspace=0.3, hspace=0.2)\n",
    "\n",
    "plt.show()"
   ]
  },
  {
   "cell_type": "code",
   "execution_count": 66,
   "id": "4558d182",
   "metadata": {},
   "outputs": [
    {
     "name": "stdout",
     "output_type": "stream",
     "text": [
      "Index values for MSE 0, RMSE 0,  R2 99\n",
      "Best fit is for alpha = 10000.0\n"
     ]
    }
   ],
   "source": [
    "dfErrors = pd.DataFrame(TabErrors,columns=['alpha','MSE','RMSE','R2'])\n",
    "imin = dfErrors['R2'].idxmax()\n",
    "print('Index values for MSE {}, RMSE {},  R2 {}'\n",
    "      .format(dfErrors['MSE'].idxmax(),dfErrors['MSE'].idxmax(),imin  )   )\n",
    "alphaBest = dfErrors.loc[imin,'alpha']\n",
    "print('Best fit is for alpha = {}'.format(alphaBest))"
   ]
  },
  {
   "cell_type": "code",
   "execution_count": 67,
   "id": "a978e487",
   "metadata": {},
   "outputs": [
    {
     "name": "stdout",
     "output_type": "stream",
     "text": [
      "MSE 5677414891688.73 RMSE 2382732.65 R2 0.772\n",
      "MSE 5400809422763.28 RMSE 2323964.16 R2 0.785\n"
     ]
    }
   ],
   "source": [
    "lasso_regr.set_params(alpha=alphaBest)\n",
    "lasso_regr.fit(xTrainScaled, yTrain)\n",
    "yPredTrain = lasso_regr.predict(xTrainScaled)\n",
    "yPredTest = lasso_regr.predict(xTestScaled)\n",
    "msTrain,rmTrain,r2Train = getRegressionMetrics(yPredTrain, yTrain, isDump=True)\n",
    "msTest,rmTest,r2Test = getRegressionMetrics(yPredTest, yTest, isDump=True)"
   ]
  },
  {
   "cell_type": "code",
   "execution_count": 68,
   "id": "1e8a283b",
   "metadata": {},
   "outputs": [],
   "source": [
    "# Store errors\n",
    "Results.append(['Lasso with Manual CV',msTrain,rmTrain,r2Train,msTest,rmTest,r2Test])"
   ]
  },
  {
   "cell_type": "markdown",
   "id": "4ecd5791",
   "metadata": {},
   "source": [
    "#### Decision Tree Regressor"
   ]
  },
  {
   "cell_type": "code",
   "execution_count": 69,
   "id": "5e200c16",
   "metadata": {},
   "outputs": [
    {
     "data": {
      "text/plain": [
       "0.9724253226790948"
      ]
     },
     "execution_count": 69,
     "metadata": {},
     "output_type": "execute_result"
    }
   ],
   "source": [
    "from sklearn.tree import DecisionTreeRegressor\n",
    "from sklearn.model_selection import GridSearchCV\n",
    "\n",
    "fold_number = 5\n",
    "param_grid={\"max_depth\" : [2,3,4,5,6],\n",
    "                \"min_samples_leaf\":[2,3,4,5,10],\n",
    "                \"min_samples_split\":[10,15,20,25,30,40]\n",
    "               # \"max_features\":[2,3,4]\n",
    "               }\n",
    "                    \n",
    "dtr = DecisionTreeRegressor()\n",
    "grid_search = GridSearchCV(dtr, param_grid,\n",
    "              scoring='r2', cv=fold_number)\n",
    "\n",
    "grid_search.fit(xTrainScaled, yTrain)\n",
    "grid_search.best_score_"
   ]
  },
  {
   "cell_type": "code",
   "execution_count": 70,
   "id": "0878d0b8",
   "metadata": {},
   "outputs": [
    {
     "data": {
      "text/plain": [
       "0.986"
      ]
     },
     "execution_count": 70,
     "metadata": {},
     "output_type": "execute_result"
    }
   ],
   "source": [
    "grid_search.score(xTrainScaled, yTrain).round(3)"
   ]
  },
  {
   "cell_type": "code",
   "execution_count": 71,
   "id": "c82848f7",
   "metadata": {},
   "outputs": [],
   "source": [
    "best_depth = grid_search.best_params_['max_depth']\n",
    "best_min_samples_leaf = grid_search.best_params_['min_samples_leaf']\n",
    "best_min_samples_split = grid_search.best_params_['min_samples_split']"
   ]
  },
  {
   "cell_type": "code",
   "execution_count": 72,
   "id": "f1d56d1e",
   "metadata": {},
   "outputs": [
    {
     "name": "stdout",
     "output_type": "stream",
     "text": [
      "MSE 355656192487.71 RMSE 596369.17 R2 0.986\n",
      "MSE 616802649617.57 RMSE 785367.84 R2 0.975\n"
     ]
    }
   ],
   "source": [
    "dtr = DecisionTreeRegressor(max_depth=best_depth,min_samples_leaf=best_min_samples_leaf,\n",
    "                                         min_samples_split= best_min_samples_split)\n",
    "dtr.fit(xTrainScaled, yTrain)\n",
    "yPredTrain = dtr.predict(xTrainScaled)\n",
    "msTrain,rmTrain,r2Train = getRegressionMetrics(yPredTrain, yTrain, isDump=True)\n",
    "yPredTest = dtr.predict(xTestScaled)\n",
    "msTest,rmTest,r2Test = getRegressionMetrics(yPredTest, yTest, isDump=True)"
   ]
  },
  {
   "cell_type": "code",
   "execution_count": 73,
   "id": "878ac553",
   "metadata": {},
   "outputs": [],
   "source": [
    "# Store errors\n",
    "Results.append(['Decision Tree Regressor',msTrain,rmTrain,r2Train,msTest,rmTest,r2Test])"
   ]
  },
  {
   "cell_type": "markdown",
   "id": "b991265a",
   "metadata": {},
   "source": [
    "#### Random Forest"
   ]
  },
  {
   "cell_type": "code",
   "execution_count": 74,
   "id": "b0f6f21f",
   "metadata": {},
   "outputs": [
    {
     "data": {
      "text/plain": [
       "0.9758137855608349"
      ]
     },
     "execution_count": 74,
     "metadata": {},
     "output_type": "execute_result"
    }
   ],
   "source": [
    "from sklearn.ensemble import RandomForestRegressor\n",
    "\n",
    "fold_number = 5\n",
    "param_grid={\"max_depth\" : [2,4,5],\n",
    "                \"min_samples_leaf\":[2,5],\n",
    "                \"min_samples_split\":[10,20],\n",
    "                \"n_estimators\":[100,300,500],\n",
    "                #\"max_leaf_nodes\":[16]\n",
    "               # \"max_features\":[2,3,4]\n",
    "               }\n",
    "                    \n",
    "rfg = RandomForestRegressor()\n",
    "grid_search = GridSearchCV(rfg, param_grid,\n",
    "              scoring='r2', cv=fold_number,n_jobs=-1)\n",
    "\n",
    "grid_search.fit(xTrainScaled, yTrain)\n",
    "grid_search.best_score_"
   ]
  },
  {
   "cell_type": "code",
   "execution_count": 75,
   "id": "1f4429c1",
   "metadata": {},
   "outputs": [
    {
     "data": {
      "text/plain": [
       "0.986"
      ]
     },
     "execution_count": 75,
     "metadata": {},
     "output_type": "execute_result"
    }
   ],
   "source": [
    "grid_search.score(xTrainScaled, yTrain).round(3)"
   ]
  },
  {
   "cell_type": "code",
   "execution_count": 76,
   "id": "2b10c29d",
   "metadata": {},
   "outputs": [
    {
     "data": {
      "text/plain": [
       "{'max_depth': 5,\n",
       " 'min_samples_leaf': 2,\n",
       " 'min_samples_split': 10,\n",
       " 'n_estimators': 100}"
      ]
     },
     "execution_count": 76,
     "metadata": {},
     "output_type": "execute_result"
    }
   ],
   "source": [
    "grid_search.best_params_"
   ]
  },
  {
   "cell_type": "code",
   "execution_count": 77,
   "id": "4d16464e",
   "metadata": {},
   "outputs": [],
   "source": [
    "best_depth = grid_search.best_params_['max_depth']\n",
    "best_min_samples_leaf = grid_search.best_params_['min_samples_leaf']\n",
    "best_min_samples_split = grid_search.best_params_['min_samples_split']\n",
    "#best_max_leaf_nodes = grid_search.best_params_['max_leaf_nodes']\n",
    "best_n_estimators = grid_search.best_params_['n_estimators']"
   ]
  },
  {
   "cell_type": "code",
   "execution_count": 78,
   "id": "f5f9d2fe",
   "metadata": {},
   "outputs": [
    {
     "name": "stdout",
     "output_type": "stream",
     "text": [
      "MSE 358288736614.20 RMSE 598572.25 R2 0.986\n",
      "MSE 434230142175.77 RMSE 658961.41 R2 0.983\n"
     ]
    }
   ],
   "source": [
    "rfg = RandomForestRegressor(max_depth=best_depth,min_samples_leaf=best_min_samples_leaf,\n",
    "                            min_samples_split= best_min_samples_split, n_estimators = best_n_estimators)\n",
    "rfg.fit(xTrainScaled, yTrain)\n",
    "yPredTrain = rfg.predict(xTrainScaled)\n",
    "msTrain,rmTrain,r2Train = getRegressionMetrics(yPredTrain, yTrain, isDump=True)\n",
    "yPredTest = rfg.predict(xTestScaled)\n",
    "msTest,rmTest,r2Test = getRegressionMetrics(yPredTest, yTest, isDump=True)"
   ]
  },
  {
   "cell_type": "code",
   "execution_count": 79,
   "id": "64189de6",
   "metadata": {},
   "outputs": [],
   "source": [
    "# Store errors\n",
    "Results.append(['Random Forest',msTrain,rmTrain,r2Train,msTest,rmTest,r2Test])"
   ]
  },
  {
   "cell_type": "markdown",
   "id": "298afe8f",
   "metadata": {},
   "source": [
    "#### Gradient Boosting"
   ]
  },
  {
   "cell_type": "code",
   "execution_count": 80,
   "id": "dc4cbd5d",
   "metadata": {},
   "outputs": [
    {
     "data": {
      "text/plain": [
       "0.9816503378611585"
      ]
     },
     "execution_count": 80,
     "metadata": {},
     "output_type": "execute_result"
    }
   ],
   "source": [
    "from sklearn.ensemble import GradientBoostingRegressor\n",
    "\n",
    "fold_number = 5\n",
    "param_grid={\"max_depth\" : [4,6],\n",
    "            #\"min_samples_leaf\":[5,10],\n",
    "            \"min_samples_split\":[10,20],\n",
    "            \"n_estimators\":[300,600],\n",
    "            #\"max_leaf_nodes\":[16],\n",
    "            \"learning_rate\":[0.05,0.1],\n",
    "            \"n_iter_no_change\":[10]\n",
    "            \n",
    "            # \"max_features\":[2,3,4]\n",
    "               }\n",
    "                    \n",
    "gbr = GradientBoostingRegressor()\n",
    "grid_search = GridSearchCV(gbr, param_grid,\n",
    "              scoring='r2', cv=fold_number,n_jobs=-1)\n",
    "\n",
    "grid_search.fit(xTrainScaled, yTrain)\n",
    "grid_search.best_score_"
   ]
  },
  {
   "cell_type": "code",
   "execution_count": 81,
   "id": "814c4c83",
   "metadata": {},
   "outputs": [
    {
     "data": {
      "text/plain": [
       "{'learning_rate': 0.05,\n",
       " 'max_depth': 6,\n",
       " 'min_samples_split': 10,\n",
       " 'n_estimators': 300,\n",
       " 'n_iter_no_change': 10}"
      ]
     },
     "execution_count": 81,
     "metadata": {},
     "output_type": "execute_result"
    }
   ],
   "source": [
    "grid_search.best_params_"
   ]
  },
  {
   "cell_type": "code",
   "execution_count": 82,
   "id": "11b15979",
   "metadata": {},
   "outputs": [],
   "source": [
    "best_depth = grid_search.best_params_['max_depth']\n",
    "#best_min_samples_leaf = grid_search.best_params_['min_samples_leaf']\n",
    "best_min_samples_split = grid_search.best_params_['min_samples_split']\n",
    "#best_max_leaf_nodes = grid_search.best_params_['max_leaf_nodes']\n",
    "best_n_estimators = grid_search.best_params_['n_estimators']\n",
    "best_learning_rate = grid_search.best_params_['learning_rate']\n",
    "best_n_iter_no_change = grid_search.best_params_['n_iter_no_change']"
   ]
  },
  {
   "cell_type": "code",
   "execution_count": 83,
   "id": "d1982d6d",
   "metadata": {},
   "outputs": [
    {
     "name": "stdout",
     "output_type": "stream",
     "text": [
      "MSE 21223416170.86 RMSE 145682.59 R2 0.999\n",
      "MSE 375653567352.17 RMSE 612905.84 R2 0.985\n"
     ]
    }
   ],
   "source": [
    "gbr = GradientBoostingRegressor(max_depth=best_depth,min_samples_split= best_min_samples_split,\n",
    "                                n_estimators = best_n_estimators, learning_rate = best_learning_rate,\n",
    "                                 n_iter_no_change = best_n_iter_no_change)\n",
    "gbr.fit(xTrainScaled, yTrain)\n",
    "yPredTrain = gbr.predict(xTrainScaled)\n",
    "yPredTest = gbr.predict(xTestScaled)\n",
    "\n",
    "msTrain,rmTrain,r2Train = getRegressionMetrics(yPredTrain, yTrain, isDump=True)\n",
    "msTest,rmTest,r2Test = getRegressionMetrics(yPredTest, yTest, isDump=True)"
   ]
  },
  {
   "cell_type": "code",
   "execution_count": 84,
   "id": "ae5c078b",
   "metadata": {},
   "outputs": [],
   "source": [
    "# Store errors\n",
    "Results.append(['Gradient Boosting',msTrain,rmTrain,r2Train,msTest,rmTest,r2Test])"
   ]
  },
  {
   "cell_type": "markdown",
   "id": "38943612",
   "metadata": {},
   "source": [
    "#### Comparaison des différents algorithmes"
   ]
  },
  {
   "cell_type": "code",
   "execution_count": 85,
   "id": "4a65f2c3",
   "metadata": {},
   "outputs": [
    {
     "data": {
      "text/html": [
       "<div>\n",
       "<style scoped>\n",
       "    .dataframe tbody tr th:only-of-type {\n",
       "        vertical-align: middle;\n",
       "    }\n",
       "\n",
       "    .dataframe tbody tr th {\n",
       "        vertical-align: top;\n",
       "    }\n",
       "\n",
       "    .dataframe thead th {\n",
       "        text-align: right;\n",
       "    }\n",
       "</style>\n",
       "<table border=\"1\" class=\"dataframe\">\n",
       "  <thead>\n",
       "    <tr style=\"text-align: right;\">\n",
       "      <th></th>\n",
       "      <th>Name</th>\n",
       "      <th>MSE Train</th>\n",
       "      <th>RMSE Train</th>\n",
       "      <th>R2 Train</th>\n",
       "      <th>MSE Test</th>\n",
       "      <th>RMSE Test</th>\n",
       "      <th>R2 Test</th>\n",
       "    </tr>\n",
       "  </thead>\n",
       "  <tbody>\n",
       "    <tr>\n",
       "      <th>0</th>\n",
       "      <td>Linear Regression</td>\n",
       "      <td>5.673495e+12</td>\n",
       "      <td>2381909.897</td>\n",
       "      <td>0.772</td>\n",
       "      <td>5.436063e+12</td>\n",
       "      <td>2331536.639</td>\n",
       "      <td>0.784</td>\n",
       "    </tr>\n",
       "    <tr>\n",
       "      <th>1</th>\n",
       "      <td>RidgeCV</td>\n",
       "      <td>6.285676e+12</td>\n",
       "      <td>2507125.005</td>\n",
       "      <td>0.747</td>\n",
       "      <td>6.197849e+12</td>\n",
       "      <td>2489548.021</td>\n",
       "      <td>0.753</td>\n",
       "    </tr>\n",
       "    <tr>\n",
       "      <th>2</th>\n",
       "      <td>Ridge with Manual CV</td>\n",
       "      <td>6.285676e+12</td>\n",
       "      <td>2507125.005</td>\n",
       "      <td>0.747</td>\n",
       "      <td>6.197849e+12</td>\n",
       "      <td>2489548.021</td>\n",
       "      <td>0.753</td>\n",
       "    </tr>\n",
       "    <tr>\n",
       "      <th>3</th>\n",
       "      <td>LassoCV</td>\n",
       "      <td>5.928759e+12</td>\n",
       "      <td>2434904.266</td>\n",
       "      <td>0.762</td>\n",
       "      <td>5.448571e+12</td>\n",
       "      <td>2334217.419</td>\n",
       "      <td>0.783</td>\n",
       "    </tr>\n",
       "    <tr>\n",
       "      <th>4</th>\n",
       "      <td>Lasso with Manual CV</td>\n",
       "      <td>5.677415e+12</td>\n",
       "      <td>2382732.652</td>\n",
       "      <td>0.772</td>\n",
       "      <td>5.400809e+12</td>\n",
       "      <td>2323964.161</td>\n",
       "      <td>0.785</td>\n",
       "    </tr>\n",
       "    <tr>\n",
       "      <th>5</th>\n",
       "      <td>Decision Tree Regressor</td>\n",
       "      <td>3.556562e+11</td>\n",
       "      <td>596369.175</td>\n",
       "      <td>0.986</td>\n",
       "      <td>6.168026e+11</td>\n",
       "      <td>785367.844</td>\n",
       "      <td>0.975</td>\n",
       "    </tr>\n",
       "    <tr>\n",
       "      <th>6</th>\n",
       "      <td>Random Forest</td>\n",
       "      <td>3.582887e+11</td>\n",
       "      <td>598572.248</td>\n",
       "      <td>0.986</td>\n",
       "      <td>4.342301e+11</td>\n",
       "      <td>658961.412</td>\n",
       "      <td>0.983</td>\n",
       "    </tr>\n",
       "    <tr>\n",
       "      <th>7</th>\n",
       "      <td>Gradient Boosting</td>\n",
       "      <td>2.122342e+10</td>\n",
       "      <td>145682.587</td>\n",
       "      <td>0.999</td>\n",
       "      <td>3.756536e+11</td>\n",
       "      <td>612905.839</td>\n",
       "      <td>0.985</td>\n",
       "    </tr>\n",
       "  </tbody>\n",
       "</table>\n",
       "</div>"
      ],
      "text/plain": [
       "                      Name     MSE Train   RMSE Train  R2 Train      MSE Test  \\\n",
       "0        Linear Regression  5.673495e+12  2381909.897     0.772  5.436063e+12   \n",
       "1                  RidgeCV  6.285676e+12  2507125.005     0.747  6.197849e+12   \n",
       "2     Ridge with Manual CV  6.285676e+12  2507125.005     0.747  6.197849e+12   \n",
       "3                  LassoCV  5.928759e+12  2434904.266     0.762  5.448571e+12   \n",
       "4     Lasso with Manual CV  5.677415e+12  2382732.652     0.772  5.400809e+12   \n",
       "5  Decision Tree Regressor  3.556562e+11   596369.175     0.986  6.168026e+11   \n",
       "6            Random Forest  3.582887e+11   598572.248     0.986  4.342301e+11   \n",
       "7        Gradient Boosting  2.122342e+10   145682.587     0.999  3.756536e+11   \n",
       "\n",
       "     RMSE Test  R2 Test  \n",
       "0  2331536.639    0.784  \n",
       "1  2489548.021    0.753  \n",
       "2  2489548.021    0.753  \n",
       "3  2334217.419    0.783  \n",
       "4  2323964.161    0.785  \n",
       "5   785367.844    0.975  \n",
       "6   658961.412    0.983  \n",
       "7   612905.839    0.985  "
      ]
     },
     "execution_count": 85,
     "metadata": {},
     "output_type": "execute_result"
    }
   ],
   "source": [
    "dfResults = pd.DataFrame(Results,columns=['Name','MSE Train','RMSE Train','R2 Train','MSE Test','RMSE Test','R2 Test'])\n",
    "dfResults.round(3)"
   ]
  },
  {
   "cell_type": "code",
   "execution_count": 86,
   "id": "9fe79eef",
   "metadata": {},
   "outputs": [
    {
     "data": {
      "image/png": "[encoded data removed]",
      "text/plain": [
       "<Figure size 576x684 with 2 Axes>"
      ]
     },
     "metadata": {
      "needs_background": "light"
     },
     "output_type": "display_data"
    }
   ],
   "source": [
    "shap_values = shap.TreeExplainer(gbr).shap_values(xTestScaled)\n",
    "shap.summary_plot(shap_values, xTestScaled,use_log_scale=False,feature_names=XTest.columns)"
   ]
  },
  {
   "cell_type": "code",
   "execution_count": null,
   "id": "fbb9a6c0",
   "metadata": {},
   "outputs": [],
   "source": []
  }
 ],
 "metadata": {
  "kernelspec": {
   "display_name": "Python 3",
   "language": "python",
   "name": "python3"
  },
  "language_info": {
   "codemirror_mode": {
    "name": "ipython",
    "version": 3
   },
   "file_extension": ".py",
   "mimetype": "text/x-python",
   "name": "python",
   "nbconvert_exporter": "python",
   "pygments_lexer": "ipython3",
   "version": "3.7.10"
  }
 },
 "nbformat": 4,
 "nbformat_minor": 5
}
