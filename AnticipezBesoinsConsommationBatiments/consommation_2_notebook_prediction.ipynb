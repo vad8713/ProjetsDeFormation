{
 "cells": [
  {
   "cell_type": "markdown",
   "id": "8375e877",
   "metadata": {},
   "source": [
    "## Notebook de modélisation des données - Projet 3 - David Depouez"
   ]
  },
  {
   "cell_type": "markdown",
   "id": "610e6cac",
   "metadata": {},
   "source": [
    "### 1. Généralités"
   ]
  },
  {
   "cell_type": "markdown",
   "id": "9e9fa33e",
   "metadata": {},
   "source": [
    "Selection de la cible pour ce Notebook => **Energie**"
   ]
  },
  {
   "cell_type": "code",
   "execution_count": 1,
   "id": "289b0189",
   "metadata": {},
   "outputs": [],
   "source": [
    "isEnergyTarget = True\n",
    "\n",
    "if isEnergyTarget == True:\n",
    "    targetName = 'SiteEnergyUse(kBtu)'\n",
    "else:\n",
    "    targetName = 'TotalGHGEmissions'"
   ]
  },
  {
   "cell_type": "markdown",
   "id": "76845af4",
   "metadata": {},
   "source": [
    "Importation des modules et lecture du fichier de données"
   ]
  },
  {
   "cell_type": "code",
   "execution_count": 2,
   "id": "0c750869",
   "metadata": {},
   "outputs": [],
   "source": [
    "import pandas as pd\n",
    "from matplotlib import pyplot as plt\n",
    "import numpy as np\n",
    "import shap"
   ]
  },
  {
   "cell_type": "code",
   "execution_count": 3,
   "id": "e0447d8f",
   "metadata": {},
   "outputs": [
    {
     "data": {
      "text/plain": [
       "(1650, 46)"
      ]
     },
     "execution_count": 3,
     "metadata": {},
     "output_type": "execute_result"
    }
   ],
   "source": [
    "path = \"./data/cleaned/\"\n",
    "\n",
    "filename = \"Cleaned-2016_Building_Energy_Benchmarking.csv\"\n",
    "#filename = \"FinalCleaned-2016_Building_Energy_Benchmarking.csv\"\n",
    "#filename = \"EssaiCleaned-2016_Building_Energy_Benchmarking.csv\"\n",
    "\n",
    "df = pd.read_csv(path+filename)\n",
    "df.shape"
   ]
  },
  {
   "cell_type": "code",
   "execution_count": 4,
   "id": "7ee12a32",
   "metadata": {},
   "outputs": [
    {
     "name": "stdout",
     "output_type": "stream",
     "text": [
      "<class 'pandas.core.frame.DataFrame'>\n",
      "RangeIndex: 1650 entries, 0 to 1649\n",
      "Data columns (total 46 columns):\n",
      " #   Column                       Non-Null Count  Dtype  \n",
      "---  ------                       --------------  -----  \n",
      " 0   YearBuilt                    1650 non-null   float64\n",
      " 1   NumberofBuildings            1650 non-null   float64\n",
      " 2   NumberofFloors               1650 non-null   float64\n",
      " 3   PropertyGFATotal             1650 non-null   float64\n",
      " 4   ENERGYSTARScore              1650 non-null   float64\n",
      " 5   SourceEUI(kBtu/sf)           1650 non-null   float64\n",
      " 6   SiteEnergyUse(kBtu)          1650 non-null   float64\n",
      " 7   SteamUse(kBtu)               1650 non-null   float64\n",
      " 8   Electricity(kBtu)            1650 non-null   float64\n",
      " 9   NaturalGas(kBtu)             1650 non-null   float64\n",
      " 10  TotalGHGEmissions            1650 non-null   float64\n",
      " 11  BALLARD                      1650 non-null   float64\n",
      " 12  CENTRAL                      1650 non-null   float64\n",
      " 13  DELRIDGE                     1650 non-null   float64\n",
      " 14  DOWNTOWN                     1650 non-null   float64\n",
      " 15  EAST                         1650 non-null   float64\n",
      " 16  GREATER DUWAMISH             1650 non-null   float64\n",
      " 17  LAKE UNION                   1650 non-null   float64\n",
      " 18  MAGNOLIA / QUEEN ANNE        1650 non-null   float64\n",
      " 19  NORTH                        1650 non-null   float64\n",
      " 20  NORTHEAST                    1650 non-null   float64\n",
      " 21  NORTHWEST                    1650 non-null   float64\n",
      " 22  SOUTHEAST                    1650 non-null   float64\n",
      " 23  SOUTHWEST                    1650 non-null   float64\n",
      " 24  Distribution Center          1650 non-null   float64\n",
      " 25  Hospital                     1650 non-null   float64\n",
      " 26  Hotel                        1650 non-null   float64\n",
      " 27  K-12 School                  1650 non-null   float64\n",
      " 28  Laboratory                   1650 non-null   float64\n",
      " 29  Large Office                 1650 non-null   float64\n",
      " 30  Low-Rise Multifamily         1650 non-null   float64\n",
      " 31  Medical Office               1650 non-null   float64\n",
      " 32  Mixed Use Property           1650 non-null   float64\n",
      " 33  Office                       1650 non-null   float64\n",
      " 34  Other                        1650 non-null   float64\n",
      " 35  Refrigerated Warehouse       1650 non-null   float64\n",
      " 36  Residence Hall               1650 non-null   float64\n",
      " 37  Restaurant                   1650 non-null   float64\n",
      " 38  Retail Store                 1650 non-null   float64\n",
      " 39  Self-Storage Facility        1650 non-null   float64\n",
      " 40  Senior Care Community        1650 non-null   float64\n",
      " 41  Small- and Mid-Sized Office  1650 non-null   float64\n",
      " 42  Supermarket / Grocery Store  1650 non-null   float64\n",
      " 43  University                   1650 non-null   float64\n",
      " 44  Warehouse                    1650 non-null   float64\n",
      " 45  Worship Facility             1650 non-null   float64\n",
      "dtypes: float64(46)\n",
      "memory usage: 593.1 KB\n"
     ]
    }
   ],
   "source": [
    "df.info()"
   ]
  },
  {
   "cell_type": "markdown",
   "id": "a3bcadf6",
   "metadata": {},
   "source": [
    "Séparation du jeu de donnés pour l'apprentissage"
   ]
  },
  {
   "cell_type": "code",
   "execution_count": 5,
   "id": "f2e517cb",
   "metadata": {},
   "outputs": [
    {
     "data": {
      "text/plain": [
       "((1320, 46), (330, 46))"
      ]
     },
     "execution_count": 5,
     "metadata": {},
     "output_type": "execute_result"
    }
   ],
   "source": [
    "from sklearn.model_selection import train_test_split\n",
    "\n",
    "dfTrain, dfTest = train_test_split(df, train_size=0.8,random_state=42)\n",
    "dfTrain.shape , dfTest.shape"
   ]
  },
  {
   "cell_type": "markdown",
   "id": "45d7f634",
   "metadata": {},
   "source": [
    "### 2. Modélisations avec l'Energy Star Score"
   ]
  },
  {
   "cell_type": "code",
   "execution_count": 6,
   "id": "56e23ac6",
   "metadata": {},
   "outputs": [],
   "source": [
    "XTrain = dfTrain.drop(['SiteEnergyUse(kBtu)','TotalGHGEmissions'],axis=1 )\n",
    "yTrain = dfTrain[targetName].copy()\n",
    "XTest = dfTest.drop(['SiteEnergyUse(kBtu)','TotalGHGEmissions'],axis=1 )\n",
    "yTest = dfTest[targetName].copy()"
   ]
  },
  {
   "cell_type": "markdown",
   "id": "4b74af84",
   "metadata": {},
   "source": [
    "On centre et on met à l'echelle les données"
   ]
  },
  {
   "cell_type": "code",
   "execution_count": 7,
   "id": "8342e4b9",
   "metadata": {},
   "outputs": [],
   "source": [
    "from sklearn.preprocessing import StandardScaler\n",
    "\n",
    "scaler = StandardScaler()\n",
    "\n",
    "xTrainScaled = scaler.fit_transform(XTrain)\n",
    "xTestScaled = scaler.transform(XTest)"
   ]
  },
  {
   "cell_type": "markdown",
   "id": "1b6cd43e",
   "metadata": {},
   "source": [
    "On définit une fonction pour retourner différentes metriques"
   ]
  },
  {
   "cell_type": "code",
   "execution_count": 8,
   "id": "fe556b62",
   "metadata": {},
   "outputs": [],
   "source": [
    "from sklearn.metrics import mean_squared_error, r2_score\n",
    "\n",
    "def getRegressionMetrics(ypredict, yreel,isDump = True) :\n",
    "    ### Compute MSE, RMSE and R2  ###\n",
    "    MSE = mean_squared_error(yreel, ypredict)\n",
    "    RMSE = mean_squared_error(yreel, ypredict, squared=False)\n",
    "    R2 = r2_score(yreel, ypredict)\n",
    "    if isDump == True :\n",
    "        print(\"MSE {:.2f} RMSE {:.2f} R2 {:.3f}\".format(MSE,RMSE,R2))\n",
    "    return (MSE, RMSE, R2)"
   ]
  },
  {
   "cell_type": "markdown",
   "id": "524f97f3",
   "metadata": {},
   "source": [
    "#### Linear Regression"
   ]
  },
  {
   "cell_type": "code",
   "execution_count": 9,
   "id": "3f7a7a44",
   "metadata": {},
   "outputs": [],
   "source": [
    "from sklearn.linear_model import LinearRegression\n",
    "linear_regr = LinearRegression()\n",
    "linear_regr.fit(xTrainScaled, yTrain)\n",
    "\n",
    "yPredTrain = linear_regr.predict(xTrainScaled)\n",
    "yPredTest = linear_regr.predict(xTestScaled)"
   ]
  },
  {
   "cell_type": "code",
   "execution_count": 10,
   "id": "7f95546a",
   "metadata": {},
   "outputs": [
    {
     "name": "stdout",
     "output_type": "stream",
     "text": [
      "MSE 5427738739575.85 RMSE 2329750.79 R2 0.778\n",
      "MSE 6490946090049.83 RMSE 2547733.52 R2 0.757\n"
     ]
    }
   ],
   "source": [
    "msTrain,rmTrain,r2Train  = getRegressionMetrics(yPredTrain, yTrain)\n",
    "msTest,rmTest,r2Test  = getRegressionMetrics(yPredTest, yTest)"
   ]
  },
  {
   "cell_type": "code",
   "execution_count": 11,
   "id": "f8ece2e8",
   "metadata": {},
   "outputs": [],
   "source": [
    "# Store errors\n",
    "Results = []\n",
    "Results.append(['Linear Regression',msTrain,rmTrain,r2Train,msTest,rmTest,r2Test])"
   ]
  },
  {
   "cell_type": "markdown",
   "id": "fdf2dd01",
   "metadata": {},
   "source": [
    "#### RidgeCV"
   ]
  },
  {
   "cell_type": "code",
   "execution_count": 12,
   "id": "b8240f67",
   "metadata": {},
   "outputs": [
    {
     "name": "stdout",
     "output_type": "stream",
     "text": [
      "alpha = 599.4842503189409  best score = -7405050011772.564\n",
      "Train best score = 0.7466080324658826\n",
      "Test best score = 0.6879183844255654\n",
      "MSE 6193806015417.68 RMSE 2488735.83 R2 0.747\n",
      "MSE 8338293614452.63 RMSE 2887610.36 R2 0.688\n"
     ]
    }
   ],
   "source": [
    "from sklearn.linear_model import RidgeCV\n",
    "\n",
    "nAlphas = 100\n",
    "fold_number = 5\n",
    "alphas= np.logspace(-5,5,nAlphas)\n",
    "\n",
    "ridgeCV_regr = RidgeCV(alphas=alphas,\n",
    "scoring='neg_mean_squared_error',\n",
    "                 cv=fold_number)\n",
    "ridgeCV_regr.fit(xTrainScaled, yTrain)\n",
    "print('alpha = {}  best score = {}'.format(ridgeCV_regr.alpha_ , ridgeCV_regr.best_score_))\n",
    "yPredtrain = ridgeCV_regr.predict(xTrainScaled)\n",
    "print('Train best score = {}'.format(ridgeCV_regr.score(xTrainScaled,yTrain)))\n",
    "yPredTest = ridgeCV_regr.predict(xTestScaled)\n",
    "print('Test best score = {}'.format(ridgeCV_regr.score(xTestScaled,yTest)))\n",
    "msTrain,rmTrain,r2Train = getRegressionMetrics(yPredtrain, yTrain, isDump=True)\n",
    "msTest,rmTest,r2Test = getRegressionMetrics(yPredTest, yTest, isDump=True)"
   ]
  },
  {
   "cell_type": "code",
   "execution_count": 13,
   "id": "061640cd",
   "metadata": {},
   "outputs": [],
   "source": [
    "# Store errors\n",
    "Results.append(['RidgeCV',msTrain,rmTrain,r2Train,msTest,rmTest,r2Test])"
   ]
  },
  {
   "cell_type": "markdown",
   "id": "d685fdca",
   "metadata": {},
   "source": [
    "#### Ridge  with Manual CV"
   ]
  },
  {
   "cell_type": "code",
   "execution_count": 14,
   "id": "a070bbf0",
   "metadata": {},
   "outputs": [],
   "source": [
    "from sklearn.linear_model import Ridge\n",
    "from sklearn.model_selection import cross_validate\n",
    "from numpy import mean , std\n",
    "\n",
    "nAlphas = 100\n",
    "fold_number = 5\n",
    "alphas= np.logspace(-5,5,nAlphas)"
   ]
  },
  {
   "cell_type": "code",
   "execution_count": 15,
   "id": "3bf85add",
   "metadata": {},
   "outputs": [],
   "source": [
    "TabErrors = []\n",
    "ridge_regr = Ridge()\n",
    "\n",
    "for i,a in enumerate(alphas) :\n",
    "    ridge_regr.set_params(alpha=a)\n",
    "    scores = cross_validate(ridge_regr, xTrainScaled, yTrain, cv=fold_number,\n",
    "                            scoring=('neg_mean_squared_error','neg_root_mean_squared_error','r2'))\n",
    "    temp = a, -mean(scores['test_neg_mean_squared_error']), -mean(scores['test_neg_root_mean_squared_error']), mean(scores['test_r2'])\n",
    "    TabErrors.append(temp)\n",
    "\n",
    "#mini = [val[0] for i,val in enumerate(TabErrors) if val[1] == np.min(TabErrors,axis=0)[1]]\n",
    "#mini"
   ]
  },
  {
   "cell_type": "code",
   "execution_count": 16,
   "id": "b0933a91",
   "metadata": {},
   "outputs": [
    {
     "data": {
      "image/png": "[encoded data removed]",
      "text/plain": [
       "<Figure size 1152x216 with 3 Axes>"
      ]
     },
     "metadata": {
      "needs_background": "light"
     },
     "output_type": "display_data"
    }
   ],
   "source": [
    "fig, axes = plt.subplots(1, 3,figsize=(16,3))\n",
    "tab = ['MSE','RMSE','R2']\n",
    "color = ['b','g','r']\n",
    "\n",
    "for i,error_name in enumerate(tab) :\n",
    "    error_liste = [name[i+1] for j,name in enumerate(TabErrors)]\n",
    "    axes[i].plot(alphas,  error_liste,c=color[i])\n",
    "    axes[i].set_xscale('log')\n",
    "    axes[i].set_xlabel('alpha')\n",
    "    axes[i].set_ylabel(error_name)\n",
    "    axes[i].set_title(tab[i] + ' en fonction des alphas')\n",
    "    \n",
    "    plt.subplots_adjust(left=0.1, bottom=0.1, right=0.9, top=0.9, \n",
    "                    wspace=0.3, hspace=0.2)\n",
    "\n",
    "plt.show()"
   ]
  },
  {
   "cell_type": "markdown",
   "id": "1f12272c",
   "metadata": {},
   "source": [
    "Get best params"
   ]
  },
  {
   "cell_type": "code",
   "execution_count": 17,
   "id": "5527f82f",
   "metadata": {},
   "outputs": [
    {
     "name": "stdout",
     "output_type": "stream",
     "text": [
      "Index values for MSE 99, RMSE 99,  R2 77\n",
      "Best fit is for alpha = 599.4842503189409\n"
     ]
    }
   ],
   "source": [
    "dfErrors = pd.DataFrame(TabErrors,columns=['alpha','MSE','RMSE','R2'])\n",
    "imin = dfErrors['R2'].idxmax()\n",
    "print('Index values for MSE {}, RMSE {},  R2 {}'\n",
    "      .format(dfErrors['MSE'].idxmax(),dfErrors['MSE'].idxmax(),imin  )   )\n",
    "alphaBest = dfErrors.loc[imin,'alpha']\n",
    "print('Best fit is for alpha = {}'.format(alphaBest))"
   ]
  },
  {
   "cell_type": "markdown",
   "id": "741a0150",
   "metadata": {},
   "source": [
    "Apply model with best params"
   ]
  },
  {
   "cell_type": "code",
   "execution_count": 18,
   "id": "c3d25e1f",
   "metadata": {},
   "outputs": [
    {
     "name": "stdout",
     "output_type": "stream",
     "text": [
      "MSE 6193806015417.68 RMSE 2488735.83 R2 0.747\n",
      "MSE 8338293614452.63 RMSE 2887610.36 R2 0.688\n"
     ]
    }
   ],
   "source": [
    "ridge_regr.set_params(alpha=alphaBest)\n",
    "ridge_regr.fit(xTrainScaled, yTrain)\n",
    "yPredTrain = ridge_regr.predict(xTrainScaled)\n",
    "yPredTest = ridge_regr.predict(xTestScaled)\n",
    "msTrain,rmTrain,r2Train = getRegressionMetrics(yPredTrain, yTrain, isDump=True)\n",
    "msTest,rmTest,r2Test = getRegressionMetrics(yPredTest, yTest, isDump=True)"
   ]
  },
  {
   "cell_type": "code",
   "execution_count": 19,
   "id": "23ee9fc4",
   "metadata": {},
   "outputs": [],
   "source": [
    "# Store errors\n",
    "Results.append(['Ridge with Manual CV',msTrain,rmTrain,r2Train,msTest,rmTest,r2Test])"
   ]
  },
  {
   "cell_type": "markdown",
   "id": "5b8e9fa4",
   "metadata": {},
   "source": [
    "#### LassoCV"
   ]
  },
  {
   "cell_type": "code",
   "execution_count": 20,
   "id": "36058704",
   "metadata": {},
   "outputs": [
    {
     "name": "stdout",
     "output_type": "stream",
     "text": [
      "Best fit is for alpha = 100000.0\n",
      "Train best score = 0.766\n",
      "Test best score = 0.750\n",
      "MSE 5727646814636.59 RMSE 2393250.26 R2 0.766\n",
      "MSE 6678012526355.32 RMSE 2584185.08 R2 0.750\n"
     ]
    }
   ],
   "source": [
    "from sklearn.linear_model import LassoCV\n",
    "\n",
    "nAlphas = 100\n",
    "fold_number = 5\n",
    "alphas= np.logspace(-5,5,nAlphas)\n",
    "\n",
    "lassoCV_regr = LassoCV(alphas=alphas, cv=fold_number)\n",
    "\n",
    "lassoCV_regr.fit(xTrainScaled, yTrain)\n",
    "print('Best fit is for alpha = {}'.format(lassoCV_regr.alpha_))\n",
    "yPredtrain = lassoCV_regr.predict(xTrainScaled)\n",
    "print('Train best score = {:.3f}'.format(lassoCV_regr.score(xTrainScaled,yTrain)))\n",
    "yPredTest = lassoCV_regr.predict(xTestScaled)\n",
    "print('Test best score = {:.3f}'.format(lassoCV_regr.score(xTestScaled,yTest)))\n",
    "msTrain,rmTrain,r2Train = getRegressionMetrics(yPredtrain, yTrain, isDump=True)\n",
    "msTest,rmTest,r2Test = getRegressionMetrics(yPredTest, yTest, isDump=True)"
   ]
  },
  {
   "cell_type": "code",
   "execution_count": 21,
   "id": "3252b594",
   "metadata": {},
   "outputs": [],
   "source": [
    "# Store errors\n",
    "Results.append(['LassoCV',msTrain,rmTrain,r2Train,msTest,rmTest,r2Test])"
   ]
  },
  {
   "cell_type": "markdown",
   "id": "33355336",
   "metadata": {},
   "source": [
    "#### Lasso with Manual CV"
   ]
  },
  {
   "cell_type": "code",
   "execution_count": 22,
   "id": "c8fbd1ee",
   "metadata": {},
   "outputs": [],
   "source": [
    "from sklearn.linear_model import Lasso\n",
    "\n",
    "n_alphas = 100\n",
    "alphas = np.logspace(-3, 4, n_alphas)"
   ]
  },
  {
   "cell_type": "code",
   "execution_count": 23,
   "id": "692034b3",
   "metadata": {},
   "outputs": [
    {
     "name": "stderr",
     "output_type": "stream",
     "text": [
      "Objective did not converge. You might want to increase the number of iterations. Duality gap: 341001479306092.0, tolerance: 2530144540971.3906\n",
      "Objective did not converge. You might want to increase the number of iterations. Duality gap: 371701278800860.5, tolerance: 2632331717772.0674\n",
      "Objective did not converge. You might want to increase the number of iterations. Duality gap: 397847362309514.5, tolerance: 2693593624520.2476\n",
      "Objective did not converge. You might want to increase the number of iterations. Duality gap: 301784087414294.5, tolerance: 2484634878793.5884\n",
      "Objective did not converge. You might want to increase the number of iterations. Duality gap: 403534811086132.5, tolerance: 2559013009949.358\n",
      "Objective did not converge. You might want to increase the number of iterations. Duality gap: 341001533623558.0, tolerance: 2530144540971.3906\n",
      "Objective did not converge. You might want to increase the number of iterations. Duality gap: 371701303825785.0, tolerance: 2632331717772.0674\n",
      "Objective did not converge. You might want to increase the number of iterations. Duality gap: 397847349439092.0, tolerance: 2693593624520.2476\n",
      "Objective did not converge. You might want to increase the number of iterations. Duality gap: 301784097300517.5, tolerance: 2484634878793.5884\n",
      "Objective did not converge. You might want to increase the number of iterations. Duality gap: 403534854423257.5, tolerance: 2559013009949.358\n",
      "Objective did not converge. You might want to increase the number of iterations. Duality gap: 341001492299871.5, tolerance: 2530144540971.3906\n",
      "Objective did not converge. You might want to increase the number of iterations. Duality gap: 371701301972817.5, tolerance: 2632331717772.0674\n",
      "Objective did not converge. You might want to increase the number of iterations. Duality gap: 397847339486145.0, tolerance: 2693593624520.2476\n",
      "Objective did not converge. You might want to increase the number of iterations. Duality gap: 301784102630021.0, tolerance: 2484634878793.5884\n",
      "Objective did not converge. You might want to increase the number of iterations. Duality gap: 403534826709611.5, tolerance: 2559013009949.358\n",
      "Objective did not converge. You might want to increase the number of iterations. Duality gap: 341001504970845.0, tolerance: 2530144540971.3906\n",
      "Objective did not converge. You might want to increase the number of iterations. Duality gap: 371701317739130.0, tolerance: 2632331717772.0674\n",
      "Objective did not converge. You might want to increase the number of iterations. Duality gap: 397847321617177.5, tolerance: 2693593624520.2476\n",
      "Objective did not converge. You might want to increase the number of iterations. Duality gap: 301784113421492.5, tolerance: 2484634878793.5884\n",
      "Objective did not converge. You might want to increase the number of iterations. Duality gap: 403534807785771.0, tolerance: 2559013009949.358\n",
      "Objective did not converge. You might want to increase the number of iterations. Duality gap: 341001525663736.0, tolerance: 2530144540971.3906\n",
      "Objective did not converge. You might want to increase the number of iterations. Duality gap: 371701372323845.0, tolerance: 2632331717772.0674\n",
      "Objective did not converge. You might want to increase the number of iterations. Duality gap: 397847296142469.0, tolerance: 2693593624520.2476\n",
      "Objective did not converge. You might want to increase the number of iterations. Duality gap: 301784139228895.0, tolerance: 2484634878793.5884\n",
      "Objective did not converge. You might want to increase the number of iterations. Duality gap: 403534790677771.5, tolerance: 2559013009949.358\n",
      "Objective did not converge. You might want to increase the number of iterations. Duality gap: 341001480581942.5, tolerance: 2530144540971.3906\n",
      "Objective did not converge. You might want to increase the number of iterations. Duality gap: 371701349407540.0, tolerance: 2632331717772.0674\n",
      "Objective did not converge. You might want to increase the number of iterations. Duality gap: 397847338744861.0, tolerance: 2693593624520.2476\n",
      "Objective did not converge. You might want to increase the number of iterations. Duality gap: 301784115746305.0, tolerance: 2484634878793.5884\n",
      "Objective did not converge. You might want to increase the number of iterations. Duality gap: 403534825144274.0, tolerance: 2559013009949.358\n",
      "Objective did not converge. You might want to increase the number of iterations. Duality gap: 341001516062160.5, tolerance: 2530144540971.3906\n",
      "Objective did not converge. You might want to increase the number of iterations. Duality gap: 371701356928584.5, tolerance: 2632331717772.0674\n",
      "Objective did not converge. You might want to increase the number of iterations. Duality gap: 397847333839091.5, tolerance: 2693593624520.2476\n",
      "Objective did not converge. You might want to increase the number of iterations. Duality gap: 301784115792943.5, tolerance: 2484634878793.5884\n",
      "Objective did not converge. You might want to increase the number of iterations. Duality gap: 403534813529814.0, tolerance: 2559013009949.358\n",
      "Objective did not converge. You might want to increase the number of iterations. Duality gap: 341001519074015.0, tolerance: 2530144540971.3906\n",
      "Objective did not converge. You might want to increase the number of iterations. Duality gap: 371701334724308.0, tolerance: 2632331717772.0674\n",
      "Objective did not converge. You might want to increase the number of iterations. Duality gap: 397847340110161.0, tolerance: 2693593624520.2476\n",
      "Objective did not converge. You might want to increase the number of iterations. Duality gap: 301784103656663.5, tolerance: 2484634878793.5884\n",
      "Objective did not converge. You might want to increase the number of iterations. Duality gap: 403534820154655.0, tolerance: 2559013009949.358\n",
      "Objective did not converge. You might want to increase the number of iterations. Duality gap: 341001529215320.5, tolerance: 2530144540971.3906\n",
      "Objective did not converge. You might want to increase the number of iterations. Duality gap: 371701351489731.5, tolerance: 2632331717772.0674\n",
      "Objective did not converge. You might want to increase the number of iterations. Duality gap: 397847330921776.0, tolerance: 2693593624520.2476\n",
      "Objective did not converge. You might want to increase the number of iterations. Duality gap: 301784126262904.5, tolerance: 2484634878793.5884\n",
      "Objective did not converge. You might want to increase the number of iterations. Duality gap: 403534818559520.5, tolerance: 2559013009949.358\n",
      "Objective did not converge. You might want to increase the number of iterations. Duality gap: 341001517766428.0, tolerance: 2530144540971.3906\n",
      "Objective did not converge. You might want to increase the number of iterations. Duality gap: 371701341980701.0, tolerance: 2632331717772.0674\n",
      "Objective did not converge. You might want to increase the number of iterations. Duality gap: 397847348406411.0, tolerance: 2693593624520.2476\n",
      "Objective did not converge. You might want to increase the number of iterations. Duality gap: 301784128331894.0, tolerance: 2484634878793.5884\n",
      "Objective did not converge. You might want to increase the number of iterations. Duality gap: 403534821025252.5, tolerance: 2559013009949.358\n",
      "Objective did not converge. You might want to increase the number of iterations. Duality gap: 341001530326459.0, tolerance: 2530144540971.3906\n",
      "Objective did not converge. You might want to increase the number of iterations. Duality gap: 371701357346214.0, tolerance: 2632331717772.0674\n",
      "Objective did not converge. You might want to increase the number of iterations. Duality gap: 397847338619516.5, tolerance: 2693593624520.2476\n",
      "Objective did not converge. You might want to increase the number of iterations. Duality gap: 301784141888504.0, tolerance: 2484634878793.5884\n",
      "Objective did not converge. You might want to increase the number of iterations. Duality gap: 403534822839921.5, tolerance: 2559013009949.358\n",
      "Objective did not converge. You might want to increase the number of iterations. Duality gap: 341001535897117.0, tolerance: 2530144540971.3906\n",
      "Objective did not converge. You might want to increase the number of iterations. Duality gap: 371701357777961.5, tolerance: 2632331717772.0674\n",
      "Objective did not converge. You might want to increase the number of iterations. Duality gap: 397847362282376.5, tolerance: 2693593624520.2476\n",
      "Objective did not converge. You might want to increase the number of iterations. Duality gap: 301784138812534.5, tolerance: 2484634878793.5884\n",
      "Objective did not converge. You might want to increase the number of iterations. Duality gap: 403534828303210.5, tolerance: 2559013009949.358\n"
     ]
    },
    {
     "name": "stderr",
     "output_type": "stream",
     "text": [
      "Objective did not converge. You might want to increase the number of iterations. Duality gap: 341001531561312.0, tolerance: 2530144540971.3906\n",
      "Objective did not converge. You might want to increase the number of iterations. Duality gap: 371701364148791.0, tolerance: 2632331717772.0674\n",
      "Objective did not converge. You might want to increase the number of iterations. Duality gap: 397847369526220.5, tolerance: 2693593624520.2476\n",
      "Objective did not converge. You might want to increase the number of iterations. Duality gap: 301784142447358.0, tolerance: 2484634878793.5884\n",
      "Objective did not converge. You might want to increase the number of iterations. Duality gap: 403534826555595.5, tolerance: 2559013009949.358\n",
      "Objective did not converge. You might want to increase the number of iterations. Duality gap: 341001544505733.5, tolerance: 2530144540971.3906\n",
      "Objective did not converge. You might want to increase the number of iterations. Duality gap: 371701372679500.0, tolerance: 2632331717772.0674\n",
      "Objective did not converge. You might want to increase the number of iterations. Duality gap: 397847362945747.5, tolerance: 2693593624520.2476\n",
      "Objective did not converge. You might want to increase the number of iterations. Duality gap: 301784149222350.5, tolerance: 2484634878793.5884\n",
      "Objective did not converge. You might want to increase the number of iterations. Duality gap: 403534847127211.0, tolerance: 2559013009949.358\n",
      "Objective did not converge. You might want to increase the number of iterations. Duality gap: 341001550329325.5, tolerance: 2530144540971.3906\n",
      "Objective did not converge. You might want to increase the number of iterations. Duality gap: 371701372358838.0, tolerance: 2632331717772.0674\n",
      "Objective did not converge. You might want to increase the number of iterations. Duality gap: 397847376662290.0, tolerance: 2693593624520.2476\n",
      "Objective did not converge. You might want to increase the number of iterations. Duality gap: 301784154352877.0, tolerance: 2484634878793.5884\n",
      "Objective did not converge. You might want to increase the number of iterations. Duality gap: 403534850084940.5, tolerance: 2559013009949.358\n",
      "Objective did not converge. You might want to increase the number of iterations. Duality gap: 341001557698404.5, tolerance: 2530144540971.3906\n",
      "Objective did not converge. You might want to increase the number of iterations. Duality gap: 371701386041139.5, tolerance: 2632331717772.0674\n",
      "Objective did not converge. You might want to increase the number of iterations. Duality gap: 397847385977436.5, tolerance: 2693593624520.2476\n",
      "Objective did not converge. You might want to increase the number of iterations. Duality gap: 301784163418350.5, tolerance: 2484634878793.5884\n",
      "Objective did not converge. You might want to increase the number of iterations. Duality gap: 403534861109830.0, tolerance: 2559013009949.358\n",
      "Objective did not converge. You might want to increase the number of iterations. Duality gap: 341001564443388.0, tolerance: 2530144540971.3906\n",
      "Objective did not converge. You might want to increase the number of iterations. Duality gap: 371701392974001.0, tolerance: 2632331717772.0674\n",
      "Objective did not converge. You might want to increase the number of iterations. Duality gap: 397847394712746.0, tolerance: 2693593624520.2476\n",
      "Objective did not converge. You might want to increase the number of iterations. Duality gap: 301784179206183.5, tolerance: 2484634878793.5884\n",
      "Objective did not converge. You might want to increase the number of iterations. Duality gap: 403534869676885.0, tolerance: 2559013009949.358\n",
      "Objective did not converge. You might want to increase the number of iterations. Duality gap: 341001582711489.5, tolerance: 2530144540971.3906\n",
      "Objective did not converge. You might want to increase the number of iterations. Duality gap: 371701407084957.0, tolerance: 2632331717772.0674\n",
      "Objective did not converge. You might want to increase the number of iterations. Duality gap: 397847410456775.0, tolerance: 2693593624520.2476\n",
      "Objective did not converge. You might want to increase the number of iterations. Duality gap: 301784187899224.0, tolerance: 2484634878793.5884\n",
      "Objective did not converge. You might want to increase the number of iterations. Duality gap: 403534883698584.0, tolerance: 2559013009949.358\n",
      "Objective did not converge. You might want to increase the number of iterations. Duality gap: 341001594667891.0, tolerance: 2530144540971.3906\n",
      "Objective did not converge. You might want to increase the number of iterations. Duality gap: 371701421907850.0, tolerance: 2632331717772.0674\n",
      "Objective did not converge. You might want to increase the number of iterations. Duality gap: 397847422986096.0, tolerance: 2693593624520.2476\n",
      "Objective did not converge. You might want to increase the number of iterations. Duality gap: 301784201026900.0, tolerance: 2484634878793.5884\n",
      "Objective did not converge. You might want to increase the number of iterations. Duality gap: 403534899135237.0, tolerance: 2559013009949.358\n",
      "Objective did not converge. You might want to increase the number of iterations. Duality gap: 341001612013160.0, tolerance: 2530144540971.3906\n",
      "Objective did not converge. You might want to increase the number of iterations. Duality gap: 371701439226366.5, tolerance: 2632331717772.0674\n",
      "Objective did not converge. You might want to increase the number of iterations. Duality gap: 397847440370376.5, tolerance: 2693593624520.2476\n",
      "Objective did not converge. You might want to increase the number of iterations. Duality gap: 301784220797512.5, tolerance: 2484634878793.5884\n",
      "Objective did not converge. You might want to increase the number of iterations. Duality gap: 403534916749358.5, tolerance: 2559013009949.358\n",
      "Objective did not converge. You might want to increase the number of iterations. Duality gap: 341001631438904.5, tolerance: 2530144540971.3906\n",
      "Objective did not converge. You might want to increase the number of iterations. Duality gap: 371701458107054.5, tolerance: 2632331717772.0674\n",
      "Objective did not converge. You might want to increase the number of iterations. Duality gap: 397847457332650.0, tolerance: 2693593624520.2476\n",
      "Objective did not converge. You might want to increase the number of iterations. Duality gap: 301784237652997.5, tolerance: 2484634878793.5884\n",
      "Objective did not converge. You might want to increase the number of iterations. Duality gap: 403534936925823.0, tolerance: 2559013009949.358\n",
      "Objective did not converge. You might want to increase the number of iterations. Duality gap: 341001653970561.5, tolerance: 2530144540971.3906\n",
      "Objective did not converge. You might want to increase the number of iterations. Duality gap: 371701482086435.0, tolerance: 2632331717772.0674\n",
      "Objective did not converge. You might want to increase the number of iterations. Duality gap: 397847483805373.0, tolerance: 2693593624520.2476\n",
      "Objective did not converge. You might want to increase the number of iterations. Duality gap: 301784261398721.5, tolerance: 2484634878793.5884\n",
      "Objective did not converge. You might want to increase the number of iterations. Duality gap: 403534962570495.0, tolerance: 2559013009949.358\n",
      "Objective did not converge. You might want to increase the number of iterations. Duality gap: 341001679596419.5, tolerance: 2530144540971.3906\n",
      "Objective did not converge. You might want to increase the number of iterations. Duality gap: 371701510517740.0, tolerance: 2632331717772.0674\n",
      "Objective did not converge. You might want to increase the number of iterations. Duality gap: 397847507914746.0, tolerance: 2693593624520.2476\n",
      "Objective did not converge. You might want to increase the number of iterations. Duality gap: 301784289128707.5, tolerance: 2484634878793.5884\n",
      "Objective did not converge. You might want to increase the number of iterations. Duality gap: 403534993071598.5, tolerance: 2559013009949.358\n",
      "Objective did not converge. You might want to increase the number of iterations. Duality gap: 341001714576975.5, tolerance: 2530144540971.3906\n",
      "Objective did not converge. You might want to increase the number of iterations. Duality gap: 371701541286150.0, tolerance: 2632331717772.0674\n",
      "Objective did not converge. You might want to increase the number of iterations. Duality gap: 397847539323066.5, tolerance: 2693593624520.2476\n",
      "Objective did not converge. You might want to increase the number of iterations. Duality gap: 301784320378654.0, tolerance: 2484634878793.5884\n",
      "Objective did not converge. You might want to increase the number of iterations. Duality gap: 403535027364898.0, tolerance: 2559013009949.358\n",
      "Objective did not converge. You might want to increase the number of iterations. Duality gap: 341001750650499.0, tolerance: 2530144540971.3906\n"
     ]
    },
    {
     "name": "stderr",
     "output_type": "stream",
     "text": [
      "Objective did not converge. You might want to increase the number of iterations. Duality gap: 371701580725754.0, tolerance: 2632331717772.0674\n",
      "Objective did not converge. You might want to increase the number of iterations. Duality gap: 397847577135965.5, tolerance: 2693593624520.2476\n",
      "Objective did not converge. You might want to increase the number of iterations. Duality gap: 301784357497786.0, tolerance: 2484634878793.5884\n",
      "Objective did not converge. You might want to increase the number of iterations. Duality gap: 403535068788493.0, tolerance: 2559013009949.358\n",
      "Objective did not converge. You might want to increase the number of iterations. Duality gap: 341001794691186.5, tolerance: 2530144540971.3906\n",
      "Objective did not converge. You might want to increase the number of iterations. Duality gap: 371701624573938.5, tolerance: 2632331717772.0674\n",
      "Objective did not converge. You might want to increase the number of iterations. Duality gap: 397847620172008.5, tolerance: 2693593624520.2476\n",
      "Objective did not converge. You might want to increase the number of iterations. Duality gap: 301784402054467.0, tolerance: 2484634878793.5884\n",
      "Objective did not converge. You might want to increase the number of iterations. Duality gap: 403535117071130.0, tolerance: 2559013009949.358\n",
      "Objective did not converge. You might want to increase the number of iterations. Duality gap: 341001847741256.5, tolerance: 2530144540971.3906\n",
      "Objective did not converge. You might want to increase the number of iterations. Duality gap: 371701678136844.0, tolerance: 2632331717772.0674\n",
      "Objective did not converge. You might want to increase the number of iterations. Duality gap: 397847672788831.0, tolerance: 2693593624520.2476\n",
      "Objective did not converge. You might want to increase the number of iterations. Duality gap: 301784453408068.0, tolerance: 2484634878793.5884\n",
      "Objective did not converge. You might want to increase the number of iterations. Duality gap: 403535175589073.0, tolerance: 2559013009949.358\n",
      "Objective did not converge. You might want to increase the number of iterations. Duality gap: 341001910228200.5, tolerance: 2530144540971.3906\n",
      "Objective did not converge. You might want to increase the number of iterations. Duality gap: 371701740164720.0, tolerance: 2632331717772.0674\n",
      "Objective did not converge. You might want to increase the number of iterations. Duality gap: 397847733006379.0, tolerance: 2693593624520.2476\n",
      "Objective did not converge. You might want to increase the number of iterations. Duality gap: 301784514553418.0, tolerance: 2484634878793.5884\n",
      "Objective did not converge. You might want to increase the number of iterations. Duality gap: 403535242078219.5, tolerance: 2559013009949.358\n",
      "Objective did not converge. You might want to increase the number of iterations. Duality gap: 341001982553648.5, tolerance: 2530144540971.3906\n",
      "Objective did not converge. You might want to increase the number of iterations. Duality gap: 371701813009138.5, tolerance: 2632331717772.0674\n",
      "Objective did not converge. You might want to increase the number of iterations. Duality gap: 397847804466295.5, tolerance: 2693593624520.2476\n",
      "Objective did not converge. You might want to increase the number of iterations. Duality gap: 301784585636637.0, tolerance: 2484634878793.5884\n",
      "Objective did not converge. You might want to increase the number of iterations. Duality gap: 403535320947016.0, tolerance: 2559013009949.358\n",
      "Objective did not converge. You might want to increase the number of iterations. Duality gap: 341002067181225.0, tolerance: 2530144540971.3906\n",
      "Objective did not converge. You might want to increase the number of iterations. Duality gap: 371701899997936.5, tolerance: 2632331717772.0674\n",
      "Objective did not converge. You might want to increase the number of iterations. Duality gap: 365736651274929.5, tolerance: 2693593624520.2476\n",
      "Objective did not converge. You might want to increase the number of iterations. Duality gap: 301784669605427.0, tolerance: 2484634878793.5884\n",
      "Objective did not converge. You might want to increase the number of iterations. Duality gap: 403535414024930.5, tolerance: 2559013009949.358\n",
      "Objective did not converge. You might want to increase the number of iterations. Duality gap: 341002168253317.5, tolerance: 2530144540971.3906\n",
      "Objective did not converge. You might want to increase the number of iterations. Duality gap: 371702000919750.5, tolerance: 2632331717772.0674\n",
      "Objective did not converge. You might want to increase the number of iterations. Duality gap: 365736747635237.0, tolerance: 2693593624520.2476\n",
      "Objective did not converge. You might want to increase the number of iterations. Duality gap: 301784767879780.0, tolerance: 2484634878793.5884\n",
      "Objective did not converge. You might want to increase the number of iterations. Duality gap: 403535523988464.0, tolerance: 2559013009949.358\n",
      "Objective did not converge. You might want to increase the number of iterations. Duality gap: 341002286512878.5, tolerance: 2530144540971.3906\n",
      "Objective did not converge. You might want to increase the number of iterations. Duality gap: 371702119733841.0, tolerance: 2632331717772.0674\n",
      "Objective did not converge. You might want to increase the number of iterations. Duality gap: 365736859296941.0, tolerance: 2693593624520.2476\n",
      "Objective did not converge. You might want to increase the number of iterations. Duality gap: 301784884420386.0, tolerance: 2484634878793.5884\n",
      "Objective did not converge. You might want to increase the number of iterations. Duality gap: 403535652708847.0, tolerance: 2559013009949.358\n",
      "Objective did not converge. You might want to increase the number of iterations. Duality gap: 341002426473238.0, tolerance: 2530144540971.3906\n",
      "Objective did not converge. You might want to increase the number of iterations. Duality gap: 371702260284134.0, tolerance: 2632331717772.0674\n",
      "Objective did not converge. You might want to increase the number of iterations. Duality gap: 365736990862955.0, tolerance: 2693593624520.2476\n",
      "Objective did not converge. You might want to increase the number of iterations. Duality gap: 301785020631634.5, tolerance: 2484634878793.5884\n",
      "Objective did not converge. You might want to increase the number of iterations. Duality gap: 403535804663912.0, tolerance: 2559013009949.358\n",
      "Objective did not converge. You might want to increase the number of iterations. Duality gap: 341002590391000.5, tolerance: 2530144540971.3906\n",
      "Objective did not converge. You might want to increase the number of iterations. Duality gap: 371702425478099.5, tolerance: 2632331717772.0674\n",
      "Objective did not converge. You might want to increase the number of iterations. Duality gap: 365737145227399.5, tolerance: 2693593624520.2476\n",
      "Objective did not converge. You might want to increase the number of iterations. Duality gap: 301785181809775.5, tolerance: 2484634878793.5884\n",
      "Objective did not converge. You might want to increase the number of iterations. Duality gap: 403535983690242.5, tolerance: 2559013009949.358\n",
      "Objective did not converge. You might want to increase the number of iterations. Duality gap: 341002783337812.5, tolerance: 2530144540971.3906\n",
      "Objective did not converge. You might want to increase the number of iterations. Duality gap: 371702619383962.0, tolerance: 2632331717772.0674\n",
      "Objective did not converge. You might want to increase the number of iterations. Duality gap: 365737326701924.5, tolerance: 2693593624520.2476\n",
      "Objective did not converge. You might want to increase the number of iterations. Duality gap: 301785370849526.0, tolerance: 2484634878793.5884\n",
      "Objective did not converge. You might want to increase the number of iterations. Duality gap: 403536193866210.5, tolerance: 2559013009949.358\n",
      "Objective did not converge. You might want to increase the number of iterations. Duality gap: 341003010443568.0, tolerance: 2530144540971.3906\n",
      "Objective did not converge. You might want to increase the number of iterations. Duality gap: 371702847881937.0, tolerance: 2632331717772.0674\n",
      "Objective did not converge. You might want to increase the number of iterations. Duality gap: 365737540968274.5, tolerance: 2693593624520.2476\n",
      "Objective did not converge. You might want to increase the number of iterations. Duality gap: 301785593750389.5, tolerance: 2484634878793.5884\n",
      "Objective did not converge. You might want to increase the number of iterations. Duality gap: 403536440937364.0, tolerance: 2559013009949.358\n",
      "Objective did not converge. You might want to increase the number of iterations. Duality gap: 341003278002657.5, tolerance: 2530144540971.3906\n",
      "Objective did not converge. You might want to increase the number of iterations. Duality gap: 371703116677931.0, tolerance: 2632331717772.0674\n",
      "Objective did not converge. You might want to increase the number of iterations. Duality gap: 365737792517167.5, tolerance: 2693593624520.2476\n"
     ]
    },
    {
     "name": "stderr",
     "output_type": "stream",
     "text": [
      "Objective did not converge. You might want to increase the number of iterations. Duality gap: 301785855630562.0, tolerance: 2484634878793.5884\n",
      "Objective did not converge. You might want to increase the number of iterations. Duality gap: 403536732037866.0, tolerance: 2559013009949.358\n",
      "Objective did not converge. You might want to increase the number of iterations. Duality gap: 341003592292475.0, tolerance: 2530144540971.3906\n",
      "Objective did not converge. You might want to increase the number of iterations. Duality gap: 371703433314208.0, tolerance: 2632331717772.0674\n",
      "Objective did not converge. You might want to increase the number of iterations. Duality gap: 365738088908044.0, tolerance: 2693593624520.2476\n",
      "Objective did not converge. You might want to increase the number of iterations. Duality gap: 301786164106642.0, tolerance: 2484634878793.5884\n",
      "Objective did not converge. You might want to increase the number of iterations. Duality gap: 403537074577901.0, tolerance: 2559013009949.358\n",
      "Objective did not converge. You might want to increase the number of iterations. Duality gap: 341003962658939.0, tolerance: 2530144540971.3906\n",
      "Objective did not converge. You might want to increase the number of iterations. Duality gap: 371703805588997.5, tolerance: 2632331717772.0674\n",
      "Objective did not converge. You might want to increase the number of iterations. Duality gap: 365738437448765.0, tolerance: 2693593624520.2476\n",
      "Objective did not converge. You might want to increase the number of iterations. Duality gap: 301786526992779.0, tolerance: 2484634878793.5884\n",
      "Objective did not converge. You might want to increase the number of iterations. Duality gap: 403537477764681.0, tolerance: 2559013009949.358\n",
      "Objective did not converge. You might want to increase the number of iterations. Duality gap: 341004398082483.0, tolerance: 2530144540971.3906\n",
      "Objective did not converge. You might want to increase the number of iterations. Duality gap: 371704243596310.0, tolerance: 2632331717772.0674\n",
      "Objective did not converge. You might want to increase the number of iterations. Duality gap: 365738847512328.5, tolerance: 2693593624520.2476\n",
      "Objective did not converge. You might want to increase the number of iterations. Duality gap: 301786954025443.0, tolerance: 2484634878793.5884\n",
      "Objective did not converge. You might want to increase the number of iterations. Duality gap: 403537951916610.0, tolerance: 2559013009949.358\n",
      "Objective did not converge. You might want to increase the number of iterations. Duality gap: 341004910685039.5, tolerance: 2530144540971.3906\n",
      "Objective did not converge. You might want to increase the number of iterations. Duality gap: 371704759192490.0, tolerance: 2632331717772.0674\n",
      "Objective did not converge. You might want to increase the number of iterations. Duality gap: 365739329856840.5, tolerance: 2693593624520.2476\n",
      "Objective did not converge. You might want to increase the number of iterations. Duality gap: 301787456344812.5, tolerance: 2484634878793.5884\n",
      "Objective did not converge. You might want to increase the number of iterations. Duality gap: 403538509881003.5, tolerance: 2559013009949.358\n",
      "Objective did not converge. You might want to increase the number of iterations. Duality gap: 341005513628184.0, tolerance: 2530144540971.3906\n",
      "Objective did not converge. You might want to increase the number of iterations. Duality gap: 371705365873739.0, tolerance: 2632331717772.0674\n",
      "Objective did not converge. You might want to increase the number of iterations. Duality gap: 365739897478343.5, tolerance: 2693593624520.2476\n",
      "Objective did not converge. You might want to increase the number of iterations. Duality gap: 301788047303788.0, tolerance: 2484634878793.5884\n",
      "Objective did not converge. You might want to increase the number of iterations. Duality gap: 403539166426916.0, tolerance: 2559013009949.358\n",
      "Objective did not converge. You might want to increase the number of iterations. Duality gap: 341006223144970.0, tolerance: 2530144540971.3906\n",
      "Objective did not converge. You might want to increase the number of iterations. Duality gap: 371706079518835.5, tolerance: 2632331717772.0674\n",
      "Objective did not converge. You might want to increase the number of iterations. Duality gap: 365740565336699.0, tolerance: 2693593624520.2476\n",
      "Objective did not converge. You might want to increase the number of iterations. Duality gap: 301788742720369.5, tolerance: 2484634878793.5884\n",
      "Objective did not converge. You might want to increase the number of iterations. Duality gap: 403539938827449.5, tolerance: 2559013009949.358\n",
      "Objective did not converge. You might want to increase the number of iterations. Duality gap: 341007057824476.5, tolerance: 2530144540971.3906\n",
      "Objective did not converge. You might want to increase the number of iterations. Duality gap: 371706919211322.0, tolerance: 2632331717772.0674\n",
      "Objective did not converge. You might want to increase the number of iterations. Duality gap: 365741350913198.0, tolerance: 2693593624520.2476\n",
      "Objective did not converge. You might want to increase the number of iterations. Duality gap: 301789560754152.5, tolerance: 2484634878793.5884\n",
      "Objective did not converge. You might want to increase the number of iterations. Duality gap: 403540847563778.0, tolerance: 2559013009949.358\n",
      "Objective did not converge. You might want to increase the number of iterations. Duality gap: 341008039804782.5, tolerance: 2530144540971.3906\n",
      "Objective did not converge. You might want to increase the number of iterations. Duality gap: 371707907177887.5, tolerance: 2632331717772.0674\n",
      "Objective did not converge. You might want to increase the number of iterations. Duality gap: 365742274889535.5, tolerance: 2693593624520.2476\n",
      "Objective did not converge. You might want to increase the number of iterations. Duality gap: 301790523141736.5, tolerance: 2484634878793.5884\n",
      "Objective did not converge. You might want to increase the number of iterations. Duality gap: 403541916604978.0, tolerance: 2559013009949.358\n",
      "Objective did not converge. You might want to increase the number of iterations. Duality gap: 341009195003180.0, tolerance: 2530144540971.3906\n",
      "Objective did not converge. You might want to increase the number of iterations. Duality gap: 371709069512634.0, tolerance: 2632331717772.0674\n",
      "Objective did not converge. You might want to increase the number of iterations. Duality gap: 365743361743571.0, tolerance: 2693593624520.2476\n",
      "Objective did not converge. You might want to increase the number of iterations. Duality gap: 301791655248817.5, tolerance: 2484634878793.5884\n",
      "Objective did not converge. You might want to increase the number of iterations. Duality gap: 403543174185258.5, tolerance: 2559013009949.358\n",
      "Objective did not converge. You might want to increase the number of iterations. Duality gap: 341010553915521.0, tolerance: 2530144540971.3906\n",
      "Objective did not converge. You might want to increase the number of iterations. Duality gap: 371710436912976.5, tolerance: 2632331717772.0674\n",
      "Objective did not converge. You might want to increase the number of iterations. Duality gap: 365744640037320.0, tolerance: 2693593624520.2476\n",
      "Objective did not converge. You might want to increase the number of iterations. Duality gap: 301792986915752.0, tolerance: 2484634878793.5884\n",
      "Objective did not converge. You might want to increase the number of iterations. Duality gap: 403544653445475.0, tolerance: 2559013009949.358\n",
      "Objective did not converge. You might want to increase the number of iterations. Duality gap: 341012152383425.0, tolerance: 2530144540971.3906\n",
      "Objective did not converge. You might want to increase the number of iterations. Duality gap: 371712045467479.5, tolerance: 2632331717772.0674\n",
      "Objective did not converge. You might want to increase the number of iterations. Duality gap: 285573154205868.0, tolerance: 2693593624520.2476\n",
      "Objective did not converge. You might want to increase the number of iterations. Duality gap: 301794553127267.5, tolerance: 2484634878793.5884\n",
      "Objective did not converge. You might want to increase the number of iterations. Duality gap: 403546393275461.0, tolerance: 2559013009949.358\n",
      "Objective did not converge. You might want to increase the number of iterations. Duality gap: 341014032318893.0, tolerance: 2530144540971.3906\n",
      "Objective did not converge. You might want to increase the number of iterations. Duality gap: 371713937558335.5, tolerance: 2632331717772.0674\n",
      "Objective did not converge. You might want to increase the number of iterations. Duality gap: 285574674888995.0, tolerance: 2693593624520.2476\n",
      "Objective did not converge. You might want to increase the number of iterations. Duality gap: 301796395101845.5, tolerance: 2484634878793.5884\n"
     ]
    },
    {
     "name": "stderr",
     "output_type": "stream",
     "text": [
      "Objective did not converge. You might want to increase the number of iterations. Duality gap: 403548439447225.5, tolerance: 2559013009949.358\n",
      "Objective did not converge. You might want to increase the number of iterations. Duality gap: 341016243191288.5, tolerance: 2530144540971.3906\n",
      "Objective did not converge. You might want to increase the number of iterations. Duality gap: 371716162980973.0, tolerance: 2632331717772.0674\n",
      "Objective did not converge. You might want to increase the number of iterations. Duality gap: 285576463410217.0, tolerance: 2693593624520.2476\n",
      "Objective did not converge. You might want to increase the number of iterations. Duality gap: 301798561115413.5, tolerance: 2484634878793.5884\n",
      "Objective did not converge. You might want to increase the number of iterations. Duality gap: 403550845541190.0, tolerance: 2559013009949.358\n",
      "Objective did not converge. You might want to increase the number of iterations. Duality gap: 341018842952387.0, tolerance: 2530144540971.3906\n",
      "Objective did not converge. You might want to increase the number of iterations. Duality gap: 371718780211645.0, tolerance: 2632331717772.0674\n",
      "Objective did not converge. You might want to increase the number of iterations. Duality gap: 285578566714093.0, tolerance: 2693593624520.2476\n",
      "Objective did not converge. You might want to increase the number of iterations. Duality gap: 301801107788860.5, tolerance: 2484634878793.5884\n",
      "Objective did not converge. You might want to increase the number of iterations. Duality gap: 403553674638142.5, tolerance: 2559013009949.358\n",
      "Objective did not converge. You might want to increase the number of iterations. Duality gap: 341021899554439.0, tolerance: 2530144540971.3906\n",
      "Objective did not converge. You might want to increase the number of iterations. Duality gap: 286429988372284.0, tolerance: 2632331717772.0674\n",
      "Objective did not converge. You might want to increase the number of iterations. Duality gap: 285581039900804.0, tolerance: 2693593624520.2476\n",
      "Objective did not converge. You might want to increase the number of iterations. Duality gap: 301804101561510.0, tolerance: 2484634878793.5884\n",
      "Objective did not converge. You might want to increase the number of iterations. Duality gap: 403557000411030.5, tolerance: 2559013009949.358\n",
      "Objective did not converge. You might want to increase the number of iterations. Duality gap: 341025492632100.0, tolerance: 2530144540971.3906\n",
      "Objective did not converge. You might want to increase the number of iterations. Duality gap: 286433166071990.0, tolerance: 2632331717772.0674\n",
      "Objective did not converge. You might want to increase the number of iterations. Duality gap: 285583947633452.5, tolerance: 2693593624520.2476\n",
      "Objective did not converge. You might want to increase the number of iterations. Duality gap: 271967596202022.0, tolerance: 2484634878793.5884\n",
      "Objective did not converge. You might want to increase the number of iterations. Duality gap: 403560909426962.5, tolerance: 2559013009949.358\n",
      "Objective did not converge. You might want to increase the number of iterations. Duality gap: 341029715569952.0, tolerance: 2530144540971.3906\n",
      "Objective did not converge. You might want to increase the number of iterations. Duality gap: 286436902687036.5, tolerance: 2632331717772.0674\n",
      "Objective did not converge. You might want to increase the number of iterations. Duality gap: 285587365679437.0, tolerance: 2693593624520.2476\n",
      "Objective did not converge. You might want to increase the number of iterations. Duality gap: 122745100415992.0, tolerance: 2484634878793.5884\n",
      "Objective did not converge. You might want to increase the number of iterations. Duality gap: 403565502916662.0, tolerance: 2559013009949.358\n",
      "Objective did not converge. You might want to increase the number of iterations. Duality gap: 341034677641936.0, tolerance: 2530144540971.3906\n",
      "Objective did not converge. You might want to increase the number of iterations. Duality gap: 286441295931724.5, tolerance: 2632331717772.0674\n",
      "Objective did not converge. You might want to increase the number of iterations. Duality gap: 285591382756595.0, tolerance: 2693593624520.2476\n",
      "Objective did not converge. You might want to increase the number of iterations. Duality gap: 122748221205547.5, tolerance: 2484634878793.5884\n",
      "Objective did not converge. You might want to increase the number of iterations. Duality gap: 403570899358340.5, tolerance: 2559013009949.358\n",
      "Objective did not converge. You might want to increase the number of iterations. Duality gap: 341040506629808.0, tolerance: 2530144540971.3906\n",
      "Objective did not converge. You might want to increase the number of iterations. Duality gap: 286446460364832.0, tolerance: 2632331717772.0674\n",
      "Objective did not converge. You might want to increase the number of iterations. Duality gap: 285596102789579.5, tolerance: 2693593624520.2476\n",
      "Objective did not converge. You might want to increase the number of iterations. Duality gap: 122751890076229.0, tolerance: 2484634878793.5884\n",
      "Objective did not converge. You might want to increase the number of iterations. Duality gap: 403577237162797.0, tolerance: 2559013009949.358\n",
      "Objective did not converge. You might want to increase the number of iterations. Duality gap: 341047351792168.0, tolerance: 2530144540971.3906\n",
      "Objective did not converge. You might want to increase the number of iterations. Duality gap: 286452530170737.0, tolerance: 2632331717772.0674\n",
      "Objective did not converge. You might want to increase the number of iterations. Duality gap: 285601647223253.0, tolerance: 2693593624520.2476\n",
      "Objective did not converge. You might want to increase the number of iterations. Duality gap: 122756202538914.5, tolerance: 2484634878793.5884\n",
      "Objective did not converge. You might want to increase the number of iterations. Duality gap: 403584677844585.0, tolerance: 2559013009949.358\n",
      "Objective did not converge. You might want to increase the number of iterations. Duality gap: 341055387239616.0, tolerance: 2530144540971.3906\n",
      "Objective did not converge. You might want to increase the number of iterations. Duality gap: 286459662438518.0, tolerance: 2632331717772.0674\n",
      "Objective did not converge. You might want to increase the number of iterations. Duality gap: 285608157924768.5, tolerance: 2693593624520.2476\n",
      "Objective did not converge. You might want to increase the number of iterations. Duality gap: 122761270439353.5, tolerance: 2484634878793.5884\n",
      "Objective did not converge. You might want to increase the number of iterations. Duality gap: 403593409584807.5, tolerance: 2559013009949.358\n",
      "Objective did not converge. You might want to increase the number of iterations. Duality gap: 341064815713063.0, tolerance: 2530144540971.3906\n",
      "Objective did not converge. You might want to increase the number of iterations. Duality gap: 286468040896773.5, tolerance: 2632331717772.0674\n",
      "Objective did not converge. You might want to increase the number of iterations. Duality gap: 285614900988624.5, tolerance: 2693593624520.2476\n",
      "Objective did not converge. You might want to increase the number of iterations. Duality gap: 122767224608341.5, tolerance: 2484634878793.5884\n",
      "Objective did not converge. You might want to increase the number of iterations. Duality gap: 403603651217123.0, tolerance: 2559013009949.358\n",
      "Objective did not converge. You might want to increase the number of iterations. Duality gap: 341075872856974.0, tolerance: 2530144540971.3906\n",
      "Objective did not converge. You might want to increase the number of iterations. Duality gap: 286477880144204.0, tolerance: 2632331717772.0674\n",
      "Objective did not converge. You might want to increase the number of iterations. Duality gap: 285623743054451.0, tolerance: 2693593624520.2476\n",
      "Objective did not converge. You might want to increase the number of iterations. Duality gap: 122774217993330.5, tolerance: 2484634878793.5884\n",
      "Objective did not converge. You might want to increase the number of iterations. Duality gap: 403615656626699.5, tolerance: 2559013009949.358\n",
      "Objective did not converge. You might want to increase the number of iterations. Duality gap: 130108992729934.0, tolerance: 2530144540971.3906\n",
      "Objective did not converge. You might want to increase the number of iterations. Duality gap: 286489430544120.0, tolerance: 2632331717772.0674\n",
      "Objective did not converge. You might want to increase the number of iterations. Duality gap: 285634125240544.5, tolerance: 2693593624520.2476\n",
      "Objective did not converge. You might want to increase the number of iterations. Duality gap: 122782429112802.5, tolerance: 2484634878793.5884\n",
      "Objective did not converge. You might want to increase the number of iterations. Duality gap: 403629719548547.0, tolerance: 2559013009949.358\n"
     ]
    },
    {
     "name": "stderr",
     "output_type": "stream",
     "text": [
      "Objective did not converge. You might want to increase the number of iterations. Duality gap: 130118475333023.5, tolerance: 2530144540971.3906\n",
      "Objective did not converge. You might want to increase the number of iterations. Duality gap: 286502983660373.5, tolerance: 2632331717772.0674\n",
      "Objective did not converge. You might want to increase the number of iterations. Duality gap: 285646310090696.0, tolerance: 2693593624520.2476\n",
      "Objective did not converge. You might want to increase the number of iterations. Duality gap: 122792066054570.5, tolerance: 2484634878793.5884\n",
      "Objective did not converge. You might want to increase the number of iterations. Duality gap: 403646178696595.5, tolerance: 2559013009949.358\n",
      "Objective did not converge. You might want to increase the number of iterations. Duality gap: 130129615585489.5, tolerance: 2530144540971.3906\n",
      "Objective did not converge. You might want to increase the number of iterations. Duality gap: 286518878387016.0, tolerance: 2632331717772.0674\n",
      "Objective did not converge. You might want to increase the number of iterations. Duality gap: 285660603579499.5, tolerance: 2693593624520.2476\n",
      "Objective did not converge. You might want to increase the number of iterations. Duality gap: 122802712037721.0, tolerance: 2484634878793.5884\n",
      "Objective did not converge. You might want to increase the number of iterations. Duality gap: 403665423009306.5, tolerance: 2559013009949.358\n",
      "Objective did not converge. You might want to increase the number of iterations. Duality gap: 130142685919096.0, tolerance: 2530144540971.3906\n",
      "Objective did not converge. You might want to increase the number of iterations. Duality gap: 286537507663073.0, tolerance: 2632331717772.0674\n",
      "Objective did not converge. You might want to increase the number of iterations. Duality gap: 285677361225373.5, tolerance: 2693593624520.2476\n",
      "Objective did not converge. You might want to increase the number of iterations. Duality gap: 122815978906597.5, tolerance: 2484634878793.5884\n",
      "Objective did not converge. You might want to increase the number of iterations. Duality gap: 403687896811205.5, tolerance: 2559013009949.358\n",
      "Objective did not converge. You might want to increase the number of iterations. Duality gap: 130158012320029.5, tolerance: 2530144540971.3906\n",
      "Objective did not converge. You might want to increase the number of iterations. Duality gap: 286559325808866.5, tolerance: 2632331717772.0674\n",
      "Objective did not converge. You might want to increase the number of iterations. Duality gap: 285696513340167.5, tolerance: 2693593624520.2476\n",
      "Objective did not converge. You might want to increase the number of iterations. Duality gap: 169406857568160.0, tolerance: 2559013009949.358\n",
      "Objective did not converge. You might want to increase the number of iterations. Duality gap: 130175972689617.0, tolerance: 2530144540971.3906\n",
      "Objective did not converge. You might want to increase the number of iterations. Duality gap: 286584856255250.0, tolerance: 2632331717772.0674\n",
      "Objective did not converge. You might want to increase the number of iterations. Duality gap: 285719418272886.0, tolerance: 2693593624520.2476\n",
      "Objective did not converge. You might want to increase the number of iterations. Duality gap: 169427109744713.0, tolerance: 2559013009949.358\n",
      "Objective did not converge. You might want to increase the number of iterations. Duality gap: 130197003778966.5, tolerance: 2530144540971.3906\n",
      "Objective did not converge. You might want to increase the number of iterations. Duality gap: 286614699441660.0, tolerance: 2632331717772.0674\n",
      "Objective did not converge. You might want to increase the number of iterations. Duality gap: 134399221825833.0, tolerance: 2693593624520.2476\n",
      "Objective did not converge. You might want to increase the number of iterations. Duality gap: 169450814469971.5, tolerance: 2559013009949.358\n",
      "Objective did not converge. You might want to increase the number of iterations. Duality gap: 130221607264783.0, tolerance: 2530144540971.3906\n",
      "Objective did not converge. You might want to increase the number of iterations. Duality gap: 37952822454122.5, tolerance: 2632331717772.0674\n",
      "Objective did not converge. You might want to increase the number of iterations. Duality gap: 134420959502418.0, tolerance: 2693593624520.2476\n",
      "Objective did not converge. You might want to increase the number of iterations. Duality gap: 169478532517364.0, tolerance: 2559013009949.358\n",
      "Objective did not converge. You might want to increase the number of iterations. Duality gap: 130250359012836.0, tolerance: 2530144540971.3906\n",
      "Objective did not converge. You might want to increase the number of iterations. Duality gap: 37972931860928.0, tolerance: 2632331717772.0674\n",
      "Objective did not converge. You might want to increase the number of iterations. Duality gap: 134446426379160.0, tolerance: 2693593624520.2476\n",
      "Objective did not converge. You might want to increase the number of iterations. Duality gap: 169510905012614.5, tolerance: 2559013009949.358\n",
      "Objective did not converge. You might want to increase the number of iterations. Duality gap: 130283914903176.5, tolerance: 2530144540971.3906\n",
      "Objective did not converge. You might want to increase the number of iterations. Duality gap: 37986860660306.0, tolerance: 2632331717772.0674\n",
      "Objective did not converge. You might want to increase the number of iterations. Duality gap: 41646336346087.0, tolerance: 2693593624520.2476\n",
      "Objective did not converge. You might want to increase the number of iterations. Duality gap: 169548660253784.0, tolerance: 2559013009949.358\n",
      "Objective did not converge. You might want to increase the number of iterations. Duality gap: 130322113084924.0, tolerance: 2530144540971.3906\n",
      "Objective did not converge. You might want to increase the number of iterations. Duality gap: 38007861219996.5, tolerance: 2632331717772.0674\n",
      "Objective did not converge. You might want to increase the number of iterations. Duality gap: 41665978619397.0, tolerance: 2693593624520.2476\n",
      "Objective did not converge. You might want to increase the number of iterations. Duality gap: 169592618433293.0, tolerance: 2559013009949.358\n",
      "Objective did not converge. You might want to increase the number of iterations. Duality gap: 130367574605705.0, tolerance: 2530144540971.3906\n",
      "Objective did not converge. You might want to increase the number of iterations. Duality gap: 38032498705740.0, tolerance: 2632331717772.0674\n",
      "Objective did not converge. You might want to increase the number of iterations. Duality gap: 41689016875081.0, tolerance: 2693593624520.2476\n",
      "Objective did not converge. You might want to increase the number of iterations. Duality gap: 13926458081066.0, tolerance: 2559013009949.358\n",
      "Objective did not converge. You might want to increase the number of iterations. Duality gap: 130420386119512.0, tolerance: 2530144540971.3906\n",
      "Objective did not converge. You might want to increase the number of iterations. Duality gap: 38061386619041.5, tolerance: 2632331717772.0674\n",
      "Objective did not converge. You might want to increase the number of iterations. Duality gap: 41716022000087.0, tolerance: 2693593624520.2476\n",
      "Objective did not converge. You might want to increase the number of iterations. Duality gap: 6344451516351.0, tolerance: 2559013009949.358\n",
      "Objective did not converge. You might want to increase the number of iterations. Duality gap: 79778179387355.0, tolerance: 2530144540971.3906\n",
      "Objective did not converge. You might want to increase the number of iterations. Duality gap: 38095236201600.5, tolerance: 2632331717772.0674\n",
      "Objective did not converge. You might want to increase the number of iterations. Duality gap: 41747649788992.0, tolerance: 2693593624520.2476\n",
      "Objective did not converge. You might want to increase the number of iterations. Duality gap: 14298202378555.0, tolerance: 2530144540971.3906\n",
      "Objective did not converge. You might want to increase the number of iterations. Duality gap: 38134866276678.5, tolerance: 2632331717772.0674\n",
      "Objective did not converge. You might want to increase the number of iterations. Duality gap: 25225528544771.0, tolerance: 2693593624520.2476\n",
      "Objective did not converge. You might want to increase the number of iterations. Duality gap: 14326728713094.0, tolerance: 2530144540971.3906\n",
      "Objective did not converge. You might want to increase the number of iterations. Duality gap: 38181219480602.0, tolerance: 2632331717772.0674\n"
     ]
    },
    {
     "name": "stderr",
     "output_type": "stream",
     "text": [
      "Objective did not converge. You might want to increase the number of iterations. Duality gap: 14360178465782.0, tolerance: 2530144540971.3906\n",
      "Objective did not converge. You might want to increase the number of iterations. Duality gap: 38235373820006.0, tolerance: 2632331717772.0674\n",
      "Objective did not converge. You might want to increase the number of iterations. Duality gap: 38298560016538.5, tolerance: 2632331717772.0674\n",
      "Objective did not converge. You might want to increase the number of iterations. Duality gap: 38372165310169.0, tolerance: 2632331717772.0674\n",
      "Objective did not converge. You might want to increase the number of iterations. Duality gap: 38457743830243.0, tolerance: 2632331717772.0674\n"
     ]
    }
   ],
   "source": [
    "TabErrors = []\n",
    "lasso_regr = Lasso()\n",
    "\n",
    "for i,a in enumerate(alphas) :\n",
    "    lasso_regr.set_params(alpha=a)\n",
    "    scores = cross_validate(lasso_regr, xTrainScaled, yTrain, cv=fold_number,\n",
    "                            scoring=('neg_mean_squared_error','neg_root_mean_squared_error','r2'))\n",
    "    temp = a, -mean(scores['test_neg_mean_squared_error']), -mean(scores['test_neg_root_mean_squared_error']), mean(scores['test_r2'])\n",
    "    TabErrors.append(temp)\n"
   ]
  },
  {
   "cell_type": "code",
   "execution_count": 24,
   "id": "ed3bd08f",
   "metadata": {},
   "outputs": [
    {
     "data": {
      "image/png": "[encoded data removed]",
      "text/plain": [
       "<Figure size 1152x216 with 3 Axes>"
      ]
     },
     "metadata": {
      "needs_background": "light"
     },
     "output_type": "display_data"
    }
   ],
   "source": [
    "fig, axes = plt.subplots(1, 3,figsize=(16,3))\n",
    "tab = ['MSE','RMSE','R2']\n",
    "color = ['b','g','r']\n",
    "\n",
    "for i,error_name in enumerate(tab) :\n",
    "    error_liste = [name[i+1] for j,name in enumerate(TabErrors)]\n",
    "    axes[i].plot(alphas,  error_liste,c=color[i])\n",
    "    axes[i].set_xscale('log')\n",
    "    axes[i].set_xlabel('alpha')\n",
    "    axes[i].set_ylabel(error_name)\n",
    "    axes[i].set_title(tab[i] + ' en fonction des alphas')\n",
    "    \n",
    "    plt.subplots_adjust(left=0.1, bottom=0.1, right=0.9, top=0.9, \n",
    "                    wspace=0.3, hspace=0.2)\n",
    "\n",
    "plt.show()"
   ]
  },
  {
   "cell_type": "code",
   "execution_count": 25,
   "id": "2ba12710",
   "metadata": {},
   "outputs": [
    {
     "name": "stdout",
     "output_type": "stream",
     "text": [
      "Index values for MSE 0, RMSE 0,  R2 99\n",
      "Best fit is for alpha = 10000.0\n"
     ]
    }
   ],
   "source": [
    "dfErrors = pd.DataFrame(TabErrors,columns=['alpha','MSE','RMSE','R2'])\n",
    "imin = dfErrors['R2'].idxmax()\n",
    "print('Index values for MSE {}, RMSE {},  R2 {}'\n",
    "      .format(dfErrors['MSE'].idxmax(),dfErrors['MSE'].idxmax(),imin  )   )\n",
    "alphaBest = dfErrors.loc[imin,'alpha']\n",
    "print('Best fit is for alpha = {}'.format(alphaBest))"
   ]
  },
  {
   "cell_type": "code",
   "execution_count": 26,
   "id": "7d40bb57",
   "metadata": {},
   "outputs": [
    {
     "name": "stdout",
     "output_type": "stream",
     "text": [
      "MSE 5432438743785.87 RMSE 2330759.26 R2 0.778\n",
      "MSE 6458743204613.76 RMSE 2541405.75 R2 0.758\n"
     ]
    }
   ],
   "source": [
    "lasso_regr.set_params(alpha=alphaBest)\n",
    "lasso_regr.fit(xTrainScaled, yTrain)\n",
    "yPredTrain = lasso_regr.predict(xTrainScaled)\n",
    "yPredTest = lasso_regr.predict(xTestScaled)\n",
    "msTrain,rmTrain,r2Train = getRegressionMetrics(yPredTrain, yTrain, isDump=True)\n",
    "msTest,rmTest,r2Test = getRegressionMetrics(yPredTest, yTest, isDump=True)"
   ]
  },
  {
   "cell_type": "code",
   "execution_count": 27,
   "id": "4709fb23",
   "metadata": {},
   "outputs": [],
   "source": [
    "# Store errors\n",
    "Results.append(['Lasso with Manual CV',msTrain,rmTrain,r2Train,msTest,rmTest,r2Test])"
   ]
  },
  {
   "cell_type": "markdown",
   "id": "240a4647",
   "metadata": {},
   "source": [
    "#### Decision Tree Regressor"
   ]
  },
  {
   "cell_type": "code",
   "execution_count": 28,
   "id": "404b0b7c",
   "metadata": {},
   "outputs": [
    {
     "data": {
      "text/plain": [
       "0.9738977511575719"
      ]
     },
     "execution_count": 28,
     "metadata": {},
     "output_type": "execute_result"
    }
   ],
   "source": [
    "from sklearn.tree import DecisionTreeRegressor\n",
    "from sklearn.model_selection import GridSearchCV\n",
    "\n",
    "fold_number = 5\n",
    "param_grid={\"max_depth\" : [3,4,5,6],\n",
    "                \"min_samples_leaf\":[2,3,4,5,10],\n",
    "                \"min_samples_split\":[10,20,30,40]\n",
    "               # \"max_features\":[2,3,4]\n",
    "               }\n",
    "                    \n",
    "dtr = DecisionTreeRegressor()\n",
    "grid_search = GridSearchCV(dtr, param_grid,\n",
    "              scoring='r2', cv=fold_number)\n",
    "\n",
    "grid_search.fit(xTrainScaled, yTrain)\n",
    "grid_search.best_score_"
   ]
  },
  {
   "cell_type": "code",
   "execution_count": 29,
   "id": "2925f4a1",
   "metadata": {},
   "outputs": [
    {
     "data": {
      "text/plain": [
       "0.986"
      ]
     },
     "execution_count": 29,
     "metadata": {},
     "output_type": "execute_result"
    }
   ],
   "source": [
    "grid_search.score(xTrainScaled, yTrain).round(3)"
   ]
  },
  {
   "cell_type": "code",
   "execution_count": 30,
   "id": "1b6b05b0",
   "metadata": {},
   "outputs": [
    {
     "data": {
      "text/plain": [
       "{'max_depth': 6, 'min_samples_leaf': 3, 'min_samples_split': 20}"
      ]
     },
     "execution_count": 30,
     "metadata": {},
     "output_type": "execute_result"
    }
   ],
   "source": [
    "grid_search.best_params_"
   ]
  },
  {
   "cell_type": "code",
   "execution_count": 31,
   "id": "1c0412a2",
   "metadata": {},
   "outputs": [],
   "source": [
    "best_depth = grid_search.best_params_['max_depth']\n",
    "best_min_samples_leaf = grid_search.best_params_['min_samples_leaf']\n",
    "best_min_samples_split = grid_search.best_params_['min_samples_split']"
   ]
  },
  {
   "cell_type": "code",
   "execution_count": 32,
   "id": "bcb5081b",
   "metadata": {},
   "outputs": [
    {
     "name": "stdout",
     "output_type": "stream",
     "text": [
      "MSE 341391908503.78 RMSE 584287.52 R2 0.986\n",
      "MSE 984645657636.12 RMSE 992293.13 R2 0.963\n"
     ]
    }
   ],
   "source": [
    "dtr = DecisionTreeRegressor(max_depth=best_depth,min_samples_leaf=best_min_samples_leaf,\n",
    "                                         min_samples_split= best_min_samples_split)\n",
    "dtr.fit(xTrainScaled, yTrain)\n",
    "yPredTrain = dtr.predict(xTrainScaled)\n",
    "msTrain,rmTrain,r2Train = getRegressionMetrics(yPredTrain, yTrain, isDump=True)\n",
    "yPredTest = dtr.predict(xTestScaled)\n",
    "msTest,rmTest,r2Test = getRegressionMetrics(yPredTest, yTest, isDump=True)"
   ]
  },
  {
   "cell_type": "code",
   "execution_count": 33,
   "id": "77f70e54",
   "metadata": {},
   "outputs": [],
   "source": [
    "# Store errors\n",
    "Results.append(['Decision Tree Regressor',msTrain,rmTrain,r2Train,msTest,rmTest,r2Test])"
   ]
  },
  {
   "cell_type": "markdown",
   "id": "e01e41ca",
   "metadata": {},
   "source": [
    "#### Random Forest"
   ]
  },
  {
   "cell_type": "code",
   "execution_count": 34,
   "id": "e6fcccbe",
   "metadata": {},
   "outputs": [
    {
     "data": {
      "text/plain": [
       "0.9793130481097851"
      ]
     },
     "execution_count": 34,
     "metadata": {},
     "output_type": "execute_result"
    }
   ],
   "source": [
    "from sklearn.ensemble import RandomForestRegressor\n",
    "\n",
    "fold_number = 5\n",
    "param_grid={\"max_depth\" : [2,4,5],\n",
    "                \"min_samples_leaf\":[2,5],\n",
    "                \"min_samples_split\":[10,20],\n",
    "                \"n_estimators\":[100,300,500],\n",
    "                #\"max_leaf_nodes\":[16]\n",
    "               # \"max_features\":[2,3,4]\n",
    "               }\n",
    "                    \n",
    "rfg = RandomForestRegressor()\n",
    "grid_search = GridSearchCV(rfg, param_grid,\n",
    "              scoring='r2', cv=fold_number,n_jobs=-1)\n",
    "\n",
    "grid_search.fit(xTrainScaled, yTrain)\n",
    "grid_search.best_score_"
   ]
  },
  {
   "cell_type": "code",
   "execution_count": 35,
   "id": "adefa4e5",
   "metadata": {},
   "outputs": [
    {
     "data": {
      "text/plain": [
       "0.988"
      ]
     },
     "execution_count": 35,
     "metadata": {},
     "output_type": "execute_result"
    }
   ],
   "source": [
    "grid_search.score(xTrainScaled, yTrain).round(3)"
   ]
  },
  {
   "cell_type": "code",
   "execution_count": 36,
   "id": "4851064e",
   "metadata": {},
   "outputs": [
    {
     "data": {
      "text/plain": [
       "{'max_depth': 5,\n",
       " 'min_samples_leaf': 2,\n",
       " 'min_samples_split': 10,\n",
       " 'n_estimators': 500}"
      ]
     },
     "execution_count": 36,
     "metadata": {},
     "output_type": "execute_result"
    }
   ],
   "source": [
    "grid_search.best_params_"
   ]
  },
  {
   "cell_type": "code",
   "execution_count": 37,
   "id": "673eecd2",
   "metadata": {},
   "outputs": [],
   "source": [
    "best_depth = grid_search.best_params_['max_depth']\n",
    "best_min_samples_leaf = grid_search.best_params_['min_samples_leaf']\n",
    "best_min_samples_split = grid_search.best_params_['min_samples_split']\n",
    "#best_max_leaf_nodes = grid_search.best_params_['max_leaf_nodes']\n",
    "best_n_estimators = grid_search.best_params_['n_estimators']"
   ]
  },
  {
   "cell_type": "code",
   "execution_count": 38,
   "id": "06327793",
   "metadata": {},
   "outputs": [
    {
     "name": "stdout",
     "output_type": "stream",
     "text": [
      "MSE 283143131453.83 RMSE 532111.95 R2 0.988\n",
      "MSE 814773631035.78 RMSE 902648.12 R2 0.970\n"
     ]
    }
   ],
   "source": [
    "#rfg = RandomForestRegressor(max_depth=best_depth,min_samples_leaf=best_min_samples_leaf,\n",
    " #                                         max_leaf_nodes = best_max_leaf_nodes, min_samples_split= best_min_samples_split,\n",
    "  #                                        n_estimators = best_n_estimators)\n",
    "rfg = RandomForestRegressor(max_depth=best_depth,min_samples_leaf=best_min_samples_leaf,\n",
    "                                           min_samples_split= best_min_samples_split,\n",
    "                                          n_estimators = best_n_estimators)\n",
    "\n",
    "rfg.fit(xTrainScaled, yTrain)\n",
    "yPredTrain = rfg.predict(xTrainScaled)\n",
    "msTrain,rmTrain,r2Train = getRegressionMetrics(yPredTrain, yTrain, isDump=True)\n",
    "yPredTest = rfg.predict(xTestScaled)\n",
    "msTest,rmTest,r2Test = getRegressionMetrics(yPredTest, yTest, isDump=True)"
   ]
  },
  {
   "cell_type": "code",
   "execution_count": 39,
   "id": "500b0e8b",
   "metadata": {},
   "outputs": [],
   "source": [
    "# Store errors\n",
    "Results.append(['Random Forest',msTrain,rmTrain,r2Train,msTest,rmTest,r2Test])"
   ]
  },
  {
   "cell_type": "markdown",
   "id": "29644d8b",
   "metadata": {},
   "source": [
    "#### Gradient Boosting"
   ]
  },
  {
   "cell_type": "code",
   "execution_count": 40,
   "id": "d2da2835",
   "metadata": {},
   "outputs": [
    {
     "data": {
      "text/plain": [
       "0.9861965889356575"
      ]
     },
     "execution_count": 40,
     "metadata": {},
     "output_type": "execute_result"
    }
   ],
   "source": [
    "from sklearn.ensemble import GradientBoostingRegressor\n",
    "\n",
    "fold_number = 5\n",
    "param_grid={\"max_depth\" : [4,6],\n",
    "            #\"min_samples_leaf\":[5,10],\n",
    "            \"min_samples_split\":[10,20],\n",
    "            \"n_estimators\":[300,600],\n",
    "            #\"max_leaf_nodes\":[16],\n",
    "            \"learning_rate\":[0.05,0.1],\n",
    "            \"n_iter_no_change\":[10]\n",
    "            \n",
    "            # \"max_features\":[2,3,4]\n",
    "               }\n",
    "                    \n",
    "gbr = GradientBoostingRegressor()\n",
    "grid_search = GridSearchCV(gbr, param_grid,\n",
    "              scoring='r2', cv=fold_number,n_jobs=-1)\n",
    "\n",
    "grid_search.fit(xTrainScaled, yTrain)\n",
    "grid_search.best_score_"
   ]
  },
  {
   "cell_type": "code",
   "execution_count": 41,
   "id": "9efbcf04",
   "metadata": {},
   "outputs": [
    {
     "data": {
      "text/plain": [
       "{'learning_rate': 0.05,\n",
       " 'max_depth': 4,\n",
       " 'min_samples_split': 20,\n",
       " 'n_estimators': 600,\n",
       " 'n_iter_no_change': 10}"
      ]
     },
     "execution_count": 41,
     "metadata": {},
     "output_type": "execute_result"
    }
   ],
   "source": [
    "grid_search.best_params_"
   ]
  },
  {
   "cell_type": "code",
   "execution_count": 42,
   "id": "f0ce3620",
   "metadata": {},
   "outputs": [],
   "source": [
    "best_depth = grid_search.best_params_['max_depth']\n",
    "#best_min_samples_leaf = grid_search.best_params_['min_samples_leaf']\n",
    "best_min_samples_split = grid_search.best_params_['min_samples_split']\n",
    "#best_max_leaf_nodes = grid_search.best_params_['max_leaf_nodes']\n",
    "best_n_estimators = grid_search.best_params_['n_estimators']\n",
    "best_learning_rate = grid_search.best_params_['learning_rate']\n",
    "best_n_iter_no_change = grid_search.best_params_['n_iter_no_change']"
   ]
  },
  {
   "cell_type": "code",
   "execution_count": 43,
   "id": "a434400c",
   "metadata": {},
   "outputs": [
    {
     "name": "stdout",
     "output_type": "stream",
     "text": [
      "MSE 80526099816.53 RMSE 283771.21 R2 0.997\n",
      "MSE 654869698556.33 RMSE 809240.20 R2 0.975\n"
     ]
    }
   ],
   "source": [
    "#gbr = GradientBoostingRegressor(max_depth=best_depth,min_samples_leaf=best_min_samples_leaf,\n",
    "                             #   max_leaf_nodes = best_max_leaf_nodes, min_samples_split= best_min_samples_split,\n",
    "                             #   n_estimators = best_n_estimators, learning_rate = best_learning_rate,\n",
    "                             #   n_iter_no_change = best_n_iter_no_change)\n",
    "gbr = GradientBoostingRegressor(max_depth=best_depth,\n",
    "                                 min_samples_split= best_min_samples_split,\n",
    "                                n_estimators = best_n_estimators, learning_rate = best_learning_rate,\n",
    "                                 n_iter_no_change = best_n_iter_no_change)\n",
    "\n",
    "gbr.fit(xTrainScaled, yTrain)\n",
    "yPredTrain = gbr.predict(xTrainScaled)\n",
    "yPredTest = gbr.predict(xTestScaled)\n",
    "\n",
    "msTrain,rmTrain,r2Train = getRegressionMetrics(yPredTrain, yTrain, isDump=True)\n",
    "msTest,rmTest,r2Test = getRegressionMetrics(yPredTest, yTest, isDump=True)"
   ]
  },
  {
   "cell_type": "code",
   "execution_count": 44,
   "id": "9002d2d6",
   "metadata": {},
   "outputs": [],
   "source": [
    "# Store errors\n",
    "Results.append(['Gradient Boosting',msTrain,rmTrain,r2Train,msTest,rmTest,r2Test])"
   ]
  },
  {
   "cell_type": "markdown",
   "id": "294e85ae",
   "metadata": {},
   "source": [
    "#### Comparaison des différents algorithmes"
   ]
  },
  {
   "cell_type": "code",
   "execution_count": 46,
   "id": "cc234825",
   "metadata": {},
   "outputs": [
    {
     "data": {
      "text/html": [
       "<div>\n",
       "<style scoped>\n",
       "    .dataframe tbody tr th:only-of-type {\n",
       "        vertical-align: middle;\n",
       "    }\n",
       "\n",
       "    .dataframe tbody tr th {\n",
       "        vertical-align: top;\n",
       "    }\n",
       "\n",
       "    .dataframe thead th {\n",
       "        text-align: right;\n",
       "    }\n",
       "</style>\n",
       "<table border=\"1\" class=\"dataframe\">\n",
       "  <thead>\n",
       "    <tr style=\"text-align: right;\">\n",
       "      <th></th>\n",
       "      <th>Name</th>\n",
       "      <th>MSE Train</th>\n",
       "      <th>RMSE Train</th>\n",
       "      <th>R2 Train</th>\n",
       "      <th>MSE Test</th>\n",
       "      <th>RMSE Test</th>\n",
       "      <th>R2 Test</th>\n",
       "    </tr>\n",
       "  </thead>\n",
       "  <tbody>\n",
       "    <tr>\n",
       "      <th>0</th>\n",
       "      <td>Linear Regression</td>\n",
       "      <td>5.427739e+12</td>\n",
       "      <td>2329750.789</td>\n",
       "      <td>0.778</td>\n",
       "      <td>6.490946e+12</td>\n",
       "      <td>2547733.520</td>\n",
       "      <td>0.757</td>\n",
       "    </tr>\n",
       "    <tr>\n",
       "      <th>1</th>\n",
       "      <td>RidgeCV</td>\n",
       "      <td>6.193806e+12</td>\n",
       "      <td>2488735.827</td>\n",
       "      <td>0.747</td>\n",
       "      <td>8.338294e+12</td>\n",
       "      <td>2887610.364</td>\n",
       "      <td>0.688</td>\n",
       "    </tr>\n",
       "    <tr>\n",
       "      <th>2</th>\n",
       "      <td>Ridge with Manual CV</td>\n",
       "      <td>6.193806e+12</td>\n",
       "      <td>2488735.827</td>\n",
       "      <td>0.747</td>\n",
       "      <td>8.338294e+12</td>\n",
       "      <td>2887610.364</td>\n",
       "      <td>0.688</td>\n",
       "    </tr>\n",
       "    <tr>\n",
       "      <th>3</th>\n",
       "      <td>LassoCV</td>\n",
       "      <td>5.727647e+12</td>\n",
       "      <td>2393250.262</td>\n",
       "      <td>0.766</td>\n",
       "      <td>6.678013e+12</td>\n",
       "      <td>2584185.080</td>\n",
       "      <td>0.750</td>\n",
       "    </tr>\n",
       "    <tr>\n",
       "      <th>4</th>\n",
       "      <td>Lasso with Manual CV</td>\n",
       "      <td>5.432439e+12</td>\n",
       "      <td>2330759.263</td>\n",
       "      <td>0.778</td>\n",
       "      <td>6.458743e+12</td>\n",
       "      <td>2541405.754</td>\n",
       "      <td>0.758</td>\n",
       "    </tr>\n",
       "    <tr>\n",
       "      <th>5</th>\n",
       "      <td>Decision Tree Regressor</td>\n",
       "      <td>3.413919e+11</td>\n",
       "      <td>584287.522</td>\n",
       "      <td>0.986</td>\n",
       "      <td>9.846457e+11</td>\n",
       "      <td>992293.131</td>\n",
       "      <td>0.963</td>\n",
       "    </tr>\n",
       "    <tr>\n",
       "      <th>6</th>\n",
       "      <td>Random Forest</td>\n",
       "      <td>2.831431e+11</td>\n",
       "      <td>532111.954</td>\n",
       "      <td>0.988</td>\n",
       "      <td>8.147736e+11</td>\n",
       "      <td>902648.121</td>\n",
       "      <td>0.970</td>\n",
       "    </tr>\n",
       "    <tr>\n",
       "      <th>7</th>\n",
       "      <td>Gradient Boosting</td>\n",
       "      <td>8.052610e+10</td>\n",
       "      <td>283771.210</td>\n",
       "      <td>0.997</td>\n",
       "      <td>6.548697e+11</td>\n",
       "      <td>809240.198</td>\n",
       "      <td>0.975</td>\n",
       "    </tr>\n",
       "  </tbody>\n",
       "</table>\n",
       "</div>"
      ],
      "text/plain": [
       "                      Name     MSE Train   RMSE Train  R2 Train      MSE Test  \\\n",
       "0        Linear Regression  5.427739e+12  2329750.789     0.778  6.490946e+12   \n",
       "1                  RidgeCV  6.193806e+12  2488735.827     0.747  8.338294e+12   \n",
       "2     Ridge with Manual CV  6.193806e+12  2488735.827     0.747  8.338294e+12   \n",
       "3                  LassoCV  5.727647e+12  2393250.262     0.766  6.678013e+12   \n",
       "4     Lasso with Manual CV  5.432439e+12  2330759.263     0.778  6.458743e+12   \n",
       "5  Decision Tree Regressor  3.413919e+11   584287.522     0.986  9.846457e+11   \n",
       "6            Random Forest  2.831431e+11   532111.954     0.988  8.147736e+11   \n",
       "7        Gradient Boosting  8.052610e+10   283771.210     0.997  6.548697e+11   \n",
       "\n",
       "     RMSE Test  R2 Test  \n",
       "0  2547733.520    0.757  \n",
       "1  2887610.364    0.688  \n",
       "2  2887610.364    0.688  \n",
       "3  2584185.080    0.750  \n",
       "4  2541405.754    0.758  \n",
       "5   992293.131    0.963  \n",
       "6   902648.121    0.970  \n",
       "7   809240.198    0.975  "
      ]
     },
     "execution_count": 46,
     "metadata": {},
     "output_type": "execute_result"
    }
   ],
   "source": [
    "dfResults = pd.DataFrame(Results,columns=['Name','MSE Train','RMSE Train','R2 Train','MSE Test','RMSE Test','R2 Test'])\n",
    "dfResults.round(3)"
   ]
  },
  {
   "cell_type": "code",
   "execution_count": 47,
   "id": "0d791c3c",
   "metadata": {},
   "outputs": [
    {
     "data": {
      "image/png": "[encoded data removed]",
      "text/plain": [
       "<Figure size 576x684 with 2 Axes>"
      ]
     },
     "metadata": {
      "needs_background": "light"
     },
     "output_type": "display_data"
    }
   ],
   "source": [
    "shap_values = shap.TreeExplainer(gbr).shap_values(xTestScaled)\n",
    "shap.summary_plot(shap_values, xTestScaled,use_log_scale=False,feature_names=XTest.columns)"
   ]
  },
  {
   "cell_type": "markdown",
   "id": "a49814e2",
   "metadata": {},
   "source": [
    "### 3. Modélisations sans l'Energy Star Score"
   ]
  },
  {
   "cell_type": "code",
   "execution_count": 48,
   "id": "f7860745",
   "metadata": {},
   "outputs": [],
   "source": [
    "XTrain = dfTrain.drop(['SiteEnergyUse(kBtu)','TotalGHGEmissions','ENERGYSTARScore'],axis=1 )\n",
    "yTrain = dfTrain[targetName].copy()\n",
    "XTest = dfTest.drop(['SiteEnergyUse(kBtu)','TotalGHGEmissions','ENERGYSTARScore'],axis=1 )\n",
    "yTest = dfTest[targetName].copy()"
   ]
  },
  {
   "cell_type": "code",
   "execution_count": 49,
   "id": "4241b6a2",
   "metadata": {},
   "outputs": [],
   "source": [
    "from sklearn.preprocessing import StandardScaler\n",
    "\n",
    "scaler = StandardScaler()\n",
    "\n",
    "xTrainScaled = scaler.fit_transform(XTrain)\n",
    "xTestScaled = scaler.transform(XTest)"
   ]
  },
  {
   "cell_type": "markdown",
   "id": "2fd07043",
   "metadata": {},
   "source": [
    "#### Linear Regression"
   ]
  },
  {
   "cell_type": "code",
   "execution_count": 50,
   "id": "82053a77",
   "metadata": {},
   "outputs": [],
   "source": [
    "from sklearn.linear_model import LinearRegression\n",
    "linear_regr = LinearRegression()\n",
    "linear_regr.fit(xTrainScaled, yTrain)\n",
    "\n",
    "yPredTrain = linear_regr.predict(xTrainScaled)\n",
    "yPredTest = linear_regr.predict(xTestScaled)"
   ]
  },
  {
   "cell_type": "code",
   "execution_count": 51,
   "id": "c327b61a",
   "metadata": {},
   "outputs": [
    {
     "name": "stdout",
     "output_type": "stream",
     "text": [
      "MSE 5436203230545.15 RMSE 2331566.69 R2 0.778\n",
      "MSE 6498793646832.15 RMSE 2549273.16 R2 0.757\n"
     ]
    }
   ],
   "source": [
    "msTrain,rmTrain,r2Train  = getRegressionMetrics(yPredTrain, yTrain)\n",
    "msTest,rmTest,r2Test  = getRegressionMetrics(yPredTest, yTest)"
   ]
  },
  {
   "cell_type": "code",
   "execution_count": 52,
   "id": "cbec101e",
   "metadata": {},
   "outputs": [],
   "source": [
    "# Store errors\n",
    "Results = []\n",
    "Results.append(['Linear Regression',msTrain,rmTrain,r2Train,msTest,rmTest,r2Test])"
   ]
  },
  {
   "cell_type": "markdown",
   "id": "4f78f791",
   "metadata": {},
   "source": [
    "#### RidgeCV"
   ]
  },
  {
   "cell_type": "code",
   "execution_count": 53,
   "id": "3271f779",
   "metadata": {},
   "outputs": [
    {
     "name": "stdout",
     "output_type": "stream",
     "text": [
      "alpha = 599.4842503189409  best score = -7382964179665.4795\n",
      "Train best score = 0.7470865274512718\n",
      "Test best score = 0.6875151017519001\n",
      "MSE 6182109886500.52 RMSE 2486384.90 R2 0.747\n",
      "MSE 8349068646286.69 RMSE 2889475.50 R2 0.688\n"
     ]
    }
   ],
   "source": [
    "from sklearn.linear_model import RidgeCV\n",
    "\n",
    "nAlphas = 100\n",
    "fold_number = 5\n",
    "alphas= np.logspace(-5,5,nAlphas)\n",
    "\n",
    "ridgeCV_regr = RidgeCV(alphas=alphas,\n",
    "scoring='neg_mean_squared_error',\n",
    "                 cv=fold_number)\n",
    "ridgeCV_regr.fit(xTrainScaled, yTrain)\n",
    "print('alpha = {}  best score = {}'.format(ridgeCV_regr.alpha_ , ridgeCV_regr.best_score_))\n",
    "yPredtrain = ridgeCV_regr.predict(xTrainScaled)\n",
    "print('Train best score = {}'.format(ridgeCV_regr.score(xTrainScaled,yTrain)))\n",
    "yPredTest = ridgeCV_regr.predict(xTestScaled)\n",
    "print('Test best score = {}'.format(ridgeCV_regr.score(xTestScaled,yTest)))\n",
    "msTrain,rmTrain,r2Train = getRegressionMetrics(yPredtrain, yTrain, isDump=True)\n",
    "msTest,rmTest,r2Test = getRegressionMetrics(yPredTest, yTest, isDump=True)"
   ]
  },
  {
   "cell_type": "code",
   "execution_count": 54,
   "id": "bd5c03c1",
   "metadata": {},
   "outputs": [],
   "source": [
    "# Store errors\n",
    "Results.append(['RidgeCV',msTrain,rmTrain,r2Train,msTest,rmTest,r2Test])"
   ]
  },
  {
   "cell_type": "markdown",
   "id": "a31c7042",
   "metadata": {},
   "source": [
    "#### Ridge  with Manual CV"
   ]
  },
  {
   "cell_type": "code",
   "execution_count": 55,
   "id": "d0b1c8ac",
   "metadata": {},
   "outputs": [],
   "source": [
    "from sklearn.linear_model import Ridge\n",
    "from sklearn.model_selection import cross_validate\n",
    "from numpy import mean , std\n",
    "\n",
    "nAlphas = 100\n",
    "fold_number = 5\n",
    "alphas= np.logspace(-5,5,nAlphas)"
   ]
  },
  {
   "cell_type": "code",
   "execution_count": 56,
   "id": "6d71035b",
   "metadata": {},
   "outputs": [],
   "source": [
    "TabErrors = []\n",
    "ridge_regr = Ridge()\n",
    "\n",
    "for i,a in enumerate(alphas) :\n",
    "    ridge_regr.set_params(alpha=a)\n",
    "    scores = cross_validate(ridge_regr, xTrainScaled, yTrain, cv=fold_number,\n",
    "                            scoring=('neg_mean_squared_error','neg_root_mean_squared_error','r2'))\n",
    "    temp = a, -mean(scores['test_neg_mean_squared_error']), -mean(scores['test_neg_root_mean_squared_error']), mean(scores['test_r2'])\n",
    "    TabErrors.append(temp)\n",
    "\n",
    "#mini = [val[0] for i,val in enumerate(TabErrors) if val[1] == np.min(TabErrors,axis=0)[1]]\n",
    "#mini"
   ]
  },
  {
   "cell_type": "code",
   "execution_count": 57,
   "id": "2414b04a",
   "metadata": {},
   "outputs": [
    {
     "data": {
      "image/png": "[encoded data removed]",
      "text/plain": [
       "<Figure size 1152x216 with 3 Axes>"
      ]
     },
     "metadata": {
      "needs_background": "light"
     },
     "output_type": "display_data"
    }
   ],
   "source": [
    "fig, axes = plt.subplots(1, 3,figsize=(16,3))\n",
    "tab = ['MSE','RMSE','R2']\n",
    "color = ['b','g','r']\n",
    "\n",
    "for i,error_name in enumerate(tab) :\n",
    "    error_liste = [name[i+1] for j,name in enumerate(TabErrors)]\n",
    "    axes[i].plot(alphas,  error_liste,c=color[i])\n",
    "    axes[i].set_xscale('log')\n",
    "    axes[i].set_xlabel('alpha')\n",
    "    axes[i].set_ylabel(error_name)\n",
    "    axes[i].set_title(tab[i] + ' en fonction des alphas')\n",
    "    \n",
    "    plt.subplots_adjust(left=0.1, bottom=0.1, right=0.9, top=0.9, \n",
    "                    wspace=0.3, hspace=0.2)\n",
    "\n",
    "plt.show()"
   ]
  },
  {
   "cell_type": "markdown",
   "id": "ad3c66d0",
   "metadata": {},
   "source": [
    "Get best params"
   ]
  },
  {
   "cell_type": "code",
   "execution_count": 58,
   "id": "f294be53",
   "metadata": {},
   "outputs": [
    {
     "name": "stdout",
     "output_type": "stream",
     "text": [
      "Index values for MSE 99, RMSE 99,  R2 77\n",
      "Best fit is for alpha = 599.4842503189409\n"
     ]
    }
   ],
   "source": [
    "dfErrors = pd.DataFrame(TabErrors,columns=['alpha','MSE','RMSE','R2'])\n",
    "imin = dfErrors['R2'].idxmax()\n",
    "print('Index values for MSE {}, RMSE {},  R2 {}'\n",
    "      .format(dfErrors['MSE'].idxmax(),dfErrors['MSE'].idxmax(),imin  )   )\n",
    "alphaBest = dfErrors.loc[imin,'alpha']\n",
    "print('Best fit is for alpha = {}'.format(alphaBest))"
   ]
  },
  {
   "cell_type": "markdown",
   "id": "9a2063e5",
   "metadata": {},
   "source": [
    "Apply model with best params"
   ]
  },
  {
   "cell_type": "code",
   "execution_count": 59,
   "id": "092cb0be",
   "metadata": {},
   "outputs": [
    {
     "name": "stdout",
     "output_type": "stream",
     "text": [
      "MSE 6182109886500.52 RMSE 2486384.90 R2 0.747\n",
      "MSE 8349068646286.69 RMSE 2889475.50 R2 0.688\n"
     ]
    }
   ],
   "source": [
    "ridge_regr.set_params(alpha=alphaBest)\n",
    "ridge_regr.fit(xTrainScaled, yTrain)\n",
    "yPredTrain = ridge_regr.predict(xTrainScaled)\n",
    "yPredTest = ridge_regr.predict(xTestScaled)\n",
    "msTrain,rmTrain,r2Train = getRegressionMetrics(yPredTrain, yTrain, isDump=True)\n",
    "msTest,rmTest,r2Test = getRegressionMetrics(yPredTest, yTest, isDump=True)"
   ]
  },
  {
   "cell_type": "code",
   "execution_count": 60,
   "id": "9ea20af9",
   "metadata": {},
   "outputs": [],
   "source": [
    "# Store errors\n",
    "Results.append(['Ridge with Manual CV',msTrain,rmTrain,r2Train,msTest,rmTest,r2Test])"
   ]
  },
  {
   "cell_type": "markdown",
   "id": "f20f070a",
   "metadata": {},
   "source": [
    "#### LassoCV"
   ]
  },
  {
   "cell_type": "code",
   "execution_count": 61,
   "id": "85cd347c",
   "metadata": {},
   "outputs": [
    {
     "name": "stdout",
     "output_type": "stream",
     "text": [
      "Best fit is for alpha = 100000.0\n",
      "Train best score = 0.766\n",
      "Test best score = 0.750\n",
      "MSE 5727652472629.83 RMSE 2393251.44 R2 0.766\n",
      "MSE 6678028438112.83 RMSE 2584188.16 R2 0.750\n"
     ]
    }
   ],
   "source": [
    "from sklearn.linear_model import LassoCV\n",
    "\n",
    "nAlphas = 100\n",
    "fold_number = 5\n",
    "alphas= np.logspace(-5,5,nAlphas)\n",
    "\n",
    "lassoCV_regr = LassoCV(alphas=alphas, cv=fold_number)\n",
    "\n",
    "lassoCV_regr.fit(xTrainScaled, yTrain)\n",
    "print('Best fit is for alpha = {}'.format(lassoCV_regr.alpha_))\n",
    "yPredtrain = lassoCV_regr.predict(xTrainScaled)\n",
    "print('Train best score = {:.3f}'.format(lassoCV_regr.score(xTrainScaled,yTrain)))\n",
    "yPredTest = lassoCV_regr.predict(xTestScaled)\n",
    "print('Test best score = {:.3f}'.format(lassoCV_regr.score(xTestScaled,yTest)))\n",
    "msTrain,rmTrain,r2Train = getRegressionMetrics(yPredtrain, yTrain, isDump=True)\n",
    "msTest,rmTest,r2Test = getRegressionMetrics(yPredTest, yTest, isDump=True)"
   ]
  },
  {
   "cell_type": "code",
   "execution_count": 62,
   "id": "d488f7cb",
   "metadata": {},
   "outputs": [],
   "source": [
    "# Store errors\n",
    "Results.append(['LassoCV',msTrain,rmTrain,r2Train,msTest,rmTest,r2Test])"
   ]
  },
  {
   "cell_type": "markdown",
   "id": "6a94debc",
   "metadata": {},
   "source": [
    "#### Lasso with Manual CV"
   ]
  },
  {
   "cell_type": "code",
   "execution_count": 63,
   "id": "1e8a287d",
   "metadata": {},
   "outputs": [],
   "source": [
    "from sklearn.linear_model import Lasso\n",
    "\n",
    "n_alphas = 100\n",
    "alphas = np.logspace(-3, 4, n_alphas)"
   ]
  },
  {
   "cell_type": "code",
   "execution_count": 64,
   "id": "74ab68c3",
   "metadata": {},
   "outputs": [
    {
     "name": "stderr",
     "output_type": "stream",
     "text": [
      "Objective did not converge. You might want to increase the number of iterations. Duality gap: 130336640031209.0, tolerance: 2530144540971.3906\n",
      "Objective did not converge. You might want to increase the number of iterations. Duality gap: 374441957305303.5, tolerance: 2632331717772.0674\n",
      "Objective did not converge. You might want to increase the number of iterations. Duality gap: 397897735783717.0, tolerance: 2693593624520.2476\n",
      "Objective did not converge. You might want to increase the number of iterations. Duality gap: 122784391064317.0, tolerance: 2484634878793.5884\n",
      "Objective did not converge. You might want to increase the number of iterations. Duality gap: 404270766263780.5, tolerance: 2559013009949.358\n",
      "Objective did not converge. You might want to increase the number of iterations. Duality gap: 130336651353654.0, tolerance: 2530144540971.3906\n",
      "Objective did not converge. You might want to increase the number of iterations. Duality gap: 374441969380283.5, tolerance: 2632331717772.0674\n",
      "Objective did not converge. You might want to increase the number of iterations. Duality gap: 397897841960649.0, tolerance: 2693593624520.2476\n",
      "Objective did not converge. You might want to increase the number of iterations. Duality gap: 122784394037969.5, tolerance: 2484634878793.5884\n",
      "Objective did not converge. You might want to increase the number of iterations. Duality gap: 404270795627474.0, tolerance: 2559013009949.358\n",
      "Objective did not converge. You might want to increase the number of iterations. Duality gap: 130336623388499.0, tolerance: 2530144540971.3906\n",
      "Objective did not converge. You might want to increase the number of iterations. Duality gap: 374441966691619.5, tolerance: 2632331717772.0674\n",
      "Objective did not converge. You might want to increase the number of iterations. Duality gap: 397897789005345.0, tolerance: 2693593624520.2476\n",
      "Objective did not converge. You might want to increase the number of iterations. Duality gap: 122784399946091.0, tolerance: 2484634878793.5884\n",
      "Objective did not converge. You might want to increase the number of iterations. Duality gap: 404270803734292.5, tolerance: 2559013009949.358\n",
      "Objective did not converge. You might want to increase the number of iterations. Duality gap: 130336635990979.0, tolerance: 2530144540971.3906\n",
      "Objective did not converge. You might want to increase the number of iterations. Duality gap: 374442008231945.0, tolerance: 2632331717772.0674\n",
      "Objective did not converge. You might want to increase the number of iterations. Duality gap: 397897764248151.0, tolerance: 2693593624520.2476\n",
      "Objective did not converge. You might want to increase the number of iterations. Duality gap: 122784410859686.5, tolerance: 2484634878793.5884\n",
      "Objective did not converge. You might want to increase the number of iterations. Duality gap: 404270795482587.5, tolerance: 2559013009949.358\n",
      "Objective did not converge. You might want to increase the number of iterations. Duality gap: 130336629481649.5, tolerance: 2530144540971.3906\n",
      "Objective did not converge. You might want to increase the number of iterations. Duality gap: 374441991340371.0, tolerance: 2632331717772.0674\n",
      "Objective did not converge. You might want to increase the number of iterations. Duality gap: 397897830944316.0, tolerance: 2693593624520.2476\n",
      "Objective did not converge. You might want to increase the number of iterations. Duality gap: 122784402883602.5, tolerance: 2484634878793.5884\n",
      "Objective did not converge. You might want to increase the number of iterations. Duality gap: 404270773677605.5, tolerance: 2559013009949.358\n",
      "Objective did not converge. You might want to increase the number of iterations. Duality gap: 130336617164990.0, tolerance: 2530144540971.3906\n",
      "Objective did not converge. You might want to increase the number of iterations. Duality gap: 374442019122521.5, tolerance: 2632331717772.0674\n",
      "Objective did not converge. You might want to increase the number of iterations. Duality gap: 397897851466264.0, tolerance: 2693593624520.2476\n",
      "Objective did not converge. You might want to increase the number of iterations. Duality gap: 122784416192712.0, tolerance: 2484634878793.5884\n",
      "Objective did not converge. You might want to increase the number of iterations. Duality gap: 404270773079376.0, tolerance: 2559013009949.358\n",
      "Objective did not converge. You might want to increase the number of iterations. Duality gap: 130336656123087.5, tolerance: 2530144540971.3906\n",
      "Objective did not converge. You might want to increase the number of iterations. Duality gap: 374442021634669.0, tolerance: 2632331717772.0674\n",
      "Objective did not converge. You might want to increase the number of iterations. Duality gap: 397897817925934.0, tolerance: 2693593624520.2476\n",
      "Objective did not converge. You might want to increase the number of iterations. Duality gap: 122784400177298.5, tolerance: 2484634878793.5884\n",
      "Objective did not converge. You might want to increase the number of iterations. Duality gap: 404270781679828.5, tolerance: 2559013009949.358\n",
      "Objective did not converge. You might want to increase the number of iterations. Duality gap: 130336629632731.5, tolerance: 2530144540971.3906\n",
      "Objective did not converge. You might want to increase the number of iterations. Duality gap: 374442006339692.5, tolerance: 2632331717772.0674\n",
      "Objective did not converge. You might want to increase the number of iterations. Duality gap: 397897842165839.5, tolerance: 2693593624520.2476\n",
      "Objective did not converge. You might want to increase the number of iterations. Duality gap: 122784424540965.5, tolerance: 2484634878793.5884\n",
      "Objective did not converge. You might want to increase the number of iterations. Duality gap: 404270796593521.5, tolerance: 2559013009949.358\n",
      "Objective did not converge. You might want to increase the number of iterations. Duality gap: 130336639117592.5, tolerance: 2530144540971.3906\n",
      "Objective did not converge. You might want to increase the number of iterations. Duality gap: 374442012892454.0, tolerance: 2632331717772.0674\n",
      "Objective did not converge. You might want to increase the number of iterations. Duality gap: 397897824720054.0, tolerance: 2693593624520.2476\n",
      "Objective did not converge. You might want to increase the number of iterations. Duality gap: 122784415935997.0, tolerance: 2484634878793.5884\n",
      "Objective did not converge. You might want to increase the number of iterations. Duality gap: 404270790676616.0, tolerance: 2559013009949.358\n",
      "Objective did not converge. You might want to increase the number of iterations. Duality gap: 130336634374464.0, tolerance: 2530144540971.3906\n",
      "Objective did not converge. You might want to increase the number of iterations. Duality gap: 374442002063496.5, tolerance: 2632331717772.0674\n",
      "Objective did not converge. You might want to increase the number of iterations. Duality gap: 397897822733394.5, tolerance: 2693593624520.2476\n",
      "Objective did not converge. You might want to increase the number of iterations. Duality gap: 122784426457405.0, tolerance: 2484634878793.5884\n",
      "Objective did not converge. You might want to increase the number of iterations. Duality gap: 404270789110750.0, tolerance: 2559013009949.358\n",
      "Objective did not converge. You might want to increase the number of iterations. Duality gap: 130336640829895.5, tolerance: 2530144540971.3906\n",
      "Objective did not converge. You might want to increase the number of iterations. Duality gap: 374442030325795.5, tolerance: 2632331717772.0674\n",
      "Objective did not converge. You might want to increase the number of iterations. Duality gap: 397897826542720.5, tolerance: 2693593624520.2476\n",
      "Objective did not converge. You might want to increase the number of iterations. Duality gap: 122784430507858.5, tolerance: 2484634878793.5884\n",
      "Objective did not converge. You might want to increase the number of iterations. Duality gap: 404270800484977.5, tolerance: 2559013009949.358\n",
      "Objective did not converge. You might want to increase the number of iterations. Duality gap: 130336646754985.5, tolerance: 2530144540971.3906\n",
      "Objective did not converge. You might want to increase the number of iterations. Duality gap: 374442028096727.5, tolerance: 2632331717772.0674\n",
      "Objective did not converge. You might want to increase the number of iterations. Duality gap: 397897837581829.0, tolerance: 2693593624520.2476\n",
      "Objective did not converge. You might want to increase the number of iterations. Duality gap: 122784425218970.5, tolerance: 2484634878793.5884\n",
      "Objective did not converge. You might want to increase the number of iterations. Duality gap: 404270805044794.0, tolerance: 2559013009949.358\n",
      "Objective did not converge. You might want to increase the number of iterations. Duality gap: 130336646465505.0, tolerance: 2530144540971.3906\n"
     ]
    },
    {
     "name": "stderr",
     "output_type": "stream",
     "text": [
      "Objective did not converge. You might want to increase the number of iterations. Duality gap: 374442039948302.0, tolerance: 2632331717772.0674\n",
      "Objective did not converge. You might want to increase the number of iterations. Duality gap: 397897844874535.5, tolerance: 2693593624520.2476\n",
      "Objective did not converge. You might want to increase the number of iterations. Duality gap: 122784426899174.5, tolerance: 2484634878793.5884\n",
      "Objective did not converge. You might want to increase the number of iterations. Duality gap: 404270811484543.0, tolerance: 2559013009949.358\n",
      "Objective did not converge. You might want to increase the number of iterations. Duality gap: 130336649218621.5, tolerance: 2530144540971.3906\n",
      "Objective did not converge. You might want to increase the number of iterations. Duality gap: 374442041215748.5, tolerance: 2632331717772.0674\n",
      "Objective did not converge. You might want to increase the number of iterations. Duality gap: 397897847669386.5, tolerance: 2693593624520.2476\n",
      "Objective did not converge. You might want to increase the number of iterations. Duality gap: 122784431958080.0, tolerance: 2484634878793.5884\n",
      "Objective did not converge. You might want to increase the number of iterations. Duality gap: 404270807623689.5, tolerance: 2559013009949.358\n",
      "Objective did not converge. You might want to increase the number of iterations. Duality gap: 130336657866725.5, tolerance: 2530144540971.3906\n",
      "Objective did not converge. You might want to increase the number of iterations. Duality gap: 374442050852742.0, tolerance: 2632331717772.0674\n",
      "Objective did not converge. You might want to increase the number of iterations. Duality gap: 397897853097522.5, tolerance: 2693593624520.2476\n",
      "Objective did not converge. You might want to increase the number of iterations. Duality gap: 122784441937798.5, tolerance: 2484634878793.5884\n",
      "Objective did not converge. You might want to increase the number of iterations. Duality gap: 404270829612929.5, tolerance: 2559013009949.358\n",
      "Objective did not converge. You might want to increase the number of iterations. Duality gap: 130336659091913.0, tolerance: 2530144540971.3906\n",
      "Objective did not converge. You might want to increase the number of iterations. Duality gap: 374442053095323.0, tolerance: 2632331717772.0674\n",
      "Objective did not converge. You might want to increase the number of iterations. Duality gap: 397897867615490.5, tolerance: 2693593624520.2476\n",
      "Objective did not converge. You might want to increase the number of iterations. Duality gap: 122784447721713.0, tolerance: 2484634878793.5884\n",
      "Objective did not converge. You might want to increase the number of iterations. Duality gap: 404270835670152.0, tolerance: 2559013009949.358\n",
      "Objective did not converge. You might want to increase the number of iterations. Duality gap: 130336665060502.0, tolerance: 2530144540971.3906\n",
      "Objective did not converge. You might want to increase the number of iterations. Duality gap: 374442063291163.0, tolerance: 2632331717772.0674\n",
      "Objective did not converge. You might want to increase the number of iterations. Duality gap: 397897880573195.0, tolerance: 2693593624520.2476\n",
      "Objective did not converge. You might want to increase the number of iterations. Duality gap: 122784456727945.5, tolerance: 2484634878793.5884\n",
      "Objective did not converge. You might want to increase the number of iterations. Duality gap: 404270848178887.5, tolerance: 2559013009949.358\n",
      "Objective did not converge. You might want to increase the number of iterations. Duality gap: 130336673979333.5, tolerance: 2530144540971.3906\n",
      "Objective did not converge. You might want to increase the number of iterations. Duality gap: 374442075890059.5, tolerance: 2632331717772.0674\n",
      "Objective did not converge. You might want to increase the number of iterations. Duality gap: 397897891668830.0, tolerance: 2693593624520.2476\n",
      "Objective did not converge. You might want to increase the number of iterations. Duality gap: 122784463021821.5, tolerance: 2484634878793.5884\n",
      "Objective did not converge. You might want to increase the number of iterations. Duality gap: 404270859833880.5, tolerance: 2559013009949.358\n",
      "Objective did not converge. You might want to increase the number of iterations. Duality gap: 130336678517801.5, tolerance: 2530144540971.3906\n",
      "Objective did not converge. You might want to increase the number of iterations. Duality gap: 374442093505109.0, tolerance: 2632331717772.0674\n",
      "Objective did not converge. You might want to increase the number of iterations. Duality gap: 397897907299024.0, tolerance: 2693593624520.2476\n",
      "Objective did not converge. You might want to increase the number of iterations. Duality gap: 122784469106332.5, tolerance: 2484634878793.5884\n",
      "Objective did not converge. You might want to increase the number of iterations. Duality gap: 404270872806477.0, tolerance: 2559013009949.358\n",
      "Objective did not converge. You might want to increase the number of iterations. Duality gap: 130336691221163.0, tolerance: 2530144540971.3906\n",
      "Objective did not converge. You might want to increase the number of iterations. Duality gap: 374442110705334.5, tolerance: 2632331717772.0674\n",
      "Objective did not converge. You might want to increase the number of iterations. Duality gap: 397897921945474.0, tolerance: 2693593624520.2476\n",
      "Objective did not converge. You might want to increase the number of iterations. Duality gap: 122784481892709.5, tolerance: 2484634878793.5884\n",
      "Objective did not converge. You might want to increase the number of iterations. Duality gap: 404270892392067.0, tolerance: 2559013009949.358\n",
      "Objective did not converge. You might want to increase the number of iterations. Duality gap: 130336703577612.0, tolerance: 2530144540971.3906\n",
      "Objective did not converge. You might want to increase the number of iterations. Duality gap: 374442128830302.5, tolerance: 2632331717772.0674\n",
      "Objective did not converge. You might want to increase the number of iterations. Duality gap: 397897938393468.0, tolerance: 2693593624520.2476\n",
      "Objective did not converge. You might want to increase the number of iterations. Duality gap: 122784494175833.5, tolerance: 2484634878793.5884\n",
      "Objective did not converge. You might want to increase the number of iterations. Duality gap: 404270911056429.5, tolerance: 2559013009949.358\n",
      "Objective did not converge. You might want to increase the number of iterations. Duality gap: 130336717342523.0, tolerance: 2530144540971.3906\n",
      "Objective did not converge. You might want to increase the number of iterations. Duality gap: 374442152077199.0, tolerance: 2632331717772.0674\n",
      "Objective did not converge. You might want to increase the number of iterations. Duality gap: 397897960743441.5, tolerance: 2693593624520.2476\n",
      "Objective did not converge. You might want to increase the number of iterations. Duality gap: 122784506121596.0, tolerance: 2484634878793.5884\n",
      "Objective did not converge. You might want to increase the number of iterations. Duality gap: 404270939131133.5, tolerance: 2559013009949.358\n",
      "Objective did not converge. You might want to increase the number of iterations. Duality gap: 130336734368682.0, tolerance: 2530144540971.3906\n",
      "Objective did not converge. You might want to increase the number of iterations. Duality gap: 374442179328956.0, tolerance: 2632331717772.0674\n",
      "Objective did not converge. You might want to increase the number of iterations. Duality gap: 397897988698008.5, tolerance: 2693593624520.2476\n",
      "Objective did not converge. You might want to increase the number of iterations. Duality gap: 122784527813624.0, tolerance: 2484634878793.5884\n",
      "Objective did not converge. You might want to increase the number of iterations. Duality gap: 404270966270771.0, tolerance: 2559013009949.358\n",
      "Objective did not converge. You might want to increase the number of iterations. Duality gap: 130336752317057.5, tolerance: 2530144540971.3906\n",
      "Objective did not converge. You might want to increase the number of iterations. Duality gap: 374442209991745.0, tolerance: 2632331717772.0674\n",
      "Objective did not converge. You might want to increase the number of iterations. Duality gap: 397898022131686.5, tolerance: 2693593624520.2476\n",
      "Objective did not converge. You might want to increase the number of iterations. Duality gap: 122784546169621.0, tolerance: 2484634878793.5884\n",
      "Objective did not converge. You might want to increase the number of iterations. Duality gap: 404271001598100.5, tolerance: 2559013009949.358\n"
     ]
    },
    {
     "name": "stderr",
     "output_type": "stream",
     "text": [
      "Objective did not converge. You might want to increase the number of iterations. Duality gap: 130336777612939.5, tolerance: 2530144540971.3906\n",
      "Objective did not converge. You might want to increase the number of iterations. Duality gap: 374442248638831.0, tolerance: 2632331717772.0674\n",
      "Objective did not converge. You might want to increase the number of iterations. Duality gap: 397898058800948.0, tolerance: 2693593624520.2476\n",
      "Objective did not converge. You might want to increase the number of iterations. Duality gap: 122784570105377.5, tolerance: 2484634878793.5884\n",
      "Objective did not converge. You might want to increase the number of iterations. Duality gap: 404271043457912.0, tolerance: 2559013009949.358\n",
      "Objective did not converge. You might want to increase the number of iterations. Duality gap: 130336802540285.0, tolerance: 2530144540971.3906\n",
      "Objective did not converge. You might want to increase the number of iterations. Duality gap: 374442291792647.5, tolerance: 2632331717772.0674\n",
      "Objective did not converge. You might want to increase the number of iterations. Duality gap: 397898101963209.0, tolerance: 2693593624520.2476\n",
      "Objective did not converge. You might want to increase the number of iterations. Duality gap: 122784598111236.5, tolerance: 2484634878793.5884\n",
      "Objective did not converge. You might want to increase the number of iterations. Duality gap: 404271092097249.5, tolerance: 2559013009949.358\n",
      "Objective did not converge. You might want to increase the number of iterations. Duality gap: 130336834572054.5, tolerance: 2530144540971.3906\n",
      "Objective did not converge. You might want to increase the number of iterations. Duality gap: 374442344917587.0, tolerance: 2632331717772.0674\n",
      "Objective did not converge. You might want to increase the number of iterations. Duality gap: 397898153806352.0, tolerance: 2693593624520.2476\n",
      "Objective did not converge. You might want to increase the number of iterations. Duality gap: 122784630818110.0, tolerance: 2484634878793.5884\n",
      "Objective did not converge. You might want to increase the number of iterations. Duality gap: 404271148193984.5, tolerance: 2559013009949.358\n",
      "Objective did not converge. You might want to increase the number of iterations. Duality gap: 130336872217350.5, tolerance: 2530144540971.3906\n",
      "Objective did not converge. You might want to increase the number of iterations. Duality gap: 374442406733332.0, tolerance: 2632331717772.0674\n",
      "Objective did not converge. You might want to increase the number of iterations. Duality gap: 397898214385005.0, tolerance: 2693593624520.2476\n",
      "Objective did not converge. You might want to increase the number of iterations. Duality gap: 122784669428041.0, tolerance: 2484634878793.5884\n",
      "Objective did not converge. You might want to increase the number of iterations. Duality gap: 404271213801540.5, tolerance: 2559013009949.358\n",
      "Objective did not converge. You might want to increase the number of iterations. Duality gap: 130336916855918.5, tolerance: 2530144540971.3906\n",
      "Objective did not converge. You might want to increase the number of iterations. Duality gap: 374442478916632.5, tolerance: 2632331717772.0674\n",
      "Objective did not converge. You might want to increase the number of iterations. Duality gap: 397898285735598.0, tolerance: 2693593624520.2476\n",
      "Objective did not converge. You might want to increase the number of iterations. Duality gap: 122784715268461.0, tolerance: 2484634878793.5884\n",
      "Objective did not converge. You might want to increase the number of iterations. Duality gap: 404271293251132.0, tolerance: 2559013009949.358\n",
      "Objective did not converge. You might want to increase the number of iterations. Duality gap: 130336968525660.0, tolerance: 2530144540971.3906\n",
      "Objective did not converge. You might want to increase the number of iterations. Duality gap: 374442564680122.0, tolerance: 2632331717772.0674\n",
      "Objective did not converge. You might want to increase the number of iterations. Duality gap: 397898369432036.0, tolerance: 2693593624520.2476\n",
      "Objective did not converge. You might want to increase the number of iterations. Duality gap: 122784768907632.5, tolerance: 2484634878793.5884\n",
      "Objective did not converge. You might want to increase the number of iterations. Duality gap: 404271385756788.0, tolerance: 2559013009949.358\n",
      "Objective did not converge. You might want to increase the number of iterations. Duality gap: 130337029548254.5, tolerance: 2530144540971.3906\n",
      "Objective did not converge. You might want to increase the number of iterations. Duality gap: 374442664727198.5, tolerance: 2632331717772.0674\n",
      "Objective did not converge. You might want to increase the number of iterations. Duality gap: 397898467853265.5, tolerance: 2693593624520.2476\n",
      "Objective did not converge. You might want to increase the number of iterations. Duality gap: 122784831417352.5, tolerance: 2484634878793.5884\n",
      "Objective did not converge. You might want to increase the number of iterations. Duality gap: 404271494071135.5, tolerance: 2559013009949.358\n",
      "Objective did not converge. You might want to increase the number of iterations. Duality gap: 130337101415466.5, tolerance: 2530144540971.3906\n",
      "Objective did not converge. You might want to increase the number of iterations. Duality gap: 374442781941766.5, tolerance: 2632331717772.0674\n",
      "Objective did not converge. You might want to increase the number of iterations. Duality gap: 397898584301544.0, tolerance: 2693593624520.2476\n",
      "Objective did not converge. You might want to increase the number of iterations. Duality gap: 122784905762945.5, tolerance: 2484634878793.5884\n",
      "Objective did not converge. You might want to increase the number of iterations. Duality gap: 404271621918871.0, tolerance: 2559013009949.358\n",
      "Objective did not converge. You might want to increase the number of iterations. Duality gap: 130337186108722.5, tolerance: 2530144540971.3906\n",
      "Objective did not converge. You might want to increase the number of iterations. Duality gap: 374442920792622.5, tolerance: 2632331717772.0674\n",
      "Objective did not converge. You might want to increase the number of iterations. Duality gap: 397898720549679.0, tolerance: 2693593624520.2476\n",
      "Objective did not converge. You might want to increase the number of iterations. Duality gap: 122784993052070.0, tolerance: 2484634878793.5884\n",
      "Objective did not converge. You might want to increase the number of iterations. Duality gap: 404271772392360.5, tolerance: 2559013009949.358\n",
      "Objective did not converge. You might want to increase the number of iterations. Duality gap: 130337285423900.0, tolerance: 2530144540971.3906\n",
      "Objective did not converge. You might want to increase the number of iterations. Duality gap: 374443084023898.0, tolerance: 2632331717772.0674\n",
      "Objective did not converge. You might want to increase the number of iterations. Duality gap: 397898881526475.0, tolerance: 2693593624520.2476\n",
      "Objective did not converge. You might want to increase the number of iterations. Duality gap: 122785095630178.0, tolerance: 2484634878793.5884\n",
      "Objective did not converge. You might want to increase the number of iterations. Duality gap: 404271949465301.5, tolerance: 2559013009949.358\n",
      "Objective did not converge. You might want to increase the number of iterations. Duality gap: 130337402553120.0, tolerance: 2530144540971.3906\n",
      "Objective did not converge. You might want to increase the number of iterations. Duality gap: 374443275519731.0, tolerance: 2632331717772.0674\n",
      "Objective did not converge. You might want to increase the number of iterations. Duality gap: 397899070599105.0, tolerance: 2693593624520.2476\n",
      "Objective did not converge. You might want to increase the number of iterations. Duality gap: 122785216569773.0, tolerance: 2484634878793.5884\n",
      "Objective did not converge. You might want to increase the number of iterations. Duality gap: 404272157369471.5, tolerance: 2559013009949.358\n",
      "Objective did not converge. You might want to increase the number of iterations. Duality gap: 130337540387100.0, tolerance: 2530144540971.3906\n",
      "Objective did not converge. You might want to increase the number of iterations. Duality gap: 374443501283976.0, tolerance: 2632331717772.0674\n",
      "Objective did not converge. You might want to increase the number of iterations. Duality gap: 397899293401220.5, tolerance: 2693593624520.2476\n"
     ]
    },
    {
     "name": "stderr",
     "output_type": "stream",
     "text": [
      "Objective did not converge. You might want to increase the number of iterations. Duality gap: 122785358586552.0, tolerance: 2484634878793.5884\n",
      "Objective did not converge. You might want to increase the number of iterations. Duality gap: 404272402522939.5, tolerance: 2559013009949.358\n",
      "Objective did not converge. You might want to increase the number of iterations. Duality gap: 130337702659572.5, tolerance: 2530144540971.3906\n",
      "Objective did not converge. You might want to increase the number of iterations. Duality gap: 374443767258278.5, tolerance: 2632331717772.0674\n",
      "Objective did not converge. You might want to increase the number of iterations. Duality gap: 397899555347801.0, tolerance: 2693593624520.2476\n",
      "Objective did not converge. You might want to increase the number of iterations. Duality gap: 122785525954694.5, tolerance: 2484634878793.5884\n",
      "Objective did not converge. You might want to increase the number of iterations. Duality gap: 404272690834756.5, tolerance: 2559013009949.358\n",
      "Objective did not converge. You might want to increase the number of iterations. Duality gap: 130337893586511.5, tolerance: 2530144540971.3906\n",
      "Objective did not converge. You might want to increase the number of iterations. Duality gap: 374444079605698.5, tolerance: 2632331717772.0674\n",
      "Objective did not converge. You might want to increase the number of iterations. Duality gap: 397899863434257.0, tolerance: 2693593624520.2476\n",
      "Objective did not converge. You might want to increase the number of iterations. Duality gap: 122785722847801.5, tolerance: 2484634878793.5884\n",
      "Objective did not converge. You might want to increase the number of iterations. Duality gap: 404273030135922.0, tolerance: 2559013009949.358\n",
      "Objective did not converge. You might want to increase the number of iterations. Duality gap: 130338118083525.5, tolerance: 2530144540971.3906\n",
      "Objective did not converge. You might want to increase the number of iterations. Duality gap: 374444447475995.5, tolerance: 2632331717772.0674\n",
      "Objective did not converge. You might want to increase the number of iterations. Duality gap: 397900226113052.0, tolerance: 2693593624520.2476\n",
      "Objective did not converge. You might want to increase the number of iterations. Duality gap: 122785954432227.0, tolerance: 2484634878793.5884\n",
      "Objective did not converge. You might want to increase the number of iterations. Duality gap: 404273429457876.5, tolerance: 2559013009949.358\n",
      "Objective did not converge. You might want to increase the number of iterations. Duality gap: 130338382475270.0, tolerance: 2530144540971.3906\n",
      "Objective did not converge. You might want to increase the number of iterations. Duality gap: 374444880299230.0, tolerance: 2632331717772.0674\n",
      "Objective did not converge. You might want to increase the number of iterations. Duality gap: 397900652839661.0, tolerance: 2693593624520.2476\n",
      "Objective did not converge. You might want to increase the number of iterations. Duality gap: 122786227066996.5, tolerance: 2484634878793.5884\n",
      "Objective did not converge. You might want to increase the number of iterations. Duality gap: 404273899295472.0, tolerance: 2559013009949.358\n",
      "Objective did not converge. You might want to increase the number of iterations. Duality gap: 130338693542063.0, tolerance: 2530144540971.3906\n",
      "Objective did not converge. You might want to increase the number of iterations. Duality gap: 374445389488697.5, tolerance: 2632331717772.0674\n",
      "Objective did not converge. You might want to increase the number of iterations. Duality gap: 397901154648258.0, tolerance: 2693593624520.2476\n",
      "Objective did not converge. You might want to increase the number of iterations. Duality gap: 122786547833028.5, tolerance: 2484634878793.5884\n",
      "Objective did not converge. You might want to increase the number of iterations. Duality gap: 404274451986220.5, tolerance: 2559013009949.358\n",
      "Objective did not converge. You might want to increase the number of iterations. Duality gap: 130339059481955.0, tolerance: 2530144540971.3906\n",
      "Objective did not converge. You might want to increase the number of iterations. Duality gap: 374445988703286.0, tolerance: 2632331717772.0674\n",
      "Objective did not converge. You might want to increase the number of iterations. Duality gap: 397901745239817.5, tolerance: 2693593624520.2476\n",
      "Objective did not converge. You might want to increase the number of iterations. Duality gap: 122786925201122.0, tolerance: 2484634878793.5884\n",
      "Objective did not converge. You might want to increase the number of iterations. Duality gap: 404275102290176.5, tolerance: 2559013009949.358\n",
      "Objective did not converge. You might want to increase the number of iterations. Duality gap: 130339490183868.5, tolerance: 2530144540971.3906\n",
      "Objective did not converge. You might want to increase the number of iterations. Duality gap: 374446693559973.0, tolerance: 2632331717772.0674\n",
      "Objective did not converge. You might want to increase the number of iterations. Duality gap: 397902439886857.5, tolerance: 2693593624520.2476\n",
      "Objective did not converge. You might want to increase the number of iterations. Duality gap: 122787369294478.5, tolerance: 2484634878793.5884\n",
      "Objective did not converge. You might want to increase the number of iterations. Duality gap: 404275867423334.5, tolerance: 2559013009949.358\n",
      "Objective did not converge. You might want to increase the number of iterations. Duality gap: 130339996912550.5, tolerance: 2530144540971.3906\n",
      "Objective did not converge. You might want to increase the number of iterations. Duality gap: 374447523049475.0, tolerance: 2632331717772.0674\n",
      "Objective did not converge. You might want to increase the number of iterations. Duality gap: 397903257275453.5, tolerance: 2693593624520.2476\n",
      "Objective did not converge. You might want to increase the number of iterations. Duality gap: 122787891794144.0, tolerance: 2484634878793.5884\n",
      "Objective did not converge. You might want to increase the number of iterations. Duality gap: 404276767574545.0, tolerance: 2559013009949.358\n",
      "Objective did not converge. You might want to increase the number of iterations. Duality gap: 130340593171816.5, tolerance: 2530144540971.3906\n",
      "Objective did not converge. You might want to increase the number of iterations. Duality gap: 374448498815253.5, tolerance: 2632331717772.0674\n",
      "Objective did not converge. You might want to increase the number of iterations. Duality gap: 397904218385813.5, tolerance: 2693593624520.2476\n",
      "Objective did not converge. You might want to increase the number of iterations. Duality gap: 122788506600605.0, tolerance: 2484634878793.5884\n",
      "Objective did not converge. You might want to increase the number of iterations. Duality gap: 404277826533133.0, tolerance: 2559013009949.358\n",
      "Objective did not converge. You might want to increase the number of iterations. Duality gap: 130341294695780.5, tolerance: 2530144540971.3906\n",
      "Objective did not converge. You might want to increase the number of iterations. Duality gap: 374449646698307.0, tolerance: 2632331717772.0674\n",
      "Objective did not converge. You might want to increase the number of iterations. Duality gap: 397905349047388.0, tolerance: 2693593624520.2476\n",
      "Objective did not converge. You might want to increase the number of iterations. Duality gap: 122789229994088.0, tolerance: 2484634878793.5884\n",
      "Objective did not converge. You might want to increase the number of iterations. Duality gap: 404279072240618.5, tolerance: 2559013009949.358\n",
      "Objective did not converge. You might want to increase the number of iterations. Duality gap: 130342120213502.5, tolerance: 2530144540971.3906\n",
      "Objective did not converge. You might want to increase the number of iterations. Duality gap: 374450996999246.0, tolerance: 2632331717772.0674\n",
      "Objective did not converge. You might want to increase the number of iterations. Duality gap: 397906678661527.5, tolerance: 2693593624520.2476\n",
      "Objective did not converge. You might want to increase the number of iterations. Duality gap: 122790081060353.5, tolerance: 2484634878793.5884\n",
      "Objective did not converge. You might want to increase the number of iterations. Duality gap: 404280537516364.0, tolerance: 2559013009949.358\n",
      "Objective did not converge. You might want to increase the number of iterations. Duality gap: 130343091378735.0, tolerance: 2530144540971.3906\n"
     ]
    },
    {
     "name": "stderr",
     "output_type": "stream",
     "text": [
      "Objective did not converge. You might want to increase the number of iterations. Duality gap: 374452585299649.0, tolerance: 2632331717772.0674\n",
      "Objective did not converge. You might want to increase the number of iterations. Duality gap: 397908242241670.0, tolerance: 2693593624520.2476\n",
      "Objective did not converge. You might want to increase the number of iterations. Duality gap: 122791082331623.0, tolerance: 2484634878793.5884\n",
      "Objective did not converge. You might want to increase the number of iterations. Duality gap: 404282260968441.0, tolerance: 2559013009949.358\n",
      "Objective did not converge. You might want to increase the number of iterations. Duality gap: 130344510696551.5, tolerance: 2530144540971.3906\n",
      "Objective did not converge. You might want to increase the number of iterations. Duality gap: 374454453430203.5, tolerance: 2632331717772.0674\n",
      "Objective did not converge. You might want to increase the number of iterations. Duality gap: 397910080589050.5, tolerance: 2693593624520.2476\n",
      "Objective did not converge. You might want to increase the number of iterations. Duality gap: 122792260248137.0, tolerance: 2484634878793.5884\n",
      "Objective did not converge. You might want to increase the number of iterations. Duality gap: 404284287751454.0, tolerance: 2559013009949.358\n",
      "Objective did not converge. You might want to increase the number of iterations. Duality gap: 130345632965666.0, tolerance: 2530144540971.3906\n",
      "Objective did not converge. You might want to increase the number of iterations. Duality gap: 374456650383107.5, tolerance: 2632331717772.0674\n",
      "Objective did not converge. You might want to increase the number of iterations. Duality gap: 397912241684882.0, tolerance: 2693593624520.2476\n",
      "Objective did not converge. You might want to increase the number of iterations. Duality gap: 122793645950048.5, tolerance: 2484634878793.5884\n",
      "Objective did not converge. You might want to increase the number of iterations. Duality gap: 404286671164322.0, tolerance: 2559013009949.358\n",
      "Objective did not converge. You might want to increase the number of iterations. Duality gap: 130347224115014.5, tolerance: 2530144540971.3906\n",
      "Objective did not converge. You might want to increase the number of iterations. Duality gap: 374459233823428.5, tolerance: 2632331717772.0674\n",
      "Objective did not converge. You might want to increase the number of iterations. Duality gap: 397914781737377.5, tolerance: 2693593624520.2476\n",
      "Objective did not converge. You might want to increase the number of iterations. Duality gap: 122795275910316.0, tolerance: 2484634878793.5884\n",
      "Objective did not converge. You might want to increase the number of iterations. Duality gap: 404289473437335.0, tolerance: 2559013009949.358\n",
      "Objective did not converge. You might want to increase the number of iterations. Duality gap: 130349095866910.0, tolerance: 2530144540971.3906\n",
      "Objective did not converge. You might want to increase the number of iterations. Duality gap: 374462271242650.5, tolerance: 2632331717772.0674\n",
      "Objective did not converge. You might want to increase the number of iterations. Duality gap: 285617230560398.5, tolerance: 2693593624520.2476\n",
      "Objective did not converge. You might want to increase the number of iterations. Duality gap: 122797193066537.0, tolerance: 2484634878793.5884\n",
      "Objective did not converge. You might want to increase the number of iterations. Duality gap: 404292767698191.0, tolerance: 2559013009949.358\n",
      "Objective did not converge. You might want to increase the number of iterations. Duality gap: 130351297528732.0, tolerance: 2530144540971.3906\n",
      "Objective did not converge. You might want to increase the number of iterations. Duality gap: 374465841914905.0, tolerance: 2632331717772.0674\n",
      "Objective did not converge. You might want to increase the number of iterations. Duality gap: 285620130581608.5, tolerance: 2693593624520.2476\n",
      "Objective did not converge. You might want to increase the number of iterations. Duality gap: 122799447789483.0, tolerance: 2484634878793.5884\n",
      "Objective did not converge. You might want to increase the number of iterations. Duality gap: 404296639628035.0, tolerance: 2559013009949.358\n",
      "Objective did not converge. You might want to increase the number of iterations. Duality gap: 130353887043426.0, tolerance: 2530144540971.3906\n",
      "Objective did not converge. You might want to increase the number of iterations. Duality gap: 374470038605043.5, tolerance: 2632331717772.0674\n",
      "Objective did not converge. You might want to increase the number of iterations. Duality gap: 285623539587626.0, tolerance: 2693593624520.2476\n",
      "Objective did not converge. You might want to increase the number of iterations. Duality gap: 122802099255505.0, tolerance: 2484634878793.5884\n",
      "Objective did not converge. You might want to increase the number of iterations. Duality gap: 404301189489096.0, tolerance: 2559013009949.358\n",
      "Objective did not converge. You might want to increase the number of iterations. Duality gap: 130356932440009.5, tolerance: 2530144540971.3906\n",
      "Objective did not converge. You might want to increase the number of iterations. Duality gap: 374474969971482.0, tolerance: 2632331717772.0674\n",
      "Objective did not converge. You might want to increase the number of iterations. Duality gap: 285627546030940.0, tolerance: 2693593624520.2476\n",
      "Objective did not converge. You might want to increase the number of iterations. Duality gap: 122805216836977.5, tolerance: 2484634878793.5884\n",
      "Objective did not converge. You might want to increase the number of iterations. Duality gap: 404306534588663.0, tolerance: 2559013009949.358\n",
      "Objective did not converge. You might want to increase the number of iterations. Duality gap: 130360513567821.0, tolerance: 2530144540971.3906\n",
      "Objective did not converge. You might want to increase the number of iterations. Duality gap: 374480763092826.0, tolerance: 2632331717772.0674\n",
      "Objective did not converge. You might want to increase the number of iterations. Duality gap: 285632253603116.5, tolerance: 2693593624520.2476\n",
      "Objective did not converge. You might want to increase the number of iterations. Duality gap: 122808881975691.5, tolerance: 2484634878793.5884\n",
      "Objective did not converge. You might want to increase the number of iterations. Duality gap: 404312811972621.0, tolerance: 2559013009949.358\n",
      "Objective did not converge. You might want to increase the number of iterations. Duality gap: 130364724099871.0, tolerance: 2530144540971.3906\n",
      "Objective did not converge. You might want to increase the number of iterations. Duality gap: 374487566420581.0, tolerance: 2632331717772.0674\n",
      "Objective did not converge. You might want to increase the number of iterations. Duality gap: 285637783419370.5, tolerance: 2693593624520.2476\n",
      "Objective did not converge. You might want to increase the number of iterations. Duality gap: 122813189998680.0, tolerance: 2484634878793.5884\n",
      "Objective did not converge. You might want to increase the number of iterations. Duality gap: 404320181550955.5, tolerance: 2559013009949.358\n",
      "Objective did not converge. You might want to increase the number of iterations. Duality gap: 130369673864324.5, tolerance: 2530144540971.3906\n",
      "Objective did not converge. You might want to increase the number of iterations. Duality gap: 374495279214536.5, tolerance: 2632331717772.0674\n",
      "Objective did not converge. You might want to increase the number of iterations. Duality gap: 285644276978301.0, tolerance: 2693593624520.2476\n",
      "Objective did not converge. You might want to increase the number of iterations. Duality gap: 122818252635510.5, tolerance: 2484634878793.5884\n",
      "Objective did not converge. You might want to increase the number of iterations. Duality gap: 404328829631018.0, tolerance: 2559013009949.358\n",
      "Objective did not converge. You might want to increase the number of iterations. Duality gap: 130375491530993.0, tolerance: 2530144540971.3906\n",
      "Objective did not converge. You might want to increase the number of iterations. Duality gap: 288853583724545.5, tolerance: 2632331717772.0674\n",
      "Objective did not converge. You might want to increase the number of iterations. Duality gap: 285650821125475.5, tolerance: 2693593624520.2476\n",
      "Objective did not converge. You might want to increase the number of iterations. Duality gap: 122823898026963.0, tolerance: 2484634878793.5884\n",
      "Objective did not converge. You might want to increase the number of iterations. Duality gap: 404338972826122.0, tolerance: 2559013009949.358\n",
      "Objective did not converge. You might want to increase the number of iterations. Duality gap: 130382327768804.0, tolerance: 2530144540971.3906\n",
      "Objective did not converge. You might want to increase the number of iterations. Duality gap: 288588448864617.5, tolerance: 2632331717772.0674\n",
      "Objective did not converge. You might want to increase the number of iterations. Duality gap: 285659608855256.0, tolerance: 2693593624520.2476\n",
      "Objective did not converge. You might want to increase the number of iterations. Duality gap: 122830832180342.0, tolerance: 2484634878793.5884\n"
     ]
    },
    {
     "name": "stderr",
     "output_type": "stream",
     "text": [
      "Objective did not converge. You might want to increase the number of iterations. Duality gap: 404350862401565.5, tolerance: 2559013009949.358\n",
      "Objective did not converge. You might want to increase the number of iterations. Duality gap: 130390358806565.0, tolerance: 2530144540971.3906\n",
      "Objective did not converge. You might want to increase the number of iterations. Duality gap: 288599775265988.5, tolerance: 2632331717772.0674\n",
      "Objective did not converge. You might want to increase the number of iterations. Duality gap: 285669927590245.0, tolerance: 2693593624520.2476\n",
      "Objective did not converge. You might want to increase the number of iterations. Duality gap: 122838980270755.0, tolerance: 2484634878793.5884\n",
      "Objective did not converge. You might want to increase the number of iterations. Duality gap: 404364789039846.5, tolerance: 2559013009949.358\n",
      "Objective did not converge. You might want to increase the number of iterations. Duality gap: 130399790530434.0, tolerance: 2530144540971.3906\n",
      "Objective did not converge. You might want to increase the number of iterations. Duality gap: 288613062780718.5, tolerance: 2632331717772.0674\n",
      "Objective did not converge. You might want to increase the number of iterations. Duality gap: 285682038397539.0, tolerance: 2693593624520.2476\n",
      "Objective did not converge. You might want to increase the number of iterations. Duality gap: 122848546151904.5, tolerance: 2484634878793.5884\n",
      "Objective did not converge. You might want to increase the number of iterations. Duality gap: 404381087858688.0, tolerance: 2559013009949.358\n",
      "Objective did not converge. You might want to increase the number of iterations. Duality gap: 130410863175250.0, tolerance: 2530144540971.3906\n",
      "Objective did not converge. You might want to increase the number of iterations. Duality gap: 288628010867101.5, tolerance: 2632331717772.0674\n",
      "Objective did not converge. You might want to increase the number of iterations. Duality gap: 285696245689456.0, tolerance: 2693593624520.2476\n",
      "Objective did not converge. You might want to increase the number of iterations. Duality gap: 122859771702001.5, tolerance: 2484634878793.5884\n",
      "Objective did not converge. You might want to increase the number of iterations. Duality gap: 404400143546364.0, tolerance: 2559013009949.358\n",
      "Objective did not converge. You might want to increase the number of iterations. Duality gap: 130423856590613.0, tolerance: 2530144540971.3906\n",
      "Objective did not converge. You might want to increase the number of iterations. Duality gap: 288646332270765.5, tolerance: 2632331717772.0674\n",
      "Objective did not converge. You might want to increase the number of iterations. Duality gap: 285712902863228.5, tolerance: 2693593624520.2476\n",
      "Objective did not converge. You might want to increase the number of iterations. Duality gap: 122872938173829.0, tolerance: 2484634878793.5884\n",
      "Objective did not converge. You might want to increase the number of iterations. Duality gap: 404422395441885.0, tolerance: 2559013009949.358\n",
      "Objective did not converge. You might want to increase the number of iterations. Duality gap: 130439096143410.5, tolerance: 2530144540971.3906\n",
      "Objective did not converge. You might want to increase the number of iterations. Duality gap: 288667626956135.0, tolerance: 2632331717772.0674\n",
      "Objective did not converge. You might want to increase the number of iterations. Duality gap: 285732419191215.5, tolerance: 2693593624520.2476\n",
      "Objective did not converge. You might want to increase the number of iterations. Duality gap: 122888371851065.5, tolerance: 2484634878793.5884\n",
      "Objective did not converge. You might want to increase the number of iterations. Duality gap: 404448342194424.5, tolerance: 2559013009949.358\n",
      "Objective did not converge. You might want to increase the number of iterations. Duality gap: 130456959255682.0, tolerance: 2530144540971.3906\n",
      "Objective did not converge. You might want to increase the number of iterations. Duality gap: 288692542803029.5, tolerance: 2632331717772.0674\n",
      "Objective did not converge. You might want to increase the number of iterations. Duality gap: 134397666666529.0, tolerance: 2693593624520.2476\n",
      "Objective did not converge. You might want to increase the number of iterations. Duality gap: 122906450210289.0, tolerance: 2484634878793.5884\n",
      "Objective did not converge. You might want to increase the number of iterations. Duality gap: 404478544721945.5, tolerance: 2559013009949.358\n",
      "Objective did not converge. You might want to increase the number of iterations. Duality gap: 130477882486245.5, tolerance: 2530144540971.3906\n",
      "Objective did not converge. You might want to increase the number of iterations. Duality gap: 288721664686471.5, tolerance: 2632331717772.0674\n",
      "Objective did not converge. You might want to increase the number of iterations. Duality gap: 134416203638638.0, tolerance: 2693593624520.2476\n",
      "Objective did not converge. You might want to increase the number of iterations. Duality gap: 169757095130971.5, tolerance: 2559013009949.358\n",
      "Objective did not converge. You might want to increase the number of iterations. Duality gap: 130502369069146.5, tolerance: 2530144540971.3906\n",
      "Objective did not converge. You might want to increase the number of iterations. Duality gap: 288755659499446.0, tolerance: 2632331717772.0674\n",
      "Objective did not converge. You might want to increase the number of iterations. Duality gap: 134437934535879.0, tolerance: 2693593624520.2476\n",
      "Objective did not converge. You might want to increase the number of iterations. Duality gap: 13901206041977.0, tolerance: 2559013009949.358\n",
      "Objective did not converge. You might want to increase the number of iterations. Duality gap: 130530996651554.5, tolerance: 2530144540971.3906\n",
      "Objective did not converge. You might want to increase the number of iterations. Duality gap: 288795282613050.0, tolerance: 2632331717772.0674\n",
      "Objective did not converge. You might want to increase the number of iterations. Duality gap: 134463391922626.0, tolerance: 2693593624520.2476\n",
      "Objective did not converge. You might want to increase the number of iterations. Duality gap: 13911708713982.0, tolerance: 2559013009949.358\n",
      "Objective did not converge. You might want to increase the number of iterations. Duality gap: 130564424856958.0, tolerance: 2530144540971.3906\n",
      "Objective did not converge. You might want to increase the number of iterations. Duality gap: 288841381875165.5, tolerance: 2632331717772.0674\n",
      "Objective did not converge. You might want to increase the number of iterations. Duality gap: 41651591978166.0, tolerance: 2693593624520.2476\n",
      "Objective did not converge. You might want to increase the number of iterations. Duality gap: 6325321523462.0, tolerance: 2559013009949.358\n",
      "Objective did not converge. You might want to increase the number of iterations. Duality gap: 130603402005499.0, tolerance: 2530144540971.3906\n",
      "Objective did not converge. You might want to increase the number of iterations. Duality gap: 38281596344102.0, tolerance: 2632331717772.0674\n",
      "Objective did not converge. You might want to increase the number of iterations. Duality gap: 41671233140417.0, tolerance: 2693593624520.2476\n",
      "Objective did not converge. You might want to increase the number of iterations. Duality gap: 6333950432884.0, tolerance: 2559013009949.358\n",
      "Objective did not converge. You might want to increase the number of iterations. Duality gap: 130648770056450.5, tolerance: 2530144540971.3906\n",
      "Objective did not converge. You might want to increase the number of iterations. Duality gap: 38305278287365.5, tolerance: 2632331717772.0674\n",
      "Objective did not converge. You might want to increase the number of iterations. Duality gap: 41694269256690.0, tolerance: 2693593624520.2476\n",
      "Objective did not converge. You might want to increase the number of iterations. Duality gap: 6344081990763.0, tolerance: 2559013009949.358\n",
      "Objective did not converge. You might want to increase the number of iterations. Duality gap: 130701466276659.5, tolerance: 2530144540971.3906\n",
      "Objective did not converge. You might want to increase the number of iterations. Duality gap: 38333029579476.0, tolerance: 2632331717772.0674\n",
      "Objective did not converge. You might want to increase the number of iterations. Duality gap: 41721270678120.0, tolerance: 2693593624520.2476\n",
      "Objective did not converge. You might want to increase the number of iterations. Duality gap: 6355983086798.0, tolerance: 2559013009949.358\n",
      "Objective did not converge. You might want to increase the number of iterations. Duality gap: 130762519476661.0, tolerance: 2530144540971.3906\n"
     ]
    },
    {
     "name": "stderr",
     "output_type": "stream",
     "text": [
      "Objective did not converge. You might want to increase the number of iterations. Duality gap: 41752896816158.0, tolerance: 2693593624520.2476\n",
      "Objective did not converge. You might want to increase the number of iterations. Duality gap: 6369958184722.0, tolerance: 2559013009949.358\n",
      "Objective did not converge. You might want to increase the number of iterations. Duality gap: 130833037648017.0, tolerance: 2530144540971.3906\n",
      "Objective did not converge. You might want to increase the number of iterations. Duality gap: 41789908098959.0, tolerance: 2693593624520.2476\n",
      "Objective did not converge. You might want to increase the number of iterations. Duality gap: 6386362351668.0, tolerance: 2559013009949.358\n",
      "Objective did not converge. You might want to increase the number of iterations. Duality gap: 14355163873072.0, tolerance: 2530144540971.3906\n",
      "Objective did not converge. You might want to increase the number of iterations. Duality gap: 6405609055646.0, tolerance: 2559013009949.358\n",
      "Objective did not converge. You might want to increase the number of iterations. Duality gap: 14388225203910.0, tolerance: 2530144540971.3906\n",
      "Objective did not converge. You might want to increase the number of iterations. Duality gap: 6428178526063.0, tolerance: 2559013009949.358\n",
      "Objective did not converge. You might want to increase the number of iterations. Duality gap: 14426964941594.0, tolerance: 2530144540971.3906\n",
      "Objective did not converge. You might want to increase the number of iterations. Duality gap: 6454627168333.0, tolerance: 2559013009949.358\n",
      "Objective did not converge. You might want to increase the number of iterations. Duality gap: 14472322384059.0, tolerance: 2530144540971.3906\n",
      "Objective did not converge. You might want to increase the number of iterations. Duality gap: 6485597832243.0, tolerance: 2559013009949.358\n",
      "Objective did not converge. You might want to increase the number of iterations. Duality gap: 6521831348048.0, tolerance: 2559013009949.358\n"
     ]
    }
   ],
   "source": [
    "TabErrors = []\n",
    "lasso_regr = Lasso()\n",
    "\n",
    "for i,a in enumerate(alphas) :\n",
    "    lasso_regr.set_params(alpha=a)\n",
    "    scores = cross_validate(lasso_regr, xTrainScaled, yTrain, cv=fold_number,\n",
    "                            scoring=('neg_mean_squared_error','neg_root_mean_squared_error','r2'))\n",
    "    temp = a, -mean(scores['test_neg_mean_squared_error']), -mean(scores['test_neg_root_mean_squared_error']), mean(scores['test_r2'])\n",
    "    TabErrors.append(temp)\n"
   ]
  },
  {
   "cell_type": "code",
   "execution_count": 65,
   "id": "32756ee1",
   "metadata": {},
   "outputs": [
    {
     "data": {
      "image/png": "[encoded data removed]",
      "text/plain": [
       "<Figure size 1152x216 with 3 Axes>"
      ]
     },
     "metadata": {
      "needs_background": "light"
     },
     "output_type": "display_data"
    }
   ],
   "source": [
    "fig, axes = plt.subplots(1, 3,figsize=(16,3))\n",
    "tab = ['MSE','RMSE','R2']\n",
    "color = ['b','g','r']\n",
    "\n",
    "for i,error_name in enumerate(tab) :\n",
    "    error_liste = [name[i+1] for j,name in enumerate(TabErrors)]\n",
    "    axes[i].plot(alphas,  error_liste,c=color[i])\n",
    "    axes[i].set_xscale('log')\n",
    "    axes[i].set_xlabel('alpha')\n",
    "    axes[i].set_ylabel(error_name)\n",
    "    axes[i].set_title(tab[i] + ' en fonction des alphas')\n",
    "    \n",
    "    plt.subplots_adjust(left=0.1, bottom=0.1, right=0.9, top=0.9, \n",
    "                    wspace=0.3, hspace=0.2)\n",
    "\n",
    "plt.show()"
   ]
  },
  {
   "cell_type": "code",
   "execution_count": 66,
   "id": "4558d182",
   "metadata": {},
   "outputs": [
    {
     "name": "stdout",
     "output_type": "stream",
     "text": [
      "Index values for MSE 0, RMSE 0,  R2 99\n",
      "Best fit is for alpha = 10000.0\n"
     ]
    }
   ],
   "source": [
    "dfErrors = pd.DataFrame(TabErrors,columns=['alpha','MSE','RMSE','R2'])\n",
    "imin = dfErrors['R2'].idxmax()\n",
    "print('Index values for MSE {}, RMSE {},  R2 {}'\n",
    "      .format(dfErrors['MSE'].idxmax(),dfErrors['MSE'].idxmax(),imin  )   )\n",
    "alphaBest = dfErrors.loc[imin,'alpha']\n",
    "print('Best fit is for alpha = {}'.format(alphaBest))"
   ]
  },
  {
   "cell_type": "code",
   "execution_count": 67,
   "id": "a978e487",
   "metadata": {},
   "outputs": [
    {
     "name": "stdout",
     "output_type": "stream",
     "text": [
      "MSE 5440524376200.72 RMSE 2332493.17 R2 0.777\n",
      "MSE 6468266412807.37 RMSE 2543278.67 R2 0.758\n"
     ]
    }
   ],
   "source": [
    "lasso_regr.set_params(alpha=alphaBest)\n",
    "lasso_regr.fit(xTrainScaled, yTrain)\n",
    "yPredTrain = lasso_regr.predict(xTrainScaled)\n",
    "yPredTest = lasso_regr.predict(xTestScaled)\n",
    "msTrain,rmTrain,r2Train = getRegressionMetrics(yPredTrain, yTrain, isDump=True)\n",
    "msTest,rmTest,r2Test = getRegressionMetrics(yPredTest, yTest, isDump=True)"
   ]
  },
  {
   "cell_type": "code",
   "execution_count": 68,
   "id": "1e8a283b",
   "metadata": {},
   "outputs": [],
   "source": [
    "# Store errors\n",
    "Results.append(['Lasso with Manual CV',msTrain,rmTrain,r2Train,msTest,rmTest,r2Test])"
   ]
  },
  {
   "cell_type": "markdown",
   "id": "4ecd5791",
   "metadata": {},
   "source": [
    "#### Decision Tree Regressor"
   ]
  },
  {
   "cell_type": "code",
   "execution_count": 69,
   "id": "5e200c16",
   "metadata": {},
   "outputs": [
    {
     "data": {
      "text/plain": [
       "0.9754127709469091"
      ]
     },
     "execution_count": 69,
     "metadata": {},
     "output_type": "execute_result"
    }
   ],
   "source": [
    "from sklearn.tree import DecisionTreeRegressor\n",
    "from sklearn.model_selection import GridSearchCV\n",
    "\n",
    "fold_number = 5\n",
    "param_grid={\"max_depth\" : [2,3,4,5,6],\n",
    "                \"min_samples_leaf\":[2,3,4,5,10],\n",
    "                \"min_samples_split\":[10,15,20,25,30,40]\n",
    "               # \"max_features\":[2,3,4]\n",
    "               }\n",
    "                    \n",
    "dtr = DecisionTreeRegressor()\n",
    "grid_search = GridSearchCV(dtr, param_grid,\n",
    "              scoring='r2', cv=fold_number)\n",
    "\n",
    "grid_search.fit(xTrainScaled, yTrain)\n",
    "grid_search.best_score_"
   ]
  },
  {
   "cell_type": "code",
   "execution_count": 70,
   "id": "0878d0b8",
   "metadata": {},
   "outputs": [
    {
     "data": {
      "text/plain": [
       "0.987"
      ]
     },
     "execution_count": 70,
     "metadata": {},
     "output_type": "execute_result"
    }
   ],
   "source": [
    "grid_search.score(xTrainScaled, yTrain).round(3)"
   ]
  },
  {
   "cell_type": "code",
   "execution_count": 71,
   "id": "c82848f7",
   "metadata": {},
   "outputs": [],
   "source": [
    "best_depth = grid_search.best_params_['max_depth']\n",
    "best_min_samples_leaf = grid_search.best_params_['min_samples_leaf']\n",
    "best_min_samples_split = grid_search.best_params_['min_samples_split']"
   ]
  },
  {
   "cell_type": "code",
   "execution_count": 72,
   "id": "f1d56d1e",
   "metadata": {},
   "outputs": [
    {
     "name": "stdout",
     "output_type": "stream",
     "text": [
      "MSE 317339425191.71 RMSE 563328.88 R2 0.987\n",
      "MSE 988629601470.34 RMSE 994298.55 R2 0.963\n"
     ]
    }
   ],
   "source": [
    "dtr = DecisionTreeRegressor(max_depth=best_depth,min_samples_leaf=best_min_samples_leaf,\n",
    "                                         min_samples_split= best_min_samples_split)\n",
    "dtr.fit(xTrainScaled, yTrain)\n",
    "yPredTrain = dtr.predict(xTrainScaled)\n",
    "msTrain,rmTrain,r2Train = getRegressionMetrics(yPredTrain, yTrain, isDump=True)\n",
    "yPredTest = dtr.predict(xTestScaled)\n",
    "msTest,rmTest,r2Test = getRegressionMetrics(yPredTest, yTest, isDump=True)"
   ]
  },
  {
   "cell_type": "code",
   "execution_count": 73,
   "id": "878ac553",
   "metadata": {},
   "outputs": [],
   "source": [
    "# Store errors\n",
    "Results.append(['Decision Tree Regressor',msTrain,rmTrain,r2Train,msTest,rmTest,r2Test])"
   ]
  },
  {
   "cell_type": "markdown",
   "id": "b991265a",
   "metadata": {},
   "source": [
    "#### Random Forest"
   ]
  },
  {
   "cell_type": "code",
   "execution_count": 74,
   "id": "b0f6f21f",
   "metadata": {},
   "outputs": [
    {
     "data": {
      "text/plain": [
       "0.9794440538441387"
      ]
     },
     "execution_count": 74,
     "metadata": {},
     "output_type": "execute_result"
    }
   ],
   "source": [
    "from sklearn.ensemble import RandomForestRegressor\n",
    "\n",
    "fold_number = 5\n",
    "param_grid={\"max_depth\" : [2,4,5],\n",
    "                \"min_samples_leaf\":[2,5],\n",
    "                \"min_samples_split\":[10,20],\n",
    "                \"n_estimators\":[100,300,500],\n",
    "                #\"max_leaf_nodes\":[16]\n",
    "               # \"max_features\":[2,3,4]\n",
    "               }\n",
    "                    \n",
    "rfg = RandomForestRegressor()\n",
    "grid_search = GridSearchCV(rfg, param_grid,\n",
    "              scoring='r2', cv=fold_number,n_jobs=-1)\n",
    "\n",
    "grid_search.fit(xTrainScaled, yTrain)\n",
    "grid_search.best_score_"
   ]
  },
  {
   "cell_type": "code",
   "execution_count": 75,
   "id": "1f4429c1",
   "metadata": {},
   "outputs": [
    {
     "data": {
      "text/plain": [
       "0.988"
      ]
     },
     "execution_count": 75,
     "metadata": {},
     "output_type": "execute_result"
    }
   ],
   "source": [
    "grid_search.score(xTrainScaled, yTrain).round(3)"
   ]
  },
  {
   "cell_type": "code",
   "execution_count": 76,
   "id": "2b10c29d",
   "metadata": {},
   "outputs": [
    {
     "data": {
      "text/plain": [
       "{'max_depth': 5,\n",
       " 'min_samples_leaf': 2,\n",
       " 'min_samples_split': 10,\n",
       " 'n_estimators': 300}"
      ]
     },
     "execution_count": 76,
     "metadata": {},
     "output_type": "execute_result"
    }
   ],
   "source": [
    "grid_search.best_params_"
   ]
  },
  {
   "cell_type": "code",
   "execution_count": 77,
   "id": "4d16464e",
   "metadata": {},
   "outputs": [],
   "source": [
    "best_depth = grid_search.best_params_['max_depth']\n",
    "best_min_samples_leaf = grid_search.best_params_['min_samples_leaf']\n",
    "best_min_samples_split = grid_search.best_params_['min_samples_split']\n",
    "#best_max_leaf_nodes = grid_search.best_params_['max_leaf_nodes']\n",
    "best_n_estimators = grid_search.best_params_['n_estimators']"
   ]
  },
  {
   "cell_type": "code",
   "execution_count": 78,
   "id": "f5f9d2fe",
   "metadata": {},
   "outputs": [
    {
     "name": "stdout",
     "output_type": "stream",
     "text": [
      "MSE 290051388692.87 RMSE 538564.19 R2 0.988\n",
      "MSE 843256330523.15 RMSE 918289.89 R2 0.968\n"
     ]
    }
   ],
   "source": [
    "rfg = RandomForestRegressor(max_depth=best_depth,min_samples_leaf=best_min_samples_leaf,\n",
    "                            min_samples_split= best_min_samples_split, n_estimators = best_n_estimators)\n",
    "rfg.fit(xTrainScaled, yTrain)\n",
    "yPredTrain = rfg.predict(xTrainScaled)\n",
    "msTrain,rmTrain,r2Train = getRegressionMetrics(yPredTrain, yTrain, isDump=True)\n",
    "yPredTest = rfg.predict(xTestScaled)\n",
    "msTest,rmTest,r2Test = getRegressionMetrics(yPredTest, yTest, isDump=True)"
   ]
  },
  {
   "cell_type": "code",
   "execution_count": 79,
   "id": "64189de6",
   "metadata": {},
   "outputs": [],
   "source": [
    "# Store errors\n",
    "Results.append(['Random Forest',msTrain,rmTrain,r2Train,msTest,rmTest,r2Test])"
   ]
  },
  {
   "cell_type": "markdown",
   "id": "298afe8f",
   "metadata": {},
   "source": [
    "#### Gradient Boosting"
   ]
  },
  {
   "cell_type": "code",
   "execution_count": 80,
   "id": "dc4cbd5d",
   "metadata": {},
   "outputs": [
    {
     "data": {
      "text/plain": [
       "0.9860320003806331"
      ]
     },
     "execution_count": 80,
     "metadata": {},
     "output_type": "execute_result"
    }
   ],
   "source": [
    "from sklearn.ensemble import GradientBoostingRegressor\n",
    "\n",
    "fold_number = 5\n",
    "param_grid={\"max_depth\" : [4,6],\n",
    "            #\"min_samples_leaf\":[5,10],\n",
    "            \"min_samples_split\":[10,20],\n",
    "            \"n_estimators\":[300,600],\n",
    "            #\"max_leaf_nodes\":[16],\n",
    "            \"learning_rate\":[0.05,0.1],\n",
    "            \"n_iter_no_change\":[10]\n",
    "            \n",
    "            # \"max_features\":[2,3,4]\n",
    "               }\n",
    "                    \n",
    "gbr = GradientBoostingRegressor()\n",
    "grid_search = GridSearchCV(gbr, param_grid,\n",
    "              scoring='r2', cv=fold_number,n_jobs=-1)\n",
    "\n",
    "grid_search.fit(xTrainScaled, yTrain)\n",
    "grid_search.best_score_"
   ]
  },
  {
   "cell_type": "code",
   "execution_count": 81,
   "id": "814c4c83",
   "metadata": {},
   "outputs": [
    {
     "data": {
      "text/plain": [
       "{'learning_rate': 0.05,\n",
       " 'max_depth': 4,\n",
       " 'min_samples_split': 10,\n",
       " 'n_estimators': 600,\n",
       " 'n_iter_no_change': 10}"
      ]
     },
     "execution_count": 81,
     "metadata": {},
     "output_type": "execute_result"
    }
   ],
   "source": [
    "grid_search.best_params_"
   ]
  },
  {
   "cell_type": "code",
   "execution_count": 82,
   "id": "11b15979",
   "metadata": {},
   "outputs": [],
   "source": [
    "best_depth = grid_search.best_params_['max_depth']\n",
    "#best_min_samples_leaf = grid_search.best_params_['min_samples_leaf']\n",
    "best_min_samples_split = grid_search.best_params_['min_samples_split']\n",
    "#best_max_leaf_nodes = grid_search.best_params_['max_leaf_nodes']\n",
    "best_n_estimators = grid_search.best_params_['n_estimators']\n",
    "best_learning_rate = grid_search.best_params_['learning_rate']\n",
    "best_n_iter_no_change = grid_search.best_params_['n_iter_no_change']"
   ]
  },
  {
   "cell_type": "code",
   "execution_count": 83,
   "id": "d1982d6d",
   "metadata": {},
   "outputs": [
    {
     "name": "stdout",
     "output_type": "stream",
     "text": [
      "MSE 87038068489.61 RMSE 295022.15 R2 0.996\n",
      "MSE 645568072197.25 RMSE 803472.51 R2 0.976\n"
     ]
    }
   ],
   "source": [
    "gbr = GradientBoostingRegressor(max_depth=best_depth,min_samples_split= best_min_samples_split,\n",
    "                                n_estimators = best_n_estimators, learning_rate = best_learning_rate,\n",
    "                                 n_iter_no_change = best_n_iter_no_change)\n",
    "gbr.fit(xTrainScaled, yTrain)\n",
    "yPredTrain = gbr.predict(xTrainScaled)\n",
    "yPredTest = gbr.predict(xTestScaled)\n",
    "\n",
    "msTrain,rmTrain,r2Train = getRegressionMetrics(yPredTrain, yTrain, isDump=True)\n",
    "msTest,rmTest,r2Test = getRegressionMetrics(yPredTest, yTest, isDump=True)"
   ]
  },
  {
   "cell_type": "code",
   "execution_count": 84,
   "id": "ae5c078b",
   "metadata": {},
   "outputs": [],
   "source": [
    "# Store errors\n",
    "Results.append(['Gradient Boosting',msTrain,rmTrain,r2Train,msTest,rmTest,r2Test])"
   ]
  },
  {
   "cell_type": "markdown",
   "id": "38943612",
   "metadata": {},
   "source": [
    "#### Comparaison des différents algorithmes"
   ]
  },
  {
   "cell_type": "code",
   "execution_count": 85,
   "id": "4a65f2c3",
   "metadata": {},
   "outputs": [
    {
     "data": {
      "text/html": [
       "<div>\n",
       "<style scoped>\n",
       "    .dataframe tbody tr th:only-of-type {\n",
       "        vertical-align: middle;\n",
       "    }\n",
       "\n",
       "    .dataframe tbody tr th {\n",
       "        vertical-align: top;\n",
       "    }\n",
       "\n",
       "    .dataframe thead th {\n",
       "        text-align: right;\n",
       "    }\n",
       "</style>\n",
       "<table border=\"1\" class=\"dataframe\">\n",
       "  <thead>\n",
       "    <tr style=\"text-align: right;\">\n",
       "      <th></th>\n",
       "      <th>Name</th>\n",
       "      <th>MSE Train</th>\n",
       "      <th>RMSE Train</th>\n",
       "      <th>R2 Train</th>\n",
       "      <th>MSE Test</th>\n",
       "      <th>RMSE Test</th>\n",
       "      <th>R2 Test</th>\n",
       "    </tr>\n",
       "  </thead>\n",
       "  <tbody>\n",
       "    <tr>\n",
       "      <th>0</th>\n",
       "      <td>Linear Regression</td>\n",
       "      <td>5.436203e+12</td>\n",
       "      <td>2331566.690</td>\n",
       "      <td>0.778</td>\n",
       "      <td>6.498794e+12</td>\n",
       "      <td>2549273.160</td>\n",
       "      <td>0.757</td>\n",
       "    </tr>\n",
       "    <tr>\n",
       "      <th>1</th>\n",
       "      <td>RidgeCV</td>\n",
       "      <td>6.182110e+12</td>\n",
       "      <td>2486384.903</td>\n",
       "      <td>0.747</td>\n",
       "      <td>8.349069e+12</td>\n",
       "      <td>2889475.497</td>\n",
       "      <td>0.688</td>\n",
       "    </tr>\n",
       "    <tr>\n",
       "      <th>2</th>\n",
       "      <td>Ridge with Manual CV</td>\n",
       "      <td>6.182110e+12</td>\n",
       "      <td>2486384.903</td>\n",
       "      <td>0.747</td>\n",
       "      <td>8.349069e+12</td>\n",
       "      <td>2889475.497</td>\n",
       "      <td>0.688</td>\n",
       "    </tr>\n",
       "    <tr>\n",
       "      <th>3</th>\n",
       "      <td>LassoCV</td>\n",
       "      <td>5.727652e+12</td>\n",
       "      <td>2393251.444</td>\n",
       "      <td>0.766</td>\n",
       "      <td>6.678028e+12</td>\n",
       "      <td>2584188.158</td>\n",
       "      <td>0.750</td>\n",
       "    </tr>\n",
       "    <tr>\n",
       "      <th>4</th>\n",
       "      <td>Lasso with Manual CV</td>\n",
       "      <td>5.440524e+12</td>\n",
       "      <td>2332493.167</td>\n",
       "      <td>0.777</td>\n",
       "      <td>6.468266e+12</td>\n",
       "      <td>2543278.674</td>\n",
       "      <td>0.758</td>\n",
       "    </tr>\n",
       "    <tr>\n",
       "      <th>5</th>\n",
       "      <td>Decision Tree Regressor</td>\n",
       "      <td>3.173394e+11</td>\n",
       "      <td>563328.878</td>\n",
       "      <td>0.987</td>\n",
       "      <td>9.886296e+11</td>\n",
       "      <td>994298.547</td>\n",
       "      <td>0.963</td>\n",
       "    </tr>\n",
       "    <tr>\n",
       "      <th>6</th>\n",
       "      <td>Random Forest</td>\n",
       "      <td>2.900514e+11</td>\n",
       "      <td>538564.192</td>\n",
       "      <td>0.988</td>\n",
       "      <td>8.432563e+11</td>\n",
       "      <td>918289.895</td>\n",
       "      <td>0.968</td>\n",
       "    </tr>\n",
       "    <tr>\n",
       "      <th>7</th>\n",
       "      <td>Gradient Boosting</td>\n",
       "      <td>8.703807e+10</td>\n",
       "      <td>295022.149</td>\n",
       "      <td>0.996</td>\n",
       "      <td>6.455681e+11</td>\n",
       "      <td>803472.509</td>\n",
       "      <td>0.976</td>\n",
       "    </tr>\n",
       "  </tbody>\n",
       "</table>\n",
       "</div>"
      ],
      "text/plain": [
       "                      Name     MSE Train   RMSE Train  R2 Train      MSE Test  \\\n",
       "0        Linear Regression  5.436203e+12  2331566.690     0.778  6.498794e+12   \n",
       "1                  RidgeCV  6.182110e+12  2486384.903     0.747  8.349069e+12   \n",
       "2     Ridge with Manual CV  6.182110e+12  2486384.903     0.747  8.349069e+12   \n",
       "3                  LassoCV  5.727652e+12  2393251.444     0.766  6.678028e+12   \n",
       "4     Lasso with Manual CV  5.440524e+12  2332493.167     0.777  6.468266e+12   \n",
       "5  Decision Tree Regressor  3.173394e+11   563328.878     0.987  9.886296e+11   \n",
       "6            Random Forest  2.900514e+11   538564.192     0.988  8.432563e+11   \n",
       "7        Gradient Boosting  8.703807e+10   295022.149     0.996  6.455681e+11   \n",
       "\n",
       "     RMSE Test  R2 Test  \n",
       "0  2549273.160    0.757  \n",
       "1  2889475.497    0.688  \n",
       "2  2889475.497    0.688  \n",
       "3  2584188.158    0.750  \n",
       "4  2543278.674    0.758  \n",
       "5   994298.547    0.963  \n",
       "6   918289.895    0.968  \n",
       "7   803472.509    0.976  "
      ]
     },
     "execution_count": 85,
     "metadata": {},
     "output_type": "execute_result"
    }
   ],
   "source": [
    "dfResults = pd.DataFrame(Results,columns=['Name','MSE Train','RMSE Train','R2 Train','MSE Test','RMSE Test','R2 Test'])\n",
    "dfResults.round(3)"
   ]
  },
  {
   "cell_type": "code",
   "execution_count": 87,
   "id": "9fe79eef",
   "metadata": {},
   "outputs": [
    {
     "data": {
      "image/png": "[encoded data removed]",
      "text/plain": [
       "<Figure size 576x684 with 2 Axes>"
      ]
     },
     "metadata": {
      "needs_background": "light"
     },
     "output_type": "display_data"
    }
   ],
   "source": [
    "shap_values = shap.TreeExplainer(gbr).shap_values(xTestScaled)\n",
    "shap.summary_plot(shap_values, xTestScaled,use_log_scale=False,feature_names=XTest.columns)"
   ]
  },
  {
   "cell_type": "code",
   "execution_count": null,
   "id": "e72d6087",
   "metadata": {},
   "outputs": [],
   "source": []
  }
 ],
 "metadata": {
  "kernelspec": {
   "display_name": "Python 3",
   "language": "python",
   "name": "python3"
  },
  "language_info": {
   "codemirror_mode": {
    "name": "ipython",
    "version": 3
   },
   "file_extension": ".py",
   "mimetype": "text/x-python",
   "name": "python",
   "nbconvert_exporter": "python",
   "pygments_lexer": "ipython3",
   "version": "3.7.10"
  }
 },
 "nbformat": 4,
 "nbformat_minor": 5
}
