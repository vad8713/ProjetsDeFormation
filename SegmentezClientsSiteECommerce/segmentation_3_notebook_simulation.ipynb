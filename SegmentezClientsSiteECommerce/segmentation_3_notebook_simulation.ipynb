{
 "cells": [
  {
   "cell_type": "markdown",
   "id": "064e02da",
   "metadata": {},
   "source": [
    "## Notebook de simulation - Projet 4 - David Depouez"
   ]
  },
  {
   "cell_type": "markdown",
   "id": "6f25c053",
   "metadata": {},
   "source": [
    "### 1. Importation et mise en place"
   ]
  },
  {
   "cell_type": "code",
   "execution_count": 1,
   "id": "6c564a6f",
   "metadata": {
    "execution": {
     "iopub.execute_input": "2023-05-11T14:38:56.207433Z",
     "iopub.status.busy": "2023-05-11T14:38:56.204410Z",
     "iopub.status.idle": "2023-05-11T14:38:56.952362Z",
     "shell.execute_reply": "2023-05-11T14:38:56.950970Z",
     "shell.execute_reply.started": "2023-05-11T14:38:56.207377Z"
    }
   },
   "outputs": [
    {
     "name": "stderr",
     "output_type": "stream",
     "text": [
      "/opt/conda/lib/python3.10/site-packages/scipy/__init__.py:146: UserWarning: A NumPy version >=1.16.5 and <1.23.0 is required for this version of SciPy (detected version 1.23.5\n",
      "  warnings.warn(f\"A NumPy version >={np_minversion} and <{np_maxversion}\"\n"
     ]
    }
   ],
   "source": [
    "import pandas as pd\n",
    "import numpy as np\n",
    "import matplotlib.pyplot as plt\n",
    "\n",
    "from sklearn.cluster import KMeans\n",
    "from sklearn.cluster import DBSCAN\n",
    "from sklearn.cluster import AgglomerativeClustering\n",
    "\n",
    "from sklearn.utils import resample\n",
    "from sklearn.decomposition import PCA\n",
    "\n",
    "from sklearn.preprocessing import StandardScaler\n",
    "from sklearn.metrics import silhouette_score\n",
    "from sklearn.metrics.cluster import adjusted_rand_score\n",
    "\n",
    "import datetime\n",
    "from datetime import timedelta"
   ]
  },
  {
   "cell_type": "markdown",
   "id": "e765acc6",
   "metadata": {},
   "source": [
    "On recupere le dataframe brut"
   ]
  },
  {
   "cell_type": "code",
   "execution_count": 2,
   "id": "fbd0214c",
   "metadata": {
    "execution": {
     "iopub.execute_input": "2023-05-11T14:38:56.955099Z",
     "iopub.status.busy": "2023-05-11T14:38:56.954701Z",
     "iopub.status.idle": "2023-05-11T14:38:57.493379Z",
     "shell.execute_reply": "2023-05-11T14:38:57.492084Z",
     "shell.execute_reply.started": "2023-05-11T14:38:56.955063Z"
    }
   },
   "outputs": [],
   "source": [
    "Version = 2\n",
    "\n",
    "path = \"./data/cleaned/\"\n",
    "\n",
    "filename = 'Cleaned-V4-Raw.csv'\n",
    "\n",
    "# for kagle use only\n",
    "\n",
    "filename = \"/kaggle/input/v4-raw/Cleaned-V4-Raw.csv\"\n",
    "path = \"\"\n",
    "\n",
    "df = pd.read_csv(path + filename,low_memory=False)"
   ]
  },
  {
   "cell_type": "code",
   "execution_count": 3,
   "id": "f582b80e",
   "metadata": {
    "execution": {
     "iopub.execute_input": "2023-05-11T14:38:57.495899Z",
     "iopub.status.busy": "2023-05-11T14:38:57.495376Z",
     "iopub.status.idle": "2023-05-11T14:38:57.519098Z",
     "shell.execute_reply": "2023-05-11T14:38:57.518011Z",
     "shell.execute_reply.started": "2023-05-11T14:38:57.495851Z"
    }
   },
   "outputs": [
    {
     "data": {
      "text/html": [
       "<div>\n",
       "<style scoped>\n",
       "    .dataframe tbody tr th:only-of-type {\n",
       "        vertical-align: middle;\n",
       "    }\n",
       "\n",
       "    .dataframe tbody tr th {\n",
       "        vertical-align: top;\n",
       "    }\n",
       "\n",
       "    .dataframe thead th {\n",
       "        text-align: right;\n",
       "    }\n",
       "</style>\n",
       "<table border=\"1\" class=\"dataframe\">\n",
       "  <thead>\n",
       "    <tr style=\"text-align: right;\">\n",
       "      <th></th>\n",
       "      <th>customer_id</th>\n",
       "      <th>order_id</th>\n",
       "      <th>order_purchase_timestamp</th>\n",
       "      <th>payment_value</th>\n",
       "      <th>customer_unique_id</th>\n",
       "      <th>review_score</th>\n",
       "      <th>word_number</th>\n",
       "      <th>delai</th>\n",
       "      <th>retard</th>\n",
       "    </tr>\n",
       "  </thead>\n",
       "  <tbody>\n",
       "    <tr>\n",
       "      <th>0</th>\n",
       "      <td>9ef432eb6251297304e76186b10a928d</td>\n",
       "      <td>e481f51cbdc54678b7cc49136f2d6af7</td>\n",
       "      <td>2017-10-02 10:56:33</td>\n",
       "      <td>38.71</td>\n",
       "      <td>7c396fd4830fd04220f754e42b4e5bff</td>\n",
       "      <td>4.0</td>\n",
       "      <td>32.0</td>\n",
       "      <td>8</td>\n",
       "      <td>-8</td>\n",
       "    </tr>\n",
       "    <tr>\n",
       "      <th>1</th>\n",
       "      <td>b0830fb4747a6c6d20dea0b8c802d7ef</td>\n",
       "      <td>53cdb2fc8bc7dce0b6741e2150273451</td>\n",
       "      <td>2018-07-24 20:41:37</td>\n",
       "      <td>141.46</td>\n",
       "      <td>af07308b275d755c9edb36a90c618231</td>\n",
       "      <td>4.0</td>\n",
       "      <td>4.0</td>\n",
       "      <td>13</td>\n",
       "      <td>-6</td>\n",
       "    </tr>\n",
       "    <tr>\n",
       "      <th>2</th>\n",
       "      <td>41ce2a54c0b03bf3443c3d931a367089</td>\n",
       "      <td>47770eb9100c2d0c44946d9cf07ec65d</td>\n",
       "      <td>2018-08-08 08:38:49</td>\n",
       "      <td>179.12</td>\n",
       "      <td>3a653a41f6f9fc3d2a113cf8398680e8</td>\n",
       "      <td>5.0</td>\n",
       "      <td>0.0</td>\n",
       "      <td>9</td>\n",
       "      <td>-18</td>\n",
       "    </tr>\n",
       "    <tr>\n",
       "      <th>3</th>\n",
       "      <td>f88197465ea7920adcdbec7375364d82</td>\n",
       "      <td>949d5b44dbf5de918fe9c16f97b45f8a</td>\n",
       "      <td>2017-11-18 19:28:06</td>\n",
       "      <td>72.20</td>\n",
       "      <td>7c142cf63193a1473d2e66489a9ae977</td>\n",
       "      <td>5.0</td>\n",
       "      <td>20.0</td>\n",
       "      <td>13</td>\n",
       "      <td>-13</td>\n",
       "    </tr>\n",
       "    <tr>\n",
       "      <th>4</th>\n",
       "      <td>8ab97904e6daea8866dbdbc4fb7aad2c</td>\n",
       "      <td>ad21c59c0840e6cb83a9ceb5573f8159</td>\n",
       "      <td>2018-02-13 21:18:39</td>\n",
       "      <td>28.62</td>\n",
       "      <td>72632f0f9dd73dfee390c9b22eb56dd6</td>\n",
       "      <td>5.0</td>\n",
       "      <td>0.0</td>\n",
       "      <td>2</td>\n",
       "      <td>-10</td>\n",
       "    </tr>\n",
       "  </tbody>\n",
       "</table>\n",
       "</div>"
      ],
      "text/plain": [
       "                        customer_id                          order_id  \\\n",
       "0  9ef432eb6251297304e76186b10a928d  e481f51cbdc54678b7cc49136f2d6af7   \n",
       "1  b0830fb4747a6c6d20dea0b8c802d7ef  53cdb2fc8bc7dce0b6741e2150273451   \n",
       "2  41ce2a54c0b03bf3443c3d931a367089  47770eb9100c2d0c44946d9cf07ec65d   \n",
       "3  f88197465ea7920adcdbec7375364d82  949d5b44dbf5de918fe9c16f97b45f8a   \n",
       "4  8ab97904e6daea8866dbdbc4fb7aad2c  ad21c59c0840e6cb83a9ceb5573f8159   \n",
       "\n",
       "  order_purchase_timestamp  payment_value                customer_unique_id  \\\n",
       "0      2017-10-02 10:56:33          38.71  7c396fd4830fd04220f754e42b4e5bff   \n",
       "1      2018-07-24 20:41:37         141.46  af07308b275d755c9edb36a90c618231   \n",
       "2      2018-08-08 08:38:49         179.12  3a653a41f6f9fc3d2a113cf8398680e8   \n",
       "3      2017-11-18 19:28:06          72.20  7c142cf63193a1473d2e66489a9ae977   \n",
       "4      2018-02-13 21:18:39          28.62  72632f0f9dd73dfee390c9b22eb56dd6   \n",
       "\n",
       "   review_score  word_number  delai  retard  \n",
       "0           4.0         32.0      8      -8  \n",
       "1           4.0          4.0     13      -6  \n",
       "2           5.0          0.0      9     -18  \n",
       "3           5.0         20.0     13     -13  \n",
       "4           5.0          0.0      2     -10  "
      ]
     },
     "execution_count": 3,
     "metadata": {},
     "output_type": "execute_result"
    }
   ],
   "source": [
    "df.shape\n",
    "df.head()"
   ]
  },
  {
   "cell_type": "code",
   "execution_count": 4,
   "id": "f96cf61d",
   "metadata": {
    "execution": {
     "iopub.execute_input": "2023-05-11T14:38:57.520877Z",
     "iopub.status.busy": "2023-05-11T14:38:57.520494Z",
     "iopub.status.idle": "2023-05-11T14:38:57.662799Z",
     "shell.execute_reply": "2023-05-11T14:38:57.661720Z",
     "shell.execute_reply.started": "2023-05-11T14:38:57.520815Z"
    }
   },
   "outputs": [
    {
     "name": "stdout",
     "output_type": "stream",
     "text": [
      "<class 'pandas.core.frame.DataFrame'>\n",
      "RangeIndex: 99441 entries, 0 to 99440\n",
      "Data columns (total 9 columns):\n",
      " #   Column                    Non-Null Count  Dtype  \n",
      "---  ------                    --------------  -----  \n",
      " 0   customer_id               99441 non-null  object \n",
      " 1   order_id                  99441 non-null  object \n",
      " 2   order_purchase_timestamp  99441 non-null  object \n",
      " 3   payment_value             99441 non-null  float64\n",
      " 4   customer_unique_id        99441 non-null  object \n",
      " 5   review_score              99441 non-null  float64\n",
      " 6   word_number               99441 non-null  float64\n",
      " 7   delai                     99441 non-null  int64  \n",
      " 8   retard                    99441 non-null  int64  \n",
      "dtypes: float64(3), int64(2), object(4)\n",
      "memory usage: 6.8+ MB\n"
     ]
    }
   ],
   "source": [
    "df.info()"
   ]
  },
  {
   "cell_type": "markdown",
   "id": "2eae3fa7",
   "metadata": {},
   "source": [
    "On convertit la date"
   ]
  },
  {
   "cell_type": "code",
   "execution_count": 5,
   "id": "8bbac613",
   "metadata": {
    "execution": {
     "iopub.execute_input": "2023-05-11T14:38:57.666293Z",
     "iopub.status.busy": "2023-05-11T14:38:57.665830Z",
     "iopub.status.idle": "2023-05-11T14:39:07.563833Z",
     "shell.execute_reply": "2023-05-11T14:39:07.562587Z",
     "shell.execute_reply.started": "2023-05-11T14:38:57.666259Z"
    }
   },
   "outputs": [],
   "source": [
    "df['order_purchase_timestamp'] = df['order_purchase_timestamp'].apply(pd.to_datetime)"
   ]
  },
  {
   "cell_type": "code",
   "execution_count": 6,
   "id": "f941fcec",
   "metadata": {
    "execution": {
     "iopub.execute_input": "2023-05-11T14:39:07.566544Z",
     "iopub.status.busy": "2023-05-11T14:39:07.565171Z",
     "iopub.status.idle": "2023-05-11T14:39:07.572773Z",
     "shell.execute_reply": "2023-05-11T14:39:07.571415Z",
     "shell.execute_reply.started": "2023-05-11T14:39:07.566498Z"
    }
   },
   "outputs": [],
   "source": [
    "def getCompCols(df,cols):\n",
    "    ### Get complements colons of cols for a dataframe df ###\n",
    "    ComplementCols =  [name for i,name in enumerate(df.columns) if name not in cols]\n",
    "    return ComplementCols"
   ]
  },
  {
   "cell_type": "markdown",
   "id": "416a7357",
   "metadata": {},
   "source": [
    "Fonction de transformation du dataframe brut vers le dataframe mis en forme en fonction d'une date de fin"
   ]
  },
  {
   "cell_type": "code",
   "execution_count": 7,
   "id": "9b405fa8",
   "metadata": {
    "execution": {
     "iopub.execute_input": "2023-05-11T14:39:07.575740Z",
     "iopub.status.busy": "2023-05-11T14:39:07.574653Z",
     "iopub.status.idle": "2023-05-11T14:39:07.591323Z",
     "shell.execute_reply": "2023-05-11T14:39:07.589997Z",
     "shell.execute_reply.started": "2023-05-11T14:39:07.575649Z"
    }
   },
   "outputs": [],
   "source": [
    "year = timedelta(days=365)\n",
    "month = timedelta(days=30)\n",
    "\n",
    "def extract(df_to_extract, end_date):\n",
    "    \n",
    "    print(\"Calling extract with date : \",end_date)\n",
    "    maskHere = (df_to_extract['order_purchase_timestamp'] <= end_date)\n",
    "    df_extract_reducted = df_to_extract.loc[maskHere == True,:]\n",
    "    \n",
    "    number = len(df_extract_reducted)\n",
    "    print(\"Number of observation selected\",number)\n",
    "    \n",
    "    # now group the dataframe by customer id and do compute the features values\n",
    "    grouped = df_extract_reducted.groupby(by= ['customer_unique_id'] ,dropna=False)\n",
    "    df_extract_reducted = grouped.agg({'order_id':'count','order_purchase_timestamp':'max','retard':'mean','delai':'mean',\n",
    "                           'payment_value':'sum', 'review_score':'mean', 'word_number':'sum'})\n",
    "    df_extract_reducted.rename(columns={'order_id':'Frequency','order_purchase_timestamp':'Recency','payment_value':'Monetary'},inplace=True)\n",
    "    df_extract_reducted = df_extract_reducted.reset_index()\n",
    "    \n",
    "    # compute recency as number of days since the last command from today\n",
    "    df_extract_reducted['Recency'] =  df_extract_reducted['Recency'].apply(lambda x: (pd.to_datetime('today') - x).days)\n",
    "    \n",
    "    df_extract_reducted.drop('customer_unique_id',axis=1,inplace=True)\n",
    "    \n",
    "    return df_extract_reducted"
   ]
  },
  {
   "cell_type": "markdown",
   "id": "e036fb68",
   "metadata": {},
   "source": [
    "Fonctions pour les outliers"
   ]
  },
  {
   "cell_type": "code",
   "execution_count": 8,
   "id": "f6614f5f",
   "metadata": {
    "execution": {
     "iopub.execute_input": "2023-05-11T14:39:07.593948Z",
     "iopub.status.busy": "2023-05-11T14:39:07.593389Z",
     "iopub.status.idle": "2023-05-11T14:39:07.610905Z",
     "shell.execute_reply": "2023-05-11T14:39:07.609516Z",
     "shell.execute_reply.started": "2023-05-11T14:39:07.593905Z"
    }
   },
   "outputs": [],
   "source": [
    "# Functions to handle outliers\n",
    "def getQuantiles(dFrame,colName,lower=0.25,higher=0.75,isLog=False) :\n",
    "    ### Get values corresponding to quartiles (defaults are for Q1 and Q3)###\n",
    "    low,high = dFrame[colName].quantile([lower,higher])\n",
    "    if isLog == True:\n",
    "        print(\"For quantile {} val={:2.3} and for quantile {} val={:2.3}\".format(lower,low,higher,high))\n",
    "    return (low,high)\n",
    "\n",
    "def computeTukeyMinMax(dFrame,colName,lower=0.25,higher=0.75, whis=1.5,isLog=False, minValue = 0.0) :\n",
    "    ### Get min and max corresponding to Tukey's Law (default whis is 1.5)###\n",
    "    Q1, Q3 = getQuantiles(dFrame,colName,lower=lower,higher=higher)\n",
    "    IQR = Q3 - Q1\n",
    "    \n",
    "    vmin = Q1 - whis*IQR\n",
    "    if vmin < minValue :\n",
    "        vmin = minValue\n",
    "    \n",
    "    vmax = Q3 + whis*IQR\n",
    "    if isLog == True:\n",
    "        print(\"Q1 {:2.3} Q3 {:2.3} IQR {:2.3} vmin {:2.3} vmax {:2.3}\".format(Q1,Q3,IQR,vmin,vmax))\n",
    "    return (vmin,vmax)\n",
    "\n",
    "def displayOutliers(dFrame,colName,isDump=False,isLog=False, minValue = 0.0) :\n",
    "    ### Display outliers and according boxplot based on Tukey's law ###\n",
    "    vmin, vmax = computeTukeyMinMax(dFrame,colName,minValue)\n",
    "    mask = (dFrame[colName] > vmax) | (dFrame[colName] < vmin)\n",
    "    nbOutliers = len(dFrame.loc[mask == True , :])\n",
    "    if nbOutliers != 0 and isDump == True:\n",
    "        display(dFrame.loc[mask == True ,[colName]].sort_values(by=colName,ascending=False))\n",
    "    dFrame.boxplot(column = colName, grid = False)\n",
    "    if isLog == True:\n",
    "        print(\"{} Outliers, vmin {:2.3} vmax {:2.3}\".format(nbOutliers,vmin,vmax))\n",
    "    return (vmin,vmax,nbOutliers)\n",
    "\n",
    "#dFrame[colName].clip(lower=low,upper=up,inplace=True)"
   ]
  },
  {
   "cell_type": "code",
   "execution_count": 9,
   "id": "47c5493b",
   "metadata": {
    "execution": {
     "iopub.execute_input": "2023-05-11T14:39:07.613084Z",
     "iopub.status.busy": "2023-05-11T14:39:07.612647Z",
     "iopub.status.idle": "2023-05-11T14:39:07.635094Z",
     "shell.execute_reply": "2023-05-11T14:39:07.633766Z",
     "shell.execute_reply.started": "2023-05-11T14:39:07.613047Z"
    }
   },
   "outputs": [
    {
     "data": {
      "text/plain": [
       "(Timestamp('2016-09-04 21:15:19'), Timestamp('2018-10-17 17:30:18'))"
      ]
     },
     "execution_count": 9,
     "metadata": {},
     "output_type": "execute_result"
    }
   ],
   "source": [
    "df['order_purchase_timestamp'].min(), df['order_purchase_timestamp'].max()"
   ]
  },
  {
   "cell_type": "markdown",
   "id": "50e3ee70",
   "metadata": {},
   "source": [
    "Colonnes à traiter pour outliers et instantiation du scaler"
   ]
  },
  {
   "cell_type": "code",
   "execution_count": 10,
   "id": "8ecaf981",
   "metadata": {
    "execution": {
     "iopub.execute_input": "2023-05-11T14:39:07.637482Z",
     "iopub.status.busy": "2023-05-11T14:39:07.637097Z",
     "iopub.status.idle": "2023-05-11T14:39:07.645783Z",
     "shell.execute_reply": "2023-05-11T14:39:07.644413Z",
     "shell.execute_reply.started": "2023-05-11T14:39:07.637445Z"
    }
   },
   "outputs": [],
   "source": [
    "keep = ['Monetary','retard', 'word_number','delai']\n",
    "\n",
    "scaler = StandardScaler()"
   ]
  },
  {
   "cell_type": "markdown",
   "id": "06ea5c60",
   "metadata": {},
   "source": [
    "instantiation de kmeans"
   ]
  },
  {
   "cell_type": "code",
   "execution_count": 11,
   "id": "25e20ab3",
   "metadata": {
    "execution": {
     "iopub.execute_input": "2023-05-11T14:39:07.647720Z",
     "iopub.status.busy": "2023-05-11T14:39:07.647323Z",
     "iopub.status.idle": "2023-05-11T14:39:07.658422Z",
     "shell.execute_reply": "2023-05-11T14:39:07.657367Z",
     "shell.execute_reply.started": "2023-05-11T14:39:07.647651Z"
    }
   },
   "outputs": [],
   "source": [
    "#kmeans = KMeans(n_clusters=3,init='k-means++',n_init=10)\n",
    "kmeans = KMeans(n_clusters=3,init='k-means++',n_init=10,random_state=42)"
   ]
  },
  {
   "cell_type": "markdown",
   "id": "62ae9176",
   "metadata": {},
   "source": [
    "Date de debut et de fin de la simulation (à 1 an de la fin du dataset)"
   ]
  },
  {
   "cell_type": "code",
   "execution_count": 13,
   "id": "5efa98db",
   "metadata": {
    "execution": {
     "iopub.execute_input": "2023-05-11T14:39:07.677959Z",
     "iopub.status.busy": "2023-05-11T14:39:07.677262Z",
     "iopub.status.idle": "2023-05-11T14:39:07.686735Z",
     "shell.execute_reply": "2023-05-11T14:39:07.685019Z",
     "shell.execute_reply.started": "2023-05-11T14:39:07.677919Z"
    },
    "scrolled": true
   },
   "outputs": [
    {
     "name": "stdout",
     "output_type": "stream",
     "text": [
      "Begin 2017-10-17 17:30:18 End 2018-10-17 17:30:18\n"
     ]
    }
   ],
   "source": [
    "endDate = df['order_purchase_timestamp'].max()\n",
    "beginDate = endDate - 1*year\n",
    "print(\"Begin {} End {}\".format(beginDate,endDate))"
   ]
  },
  {
   "cell_type": "markdown",
   "id": "80178db8",
   "metadata": {},
   "source": [
    "### 2. Etude sur des intervalles de 30 jours"
   ]
  },
  {
   "cell_type": "markdown",
   "id": "c3c8d39f",
   "metadata": {},
   "source": [
    "Creation des dates d'observation"
   ]
  },
  {
   "cell_type": "code",
   "execution_count": 14,
   "id": "3ed0917f",
   "metadata": {
    "execution": {
     "iopub.execute_input": "2023-05-11T14:39:07.692131Z",
     "iopub.status.busy": "2023-05-11T14:39:07.690905Z",
     "iopub.status.idle": "2023-05-11T14:39:07.703183Z",
     "shell.execute_reply": "2023-05-11T14:39:07.701785Z",
     "shell.execute_reply.started": "2023-05-11T14:39:07.692083Z"
    }
   },
   "outputs": [
    {
     "name": "stdout",
     "output_type": "stream",
     "text": [
      "Begin 2017-10-17 End 2018-10-12 Nb 13\n"
     ]
    }
   ],
   "source": [
    "period = 30 # in days\n",
    "period = period*timedelta(days=1)\n",
    "\n",
    "dateList = []\n",
    "\n",
    "counter = 0\n",
    "date = beginDate\n",
    "while date <= endDate:\n",
    "    dateList.append(date)\n",
    "    #print(date)\n",
    "    counter = counter + 1\n",
    "    date = beginDate+counter*period\n",
    "    \n",
    "index = [i.date() for i in dateList]\n",
    "print(\"Begin {} End {} Nb {}\".format(index[0],index[-1],len(index)))"
   ]
  },
  {
   "cell_type": "markdown",
   "id": "651a48dc",
   "metadata": {},
   "source": [
    "Pour chaque date donnée on extrait le dataframe correspondant puis on traite les outliers, on scale et on compare la prediction des data avec le fit des datas et on calcul score ARI"
   ]
  },
  {
   "cell_type": "code",
   "execution_count": 15,
   "id": "5457ec81",
   "metadata": {
    "execution": {
     "iopub.execute_input": "2023-05-11T14:39:07.705607Z",
     "iopub.status.busy": "2023-05-11T14:39:07.704732Z",
     "iopub.status.idle": "2023-05-11T14:41:14.949382Z",
     "shell.execute_reply": "2023-05-11T14:41:14.947854Z",
     "shell.execute_reply.started": "2023-05-11T14:39:07.705568Z"
    }
   },
   "outputs": [
    {
     "name": "stdout",
     "output_type": "stream",
     "text": [
      "0 2017-10-17 17:30:18\n",
      "Calling extract with date :  2017-10-17 17:30:18\n",
      "Number of observation selected 30096\n",
      "Ari Score for i=0 is 1.0\n",
      "1 2017-11-16 17:30:18\n",
      "Calling extract with date :  2017-11-16 17:30:18\n",
      "Number of observation selected 34791\n",
      "Ari Score for i=1 is 0.9876638080127371\n",
      "2 2017-12-16 17:30:18\n",
      "Calling extract with date :  2017-12-16 17:30:18\n",
      "Number of observation selected 43393\n",
      "Ari Score for i=2 is 0.9327957271890326\n",
      "3 2018-01-15 17:30:18\n",
      "Calling extract with date :  2018-01-15 17:30:18\n",
      "Number of observation selected 48811\n",
      "Ari Score for i=3 is 0.7673509588665929\n",
      "4 2018-02-14 17:30:18\n",
      "Calling extract with date :  2018-02-14 17:30:18\n",
      "Number of observation selected 55747\n",
      "Ari Score for i=4 is 0.7902865134614272\n",
      "5 2018-03-16 17:30:18\n",
      "Calling extract with date :  2018-03-16 17:30:18\n",
      "Number of observation selected 63196\n",
      "Ari Score for i=5 is 0.930529277190201\n",
      "6 2018-04-15 17:30:18\n",
      "Calling extract with date :  2018-04-15 17:30:18\n",
      "Number of observation selected 69875\n",
      "Ari Score for i=6 is 0.9879816211582191\n",
      "7 2018-05-15 17:30:18\n",
      "Calling extract with date :  2018-05-15 17:30:18\n",
      "Number of observation selected 77678\n",
      "Ari Score for i=7 is 0.9779959897908372\n",
      "8 2018-06-14 17:30:18\n",
      "Calling extract with date :  2018-06-14 17:30:18\n",
      "Number of observation selected 83345\n",
      "Ari Score for i=8 is 0.9745306874461163\n",
      "9 2018-07-14 17:30:18\n",
      "Calling extract with date :  2018-07-14 17:30:18\n",
      "Number of observation selected 88760\n",
      "Ari Score for i=9 is 0.9817364591337836\n",
      "10 2018-08-13 17:30:18\n",
      "Calling extract with date :  2018-08-13 17:30:18\n",
      "Number of observation selected 96546\n",
      "Ari Score for i=10 is 0.9829225046090974\n",
      "11 2018-09-12 17:30:18\n",
      "Calling extract with date :  2018-09-12 17:30:18\n",
      "Number of observation selected 99431\n",
      "Ari Score for i=11 is 0.9912597636404714\n",
      "12 2018-10-12 17:30:18\n",
      "Calling extract with date :  2018-10-12 17:30:18\n",
      "Number of observation selected 99439\n",
      "Ari Score for i=12 is 0.9941769704545056\n"
     ]
    }
   ],
   "source": [
    "ariScoreList = []\n",
    "for i,date in  enumerate(dateList):\n",
    "    print(i,date)\n",
    "    dfReduct = extract(df, date)\n",
    "    for j in keep:\n",
    "        #print(j)\n",
    "        valMin, valMax = computeTukeyMinMax(dfReduct,j,isLog=False,higher=0.85,lower=0.15,minValue=dfReduct[j].min())\n",
    "        #print(valMin, valMax)\n",
    "        dfReduct[j].clip(lower=valMin,upper=valMax,inplace=True)\n",
    "\n",
    "    XFull = dfReduct.to_numpy()\n",
    "\n",
    "    if i == 0:\n",
    "        X_init = scaler.fit_transform(XFull)\n",
    "        C_init = kmeans.fit_predict(X_init)\n",
    "        X_new = scaler.transform(XFull,copy=True)\n",
    "        C_new = kmeans.predict(X_new)\n",
    "    else:\n",
    "        X_init = scaler.transform(XFull,copy=True)\n",
    "        C_init = kmeans.predict(X_init)\n",
    "        X_new = scaler.fit_transform(XFull)\n",
    "        C_new = kmeans.fit_predict(X_new)\n",
    "\n",
    "    ariScore = adjusted_rand_score(C_init, C_new)\n",
    "    print(\"Ari Score for i={} is {}\".format(i,ariScore) )\n",
    "    ariScoreList.append(ariScore)"
   ]
  },
  {
   "cell_type": "markdown",
   "id": "00da54f9",
   "metadata": {},
   "source": [
    "Representation graphique des résultats"
   ]
  },
  {
   "cell_type": "code",
   "execution_count": 16,
   "id": "4fb82a09",
   "metadata": {
    "execution": {
     "iopub.execute_input": "2023-05-11T14:41:14.951519Z",
     "iopub.status.busy": "2023-05-11T14:41:14.951056Z",
     "iopub.status.idle": "2023-05-11T14:41:15.332605Z",
     "shell.execute_reply": "2023-05-11T14:41:15.331443Z",
     "shell.execute_reply.started": "2023-05-11T14:41:14.951480Z"
    }
   },
   "outputs": [
    {
     "data": {
      "image/png": "[encoded data removed]",
      "text/plain": [
       "<Figure size 640x480 with 1 Axes>"
      ]
     },
     "metadata": {},
     "output_type": "display_data"
    }
   ],
   "source": [
    "\n",
    "plt.plot(index, ariScoreList,c='blue',marker='o')\n",
    "#axes = plt.gca()\n",
    "plt.axhline(y=0.8,linestyle='--',label='ARI 0.8')\n",
    "plt.xlabel(\"Date\")\n",
    "#plt.xlim([dateList[0], dateList[2]])\n",
    "#axes.xaxis.set_ticks(range(3))\n",
    "#axes.set_xlim(0, 6)\n",
    "plt.xticks(index)\n",
    "plt.xticks(rotation = 80)\n",
    "plt.ylabel(\"Score\")\n",
    "plt.title(\"ARI score en fonction du temps\")\n",
    "plt.legend()\n",
    "plt.show(block=False)"
   ]
  },
  {
   "cell_type": "markdown",
   "id": "d2561ca6",
   "metadata": {},
   "source": [
    "On recommence le meme process avec des intervalles de 15 jours plutot que 30 jours"
   ]
  },
  {
   "cell_type": "markdown",
   "id": "35765029",
   "metadata": {},
   "source": [
    "### 3. Etude sur des intervalles de 15 jours"
   ]
  },
  {
   "cell_type": "code",
   "execution_count": 17,
   "id": "712415e2",
   "metadata": {
    "execution": {
     "iopub.execute_input": "2023-05-11T14:44:26.068077Z",
     "iopub.status.busy": "2023-05-11T14:44:26.067573Z",
     "iopub.status.idle": "2023-05-11T14:44:26.076928Z",
     "shell.execute_reply": "2023-05-11T14:44:26.075927Z",
     "shell.execute_reply.started": "2023-05-11T14:44:26.068026Z"
    }
   },
   "outputs": [
    {
     "name": "stdout",
     "output_type": "stream",
     "text": [
      "Begin 2017-10-17 End 2018-10-12 Nb 25\n"
     ]
    }
   ],
   "source": [
    "period = 15 # in days\n",
    "period = period*timedelta(days=1)\n",
    "\n",
    "dateList = []\n",
    "\n",
    "counter = 0\n",
    "date = beginDate\n",
    "while date <= endDate:\n",
    "    dateList.append(date)\n",
    "    #print(date)\n",
    "    counter = counter + 1\n",
    "    date = beginDate+counter*period\n",
    "    \n",
    "index = [i.date() for i in dateList]\n",
    "print(\"Begin {} End {} Nb {}\".format(index[0],index[-1],len(index)))"
   ]
  },
  {
   "cell_type": "code",
   "execution_count": 18,
   "id": "13478e5a",
   "metadata": {
    "execution": {
     "iopub.execute_input": "2023-05-11T14:44:26.727794Z",
     "iopub.status.busy": "2023-05-11T14:44:26.727329Z",
     "iopub.status.idle": "2023-05-11T14:48:29.625299Z",
     "shell.execute_reply": "2023-05-11T14:48:29.623792Z",
     "shell.execute_reply.started": "2023-05-11T14:44:26.727759Z"
    }
   },
   "outputs": [
    {
     "name": "stdout",
     "output_type": "stream",
     "text": [
      "0 2017-10-17 17:30:18\n",
      "Calling extract with date :  2017-10-17 17:30:18\n",
      "Number of observation selected 30096\n",
      "Ari Score for i=0 is 1.0\n",
      "1 2017-11-01 17:30:18\n",
      "Calling extract with date :  2017-11-01 17:30:18\n",
      "Number of observation selected 32289\n",
      "Ari Score for i=1 is 0.987538913177524\n",
      "2 2017-11-16 17:30:18\n",
      "Calling extract with date :  2017-11-16 17:30:18\n",
      "Number of observation selected 34791\n",
      "Ari Score for i=2 is 0.989589894483919\n",
      "3 2017-12-01 17:30:18\n",
      "Calling extract with date :  2017-12-01 17:30:18\n",
      "Number of observation selected 39962\n",
      "Ari Score for i=3 is 0.944041176831237\n",
      "4 2017-12-16 17:30:18\n",
      "Calling extract with date :  2017-12-16 17:30:18\n",
      "Number of observation selected 43393\n",
      "Ari Score for i=4 is 0.9845103207104301\n",
      "5 2017-12-31 17:30:18\n",
      "Calling extract with date :  2017-12-31 17:30:18\n",
      "Number of observation selected 45412\n",
      "Ari Score for i=5 is 0.9915002076143274\n",
      "6 2018-01-15 17:30:18\n",
      "Calling extract with date :  2018-01-15 17:30:18\n",
      "Number of observation selected 48811\n",
      "Ari Score for i=6 is 0.7727278024183705\n",
      "7 2018-01-30 17:30:18\n",
      "Calling extract with date :  2018-01-30 17:30:18\n",
      "Number of observation selected 52351\n",
      "Ari Score for i=7 is 0.7836372431472305\n",
      "8 2018-02-14 17:30:18\n",
      "Calling extract with date :  2018-02-14 17:30:18\n",
      "Number of observation selected 55747\n",
      "Ari Score for i=8 is 0.9921863363115098\n",
      "9 2018-03-01 17:30:18\n",
      "Calling extract with date :  2018-03-01 17:30:18\n",
      "Number of observation selected 59614\n",
      "Ari Score for i=9 is 0.9574341039541856\n",
      "10 2018-03-16 17:30:18\n",
      "Calling extract with date :  2018-03-16 17:30:18\n",
      "Number of observation selected 63196\n",
      "Ari Score for i=10 is 0.971587873658104\n",
      "11 2018-03-31 17:30:18\n",
      "Calling extract with date :  2018-03-31 17:30:18\n",
      "Number of observation selected 66569\n",
      "Ari Score for i=11 is 0.9894730352979825\n",
      "12 2018-04-15 17:30:18\n",
      "Calling extract with date :  2018-04-15 17:30:18\n",
      "Number of observation selected 69875\n",
      "Ari Score for i=12 is 0.995771540665158\n",
      "13 2018-04-30 17:30:18\n",
      "Calling extract with date :  2018-04-30 17:30:18\n",
      "Number of observation selected 73490\n",
      "Ari Score for i=13 is 0.9881569224416604\n",
      "14 2018-05-15 17:30:18\n",
      "Calling extract with date :  2018-05-15 17:30:18\n",
      "Number of observation selected 77678\n",
      "Ari Score for i=14 is 0.989786680087389\n",
      "15 2018-05-30 17:30:18\n",
      "Calling extract with date :  2018-05-30 17:30:18\n",
      "Number of observation selected 80265\n",
      "Ari Score for i=15 is 0.989858722118113\n",
      "16 2018-06-14 17:30:18\n",
      "Calling extract with date :  2018-06-14 17:30:18\n",
      "Number of observation selected 83345\n",
      "Ari Score for i=16 is 0.9844852914976051\n",
      "17 2018-06-29 17:30:18\n",
      "Calling extract with date :  2018-06-29 17:30:18\n",
      "Number of observation selected 86436\n",
      "Ari Score for i=17 is 0.9880309508109761\n",
      "18 2018-07-14 17:30:18\n",
      "Calling extract with date :  2018-07-14 17:30:18\n",
      "Number of observation selected 88760\n",
      "Ari Score for i=18 is 0.9914813062166832\n",
      "19 2018-07-29 17:30:18\n",
      "Calling extract with date :  2018-07-29 17:30:18\n",
      "Number of observation selected 92214\n",
      "Ari Score for i=19 is 0.9928801163940901\n",
      "20 2018-08-13 17:30:18\n",
      "Calling extract with date :  2018-08-13 17:30:18\n",
      "Number of observation selected 96546\n",
      "Ari Score for i=20 is 0.9897113752262637\n",
      "21 2018-08-28 17:30:18\n",
      "Calling extract with date :  2018-08-28 17:30:18\n",
      "Number of observation selected 99387\n",
      "Ari Score for i=21 is 0.9906042055315916\n",
      "22 2018-09-12 17:30:18\n",
      "Calling extract with date :  2018-09-12 17:30:18\n",
      "Number of observation selected 99431\n",
      "Ari Score for i=22 is 0.9985340315464083\n",
      "23 2018-09-27 17:30:18\n",
      "Calling extract with date :  2018-09-27 17:30:18\n",
      "Number of observation selected 99436\n",
      "Ari Score for i=23 is 0.999382180141547\n",
      "24 2018-10-12 17:30:18\n",
      "Calling extract with date :  2018-10-12 17:30:18\n",
      "Number of observation selected 99439\n",
      "Ari Score for i=24 is 0.9945289707441678\n"
     ]
    }
   ],
   "source": [
    "ariScoreList = []\n",
    "for i,date in  enumerate(dateList):\n",
    "    print(i,date)\n",
    "    dfReduct = extract(df, date)\n",
    "    for j in keep:\n",
    "        #print(j)\n",
    "        valMin, valMax = computeTukeyMinMax(dfReduct,j,isLog=False,higher=0.85,lower=0.15,minValue=dfReduct[j].min())\n",
    "        #print(valMin, valMax)\n",
    "        dfReduct[j].clip(lower=valMin,upper=valMax,inplace=True)\n",
    "\n",
    "    XFull = dfReduct.to_numpy()\n",
    "\n",
    "    if i == 0:\n",
    "        X_init = scaler.fit_transform(XFull)\n",
    "        C_init = kmeans.fit_predict(X_init)\n",
    "        X_new = scaler.transform(XFull,copy=True)\n",
    "        C_new = kmeans.predict(X_new)\n",
    "    else:\n",
    "        X_init = scaler.transform(XFull,copy=True)\n",
    "        C_init = kmeans.predict(X_init)\n",
    "        X_new = scaler.fit_transform(XFull)\n",
    "        C_new = kmeans.fit_predict(X_new)\n",
    "\n",
    "    ariScore = adjusted_rand_score(C_init, C_new)\n",
    "    print(\"Ari Score for i={} is {}\".format(i,ariScore) )\n",
    "    ariScoreList.append(ariScore)"
   ]
  },
  {
   "cell_type": "code",
   "execution_count": 19,
   "id": "a52979be",
   "metadata": {
    "execution": {
     "iopub.execute_input": "2023-05-11T14:48:29.627832Z",
     "iopub.status.busy": "2023-05-11T14:48:29.627260Z",
     "iopub.status.idle": "2023-05-11T14:48:30.115897Z",
     "shell.execute_reply": "2023-05-11T14:48:30.114485Z",
     "shell.execute_reply.started": "2023-05-11T14:48:29.627795Z"
    }
   },
   "outputs": [
    {
     "data": {
      "image/png": "[encoded data removed]",
      "text/plain": [
       "<Figure size 640x480 with 1 Axes>"
      ]
     },
     "metadata": {},
     "output_type": "display_data"
    }
   ],
   "source": [
    "\n",
    "plt.plot(index, ariScoreList,c='blue',marker='o')\n",
    "#axes = plt.gca()\n",
    "plt.axhline(y=0.8,linestyle='--',label='ARI 0.8')\n",
    "plt.xlabel(\"Date\")\n",
    "#plt.xlim([dateList[0], dateList[2]])\n",
    "#axes.xaxis.set_ticks(range(3))\n",
    "#axes.set_xlim(0, 6)\n",
    "plt.xticks(index)\n",
    "plt.xticks(rotation = 80)\n",
    "plt.ylabel(\"Score\")\n",
    "plt.title(\"ARI score en fonction du temps\")\n",
    "plt.legend()\n",
    "plt.show(block=False)"
   ]
  }
 ],
 "metadata": {
  "kernelspec": {
   "display_name": "Python 3",
   "language": "python",
   "name": "python3"
  },
  "language_info": {
   "codemirror_mode": {
    "name": "ipython",
    "version": 3
   },
   "file_extension": ".py",
   "mimetype": "text/x-python",
   "name": "python",
   "nbconvert_exporter": "python",
   "pygments_lexer": "ipython3",
   "version": "3.7.10"
  }
 },
 "nbformat": 4,
 "nbformat_minor": 5
}
